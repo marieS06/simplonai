{
 "cells": [
  {
   "cell_type": "code",
   "execution_count": null,
   "metadata": {},
   "outputs": [],
   "source": [
    "import random ## import de random pour le choix aléatoire\n",
    "\n",
    "print(\"Jeu du pendu !!\")\n",
    "\n",
    "v=6  ## compteur du nombre d'essaie de l'user\n",
    "\n",
    "choix = [\"python\",\"programmation\"]\n",
    "\n",
    "mot = random.choice(choix).upper()\n",
    "\n",
    "\n",
    "while v>0:\n",
    "    l=input(\"entrer une lettre :\")[0:1].upper()\n",
    "    i_l=mot.find(l)\n",
    "    \n",
    "    if i_l!=(-1):\n",
    "        print(\"# \"*i_l+mot[i_l]+' #'*(len(mot)-i_l-1))\n",
    "        \n",
    "    else:\n",
    "        print(\"# \"*len(mot))\n",
    "    v-=1\n",
    "\n",
    "mot_proposer = input(\"Saisissez un mot :\").upper()\n",
    "if mot_proposer == mot:\n",
    "  print(\"Gagner ! c'etait bien le mot:\",mot)\n",
    "else:\n",
    "  print(\"Perdu ! ce n'etais pas :\",mot_proposer,\",mais bien\",mot)"
   ]
  }
 ],
 "metadata": {
  "kernelspec": {
   "display_name": "Python 3",
   "language": "python",
   "name": "python3"
  },
  "language_info": {
   "codemirror_mode": {
    "name": "ipython",
    "version": 3
   },
   "file_extension": ".py",
   "mimetype": "text/x-python",
   "name": "python",
   "nbconvert_exporter": "python",
   "pygments_lexer": "ipython3",
   "version": "3.8.5"
  }
 },
 "nbformat": 4,
 "nbformat_minor": 4
}
