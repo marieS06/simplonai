{
 "cells": [
  {
   "cell_type": "code",
   "execution_count": 1,
   "metadata": {},
   "outputs": [
    {
     "name": "stdout",
     "output_type": "stream",
     "text": [
      "[ 1  2  3  4  5  6  7  8  9 10 11 12 13 14 15 16 17 18 19 80]\n"
     ]
    },
    {
     "data": {
      "text/plain": [
       "numpy.ndarray"
      ]
     },
     "execution_count": 1,
     "metadata": {},
     "output_type": "execute_result"
    }
   ],
   "source": [
    "import numpy as np\n",
    "notre_tableau=np.array([1,2,3,4,5,6,7,8,9,10,11,12,13,14,15,16,17,18,19,80])\n",
    "print(notre_tableau)\n",
    "type(notre_tableau)"
   ]
  },
  {
   "cell_type": "code",
   "execution_count": 5,
   "metadata": {},
   "outputs": [
    {
     "name": "stdout",
     "output_type": "stream",
     "text": [
      "[[1 2 3]\n",
      " [4 5 6]\n",
      " [7 8 9]]\n"
     ]
    }
   ],
   "source": [
    "mon_array_bidimensionnel=np.array([[1,2,3],[4,5,6],[7,8,9]])\n",
    "print(mon_array_bidimensionnel)"
   ]
  },
  {
   "cell_type": "code",
   "execution_count": 10,
   "metadata": {},
   "outputs": [
    {
     "name": "stdout",
     "output_type": "stream",
     "text": [
      "3\n",
      "3\n",
      "[1 4 7]\n",
      "[1 2 3]\n"
     ]
    }
   ],
   "source": [
    "print(mon_array_bidimensionnel [0] [2])\n",
    "print(mon_array_bidimensionnel [0,2])\n",
    "print(mon_array_bidimensionnel [:,0])\n",
    "print(mon_array_bidimensionnel [0,:])\n"
   ]
  },
  {
   "cell_type": "code",
   "execution_count": 11,
   "metadata": {},
   "outputs": [
    {
     "ename": "ValueError",
     "evalue": "invalid literal for int() with base 10: 'texte'",
     "output_type": "error",
     "traceback": [
      "\u001b[0;31m---------------------------------------------------------------------------\u001b[0m",
      "\u001b[0;31mValueError\u001b[0m                                Traceback (most recent call last)",
      "\u001b[0;32m<ipython-input-11-781e56733282>\u001b[0m in \u001b[0;36m<module>\u001b[0;34m\u001b[0m\n\u001b[0;32m----> 1\u001b[0;31m \u001b[0mmon_array_bidimensionnel\u001b[0m\u001b[0;34m[\u001b[0m\u001b[0;36m0\u001b[0m\u001b[0;34m,\u001b[0m\u001b[0;36m0\u001b[0m\u001b[0;34m]\u001b[0m\u001b[0;34m=\u001b[0m\u001b[0;34m\"texte\"\u001b[0m\u001b[0;34m\u001b[0m\u001b[0;34m\u001b[0m\u001b[0m\n\u001b[0m",
      "\u001b[0;31mValueError\u001b[0m: invalid literal for int() with base 10: 'texte'"
     ]
    }
   ],
   "source": [
    "mon_array_bidimensionnel[0,0]=\"texte\"\n"
   ]
  },
  {
   "cell_type": "code",
   "execution_count": 15,
   "metadata": {},
   "outputs": [],
   "source": [
    "# mon_array_bidimensionnel[0,0]=1\n",
    "# print(mon_array_bidimensionnel)"
   ]
  },
  {
   "cell_type": "code",
   "execution_count": 18,
   "metadata": {},
   "outputs": [
    {
     "data": {
      "text/plain": [
       "dtype('int64')"
      ]
     },
     "execution_count": 18,
     "metadata": {},
     "output_type": "execute_result"
    }
   ],
   "source": [
    "mon_array_bidimensionnel.dtype"
   ]
  },
  {
   "cell_type": "code",
   "execution_count": 19,
   "metadata": {},
   "outputs": [
    {
     "name": "stdout",
     "output_type": "stream",
     "text": [
      "[[1.5 2.  3. ]\n",
      " [4.  5.2 6. ]\n",
      " [7.  8.  9.1]]\n"
     ]
    },
    {
     "data": {
      "text/plain": [
       "dtype('float64')"
      ]
     },
     "execution_count": 19,
     "metadata": {},
     "output_type": "execute_result"
    }
   ],
   "source": [
    "mon_array_bidimensionnel=np.array([[1.5,2,3],[4,5.2,6],[7,8,9.1]], dtype = float)\n",
    "print(mon_array_bidimensionnel)\n",
    "mon_array_bidimensionnel.dtype"
   ]
  },
  {
   "cell_type": "code",
   "execution_count": 26,
   "metadata": {},
   "outputs": [
    {
     "name": "stdout",
     "output_type": "stream",
     "text": [
      "[[0. 0. 0. 0. 0. 0.]\n",
      " [0. 0. 0. 0. 0. 0.]\n",
      " [0. 0. 0. 0. 0. 0.]\n",
      " [0. 0. 0. 0. 0. 0.]]\n"
     ]
    }
   ],
   "source": [
    "import numpy as np\n",
    "mon_array_zeros=np.zeros((4,6))\n",
    "print(mon_array_zeros)"
   ]
  },
  {
   "cell_type": "code",
   "execution_count": 28,
   "metadata": {},
   "outputs": [
    {
     "name": "stdout",
     "output_type": "stream",
     "text": [
      "[[0. 0. 0. 0. 0. 0.]\n",
      " [0. 0. 0. 0. 0. 0.]\n",
      " [0. 0. 0. 0. 0. 0.]\n",
      " [0. 0. 0. 0. 0. 0.]]\n"
     ]
    }
   ],
   "source": [
    "import numpy as np\n",
    "mon_array_ones=np.ones((4,6), dtype=int)\n",
    "print(mon_array_zeros)"
   ]
  },
  {
   "cell_type": "code",
   "execution_count": 29,
   "metadata": {},
   "outputs": [
    {
     "name": "stdout",
     "output_type": "stream",
     "text": [
      "[[0.10799422 0.33226083]\n",
      " [0.20717649 0.23679302]\n",
      " [0.1347682  0.49857065]\n",
      " [0.27045625 0.78158021]]\n"
     ]
    }
   ],
   "source": [
    "import numpy as np\n",
    "mon_array_random=np.random.random((4,2))\n",
    "print(mon_array_random)"
   ]
  },
  {
   "cell_type": "code",
   "execution_count": 3,
   "metadata": {},
   "outputs": [
    {
     "name": "stdout",
     "output_type": "stream",
     "text": [
      "[[5.1 3.5 1.4 0.2 1. ]\n",
      " [4.9 3.  1.4 0.2 1. ]\n",
      " [4.7 3.2 1.3 0.2 1. ]\n",
      " [4.6 3.1 1.5 0.2 1. ]\n",
      " [5.  3.6 1.4 0.2 1. ]\n",
      " [5.4 3.9 1.7 0.4 1. ]\n",
      " [4.6 3.4 1.4 0.3 1. ]\n",
      " [5.  3.4 1.5 0.2 1. ]\n",
      " [4.4 2.9 1.4 0.2 1. ]\n",
      " [4.9 3.1 1.5 0.1 1. ]\n",
      " [5.4 3.7 1.5 0.2 1. ]\n",
      " [4.8 3.4 1.6 0.2 1. ]\n",
      " [4.8 3.  1.4 0.1 1. ]\n",
      " [4.3 3.  1.1 0.1 1. ]\n",
      " [5.8 4.  1.2 0.2 1. ]\n",
      " [5.7 4.4 1.5 0.4 1. ]\n",
      " [5.4 3.9 1.3 0.4 1. ]\n",
      " [5.1 3.5 1.4 0.3 1. ]\n",
      " [5.7 3.8 1.7 0.3 1. ]\n",
      " [5.1 3.8 1.5 0.3 1. ]\n",
      " [5.4 3.4 1.7 0.2 1. ]\n",
      " [5.1 3.7 1.5 0.4 1. ]\n",
      " [4.6 3.6 1.  0.2 1. ]\n",
      " [5.1 3.3 1.7 0.5 1. ]\n",
      " [4.8 3.4 1.9 0.2 1. ]\n",
      " [5.  3.  1.6 0.2 1. ]\n",
      " [5.  3.4 1.6 0.4 1. ]\n",
      " [5.2 3.5 1.5 0.2 1. ]\n",
      " [5.2 3.4 1.4 0.2 1. ]\n",
      " [4.7 3.2 1.6 0.2 1. ]\n",
      " [4.8 3.1 1.6 0.2 1. ]\n",
      " [5.4 3.4 1.5 0.4 1. ]\n",
      " [5.2 4.1 1.5 0.1 1. ]\n",
      " [5.5 4.2 1.4 0.2 1. ]\n",
      " [4.9 3.1 1.5 0.2 1. ]\n",
      " [5.  3.2 1.2 0.2 1. ]\n",
      " [5.5 3.5 1.3 0.2 1. ]\n",
      " [4.9 3.6 1.4 0.1 1. ]\n",
      " [4.4 3.  1.3 0.2 1. ]\n",
      " [5.1 3.4 1.5 0.2 1. ]\n",
      " [5.  3.5 1.3 0.3 1. ]\n",
      " [4.5 2.3 1.3 0.3 1. ]\n",
      " [4.4 3.2 1.3 0.2 1. ]\n",
      " [5.  3.5 1.6 0.6 1. ]\n",
      " [5.1 3.8 1.9 0.4 1. ]\n",
      " [4.8 3.  1.4 0.3 1. ]\n",
      " [5.1 3.8 1.6 0.2 1. ]\n",
      " [4.6 3.2 1.4 0.2 1. ]\n",
      " [5.3 3.7 1.5 0.2 1. ]\n",
      " [5.  3.3 1.4 0.2 1. ]\n",
      " [7.  3.2 4.7 1.4 2. ]\n",
      " [6.4 3.2 4.5 1.5 2. ]\n",
      " [6.9 3.1 4.9 1.5 2. ]\n",
      " [5.5 2.3 4.  1.3 2. ]\n",
      " [6.5 2.8 4.6 1.5 2. ]\n",
      " [5.7 2.8 4.5 1.3 2. ]\n",
      " [6.3 3.3 4.7 1.6 2. ]\n",
      " [4.9 2.4 3.3 1.  2. ]\n",
      " [6.6 2.9 4.6 1.3 2. ]\n",
      " [5.2 2.7 3.9 1.4 2. ]\n",
      " [5.  2.  3.5 1.  2. ]\n",
      " [5.9 3.  4.2 1.5 2. ]\n",
      " [6.  2.2 4.  1.  2. ]\n",
      " [6.1 2.9 4.7 1.4 2. ]\n",
      " [5.6 2.9 3.6 1.3 2. ]\n",
      " [6.7 3.1 4.4 1.4 2. ]\n",
      " [5.6 3.  4.5 1.5 2. ]\n",
      " [5.8 2.7 4.1 1.  2. ]\n",
      " [6.2 2.2 4.5 1.5 2. ]\n",
      " [5.6 2.5 3.9 1.1 2. ]\n",
      " [5.9 3.2 4.8 1.8 2. ]\n",
      " [6.1 2.8 4.  1.3 2. ]\n",
      " [6.3 2.5 4.9 1.5 2. ]\n",
      " [6.1 2.8 4.7 1.2 2. ]\n",
      " [6.4 2.9 4.3 1.3 2. ]\n",
      " [6.6 3.  4.4 1.4 2. ]\n",
      " [6.8 2.8 4.8 1.4 2. ]\n",
      " [6.7 3.  5.  1.7 2. ]\n",
      " [6.  2.9 4.5 1.5 2. ]\n",
      " [5.7 2.6 3.5 1.  2. ]\n",
      " [5.5 2.4 3.8 1.1 2. ]\n",
      " [5.5 2.4 3.7 1.  2. ]\n",
      " [5.8 2.7 3.9 1.2 2. ]\n",
      " [6.  2.7 5.1 1.6 2. ]\n",
      " [5.4 3.  4.5 1.5 2. ]\n",
      " [6.  3.4 4.5 1.6 2. ]\n",
      " [6.7 3.1 4.7 1.5 2. ]\n",
      " [6.3 2.3 4.4 1.3 2. ]\n",
      " [5.6 3.  4.1 1.3 2. ]\n",
      " [5.5 2.5 4.  1.3 2. ]\n",
      " [5.5 2.6 4.4 1.2 2. ]\n",
      " [6.1 3.  4.6 1.4 2. ]\n",
      " [5.8 2.6 4.  1.2 2. ]\n",
      " [5.  2.3 3.3 1.  2. ]\n",
      " [5.6 2.7 4.2 1.3 2. ]\n",
      " [5.7 3.  4.2 1.2 2. ]\n",
      " [5.7 2.9 4.2 1.3 2. ]\n",
      " [6.2 2.9 4.3 1.3 2. ]\n",
      " [5.1 2.5 3.  1.1 2. ]\n",
      " [5.7 2.8 4.1 1.3 2. ]\n",
      " [6.3 3.3 6.  2.5 3. ]\n",
      " [5.8 2.7 5.1 1.9 3. ]\n",
      " [7.1 3.  5.9 2.1 3. ]\n",
      " [6.3 2.9 5.6 1.8 3. ]\n",
      " [6.5 3.  5.8 2.2 3. ]\n",
      " [7.6 3.  6.6 2.1 3. ]\n",
      " [4.9 2.5 4.5 1.7 3. ]\n",
      " [7.3 2.9 6.3 1.8 3. ]\n",
      " [6.7 2.5 5.8 1.8 3. ]\n",
      " [7.2 3.6 6.1 2.5 3. ]\n",
      " [6.5 3.2 5.1 2.  3. ]\n",
      " [6.4 2.7 5.3 1.9 3. ]\n",
      " [6.8 3.  5.5 2.1 3. ]\n",
      " [5.7 2.5 5.  2.  3. ]\n",
      " [5.8 2.8 5.1 2.4 3. ]\n",
      " [6.4 3.2 5.3 2.3 3. ]\n",
      " [6.5 3.  5.5 1.8 3. ]\n",
      " [7.7 3.8 6.7 2.2 3. ]\n",
      " [7.7 2.6 6.9 2.3 3. ]\n",
      " [6.  2.2 5.  1.5 3. ]\n",
      " [6.9 3.2 5.7 2.3 3. ]\n",
      " [5.6 2.8 4.9 2.  3. ]\n",
      " [7.7 2.8 6.7 2.  3. ]\n",
      " [6.3 2.7 4.9 1.8 3. ]\n",
      " [6.7 3.3 5.7 2.1 3. ]\n",
      " [7.2 3.2 6.  1.8 3. ]\n",
      " [6.2 2.8 4.8 1.8 3. ]\n",
      " [6.1 3.  4.9 1.8 3. ]\n",
      " [6.4 2.8 5.6 2.1 3. ]\n",
      " [7.2 3.  5.8 1.6 3. ]\n",
      " [7.4 2.8 6.1 1.9 3. ]\n",
      " [7.9 3.8 6.4 2.  3. ]\n",
      " [6.4 2.8 5.6 2.2 3. ]\n",
      " [6.3 2.8 5.1 1.5 3. ]\n",
      " [6.1 2.6 5.6 1.4 3. ]\n",
      " [7.7 3.  6.1 2.3 3. ]\n",
      " [6.3 3.4 5.6 2.4 3. ]\n",
      " [6.4 3.1 5.5 1.8 3. ]\n",
      " [6.  3.  4.8 1.8 3. ]\n",
      " [6.9 3.1 5.4 2.1 3. ]\n",
      " [6.7 3.1 5.6 2.4 3. ]\n",
      " [6.9 3.1 5.1 2.3 3. ]\n",
      " [5.8 2.7 5.1 1.9 3. ]\n",
      " [6.8 3.2 5.9 2.3 3. ]\n",
      " [6.7 3.3 5.7 2.5 3. ]\n",
      " [6.7 3.  5.2 2.3 3. ]\n",
      " [6.3 2.5 5.  1.9 3. ]\n",
      " [6.5 3.  5.2 2.  3. ]\n",
      " [6.2 3.4 5.4 2.3 3. ]\n",
      " [5.9 3.  5.1 1.8 3. ]]\n"
     ]
    },
    {
     "data": {
      "text/plain": [
       "numpy.ndarray"
      ]
     },
     "execution_count": 3,
     "metadata": {},
     "output_type": "execute_result"
    }
   ],
   "source": [
    "import numpy as np\n",
    "iris=np.genfromtxt(\"iris.csv\", delimiter=\";\", skip_header=True, encoding=\"latin-1\")\n",
    "\n",
    "print(iris)\n",
    "iris.dtype\n",
    "type(iris)\n"
   ]
  },
  {
   "cell_type": "code",
   "execution_count": 5,
   "metadata": {
    "scrolled": true
   },
   "outputs": [],
   "source": [
    "import numpy as np\n",
    "np.savetxt(\"iris.csv\", iris, delimiter=\";\")"
   ]
  },
  {
   "cell_type": "code",
   "execution_count": 1,
   "metadata": {},
   "outputs": [
    {
     "data": {
      "text/plain": [
       "'/home/simplon/Documents/test'"
      ]
     },
     "execution_count": 1,
     "metadata": {},
     "output_type": "execute_result"
    }
   ],
   "source": [
    "%pwd"
   ]
  },
  {
   "cell_type": "code",
   "execution_count": 6,
   "metadata": {},
   "outputs": [
    {
     "data": {
      "text/plain": [
       "3.2"
      ]
     },
     "execution_count": 6,
     "metadata": {},
     "output_type": "execute_result"
    }
   ],
   "source": [
    "iris[2,1]#ligne,col"
   ]
  },
  {
   "cell_type": "code",
   "execution_count": 7,
   "metadata": {},
   "outputs": [
    {
     "data": {
      "text/plain": [
       "3.2"
      ]
     },
     "execution_count": 7,
     "metadata": {},
     "output_type": "execute_result"
    }
   ],
   "source": [
    "iris[2,1]"
   ]
  },
  {
   "cell_type": "code",
   "execution_count": 9,
   "metadata": {},
   "outputs": [
    {
     "data": {
      "text/plain": [
       "4.0"
      ]
     },
     "execution_count": 9,
     "metadata": {},
     "output_type": "execute_result"
    }
   ],
   "source": [
    "iris[2,1]=4\n",
    "iris[2,1]"
   ]
  },
  {
   "cell_type": "code",
   "execution_count": 10,
   "metadata": {},
   "outputs": [
    {
     "data": {
      "text/plain": [
       "3.2"
      ]
     },
     "execution_count": 10,
     "metadata": {},
     "output_type": "execute_result"
    }
   ],
   "source": [
    "iris[2,1]=3.2#modif val\n",
    "iris[2,1]"
   ]
  },
  {
   "cell_type": "code",
   "execution_count": 11,
   "metadata": {},
   "outputs": [
    {
     "data": {
      "text/plain": [
       "array([5.1, 3.5, 4.9, 3. , 4.7, 3.2, 4.6, 3.1, 5. , 3.6, 5.4, 3.9, 4.6,\n",
       "       3.4, 5. , 3.4, 4.4, 2.9, 4.9, 3.1, 5.4, 3.7, 4.8, 3.4, 4.8, 3. ,\n",
       "       4.3, 3. , 5.8, 4. , 5.7, 4.4, 5.4, 3.9, 5.1, 3.5, 5.7, 3.8, 5.1,\n",
       "       3.8, 5.4, 3.4, 5.1, 3.7, 4.6, 3.6, 5.1, 3.3, 4.8, 3.4, 5. , 3. ,\n",
       "       5. , 3.4, 5.2, 3.5, 5.2, 3.4, 4.7, 3.2, 4.8, 3.1, 5.4, 3.4, 5.2,\n",
       "       4.1, 5.5, 4.2, 4.9, 3.1, 5. , 3.2, 5.5, 3.5, 4.9, 3.6, 4.4, 3. ,\n",
       "       5.1, 3.4, 5. , 3.5, 4.5, 2.3, 4.4, 3.2, 5. , 3.5, 5.1, 3.8, 4.8,\n",
       "       3. , 5.1, 3.8, 4.6, 3.2, 5.3, 3.7, 5. , 3.3, 7. , 3.2, 4.7, 6.4,\n",
       "       3.2, 4.5, 6.9, 3.1, 4.9, 5.5, 2.3, 4. , 6.5, 2.8, 4.6, 5.7, 2.8,\n",
       "       4.5, 6.3, 3.3, 4.7, 4.9, 2.4, 3.3, 6.6, 2.9, 4.6, 5.2, 2.7, 3.9,\n",
       "       5. , 3.5, 5.9, 3. , 4.2, 6. , 2.2, 4. , 6.1, 2.9, 4.7, 5.6, 2.9,\n",
       "       3.6, 6.7, 3.1, 4.4, 5.6, 3. , 4.5, 5.8, 2.7, 4.1, 6.2, 2.2, 4.5,\n",
       "       5.6, 2.5, 3.9, 5.9, 3.2, 4.8, 6.1, 2.8, 4. , 6.3, 2.5, 4.9, 6.1,\n",
       "       2.8, 4.7, 6.4, 2.9, 4.3, 6.6, 3. , 4.4, 6.8, 2.8, 4.8, 6.7, 3. ,\n",
       "       5. , 6. , 2.9, 4.5, 5.7, 2.6, 3.5, 5.5, 2.4, 3.8, 5.5, 2.4, 3.7,\n",
       "       5.8, 2.7, 3.9, 6. , 2.7, 5.1, 5.4, 3. , 4.5, 6. , 3.4, 4.5, 6.7,\n",
       "       3.1, 4.7, 6.3, 2.3, 4.4, 5.6, 3. , 4.1, 5.5, 2.5, 4. , 5.5, 2.6,\n",
       "       4.4, 6.1, 3. , 4.6, 5.8, 2.6, 4. , 5. , 2.3, 3.3, 5.6, 2.7, 4.2,\n",
       "       5.7, 3. , 4.2, 5.7, 2.9, 4.2, 6.2, 2.9, 4.3, 5.1, 2.5, 3. , 5.7,\n",
       "       2.8, 4.1, 6.3, 3.3, 6. , 2.5, 3. , 5.8, 2.7, 5.1, 3. , 7.1, 3. ,\n",
       "       5.9, 2.1, 3. , 6.3, 2.9, 5.6, 3. , 6.5, 3. , 5.8, 2.2, 3. , 7.6,\n",
       "       3. , 6.6, 2.1, 3. , 4.9, 2.5, 4.5, 3. , 7.3, 2.9, 6.3, 3. , 6.7,\n",
       "       2.5, 5.8, 3. , 7.2, 3.6, 6.1, 2.5, 3. , 6.5, 3.2, 5.1, 3. , 6.4,\n",
       "       2.7, 5.3, 3. , 6.8, 3. , 5.5, 2.1, 3. , 5.7, 2.5, 5. , 3. , 5.8,\n",
       "       2.8, 5.1, 2.4, 3. , 6.4, 3.2, 5.3, 2.3, 3. , 6.5, 3. , 5.5, 3. ,\n",
       "       7.7, 3.8, 6.7, 2.2, 3. , 7.7, 2.6, 6.9, 2.3, 3. , 6. , 2.2, 5. ,\n",
       "       3. , 6.9, 3.2, 5.7, 2.3, 3. , 5.6, 2.8, 4.9, 3. , 7.7, 2.8, 6.7,\n",
       "       3. , 6.3, 2.7, 4.9, 3. , 6.7, 3.3, 5.7, 2.1, 3. , 7.2, 3.2, 6. ,\n",
       "       3. , 6.2, 2.8, 4.8, 3. , 6.1, 3. , 4.9, 3. , 6.4, 2.8, 5.6, 2.1,\n",
       "       3. , 7.2, 3. , 5.8, 3. , 7.4, 2.8, 6.1, 3. , 7.9, 3.8, 6.4, 3. ,\n",
       "       6.4, 2.8, 5.6, 2.2, 3. , 6.3, 2.8, 5.1, 3. , 6.1, 2.6, 5.6, 3. ,\n",
       "       7.7, 3. , 6.1, 2.3, 3. , 6.3, 3.4, 5.6, 2.4, 3. , 6.4, 3.1, 5.5,\n",
       "       3. , 6. , 3. , 4.8, 3. , 6.9, 3.1, 5.4, 2.1, 3. , 6.7, 3.1, 5.6,\n",
       "       2.4, 3. , 6.9, 3.1, 5.1, 2.3, 3. , 5.8, 2.7, 5.1, 3. , 6.8, 3.2,\n",
       "       5.9, 2.3, 3. , 6.7, 3.3, 5.7, 2.5, 3. , 6.7, 3. , 5.2, 2.3, 3. ,\n",
       "       6.3, 2.5, 5. , 3. , 6.5, 3. , 5.2, 3. , 6.2, 3.4, 5.4, 2.3, 3. ,\n",
       "       5.9, 3. , 5.1, 3. ])"
      ]
     },
     "execution_count": 11,
     "metadata": {},
     "output_type": "execute_result"
    }
   ],
   "source": [
    "iris[iris>2]"
   ]
  },
  {
   "cell_type": "code",
   "execution_count": 13,
   "metadata": {},
   "outputs": [
    {
     "data": {
      "text/plain": [
       "472"
      ]
     },
     "execution_count": 13,
     "metadata": {},
     "output_type": "execute_result"
    }
   ],
   "source": [
    "iris[iris>2].shape[0]"
   ]
  },
  {
   "cell_type": "code",
   "execution_count": 14,
   "metadata": {},
   "outputs": [
    {
     "data": {
      "text/plain": [
       "array([[ True,  True, False, False, False],\n",
       "       [ True,  True, False, False, False],\n",
       "       [ True,  True, False, False, False],\n",
       "       [ True,  True, False, False, False],\n",
       "       [ True,  True, False, False, False],\n",
       "       [ True,  True, False, False, False],\n",
       "       [ True,  True, False, False, False],\n",
       "       [ True,  True, False, False, False],\n",
       "       [ True,  True, False, False, False],\n",
       "       [ True,  True, False, False, False],\n",
       "       [ True,  True, False, False, False],\n",
       "       [ True,  True, False, False, False],\n",
       "       [ True,  True, False, False, False],\n",
       "       [ True,  True, False, False, False],\n",
       "       [ True,  True, False, False, False],\n",
       "       [ True,  True, False, False, False],\n",
       "       [ True,  True, False, False, False],\n",
       "       [ True,  True, False, False, False],\n",
       "       [ True,  True, False, False, False],\n",
       "       [ True,  True, False, False, False],\n",
       "       [ True,  True, False, False, False],\n",
       "       [ True,  True, False, False, False],\n",
       "       [ True,  True, False, False, False],\n",
       "       [ True,  True, False, False, False],\n",
       "       [ True,  True, False, False, False],\n",
       "       [ True,  True, False, False, False],\n",
       "       [ True,  True, False, False, False],\n",
       "       [ True,  True, False, False, False],\n",
       "       [ True,  True, False, False, False],\n",
       "       [ True,  True, False, False, False],\n",
       "       [ True,  True, False, False, False],\n",
       "       [ True,  True, False, False, False],\n",
       "       [ True,  True, False, False, False],\n",
       "       [ True,  True, False, False, False],\n",
       "       [ True,  True, False, False, False],\n",
       "       [ True,  True, False, False, False],\n",
       "       [ True,  True, False, False, False],\n",
       "       [ True,  True, False, False, False],\n",
       "       [ True,  True, False, False, False],\n",
       "       [ True,  True, False, False, False],\n",
       "       [ True,  True, False, False, False],\n",
       "       [ True,  True, False, False, False],\n",
       "       [ True,  True, False, False, False],\n",
       "       [ True,  True, False, False, False],\n",
       "       [ True,  True, False, False, False],\n",
       "       [ True,  True, False, False, False],\n",
       "       [ True,  True, False, False, False],\n",
       "       [ True,  True, False, False, False],\n",
       "       [ True,  True, False, False, False],\n",
       "       [ True,  True, False, False, False],\n",
       "       [ True,  True,  True, False, False],\n",
       "       [ True,  True,  True, False, False],\n",
       "       [ True,  True,  True, False, False],\n",
       "       [ True,  True,  True, False, False],\n",
       "       [ True,  True,  True, False, False],\n",
       "       [ True,  True,  True, False, False],\n",
       "       [ True,  True,  True, False, False],\n",
       "       [ True,  True,  True, False, False],\n",
       "       [ True,  True,  True, False, False],\n",
       "       [ True,  True,  True, False, False],\n",
       "       [ True, False,  True, False, False],\n",
       "       [ True,  True,  True, False, False],\n",
       "       [ True,  True,  True, False, False],\n",
       "       [ True,  True,  True, False, False],\n",
       "       [ True,  True,  True, False, False],\n",
       "       [ True,  True,  True, False, False],\n",
       "       [ True,  True,  True, False, False],\n",
       "       [ True,  True,  True, False, False],\n",
       "       [ True,  True,  True, False, False],\n",
       "       [ True,  True,  True, False, False],\n",
       "       [ True,  True,  True, False, False],\n",
       "       [ True,  True,  True, False, False],\n",
       "       [ True,  True,  True, False, False],\n",
       "       [ True,  True,  True, False, False],\n",
       "       [ True,  True,  True, False, False],\n",
       "       [ True,  True,  True, False, False],\n",
       "       [ True,  True,  True, False, False],\n",
       "       [ True,  True,  True, False, False],\n",
       "       [ True,  True,  True, False, False],\n",
       "       [ True,  True,  True, False, False],\n",
       "       [ True,  True,  True, False, False],\n",
       "       [ True,  True,  True, False, False],\n",
       "       [ True,  True,  True, False, False],\n",
       "       [ True,  True,  True, False, False],\n",
       "       [ True,  True,  True, False, False],\n",
       "       [ True,  True,  True, False, False],\n",
       "       [ True,  True,  True, False, False],\n",
       "       [ True,  True,  True, False, False],\n",
       "       [ True,  True,  True, False, False],\n",
       "       [ True,  True,  True, False, False],\n",
       "       [ True,  True,  True, False, False],\n",
       "       [ True,  True,  True, False, False],\n",
       "       [ True,  True,  True, False, False],\n",
       "       [ True,  True,  True, False, False],\n",
       "       [ True,  True,  True, False, False],\n",
       "       [ True,  True,  True, False, False],\n",
       "       [ True,  True,  True, False, False],\n",
       "       [ True,  True,  True, False, False],\n",
       "       [ True,  True,  True, False, False],\n",
       "       [ True,  True,  True, False, False],\n",
       "       [ True,  True,  True,  True,  True],\n",
       "       [ True,  True,  True, False,  True],\n",
       "       [ True,  True,  True,  True,  True],\n",
       "       [ True,  True,  True, False,  True],\n",
       "       [ True,  True,  True,  True,  True],\n",
       "       [ True,  True,  True,  True,  True],\n",
       "       [ True,  True,  True, False,  True],\n",
       "       [ True,  True,  True, False,  True],\n",
       "       [ True,  True,  True, False,  True],\n",
       "       [ True,  True,  True,  True,  True],\n",
       "       [ True,  True,  True, False,  True],\n",
       "       [ True,  True,  True, False,  True],\n",
       "       [ True,  True,  True,  True,  True],\n",
       "       [ True,  True,  True, False,  True],\n",
       "       [ True,  True,  True,  True,  True],\n",
       "       [ True,  True,  True,  True,  True],\n",
       "       [ True,  True,  True, False,  True],\n",
       "       [ True,  True,  True,  True,  True],\n",
       "       [ True,  True,  True,  True,  True],\n",
       "       [ True,  True,  True, False,  True],\n",
       "       [ True,  True,  True,  True,  True],\n",
       "       [ True,  True,  True, False,  True],\n",
       "       [ True,  True,  True, False,  True],\n",
       "       [ True,  True,  True, False,  True],\n",
       "       [ True,  True,  True,  True,  True],\n",
       "       [ True,  True,  True, False,  True],\n",
       "       [ True,  True,  True, False,  True],\n",
       "       [ True,  True,  True, False,  True],\n",
       "       [ True,  True,  True,  True,  True],\n",
       "       [ True,  True,  True, False,  True],\n",
       "       [ True,  True,  True, False,  True],\n",
       "       [ True,  True,  True, False,  True],\n",
       "       [ True,  True,  True,  True,  True],\n",
       "       [ True,  True,  True, False,  True],\n",
       "       [ True,  True,  True, False,  True],\n",
       "       [ True,  True,  True,  True,  True],\n",
       "       [ True,  True,  True,  True,  True],\n",
       "       [ True,  True,  True, False,  True],\n",
       "       [ True,  True,  True, False,  True],\n",
       "       [ True,  True,  True,  True,  True],\n",
       "       [ True,  True,  True,  True,  True],\n",
       "       [ True,  True,  True,  True,  True],\n",
       "       [ True,  True,  True, False,  True],\n",
       "       [ True,  True,  True,  True,  True],\n",
       "       [ True,  True,  True,  True,  True],\n",
       "       [ True,  True,  True,  True,  True],\n",
       "       [ True,  True,  True, False,  True],\n",
       "       [ True,  True,  True, False,  True],\n",
       "       [ True,  True,  True,  True,  True],\n",
       "       [ True,  True,  True, False,  True]])"
      ]
     },
     "execution_count": 14,
     "metadata": {},
     "output_type": "execute_result"
    }
   ],
   "source": [
    "iris>2"
   ]
  },
  {
   "cell_type": "code",
   "execution_count": 16,
   "metadata": {},
   "outputs": [
    {
     "data": {
      "text/plain": [
       "array([[5.1, 3.5, 1.4, 0.2, 1. ],\n",
       "       [5.4, 3.9, 1.7, 0.4, 1. ],\n",
       "       [5.4, 3.7, 1.5, 0.2, 1. ],\n",
       "       [5.8, 4. , 1.2, 0.2, 1. ],\n",
       "       [5.7, 4.4, 1.5, 0.4, 1. ],\n",
       "       [5.4, 3.9, 1.3, 0.4, 1. ],\n",
       "       [5.1, 3.5, 1.4, 0.3, 1. ],\n",
       "       [5.7, 3.8, 1.7, 0.3, 1. ],\n",
       "       [5.1, 3.8, 1.5, 0.3, 1. ],\n",
       "       [5.4, 3.4, 1.7, 0.2, 1. ],\n",
       "       [5.1, 3.7, 1.5, 0.4, 1. ],\n",
       "       [5.1, 3.3, 1.7, 0.5, 1. ],\n",
       "       [5.2, 3.5, 1.5, 0.2, 1. ],\n",
       "       [5.2, 3.4, 1.4, 0.2, 1. ],\n",
       "       [5.4, 3.4, 1.5, 0.4, 1. ],\n",
       "       [5.2, 4.1, 1.5, 0.1, 1. ],\n",
       "       [5.5, 4.2, 1.4, 0.2, 1. ],\n",
       "       [5.5, 3.5, 1.3, 0.2, 1. ],\n",
       "       [5.1, 3.4, 1.5, 0.2, 1. ],\n",
       "       [5.1, 3.8, 1.9, 0.4, 1. ],\n",
       "       [5.1, 3.8, 1.6, 0.2, 1. ],\n",
       "       [5.3, 3.7, 1.5, 0.2, 1. ],\n",
       "       [7. , 3.2, 4.7, 1.4, 2. ],\n",
       "       [6.4, 3.2, 4.5, 1.5, 2. ],\n",
       "       [6.9, 3.1, 4.9, 1.5, 2. ],\n",
       "       [5.5, 2.3, 4. , 1.3, 2. ],\n",
       "       [6.5, 2.8, 4.6, 1.5, 2. ],\n",
       "       [5.7, 2.8, 4.5, 1.3, 2. ],\n",
       "       [6.3, 3.3, 4.7, 1.6, 2. ],\n",
       "       [6.6, 2.9, 4.6, 1.3, 2. ],\n",
       "       [5.2, 2.7, 3.9, 1.4, 2. ],\n",
       "       [5.9, 3. , 4.2, 1.5, 2. ],\n",
       "       [6. , 2.2, 4. , 1. , 2. ],\n",
       "       [6.1, 2.9, 4.7, 1.4, 2. ],\n",
       "       [5.6, 2.9, 3.6, 1.3, 2. ],\n",
       "       [6.7, 3.1, 4.4, 1.4, 2. ],\n",
       "       [5.6, 3. , 4.5, 1.5, 2. ],\n",
       "       [5.8, 2.7, 4.1, 1. , 2. ],\n",
       "       [6.2, 2.2, 4.5, 1.5, 2. ],\n",
       "       [5.6, 2.5, 3.9, 1.1, 2. ],\n",
       "       [5.9, 3.2, 4.8, 1.8, 2. ],\n",
       "       [6.1, 2.8, 4. , 1.3, 2. ],\n",
       "       [6.3, 2.5, 4.9, 1.5, 2. ],\n",
       "       [6.1, 2.8, 4.7, 1.2, 2. ],\n",
       "       [6.4, 2.9, 4.3, 1.3, 2. ],\n",
       "       [6.6, 3. , 4.4, 1.4, 2. ],\n",
       "       [6.8, 2.8, 4.8, 1.4, 2. ],\n",
       "       [6.7, 3. , 5. , 1.7, 2. ],\n",
       "       [6. , 2.9, 4.5, 1.5, 2. ],\n",
       "       [5.7, 2.6, 3.5, 1. , 2. ],\n",
       "       [5.5, 2.4, 3.8, 1.1, 2. ],\n",
       "       [5.5, 2.4, 3.7, 1. , 2. ],\n",
       "       [5.8, 2.7, 3.9, 1.2, 2. ],\n",
       "       [6. , 2.7, 5.1, 1.6, 2. ],\n",
       "       [5.4, 3. , 4.5, 1.5, 2. ],\n",
       "       [6. , 3.4, 4.5, 1.6, 2. ],\n",
       "       [6.7, 3.1, 4.7, 1.5, 2. ],\n",
       "       [6.3, 2.3, 4.4, 1.3, 2. ],\n",
       "       [5.6, 3. , 4.1, 1.3, 2. ],\n",
       "       [5.5, 2.5, 4. , 1.3, 2. ],\n",
       "       [5.5, 2.6, 4.4, 1.2, 2. ],\n",
       "       [6.1, 3. , 4.6, 1.4, 2. ],\n",
       "       [5.8, 2.6, 4. , 1.2, 2. ],\n",
       "       [5.6, 2.7, 4.2, 1.3, 2. ],\n",
       "       [5.7, 3. , 4.2, 1.2, 2. ],\n",
       "       [5.7, 2.9, 4.2, 1.3, 2. ],\n",
       "       [6.2, 2.9, 4.3, 1.3, 2. ],\n",
       "       [5.1, 2.5, 3. , 1.1, 2. ],\n",
       "       [5.7, 2.8, 4.1, 1.3, 2. ],\n",
       "       [6.3, 3.3, 6. , 2.5, 3. ],\n",
       "       [5.8, 2.7, 5.1, 1.9, 3. ],\n",
       "       [7.1, 3. , 5.9, 2.1, 3. ],\n",
       "       [6.3, 2.9, 5.6, 1.8, 3. ],\n",
       "       [6.5, 3. , 5.8, 2.2, 3. ],\n",
       "       [7.6, 3. , 6.6, 2.1, 3. ],\n",
       "       [7.3, 2.9, 6.3, 1.8, 3. ],\n",
       "       [6.7, 2.5, 5.8, 1.8, 3. ],\n",
       "       [7.2, 3.6, 6.1, 2.5, 3. ],\n",
       "       [6.5, 3.2, 5.1, 2. , 3. ],\n",
       "       [6.4, 2.7, 5.3, 1.9, 3. ],\n",
       "       [6.8, 3. , 5.5, 2.1, 3. ],\n",
       "       [5.7, 2.5, 5. , 2. , 3. ],\n",
       "       [5.8, 2.8, 5.1, 2.4, 3. ],\n",
       "       [6.4, 3.2, 5.3, 2.3, 3. ],\n",
       "       [6.5, 3. , 5.5, 1.8, 3. ],\n",
       "       [7.7, 3.8, 6.7, 2.2, 3. ],\n",
       "       [7.7, 2.6, 6.9, 2.3, 3. ],\n",
       "       [6. , 2.2, 5. , 1.5, 3. ],\n",
       "       [6.9, 3.2, 5.7, 2.3, 3. ],\n",
       "       [5.6, 2.8, 4.9, 2. , 3. ],\n",
       "       [7.7, 2.8, 6.7, 2. , 3. ],\n",
       "       [6.3, 2.7, 4.9, 1.8, 3. ],\n",
       "       [6.7, 3.3, 5.7, 2.1, 3. ],\n",
       "       [7.2, 3.2, 6. , 1.8, 3. ],\n",
       "       [6.2, 2.8, 4.8, 1.8, 3. ],\n",
       "       [6.1, 3. , 4.9, 1.8, 3. ],\n",
       "       [6.4, 2.8, 5.6, 2.1, 3. ],\n",
       "       [7.2, 3. , 5.8, 1.6, 3. ],\n",
       "       [7.4, 2.8, 6.1, 1.9, 3. ],\n",
       "       [7.9, 3.8, 6.4, 2. , 3. ],\n",
       "       [6.4, 2.8, 5.6, 2.2, 3. ],\n",
       "       [6.3, 2.8, 5.1, 1.5, 3. ],\n",
       "       [6.1, 2.6, 5.6, 1.4, 3. ],\n",
       "       [7.7, 3. , 6.1, 2.3, 3. ],\n",
       "       [6.3, 3.4, 5.6, 2.4, 3. ],\n",
       "       [6.4, 3.1, 5.5, 1.8, 3. ],\n",
       "       [6. , 3. , 4.8, 1.8, 3. ],\n",
       "       [6.9, 3.1, 5.4, 2.1, 3. ],\n",
       "       [6.7, 3.1, 5.6, 2.4, 3. ],\n",
       "       [6.9, 3.1, 5.1, 2.3, 3. ],\n",
       "       [5.8, 2.7, 5.1, 1.9, 3. ],\n",
       "       [6.8, 3.2, 5.9, 2.3, 3. ],\n",
       "       [6.7, 3.3, 5.7, 2.5, 3. ],\n",
       "       [6.7, 3. , 5.2, 2.3, 3. ],\n",
       "       [6.3, 2.5, 5. , 1.9, 3. ],\n",
       "       [6.5, 3. , 5.2, 2. , 3. ],\n",
       "       [6.2, 3.4, 5.4, 2.3, 3. ],\n",
       "       [5.9, 3. , 5.1, 1.8, 3. ]])"
      ]
     },
     "execution_count": 16,
     "metadata": {},
     "output_type": "execute_result"
    }
   ],
   "source": [
    "iris[iris[:,0] >5]"
   ]
  },
  {
   "cell_type": "code",
   "execution_count": 17,
   "metadata": {},
   "outputs": [
    {
     "data": {
      "text/plain": [
       "array([ True, False, False, False, False,  True, False, False, False,\n",
       "       False,  True, False, False, False,  True,  True,  True,  True,\n",
       "        True,  True,  True,  True, False,  True, False, False, False,\n",
       "        True,  True, False, False,  True,  True,  True, False, False,\n",
       "        True, False, False,  True, False, False, False, False,  True,\n",
       "       False,  True, False,  True, False,  True,  True,  True,  True,\n",
       "        True,  True,  True, False,  True,  True, False,  True,  True,\n",
       "        True,  True,  True,  True,  True,  True,  True,  True,  True,\n",
       "        True,  True,  True,  True,  True,  True,  True,  True,  True,\n",
       "        True,  True,  True,  True,  True,  True,  True,  True,  True,\n",
       "        True,  True,  True, False,  True,  True,  True,  True,  True,\n",
       "        True,  True,  True,  True,  True,  True,  True, False,  True,\n",
       "        True,  True,  True,  True,  True,  True,  True,  True,  True,\n",
       "        True,  True,  True,  True,  True,  True,  True,  True,  True,\n",
       "        True,  True,  True,  True,  True,  True,  True,  True,  True,\n",
       "        True,  True,  True,  True,  True,  True,  True,  True,  True,\n",
       "        True,  True,  True,  True,  True,  True])"
      ]
     },
     "execution_count": 17,
     "metadata": {},
     "output_type": "execute_result"
    }
   ],
   "source": [
    "iris[:,0]>5 #masque"
   ]
  },
  {
   "cell_type": "code",
   "execution_count": 18,
   "metadata": {},
   "outputs": [
    {
     "name": "stdout",
     "output_type": "stream",
     "text": [
      "contenu de notre_tableau :\n",
      "[ 1  2  3  4  5  6  7  8  9 10 11 12 13 14 15 16 17 18 19 20]\n",
      "nouveau tableau après fancy indexing :\n",
      "[[ 5 11  6]\n",
      " [13  9 10]]\n"
     ]
    }
   ],
   "source": [
    "notre_tableau=np.array([1,2,3,4,5,6,7,8,9,10,11,12,13,14,15,16,17,18,19,20])\n",
    "print(\"contenu de notre_tableau :\")\n",
    "print(notre_tableau)\n",
    "print(\"nouveau tableau après fancy indexing :\")\n",
    "indices = np.array([[4,10,5],[12,8,9]])\n",
    "print(notre_tableau[indices])"
   ]
  },
  {
   "cell_type": "code",
   "execution_count": 19,
   "metadata": {},
   "outputs": [
    {
     "data": {
      "text/plain": [
       "array([1, 2, 3])"
      ]
     },
     "execution_count": 19,
     "metadata": {},
     "output_type": "execute_result"
    }
   ],
   "source": [
    "notre_tableau[:3] #les 3 premiers elements"
   ]
  },
  {
   "cell_type": "code",
   "execution_count": 20,
   "metadata": {},
   "outputs": [
    {
     "data": {
      "text/plain": [
       "array([11, 12, 13, 14, 15, 16, 17, 18, 19, 20])"
      ]
     },
     "execution_count": 20,
     "metadata": {},
     "output_type": "execute_result"
    }
   ],
   "source": [
    "notre_tableau[10:]#les derniers à partir de l'index"
   ]
  },
  {
   "cell_type": "code",
   "execution_count": 21,
   "metadata": {},
   "outputs": [
    {
     "data": {
      "text/plain": [
       "array([4, 5, 6, 7])"
      ]
     },
     "execution_count": 21,
     "metadata": {},
     "output_type": "execute_result"
    }
   ],
   "source": [
    "notre_tableau[3:7] # du 3 au 7 elements"
   ]
  },
  {
   "cell_type": "code",
   "execution_count": 22,
   "metadata": {},
   "outputs": [
    {
     "data": {
      "text/plain": [
       "array([ 1,  3,  5,  7,  9, 11, 13, 15, 17, 19])"
      ]
     },
     "execution_count": 22,
     "metadata": {},
     "output_type": "execute_result"
    }
   ],
   "source": [
    "# tous les elements avec 1 pas de 2\n",
    "notre_tableau[::2]"
   ]
  },
  {
   "cell_type": "code",
   "execution_count": 23,
   "metadata": {},
   "outputs": [
    {
     "data": {
      "text/plain": [
       "array([[5.1, 3.5, 1.4, 0.2],\n",
       "       [4.9, 3. , 1.4, 0.2]])"
      ]
     },
     "execution_count": 23,
     "metadata": {},
     "output_type": "execute_result"
    }
   ],
   "source": [
    "# tableau à 2 dimensions\n",
    "\n",
    "#ici on selectionne les 2 premieres lignes des 4 premieres colonnes\n",
    "\n",
    "iris[:2,:4]"
   ]
  },
  {
   "cell_type": "code",
   "execution_count": 25,
   "metadata": {},
   "outputs": [
    {
     "data": {
      "text/plain": [
       "array([[5.2, 2.3, 3. ],\n",
       "       [5. , 1.9, 3. ],\n",
       "       [5.2, 2. , 3. ],\n",
       "       [5.4, 2.3, 3. ],\n",
       "       [5.1, 1.8, 3. ]])"
      ]
     },
     "execution_count": 25,
     "metadata": {},
     "output_type": "execute_result"
    }
   ],
   "source": [
    "# les derniers lignes a partir de l'index\n",
    "\n",
    "iris[145:,2:]"
   ]
  },
  {
   "cell_type": "code",
   "execution_count": 26,
   "metadata": {},
   "outputs": [
    {
     "data": {
      "text/plain": [
       "array([5.1, 3.5, 1.4, 0.2, 1. ])"
      ]
     },
     "execution_count": 26,
     "metadata": {},
     "output_type": "execute_result"
    }
   ],
   "source": [
    "#affiche ttes les col\n",
    "iris[0,:]"
   ]
  },
  {
   "cell_type": "code",
   "execution_count": 27,
   "metadata": {},
   "outputs": [
    {
     "data": {
      "text/plain": [
       "array([5.1, 4.9, 4.7, 4.6, 5. , 5.4, 4.6, 5. , 4.4, 4.9, 5.4, 4.8, 4.8,\n",
       "       4.3, 5.8, 5.7, 5.4, 5.1, 5.7, 5.1, 5.4, 5.1, 4.6, 5.1, 4.8, 5. ,\n",
       "       5. , 5.2, 5.2, 4.7, 4.8, 5.4, 5.2, 5.5, 4.9, 5. , 5.5, 4.9, 4.4,\n",
       "       5.1, 5. , 4.5, 4.4, 5. , 5.1, 4.8, 5.1, 4.6, 5.3, 5. , 7. , 6.4,\n",
       "       6.9, 5.5, 6.5, 5.7, 6.3, 4.9, 6.6, 5.2, 5. , 5.9, 6. , 6.1, 5.6,\n",
       "       6.7, 5.6, 5.8, 6.2, 5.6, 5.9, 6.1, 6.3, 6.1, 6.4, 6.6, 6.8, 6.7,\n",
       "       6. , 5.7, 5.5, 5.5, 5.8, 6. , 5.4, 6. , 6.7, 6.3, 5.6, 5.5, 5.5,\n",
       "       6.1, 5.8, 5. , 5.6, 5.7, 5.7, 6.2, 5.1, 5.7, 6.3, 5.8, 7.1, 6.3,\n",
       "       6.5, 7.6, 4.9, 7.3, 6.7, 7.2, 6.5, 6.4, 6.8, 5.7, 5.8, 6.4, 6.5,\n",
       "       7.7, 7.7, 6. , 6.9, 5.6, 7.7, 6.3, 6.7, 7.2, 6.2, 6.1, 6.4, 7.2,\n",
       "       7.4, 7.9, 6.4, 6.3, 6.1, 7.7, 6.3, 6.4, 6. , 6.9, 6.7, 6.9, 5.8,\n",
       "       6.8, 6.7, 6.7, 6.3, 6.5, 6.2, 5.9])"
      ]
     },
     "execution_count": 27,
     "metadata": {},
     "output_type": "execute_result"
    }
   ],
   "source": [
    "iris[:,0]"
   ]
  },
  {
   "cell_type": "code",
   "execution_count": 28,
   "metadata": {},
   "outputs": [
    {
     "data": {
      "text/plain": [
       "array([5.9, 3. , 5.1, 1.8, 3. ])"
      ]
     },
     "execution_count": 28,
     "metadata": {},
     "output_type": "execute_result"
    }
   ],
   "source": [
    "#affiche tte les col de la derniere ligne\n",
    "iris[-1,:]"
   ]
  },
  {
   "cell_type": "code",
   "execution_count": 29,
   "metadata": {},
   "outputs": [
    {
     "data": {
      "text/plain": [
       "array([1, 2, 3, 4, 5])"
      ]
     },
     "execution_count": 29,
     "metadata": {},
     "output_type": "execute_result"
    }
   ],
   "source": [
    "#notion de vue et copie\n",
    "\n",
    "sous_tableau=notre_tableau[:5]\n",
    "sous_tableau"
   ]
  },
  {
   "cell_type": "code",
   "execution_count": 30,
   "metadata": {},
   "outputs": [
    {
     "data": {
      "text/plain": [
       "array([10,  2,  3,  4,  5])"
      ]
     },
     "execution_count": 30,
     "metadata": {},
     "output_type": "execute_result"
    }
   ],
   "source": [
    "sous_tableau[0]=10\n",
    "sous_tableau # ! modifie"
   ]
  },
  {
   "cell_type": "code",
   "execution_count": 31,
   "metadata": {},
   "outputs": [
    {
     "data": {
      "text/plain": [
       "array([10,  2,  3,  4,  5,  6,  7,  8,  9, 10, 11, 12, 13, 14, 15, 16, 17,\n",
       "       18, 19, 20])"
      ]
     },
     "execution_count": 31,
     "metadata": {},
     "output_type": "execute_result"
    }
   ],
   "source": [
    "notre_tableau"
   ]
  },
  {
   "cell_type": "code",
   "execution_count": 32,
   "metadata": {},
   "outputs": [
    {
     "name": "stdout",
     "output_type": "stream",
     "text": [
      "[10  2  3  4  5]\n",
      "[ 1  2  3  4  5  6  7  8  9 10 11 12 13 14 15 16 17 18 19 20]\n"
     ]
    }
   ],
   "source": [
    "# pour eviter cela .copy\n",
    "\n",
    "notre_tableau=np.array([1,2,3,4,5,6,7,8,9,10,11,12,13,14,15,16,17,18,19,20])\n",
    "sous_tableau=notre_tableau[:5].copy()\n",
    "sous_tableau[0]=10\n",
    "print(sous_tableau)\n",
    "print(notre_tableau)\n"
   ]
  },
  {
   "cell_type": "code",
   "execution_count": 34,
   "metadata": {},
   "outputs": [
    {
     "data": {
      "text/plain": [
       "array([[10, 11, 12],\n",
       "       [13, 14, 15],\n",
       "       [16, 17, 18]])"
      ]
     },
     "execution_count": 34,
     "metadata": {},
     "output_type": "execute_result"
    }
   ],
   "source": [
    "mon_tableau=np.array([[10,11,12],[13,14,15],[16,17,18]])\n",
    "mon_tableau"
   ]
  },
  {
   "cell_type": "code",
   "execution_count": 35,
   "metadata": {},
   "outputs": [
    {
     "data": {
      "text/plain": [
       "array([[20, 21, 22],\n",
       "       [23, 24, 25],\n",
       "       [26, 27, 28]])"
      ]
     },
     "execution_count": 35,
     "metadata": {},
     "output_type": "execute_result"
    }
   ],
   "source": [
    "import numpy as np\n",
    "np.add(mon_tableau,10)"
   ]
  },
  {
   "cell_type": "code",
   "execution_count": 36,
   "metadata": {},
   "outputs": [
    {
     "data": {
      "text/plain": [
       "array([[200, 220, 240],\n",
       "       [260, 280, 300],\n",
       "       [320, 340, 360]])"
      ]
     },
     "execution_count": 36,
     "metadata": {},
     "output_type": "execute_result"
    }
   ],
   "source": [
    "np.multiply(mon_tableau,20)"
   ]
  },
  {
   "cell_type": "code",
   "execution_count": 37,
   "metadata": {},
   "outputs": [
    {
     "data": {
      "text/plain": [
       "array([[10, 11, 12],\n",
       "       [13, 14, 15],\n",
       "       [16, 17, 18]])"
      ]
     },
     "execution_count": 37,
     "metadata": {},
     "output_type": "execute_result"
    }
   ],
   "source": [
    "mon_tableau2=np.array([10,20,30])\n",
    "mon_tableau2\n",
    "mon_tableau"
   ]
  },
  {
   "cell_type": "code",
   "execution_count": 39,
   "metadata": {},
   "outputs": [
    {
     "data": {
      "text/plain": [
       "array([[  0,  -9, -18],\n",
       "       [  3,  -6, -15],\n",
       "       [  6,  -3, -12]])"
      ]
     },
     "execution_count": 39,
     "metadata": {},
     "output_type": "execute_result"
    }
   ],
   "source": [
    "# soustraction avec arguments\n",
    "import numpy as np\n",
    "np.subtract(mon_tableau,mon_tableau2)"
   ]
  },
  {
   "cell_type": "code",
   "execution_count": 41,
   "metadata": {},
   "outputs": [
    {
     "ename": "TypeError",
     "evalue": "array() takes from 1 to 2 positional arguments but 3 were given",
     "output_type": "error",
     "traceback": [
      "\u001b[0;31m---------------------------------------------------------------------------\u001b[0m",
      "\u001b[0;31mTypeError\u001b[0m                                 Traceback (most recent call last)",
      "\u001b[0;32m<ipython-input-41-8be4c13e9771>\u001b[0m in \u001b[0;36m<module>\u001b[0;34m\u001b[0m\n\u001b[0;32m----> 1\u001b[0;31m \u001b[0mmon_tableau3\u001b[0m\u001b[0;34m=\u001b[0m\u001b[0mnp\u001b[0m\u001b[0;34m.\u001b[0m\u001b[0marray\u001b[0m\u001b[0;34m=\u001b[0m\u001b[0mnp\u001b[0m\u001b[0;34m.\u001b[0m\u001b[0marray\u001b[0m\u001b[0;34m(\u001b[0m\u001b[0;34m[\u001b[0m\u001b[0;36m1\u001b[0m\u001b[0;34m,\u001b[0m\u001b[0;36m2\u001b[0m\u001b[0;34m,\u001b[0m\u001b[0;36m3\u001b[0m\u001b[0;34m]\u001b[0m\u001b[0;34m,\u001b[0m\u001b[0;34m[\u001b[0m\u001b[0;36m4\u001b[0m\u001b[0;34m,\u001b[0m\u001b[0;36m5\u001b[0m\u001b[0;34m,\u001b[0m\u001b[0;36m6\u001b[0m\u001b[0;34m]\u001b[0m\u001b[0;34m,\u001b[0m\u001b[0;34m[\u001b[0m\u001b[0;36m7\u001b[0m\u001b[0;34m,\u001b[0m\u001b[0;36m8\u001b[0m\u001b[0;34m,\u001b[0m\u001b[0;36m9\u001b[0m\u001b[0;34m]\u001b[0m\u001b[0;34m)\u001b[0m\u001b[0;34m\u001b[0m\u001b[0;34m\u001b[0m\u001b[0m\n\u001b[0m\u001b[1;32m      2\u001b[0m \u001b[0mmon_tableau3\u001b[0m\u001b[0;34m\u001b[0m\u001b[0;34m\u001b[0m\u001b[0m\n",
      "\u001b[0;31mTypeError\u001b[0m: array() takes from 1 to 2 positional arguments but 3 were given"
     ]
    }
   ],
   "source": [
    "mon_tableau3=np.array=np.array([1,2,3],[4,5,6],[7,8,9])\n",
    "mon_tableau3"
   ]
  },
  {
   "cell_type": "code",
   "execution_count": 43,
   "metadata": {},
   "outputs": [
    {
     "name": "stdout",
     "output_type": "stream",
     "text": [
      "somme sur l'ensemble des elements:\n",
      "2378.7\n",
      "somme par colonne :\n",
      "[876.5 458.6 563.7 179.9 300. ]\n",
      "somme par ligne :\n",
      "[11.2 10.5 10.4 10.4 11.2 12.4 10.7 11.1  9.9 10.6 11.8 11.  10.3  9.5\n",
      " 12.2 13.  12.  11.3 12.5 11.7 11.7 11.7 10.4 11.6 11.3 10.8 11.4 11.4\n",
      " 11.2 10.7 10.7 11.7 11.9 12.3 10.7 10.6 11.5 11.   9.9 11.2 11.1  9.4\n",
      " 10.1 11.7 12.2 10.5 11.7 10.4 11.7 10.9 18.3 17.6 18.4 15.1 17.4 16.3\n",
      " 17.9 13.6 17.4 15.2 13.5 16.6 15.2 17.1 15.4 17.6 16.6 15.6 16.4 15.1\n",
      " 17.7 16.2 17.2 16.8 16.9 17.4 17.8 18.4 16.9 14.8 14.8 14.6 15.6 17.4\n",
      " 16.4 17.5 18.  16.3 16.  15.3 15.7 17.1 15.6 13.6 15.8 16.1 16.1 16.7\n",
      " 13.7 15.9 21.1 18.5 21.1 19.6 20.5 22.3 16.6 21.3 19.8 22.4 19.8 19.3\n",
      " 20.4 18.2 19.1 20.2 19.8 23.4 22.5 17.7 21.1 18.3 22.2 18.7 20.8 21.2\n",
      " 18.6 18.8 19.9 20.6 21.2 23.1 20.  18.7 18.7 22.1 20.7 19.8 18.6 20.5\n",
      " 20.8 20.4 18.5 21.2 21.2 20.2 18.7 19.7 20.3 18.8]\n"
     ]
    }
   ],
   "source": [
    "# fonction d'agregations\n",
    "import numpy as np\n",
    "print(\"somme sur l'ensemble des elements:\")\n",
    "print(np.sum(iris))\n",
    "#axis = 0 calcul par colonne\n",
    "#axis = 1 calcul par ligne\n",
    "\n",
    "print(\"somme par colonne :\")\n",
    "print(np.sum(iris, axis=0))\n",
    "print('somme par ligne :')\n",
    "print(np.sum(iris, axis=1))"
   ]
  },
  {
   "cell_type": "code",
   "execution_count": 44,
   "metadata": {},
   "outputs": [
    {
     "name": "stdout",
     "output_type": "stream",
     "text": [
      "[5.84333333 3.05733333 3.758      1.19933333 2.        ]\n",
      "[0.82530129 0.43441097 1.75940407 0.75969263 0.81649658]\n"
     ]
    }
   ],
   "source": [
    "import numpy as np\n",
    "# mean moyenne std variance\n",
    "print(np.mean(iris, axis=0))\n",
    "print(np.std(iris, axis=0))\n",
    "\n"
   ]
  },
  {
   "cell_type": "code",
   "execution_count": 45,
   "metadata": {},
   "outputs": [
    {
     "name": "stdout",
     "output_type": "stream",
     "text": [
      "[7.9 4.4 6.9 2.5 3. ]\n"
     ]
    }
   ],
   "source": [
    "import numpy as np\n",
    "print(np.max(iris, axis=0))\n",
    "#max"
   ]
  },
  {
   "cell_type": "code",
   "execution_count": 55,
   "metadata": {},
   "outputs": [
    {
     "name": "stdout",
     "output_type": "stream",
     "text": [
      "[6.588 2.974 5.552 2.026 3.   ]\n"
     ]
    }
   ],
   "source": [
    "iris3 = iris[iris[:,4]==3] # de type==\n",
    "# calcul moyenne\n",
    "print(np.mean(iris3, axis=0))"
   ]
  },
  {
   "cell_type": "code",
   "execution_count": 56,
   "metadata": {},
   "outputs": [],
   "source": [
    "# iris[iris[ les lignes, les colonnes]]\n",
    "#recherche approfondi\n"
   ]
  },
  {
   "cell_type": "code",
   "execution_count": 57,
   "metadata": {},
   "outputs": [
    {
     "data": {
      "text/plain": [
       "array([10, 11, 12, 13, 14, 15, 16, 17, 18, 21, 22, 23, 24, 25])"
      ]
     },
     "execution_count": 57,
     "metadata": {},
     "output_type": "execute_result"
    }
   ],
   "source": [
    "# ajouter des elemnts \n",
    "\n",
    "np.append(notre_tableau,[21,22,23,24,25])"
   ]
  },
  {
   "cell_type": "code",
   "execution_count": 58,
   "metadata": {},
   "outputs": [
    {
     "data": {
      "text/plain": [
       "array([[ 5.1,  3.5,  1.4,  0.2,  1. ],\n",
       "       [ 4.9,  3. ,  1.4,  0.2,  1. ],\n",
       "       [ 4.7,  3.2,  1.3,  0.2,  1. ],\n",
       "       [ 4.6,  3.1,  1.5,  0.2,  1. ],\n",
       "       [ 5. ,  3.6,  1.4,  0.2,  1. ],\n",
       "       [ 5.4,  3.9,  1.7,  0.4,  1. ],\n",
       "       [ 4.6,  3.4,  1.4,  0.3,  1. ],\n",
       "       [ 5. ,  3.4,  1.5,  0.2,  1. ],\n",
       "       [ 4.4,  2.9,  1.4,  0.2,  1. ],\n",
       "       [ 4.9,  3.1,  1.5,  0.1,  1. ],\n",
       "       [ 5.4,  3.7,  1.5,  0.2,  1. ],\n",
       "       [ 4.8,  3.4,  1.6,  0.2,  1. ],\n",
       "       [ 4.8,  3. ,  1.4,  0.1,  1. ],\n",
       "       [ 4.3,  3. ,  1.1,  0.1,  1. ],\n",
       "       [ 5.8,  4. ,  1.2,  0.2,  1. ],\n",
       "       [ 5.7,  4.4,  1.5,  0.4,  1. ],\n",
       "       [ 5.4,  3.9,  1.3,  0.4,  1. ],\n",
       "       [ 5.1,  3.5,  1.4,  0.3,  1. ],\n",
       "       [ 5.7,  3.8,  1.7,  0.3,  1. ],\n",
       "       [ 5.1,  3.8,  1.5,  0.3,  1. ],\n",
       "       [ 5.4,  3.4,  1.7,  0.2,  1. ],\n",
       "       [ 5.1,  3.7,  1.5,  0.4,  1. ],\n",
       "       [ 4.6,  3.6,  1. ,  0.2,  1. ],\n",
       "       [ 5.1,  3.3,  1.7,  0.5,  1. ],\n",
       "       [ 4.8,  3.4,  1.9,  0.2,  1. ],\n",
       "       [ 5. ,  3. ,  1.6,  0.2,  1. ],\n",
       "       [ 5. ,  3.4,  1.6,  0.4,  1. ],\n",
       "       [ 5.2,  3.5,  1.5,  0.2,  1. ],\n",
       "       [ 5.2,  3.4,  1.4,  0.2,  1. ],\n",
       "       [ 4.7,  3.2,  1.6,  0.2,  1. ],\n",
       "       [ 4.8,  3.1,  1.6,  0.2,  1. ],\n",
       "       [ 5.4,  3.4,  1.5,  0.4,  1. ],\n",
       "       [ 5.2,  4.1,  1.5,  0.1,  1. ],\n",
       "       [ 5.5,  4.2,  1.4,  0.2,  1. ],\n",
       "       [ 4.9,  3.1,  1.5,  0.2,  1. ],\n",
       "       [ 5. ,  3.2,  1.2,  0.2,  1. ],\n",
       "       [ 5.5,  3.5,  1.3,  0.2,  1. ],\n",
       "       [ 4.9,  3.6,  1.4,  0.1,  1. ],\n",
       "       [ 4.4,  3. ,  1.3,  0.2,  1. ],\n",
       "       [ 5.1,  3.4,  1.5,  0.2,  1. ],\n",
       "       [ 5. ,  3.5,  1.3,  0.3,  1. ],\n",
       "       [ 4.5,  2.3,  1.3,  0.3,  1. ],\n",
       "       [ 4.4,  3.2,  1.3,  0.2,  1. ],\n",
       "       [ 5. ,  3.5,  1.6,  0.6,  1. ],\n",
       "       [ 5.1,  3.8,  1.9,  0.4,  1. ],\n",
       "       [ 4.8,  3. ,  1.4,  0.3,  1. ],\n",
       "       [ 5.1,  3.8,  1.6,  0.2,  1. ],\n",
       "       [ 4.6,  3.2,  1.4,  0.2,  1. ],\n",
       "       [ 5.3,  3.7,  1.5,  0.2,  1. ],\n",
       "       [ 5. ,  3.3,  1.4,  0.2,  1. ],\n",
       "       [ 7. ,  3.2,  4.7,  1.4,  2. ],\n",
       "       [ 6.4,  3.2,  4.5,  1.5,  2. ],\n",
       "       [ 6.9,  3.1,  4.9,  1.5,  2. ],\n",
       "       [ 5.5,  2.3,  4. ,  1.3,  2. ],\n",
       "       [ 6.5,  2.8,  4.6,  1.5,  2. ],\n",
       "       [ 5.7,  2.8,  4.5,  1.3,  2. ],\n",
       "       [ 6.3,  3.3,  4.7,  1.6,  2. ],\n",
       "       [ 4.9,  2.4,  3.3,  1. ,  2. ],\n",
       "       [ 6.6,  2.9,  4.6,  1.3,  2. ],\n",
       "       [ 5.2,  2.7,  3.9,  1.4,  2. ],\n",
       "       [ 5. ,  2. ,  3.5,  1. ,  2. ],\n",
       "       [ 5.9,  3. ,  4.2,  1.5,  2. ],\n",
       "       [ 6. ,  2.2,  4. ,  1. ,  2. ],\n",
       "       [ 6.1,  2.9,  4.7,  1.4,  2. ],\n",
       "       [ 5.6,  2.9,  3.6,  1.3,  2. ],\n",
       "       [ 6.7,  3.1,  4.4,  1.4,  2. ],\n",
       "       [ 5.6,  3. ,  4.5,  1.5,  2. ],\n",
       "       [ 5.8,  2.7,  4.1,  1. ,  2. ],\n",
       "       [ 6.2,  2.2,  4.5,  1.5,  2. ],\n",
       "       [ 5.6,  2.5,  3.9,  1.1,  2. ],\n",
       "       [ 5.9,  3.2,  4.8,  1.8,  2. ],\n",
       "       [ 6.1,  2.8,  4. ,  1.3,  2. ],\n",
       "       [ 6.3,  2.5,  4.9,  1.5,  2. ],\n",
       "       [ 6.1,  2.8,  4.7,  1.2,  2. ],\n",
       "       [ 6.4,  2.9,  4.3,  1.3,  2. ],\n",
       "       [ 6.6,  3. ,  4.4,  1.4,  2. ],\n",
       "       [ 6.8,  2.8,  4.8,  1.4,  2. ],\n",
       "       [ 6.7,  3. ,  5. ,  1.7,  2. ],\n",
       "       [ 6. ,  2.9,  4.5,  1.5,  2. ],\n",
       "       [ 5.7,  2.6,  3.5,  1. ,  2. ],\n",
       "       [ 5.5,  2.4,  3.8,  1.1,  2. ],\n",
       "       [ 5.5,  2.4,  3.7,  1. ,  2. ],\n",
       "       [ 5.8,  2.7,  3.9,  1.2,  2. ],\n",
       "       [ 6. ,  2.7,  5.1,  1.6,  2. ],\n",
       "       [ 5.4,  3. ,  4.5,  1.5,  2. ],\n",
       "       [ 6. ,  3.4,  4.5,  1.6,  2. ],\n",
       "       [ 6.7,  3.1,  4.7,  1.5,  2. ],\n",
       "       [ 6.3,  2.3,  4.4,  1.3,  2. ],\n",
       "       [ 5.6,  3. ,  4.1,  1.3,  2. ],\n",
       "       [ 5.5,  2.5,  4. ,  1.3,  2. ],\n",
       "       [ 5.5,  2.6,  4.4,  1.2,  2. ],\n",
       "       [ 6.1,  3. ,  4.6,  1.4,  2. ],\n",
       "       [ 5.8,  2.6,  4. ,  1.2,  2. ],\n",
       "       [ 5. ,  2.3,  3.3,  1. ,  2. ],\n",
       "       [ 5.6,  2.7,  4.2,  1.3,  2. ],\n",
       "       [ 5.7,  3. ,  4.2,  1.2,  2. ],\n",
       "       [ 5.7,  2.9,  4.2,  1.3,  2. ],\n",
       "       [ 6.2,  2.9,  4.3,  1.3,  2. ],\n",
       "       [ 5.1,  2.5,  3. ,  1.1,  2. ],\n",
       "       [ 5.7,  2.8,  4.1,  1.3,  2. ],\n",
       "       [ 6.3,  3.3,  6. ,  2.5,  3. ],\n",
       "       [ 5.8,  2.7,  5.1,  1.9,  3. ],\n",
       "       [ 7.1,  3. ,  5.9,  2.1,  3. ],\n",
       "       [ 6.3,  2.9,  5.6,  1.8,  3. ],\n",
       "       [ 6.5,  3. ,  5.8,  2.2,  3. ],\n",
       "       [ 7.6,  3. ,  6.6,  2.1,  3. ],\n",
       "       [ 4.9,  2.5,  4.5,  1.7,  3. ],\n",
       "       [ 7.3,  2.9,  6.3,  1.8,  3. ],\n",
       "       [ 6.7,  2.5,  5.8,  1.8,  3. ],\n",
       "       [ 7.2,  3.6,  6.1,  2.5,  3. ],\n",
       "       [ 6.5,  3.2,  5.1,  2. ,  3. ],\n",
       "       [ 6.4,  2.7,  5.3,  1.9,  3. ],\n",
       "       [ 6.8,  3. ,  5.5,  2.1,  3. ],\n",
       "       [ 5.7,  2.5,  5. ,  2. ,  3. ],\n",
       "       [ 5.8,  2.8,  5.1,  2.4,  3. ],\n",
       "       [ 6.4,  3.2,  5.3,  2.3,  3. ],\n",
       "       [ 6.5,  3. ,  5.5,  1.8,  3. ],\n",
       "       [ 7.7,  3.8,  6.7,  2.2,  3. ],\n",
       "       [ 7.7,  2.6,  6.9,  2.3,  3. ],\n",
       "       [ 6. ,  2.2,  5. ,  1.5,  3. ],\n",
       "       [ 6.9,  3.2,  5.7,  2.3,  3. ],\n",
       "       [ 5.6,  2.8,  4.9,  2. ,  3. ],\n",
       "       [ 7.7,  2.8,  6.7,  2. ,  3. ],\n",
       "       [ 6.3,  2.7,  4.9,  1.8,  3. ],\n",
       "       [ 6.7,  3.3,  5.7,  2.1,  3. ],\n",
       "       [ 7.2,  3.2,  6. ,  1.8,  3. ],\n",
       "       [ 6.2,  2.8,  4.8,  1.8,  3. ],\n",
       "       [ 6.1,  3. ,  4.9,  1.8,  3. ],\n",
       "       [ 6.4,  2.8,  5.6,  2.1,  3. ],\n",
       "       [ 7.2,  3. ,  5.8,  1.6,  3. ],\n",
       "       [ 7.4,  2.8,  6.1,  1.9,  3. ],\n",
       "       [ 7.9,  3.8,  6.4,  2. ,  3. ],\n",
       "       [ 6.4,  2.8,  5.6,  2.2,  3. ],\n",
       "       [ 6.3,  2.8,  5.1,  1.5,  3. ],\n",
       "       [ 6.1,  2.6,  5.6,  1.4,  3. ],\n",
       "       [ 7.7,  3. ,  6.1,  2.3,  3. ],\n",
       "       [ 6.3,  3.4,  5.6,  2.4,  3. ],\n",
       "       [ 6.4,  3.1,  5.5,  1.8,  3. ],\n",
       "       [ 6. ,  3. ,  4.8,  1.8,  3. ],\n",
       "       [ 6.9,  3.1,  5.4,  2.1,  3. ],\n",
       "       [ 6.7,  3.1,  5.6,  2.4,  3. ],\n",
       "       [ 6.9,  3.1,  5.1,  2.3,  3. ],\n",
       "       [ 5.8,  2.7,  5.1,  1.9,  3. ],\n",
       "       [ 6.8,  3.2,  5.9,  2.3,  3. ],\n",
       "       [ 6.7,  3.3,  5.7,  2.5,  3. ],\n",
       "       [ 6.7,  3. ,  5.2,  2.3,  3. ],\n",
       "       [ 6.3,  2.5,  5. ,  1.9,  3. ],\n",
       "       [ 6.5,  3. ,  5.2,  2. ,  3. ],\n",
       "       [ 6.2,  3.4,  5.4,  2.3,  3. ],\n",
       "       [ 5.9,  3. ,  5.1,  1.8,  3. ],\n",
       "       [10. , 10. , 10. , 10. , 10. ]])"
      ]
     },
     "execution_count": 58,
     "metadata": {},
     "output_type": "execute_result"
    }
   ],
   "source": [
    "np.append(iris,[[10,10,10,10,10]], axis=0)"
   ]
  },
  {
   "cell_type": "code",
   "execution_count": 59,
   "metadata": {},
   "outputs": [
    {
     "data": {
      "text/plain": [
       "array([10, 42, 11, 12, 13, 14, 15, 16, 17, 18])"
      ]
     },
     "execution_count": 59,
     "metadata": {},
     "output_type": "execute_result"
    }
   ],
   "source": [
    "import numpy\n",
    "np.insert(notre_tableau, 1,42)\n",
    "# l'element 42 a ete ajoute à lindex1\n",
    "# donc a la place de la valeur 2 et la val 2 on tetrouve alors lindex 2"
   ]
  },
  {
   "cell_type": "code",
   "execution_count": 62,
   "metadata": {},
   "outputs": [
    {
     "data": {
      "text/plain": [
       "array([10, 42, 43, 44, 45, 46, 11, 12, 13, 14, 15, 16, 17, 18])"
      ]
     },
     "execution_count": 62,
     "metadata": {},
     "output_type": "execute_result"
    }
   ],
   "source": [
    "import numpy\n",
    "np.insert(notre_tableau, 1,[42,43,44,45,46])"
   ]
  },
  {
   "cell_type": "code",
   "execution_count": 64,
   "metadata": {},
   "outputs": [
    {
     "data": {
      "text/plain": [
       "array([[ 5.1,  3.5,  1.4,  0.2,  1. ],\n",
       "       [10. , 10. , 10. , 10. , 10. ],\n",
       "       [ 4.9,  3. ,  1.4,  0.2,  1. ],\n",
       "       [ 4.7,  3.2,  1.3,  0.2,  1. ],\n",
       "       [ 4.6,  3.1,  1.5,  0.2,  1. ],\n",
       "       [ 5. ,  3.6,  1.4,  0.2,  1. ],\n",
       "       [ 5.4,  3.9,  1.7,  0.4,  1. ],\n",
       "       [ 4.6,  3.4,  1.4,  0.3,  1. ],\n",
       "       [ 5. ,  3.4,  1.5,  0.2,  1. ],\n",
       "       [ 4.4,  2.9,  1.4,  0.2,  1. ],\n",
       "       [ 4.9,  3.1,  1.5,  0.1,  1. ],\n",
       "       [ 5.4,  3.7,  1.5,  0.2,  1. ],\n",
       "       [ 4.8,  3.4,  1.6,  0.2,  1. ],\n",
       "       [ 4.8,  3. ,  1.4,  0.1,  1. ],\n",
       "       [ 4.3,  3. ,  1.1,  0.1,  1. ],\n",
       "       [ 5.8,  4. ,  1.2,  0.2,  1. ],\n",
       "       [ 5.7,  4.4,  1.5,  0.4,  1. ],\n",
       "       [ 5.4,  3.9,  1.3,  0.4,  1. ],\n",
       "       [ 5.1,  3.5,  1.4,  0.3,  1. ],\n",
       "       [ 5.7,  3.8,  1.7,  0.3,  1. ],\n",
       "       [ 5.1,  3.8,  1.5,  0.3,  1. ],\n",
       "       [ 5.4,  3.4,  1.7,  0.2,  1. ],\n",
       "       [ 5.1,  3.7,  1.5,  0.4,  1. ],\n",
       "       [ 4.6,  3.6,  1. ,  0.2,  1. ],\n",
       "       [ 5.1,  3.3,  1.7,  0.5,  1. ],\n",
       "       [ 4.8,  3.4,  1.9,  0.2,  1. ],\n",
       "       [ 5. ,  3. ,  1.6,  0.2,  1. ],\n",
       "       [ 5. ,  3.4,  1.6,  0.4,  1. ],\n",
       "       [ 5.2,  3.5,  1.5,  0.2,  1. ],\n",
       "       [ 5.2,  3.4,  1.4,  0.2,  1. ],\n",
       "       [ 4.7,  3.2,  1.6,  0.2,  1. ],\n",
       "       [ 4.8,  3.1,  1.6,  0.2,  1. ],\n",
       "       [ 5.4,  3.4,  1.5,  0.4,  1. ],\n",
       "       [ 5.2,  4.1,  1.5,  0.1,  1. ],\n",
       "       [ 5.5,  4.2,  1.4,  0.2,  1. ],\n",
       "       [ 4.9,  3.1,  1.5,  0.2,  1. ],\n",
       "       [ 5. ,  3.2,  1.2,  0.2,  1. ],\n",
       "       [ 5.5,  3.5,  1.3,  0.2,  1. ],\n",
       "       [ 4.9,  3.6,  1.4,  0.1,  1. ],\n",
       "       [ 4.4,  3. ,  1.3,  0.2,  1. ],\n",
       "       [ 5.1,  3.4,  1.5,  0.2,  1. ],\n",
       "       [ 5. ,  3.5,  1.3,  0.3,  1. ],\n",
       "       [ 4.5,  2.3,  1.3,  0.3,  1. ],\n",
       "       [ 4.4,  3.2,  1.3,  0.2,  1. ],\n",
       "       [ 5. ,  3.5,  1.6,  0.6,  1. ],\n",
       "       [ 5.1,  3.8,  1.9,  0.4,  1. ],\n",
       "       [ 4.8,  3. ,  1.4,  0.3,  1. ],\n",
       "       [ 5.1,  3.8,  1.6,  0.2,  1. ],\n",
       "       [ 4.6,  3.2,  1.4,  0.2,  1. ],\n",
       "       [ 5.3,  3.7,  1.5,  0.2,  1. ],\n",
       "       [ 5. ,  3.3,  1.4,  0.2,  1. ],\n",
       "       [ 7. ,  3.2,  4.7,  1.4,  2. ],\n",
       "       [ 6.4,  3.2,  4.5,  1.5,  2. ],\n",
       "       [ 6.9,  3.1,  4.9,  1.5,  2. ],\n",
       "       [ 5.5,  2.3,  4. ,  1.3,  2. ],\n",
       "       [ 6.5,  2.8,  4.6,  1.5,  2. ],\n",
       "       [ 5.7,  2.8,  4.5,  1.3,  2. ],\n",
       "       [ 6.3,  3.3,  4.7,  1.6,  2. ],\n",
       "       [ 4.9,  2.4,  3.3,  1. ,  2. ],\n",
       "       [ 6.6,  2.9,  4.6,  1.3,  2. ],\n",
       "       [ 5.2,  2.7,  3.9,  1.4,  2. ],\n",
       "       [ 5. ,  2. ,  3.5,  1. ,  2. ],\n",
       "       [ 5.9,  3. ,  4.2,  1.5,  2. ],\n",
       "       [ 6. ,  2.2,  4. ,  1. ,  2. ],\n",
       "       [ 6.1,  2.9,  4.7,  1.4,  2. ],\n",
       "       [ 5.6,  2.9,  3.6,  1.3,  2. ],\n",
       "       [ 6.7,  3.1,  4.4,  1.4,  2. ],\n",
       "       [ 5.6,  3. ,  4.5,  1.5,  2. ],\n",
       "       [ 5.8,  2.7,  4.1,  1. ,  2. ],\n",
       "       [ 6.2,  2.2,  4.5,  1.5,  2. ],\n",
       "       [ 5.6,  2.5,  3.9,  1.1,  2. ],\n",
       "       [ 5.9,  3.2,  4.8,  1.8,  2. ],\n",
       "       [ 6.1,  2.8,  4. ,  1.3,  2. ],\n",
       "       [ 6.3,  2.5,  4.9,  1.5,  2. ],\n",
       "       [ 6.1,  2.8,  4.7,  1.2,  2. ],\n",
       "       [ 6.4,  2.9,  4.3,  1.3,  2. ],\n",
       "       [ 6.6,  3. ,  4.4,  1.4,  2. ],\n",
       "       [ 6.8,  2.8,  4.8,  1.4,  2. ],\n",
       "       [ 6.7,  3. ,  5. ,  1.7,  2. ],\n",
       "       [ 6. ,  2.9,  4.5,  1.5,  2. ],\n",
       "       [ 5.7,  2.6,  3.5,  1. ,  2. ],\n",
       "       [ 5.5,  2.4,  3.8,  1.1,  2. ],\n",
       "       [ 5.5,  2.4,  3.7,  1. ,  2. ],\n",
       "       [ 5.8,  2.7,  3.9,  1.2,  2. ],\n",
       "       [ 6. ,  2.7,  5.1,  1.6,  2. ],\n",
       "       [ 5.4,  3. ,  4.5,  1.5,  2. ],\n",
       "       [ 6. ,  3.4,  4.5,  1.6,  2. ],\n",
       "       [ 6.7,  3.1,  4.7,  1.5,  2. ],\n",
       "       [ 6.3,  2.3,  4.4,  1.3,  2. ],\n",
       "       [ 5.6,  3. ,  4.1,  1.3,  2. ],\n",
       "       [ 5.5,  2.5,  4. ,  1.3,  2. ],\n",
       "       [ 5.5,  2.6,  4.4,  1.2,  2. ],\n",
       "       [ 6.1,  3. ,  4.6,  1.4,  2. ],\n",
       "       [ 5.8,  2.6,  4. ,  1.2,  2. ],\n",
       "       [ 5. ,  2.3,  3.3,  1. ,  2. ],\n",
       "       [ 5.6,  2.7,  4.2,  1.3,  2. ],\n",
       "       [ 5.7,  3. ,  4.2,  1.2,  2. ],\n",
       "       [ 5.7,  2.9,  4.2,  1.3,  2. ],\n",
       "       [ 6.2,  2.9,  4.3,  1.3,  2. ],\n",
       "       [ 5.1,  2.5,  3. ,  1.1,  2. ],\n",
       "       [ 5.7,  2.8,  4.1,  1.3,  2. ],\n",
       "       [ 6.3,  3.3,  6. ,  2.5,  3. ],\n",
       "       [ 5.8,  2.7,  5.1,  1.9,  3. ],\n",
       "       [ 7.1,  3. ,  5.9,  2.1,  3. ],\n",
       "       [ 6.3,  2.9,  5.6,  1.8,  3. ],\n",
       "       [ 6.5,  3. ,  5.8,  2.2,  3. ],\n",
       "       [ 7.6,  3. ,  6.6,  2.1,  3. ],\n",
       "       [ 4.9,  2.5,  4.5,  1.7,  3. ],\n",
       "       [ 7.3,  2.9,  6.3,  1.8,  3. ],\n",
       "       [ 6.7,  2.5,  5.8,  1.8,  3. ],\n",
       "       [ 7.2,  3.6,  6.1,  2.5,  3. ],\n",
       "       [ 6.5,  3.2,  5.1,  2. ,  3. ],\n",
       "       [ 6.4,  2.7,  5.3,  1.9,  3. ],\n",
       "       [ 6.8,  3. ,  5.5,  2.1,  3. ],\n",
       "       [ 5.7,  2.5,  5. ,  2. ,  3. ],\n",
       "       [ 5.8,  2.8,  5.1,  2.4,  3. ],\n",
       "       [ 6.4,  3.2,  5.3,  2.3,  3. ],\n",
       "       [ 6.5,  3. ,  5.5,  1.8,  3. ],\n",
       "       [ 7.7,  3.8,  6.7,  2.2,  3. ],\n",
       "       [ 7.7,  2.6,  6.9,  2.3,  3. ],\n",
       "       [ 6. ,  2.2,  5. ,  1.5,  3. ],\n",
       "       [ 6.9,  3.2,  5.7,  2.3,  3. ],\n",
       "       [ 5.6,  2.8,  4.9,  2. ,  3. ],\n",
       "       [ 7.7,  2.8,  6.7,  2. ,  3. ],\n",
       "       [ 6.3,  2.7,  4.9,  1.8,  3. ],\n",
       "       [ 6.7,  3.3,  5.7,  2.1,  3. ],\n",
       "       [ 7.2,  3.2,  6. ,  1.8,  3. ],\n",
       "       [ 6.2,  2.8,  4.8,  1.8,  3. ],\n",
       "       [ 6.1,  3. ,  4.9,  1.8,  3. ],\n",
       "       [ 6.4,  2.8,  5.6,  2.1,  3. ],\n",
       "       [ 7.2,  3. ,  5.8,  1.6,  3. ],\n",
       "       [ 7.4,  2.8,  6.1,  1.9,  3. ],\n",
       "       [ 7.9,  3.8,  6.4,  2. ,  3. ],\n",
       "       [ 6.4,  2.8,  5.6,  2.2,  3. ],\n",
       "       [ 6.3,  2.8,  5.1,  1.5,  3. ],\n",
       "       [ 6.1,  2.6,  5.6,  1.4,  3. ],\n",
       "       [ 7.7,  3. ,  6.1,  2.3,  3. ],\n",
       "       [ 6.3,  3.4,  5.6,  2.4,  3. ],\n",
       "       [ 6.4,  3.1,  5.5,  1.8,  3. ],\n",
       "       [ 6. ,  3. ,  4.8,  1.8,  3. ],\n",
       "       [ 6.9,  3.1,  5.4,  2.1,  3. ],\n",
       "       [ 6.7,  3.1,  5.6,  2.4,  3. ],\n",
       "       [ 6.9,  3.1,  5.1,  2.3,  3. ],\n",
       "       [ 5.8,  2.7,  5.1,  1.9,  3. ],\n",
       "       [ 6.8,  3.2,  5.9,  2.3,  3. ],\n",
       "       [ 6.7,  3.3,  5.7,  2.5,  3. ],\n",
       "       [ 6.7,  3. ,  5.2,  2.3,  3. ],\n",
       "       [ 6.3,  2.5,  5. ,  1.9,  3. ],\n",
       "       [ 6.5,  3. ,  5.2,  2. ,  3. ],\n",
       "       [ 6.2,  3.4,  5.4,  2.3,  3. ],\n",
       "       [ 5.9,  3. ,  5.1,  1.8,  3. ]])"
      ]
     },
     "execution_count": 64,
     "metadata": {},
     "output_type": "execute_result"
    }
   ],
   "source": [
    "import numpy as np\n",
    "np.insert(iris, 1,[10,10,10,10,10], axis =0)"
   ]
  },
  {
   "cell_type": "code",
   "execution_count": 65,
   "metadata": {},
   "outputs": [
    {
     "data": {
      "text/plain": [
       "array([ 5.1, 10. , 10. , 10. , 10. , 10. ,  3.5,  1.4,  0.2,  1. ,  4.9,\n",
       "        3. ,  1.4,  0.2,  1. ,  4.7,  3.2,  1.3,  0.2,  1. ,  4.6,  3.1,\n",
       "        1.5,  0.2,  1. ,  5. ,  3.6,  1.4,  0.2,  1. ,  5.4,  3.9,  1.7,\n",
       "        0.4,  1. ,  4.6,  3.4,  1.4,  0.3,  1. ,  5. ,  3.4,  1.5,  0.2,\n",
       "        1. ,  4.4,  2.9,  1.4,  0.2,  1. ,  4.9,  3.1,  1.5,  0.1,  1. ,\n",
       "        5.4,  3.7,  1.5,  0.2,  1. ,  4.8,  3.4,  1.6,  0.2,  1. ,  4.8,\n",
       "        3. ,  1.4,  0.1,  1. ,  4.3,  3. ,  1.1,  0.1,  1. ,  5.8,  4. ,\n",
       "        1.2,  0.2,  1. ,  5.7,  4.4,  1.5,  0.4,  1. ,  5.4,  3.9,  1.3,\n",
       "        0.4,  1. ,  5.1,  3.5,  1.4,  0.3,  1. ,  5.7,  3.8,  1.7,  0.3,\n",
       "        1. ,  5.1,  3.8,  1.5,  0.3,  1. ,  5.4,  3.4,  1.7,  0.2,  1. ,\n",
       "        5.1,  3.7,  1.5,  0.4,  1. ,  4.6,  3.6,  1. ,  0.2,  1. ,  5.1,\n",
       "        3.3,  1.7,  0.5,  1. ,  4.8,  3.4,  1.9,  0.2,  1. ,  5. ,  3. ,\n",
       "        1.6,  0.2,  1. ,  5. ,  3.4,  1.6,  0.4,  1. ,  5.2,  3.5,  1.5,\n",
       "        0.2,  1. ,  5.2,  3.4,  1.4,  0.2,  1. ,  4.7,  3.2,  1.6,  0.2,\n",
       "        1. ,  4.8,  3.1,  1.6,  0.2,  1. ,  5.4,  3.4,  1.5,  0.4,  1. ,\n",
       "        5.2,  4.1,  1.5,  0.1,  1. ,  5.5,  4.2,  1.4,  0.2,  1. ,  4.9,\n",
       "        3.1,  1.5,  0.2,  1. ,  5. ,  3.2,  1.2,  0.2,  1. ,  5.5,  3.5,\n",
       "        1.3,  0.2,  1. ,  4.9,  3.6,  1.4,  0.1,  1. ,  4.4,  3. ,  1.3,\n",
       "        0.2,  1. ,  5.1,  3.4,  1.5,  0.2,  1. ,  5. ,  3.5,  1.3,  0.3,\n",
       "        1. ,  4.5,  2.3,  1.3,  0.3,  1. ,  4.4,  3.2,  1.3,  0.2,  1. ,\n",
       "        5. ,  3.5,  1.6,  0.6,  1. ,  5.1,  3.8,  1.9,  0.4,  1. ,  4.8,\n",
       "        3. ,  1.4,  0.3,  1. ,  5.1,  3.8,  1.6,  0.2,  1. ,  4.6,  3.2,\n",
       "        1.4,  0.2,  1. ,  5.3,  3.7,  1.5,  0.2,  1. ,  5. ,  3.3,  1.4,\n",
       "        0.2,  1. ,  7. ,  3.2,  4.7,  1.4,  2. ,  6.4,  3.2,  4.5,  1.5,\n",
       "        2. ,  6.9,  3.1,  4.9,  1.5,  2. ,  5.5,  2.3,  4. ,  1.3,  2. ,\n",
       "        6.5,  2.8,  4.6,  1.5,  2. ,  5.7,  2.8,  4.5,  1.3,  2. ,  6.3,\n",
       "        3.3,  4.7,  1.6,  2. ,  4.9,  2.4,  3.3,  1. ,  2. ,  6.6,  2.9,\n",
       "        4.6,  1.3,  2. ,  5.2,  2.7,  3.9,  1.4,  2. ,  5. ,  2. ,  3.5,\n",
       "        1. ,  2. ,  5.9,  3. ,  4.2,  1.5,  2. ,  6. ,  2.2,  4. ,  1. ,\n",
       "        2. ,  6.1,  2.9,  4.7,  1.4,  2. ,  5.6,  2.9,  3.6,  1.3,  2. ,\n",
       "        6.7,  3.1,  4.4,  1.4,  2. ,  5.6,  3. ,  4.5,  1.5,  2. ,  5.8,\n",
       "        2.7,  4.1,  1. ,  2. ,  6.2,  2.2,  4.5,  1.5,  2. ,  5.6,  2.5,\n",
       "        3.9,  1.1,  2. ,  5.9,  3.2,  4.8,  1.8,  2. ,  6.1,  2.8,  4. ,\n",
       "        1.3,  2. ,  6.3,  2.5,  4.9,  1.5,  2. ,  6.1,  2.8,  4.7,  1.2,\n",
       "        2. ,  6.4,  2.9,  4.3,  1.3,  2. ,  6.6,  3. ,  4.4,  1.4,  2. ,\n",
       "        6.8,  2.8,  4.8,  1.4,  2. ,  6.7,  3. ,  5. ,  1.7,  2. ,  6. ,\n",
       "        2.9,  4.5,  1.5,  2. ,  5.7,  2.6,  3.5,  1. ,  2. ,  5.5,  2.4,\n",
       "        3.8,  1.1,  2. ,  5.5,  2.4,  3.7,  1. ,  2. ,  5.8,  2.7,  3.9,\n",
       "        1.2,  2. ,  6. ,  2.7,  5.1,  1.6,  2. ,  5.4,  3. ,  4.5,  1.5,\n",
       "        2. ,  6. ,  3.4,  4.5,  1.6,  2. ,  6.7,  3.1,  4.7,  1.5,  2. ,\n",
       "        6.3,  2.3,  4.4,  1.3,  2. ,  5.6,  3. ,  4.1,  1.3,  2. ,  5.5,\n",
       "        2.5,  4. ,  1.3,  2. ,  5.5,  2.6,  4.4,  1.2,  2. ,  6.1,  3. ,\n",
       "        4.6,  1.4,  2. ,  5.8,  2.6,  4. ,  1.2,  2. ,  5. ,  2.3,  3.3,\n",
       "        1. ,  2. ,  5.6,  2.7,  4.2,  1.3,  2. ,  5.7,  3. ,  4.2,  1.2,\n",
       "        2. ,  5.7,  2.9,  4.2,  1.3,  2. ,  6.2,  2.9,  4.3,  1.3,  2. ,\n",
       "        5.1,  2.5,  3. ,  1.1,  2. ,  5.7,  2.8,  4.1,  1.3,  2. ,  6.3,\n",
       "        3.3,  6. ,  2.5,  3. ,  5.8,  2.7,  5.1,  1.9,  3. ,  7.1,  3. ,\n",
       "        5.9,  2.1,  3. ,  6.3,  2.9,  5.6,  1.8,  3. ,  6.5,  3. ,  5.8,\n",
       "        2.2,  3. ,  7.6,  3. ,  6.6,  2.1,  3. ,  4.9,  2.5,  4.5,  1.7,\n",
       "        3. ,  7.3,  2.9,  6.3,  1.8,  3. ,  6.7,  2.5,  5.8,  1.8,  3. ,\n",
       "        7.2,  3.6,  6.1,  2.5,  3. ,  6.5,  3.2,  5.1,  2. ,  3. ,  6.4,\n",
       "        2.7,  5.3,  1.9,  3. ,  6.8,  3. ,  5.5,  2.1,  3. ,  5.7,  2.5,\n",
       "        5. ,  2. ,  3. ,  5.8,  2.8,  5.1,  2.4,  3. ,  6.4,  3.2,  5.3,\n",
       "        2.3,  3. ,  6.5,  3. ,  5.5,  1.8,  3. ,  7.7,  3.8,  6.7,  2.2,\n",
       "        3. ,  7.7,  2.6,  6.9,  2.3,  3. ,  6. ,  2.2,  5. ,  1.5,  3. ,\n",
       "        6.9,  3.2,  5.7,  2.3,  3. ,  5.6,  2.8,  4.9,  2. ,  3. ,  7.7,\n",
       "        2.8,  6.7,  2. ,  3. ,  6.3,  2.7,  4.9,  1.8,  3. ,  6.7,  3.3,\n",
       "        5.7,  2.1,  3. ,  7.2,  3.2,  6. ,  1.8,  3. ,  6.2,  2.8,  4.8,\n",
       "        1.8,  3. ,  6.1,  3. ,  4.9,  1.8,  3. ,  6.4,  2.8,  5.6,  2.1,\n",
       "        3. ,  7.2,  3. ,  5.8,  1.6,  3. ,  7.4,  2.8,  6.1,  1.9,  3. ,\n",
       "        7.9,  3.8,  6.4,  2. ,  3. ,  6.4,  2.8,  5.6,  2.2,  3. ,  6.3,\n",
       "        2.8,  5.1,  1.5,  3. ,  6.1,  2.6,  5.6,  1.4,  3. ,  7.7,  3. ,\n",
       "        6.1,  2.3,  3. ,  6.3,  3.4,  5.6,  2.4,  3. ,  6.4,  3.1,  5.5,\n",
       "        1.8,  3. ,  6. ,  3. ,  4.8,  1.8,  3. ,  6.9,  3.1,  5.4,  2.1,\n",
       "        3. ,  6.7,  3.1,  5.6,  2.4,  3. ,  6.9,  3.1,  5.1,  2.3,  3. ,\n",
       "        5.8,  2.7,  5.1,  1.9,  3. ,  6.8,  3.2,  5.9,  2.3,  3. ,  6.7,\n",
       "        3.3,  5.7,  2.5,  3. ,  6.7,  3. ,  5.2,  2.3,  3. ,  6.3,  2.5,\n",
       "        5. ,  1.9,  3. ,  6.5,  3. ,  5.2,  2. ,  3. ,  6.2,  3.4,  5.4,\n",
       "        2.3,  3. ,  5.9,  3. ,  5.1,  1.8,  3. ])"
      ]
     },
     "execution_count": 65,
     "metadata": {},
     "output_type": "execute_result"
    }
   ],
   "source": [
    "import numpy as np\n",
    "np.insert(iris, 1,[10,10,10,10,10])"
   ]
  },
  {
   "cell_type": "code",
   "execution_count": 66,
   "metadata": {},
   "outputs": [
    {
     "data": {
      "text/plain": [
       "array([[5.1, 1.4, 0.2, 1. ],\n",
       "       [4.9, 1.4, 0.2, 1. ],\n",
       "       [4.7, 1.3, 0.2, 1. ],\n",
       "       [4.6, 1.5, 0.2, 1. ],\n",
       "       [5. , 1.4, 0.2, 1. ],\n",
       "       [5.4, 1.7, 0.4, 1. ],\n",
       "       [4.6, 1.4, 0.3, 1. ],\n",
       "       [5. , 1.5, 0.2, 1. ],\n",
       "       [4.4, 1.4, 0.2, 1. ],\n",
       "       [4.9, 1.5, 0.1, 1. ],\n",
       "       [5.4, 1.5, 0.2, 1. ],\n",
       "       [4.8, 1.6, 0.2, 1. ],\n",
       "       [4.8, 1.4, 0.1, 1. ],\n",
       "       [4.3, 1.1, 0.1, 1. ],\n",
       "       [5.8, 1.2, 0.2, 1. ],\n",
       "       [5.7, 1.5, 0.4, 1. ],\n",
       "       [5.4, 1.3, 0.4, 1. ],\n",
       "       [5.1, 1.4, 0.3, 1. ],\n",
       "       [5.7, 1.7, 0.3, 1. ],\n",
       "       [5.1, 1.5, 0.3, 1. ],\n",
       "       [5.4, 1.7, 0.2, 1. ],\n",
       "       [5.1, 1.5, 0.4, 1. ],\n",
       "       [4.6, 1. , 0.2, 1. ],\n",
       "       [5.1, 1.7, 0.5, 1. ],\n",
       "       [4.8, 1.9, 0.2, 1. ],\n",
       "       [5. , 1.6, 0.2, 1. ],\n",
       "       [5. , 1.6, 0.4, 1. ],\n",
       "       [5.2, 1.5, 0.2, 1. ],\n",
       "       [5.2, 1.4, 0.2, 1. ],\n",
       "       [4.7, 1.6, 0.2, 1. ],\n",
       "       [4.8, 1.6, 0.2, 1. ],\n",
       "       [5.4, 1.5, 0.4, 1. ],\n",
       "       [5.2, 1.5, 0.1, 1. ],\n",
       "       [5.5, 1.4, 0.2, 1. ],\n",
       "       [4.9, 1.5, 0.2, 1. ],\n",
       "       [5. , 1.2, 0.2, 1. ],\n",
       "       [5.5, 1.3, 0.2, 1. ],\n",
       "       [4.9, 1.4, 0.1, 1. ],\n",
       "       [4.4, 1.3, 0.2, 1. ],\n",
       "       [5.1, 1.5, 0.2, 1. ],\n",
       "       [5. , 1.3, 0.3, 1. ],\n",
       "       [4.5, 1.3, 0.3, 1. ],\n",
       "       [4.4, 1.3, 0.2, 1. ],\n",
       "       [5. , 1.6, 0.6, 1. ],\n",
       "       [5.1, 1.9, 0.4, 1. ],\n",
       "       [4.8, 1.4, 0.3, 1. ],\n",
       "       [5.1, 1.6, 0.2, 1. ],\n",
       "       [4.6, 1.4, 0.2, 1. ],\n",
       "       [5.3, 1.5, 0.2, 1. ],\n",
       "       [5. , 1.4, 0.2, 1. ],\n",
       "       [7. , 4.7, 1.4, 2. ],\n",
       "       [6.4, 4.5, 1.5, 2. ],\n",
       "       [6.9, 4.9, 1.5, 2. ],\n",
       "       [5.5, 4. , 1.3, 2. ],\n",
       "       [6.5, 4.6, 1.5, 2. ],\n",
       "       [5.7, 4.5, 1.3, 2. ],\n",
       "       [6.3, 4.7, 1.6, 2. ],\n",
       "       [4.9, 3.3, 1. , 2. ],\n",
       "       [6.6, 4.6, 1.3, 2. ],\n",
       "       [5.2, 3.9, 1.4, 2. ],\n",
       "       [5. , 3.5, 1. , 2. ],\n",
       "       [5.9, 4.2, 1.5, 2. ],\n",
       "       [6. , 4. , 1. , 2. ],\n",
       "       [6.1, 4.7, 1.4, 2. ],\n",
       "       [5.6, 3.6, 1.3, 2. ],\n",
       "       [6.7, 4.4, 1.4, 2. ],\n",
       "       [5.6, 4.5, 1.5, 2. ],\n",
       "       [5.8, 4.1, 1. , 2. ],\n",
       "       [6.2, 4.5, 1.5, 2. ],\n",
       "       [5.6, 3.9, 1.1, 2. ],\n",
       "       [5.9, 4.8, 1.8, 2. ],\n",
       "       [6.1, 4. , 1.3, 2. ],\n",
       "       [6.3, 4.9, 1.5, 2. ],\n",
       "       [6.1, 4.7, 1.2, 2. ],\n",
       "       [6.4, 4.3, 1.3, 2. ],\n",
       "       [6.6, 4.4, 1.4, 2. ],\n",
       "       [6.8, 4.8, 1.4, 2. ],\n",
       "       [6.7, 5. , 1.7, 2. ],\n",
       "       [6. , 4.5, 1.5, 2. ],\n",
       "       [5.7, 3.5, 1. , 2. ],\n",
       "       [5.5, 3.8, 1.1, 2. ],\n",
       "       [5.5, 3.7, 1. , 2. ],\n",
       "       [5.8, 3.9, 1.2, 2. ],\n",
       "       [6. , 5.1, 1.6, 2. ],\n",
       "       [5.4, 4.5, 1.5, 2. ],\n",
       "       [6. , 4.5, 1.6, 2. ],\n",
       "       [6.7, 4.7, 1.5, 2. ],\n",
       "       [6.3, 4.4, 1.3, 2. ],\n",
       "       [5.6, 4.1, 1.3, 2. ],\n",
       "       [5.5, 4. , 1.3, 2. ],\n",
       "       [5.5, 4.4, 1.2, 2. ],\n",
       "       [6.1, 4.6, 1.4, 2. ],\n",
       "       [5.8, 4. , 1.2, 2. ],\n",
       "       [5. , 3.3, 1. , 2. ],\n",
       "       [5.6, 4.2, 1.3, 2. ],\n",
       "       [5.7, 4.2, 1.2, 2. ],\n",
       "       [5.7, 4.2, 1.3, 2. ],\n",
       "       [6.2, 4.3, 1.3, 2. ],\n",
       "       [5.1, 3. , 1.1, 2. ],\n",
       "       [5.7, 4.1, 1.3, 2. ],\n",
       "       [6.3, 6. , 2.5, 3. ],\n",
       "       [5.8, 5.1, 1.9, 3. ],\n",
       "       [7.1, 5.9, 2.1, 3. ],\n",
       "       [6.3, 5.6, 1.8, 3. ],\n",
       "       [6.5, 5.8, 2.2, 3. ],\n",
       "       [7.6, 6.6, 2.1, 3. ],\n",
       "       [4.9, 4.5, 1.7, 3. ],\n",
       "       [7.3, 6.3, 1.8, 3. ],\n",
       "       [6.7, 5.8, 1.8, 3. ],\n",
       "       [7.2, 6.1, 2.5, 3. ],\n",
       "       [6.5, 5.1, 2. , 3. ],\n",
       "       [6.4, 5.3, 1.9, 3. ],\n",
       "       [6.8, 5.5, 2.1, 3. ],\n",
       "       [5.7, 5. , 2. , 3. ],\n",
       "       [5.8, 5.1, 2.4, 3. ],\n",
       "       [6.4, 5.3, 2.3, 3. ],\n",
       "       [6.5, 5.5, 1.8, 3. ],\n",
       "       [7.7, 6.7, 2.2, 3. ],\n",
       "       [7.7, 6.9, 2.3, 3. ],\n",
       "       [6. , 5. , 1.5, 3. ],\n",
       "       [6.9, 5.7, 2.3, 3. ],\n",
       "       [5.6, 4.9, 2. , 3. ],\n",
       "       [7.7, 6.7, 2. , 3. ],\n",
       "       [6.3, 4.9, 1.8, 3. ],\n",
       "       [6.7, 5.7, 2.1, 3. ],\n",
       "       [7.2, 6. , 1.8, 3. ],\n",
       "       [6.2, 4.8, 1.8, 3. ],\n",
       "       [6.1, 4.9, 1.8, 3. ],\n",
       "       [6.4, 5.6, 2.1, 3. ],\n",
       "       [7.2, 5.8, 1.6, 3. ],\n",
       "       [7.4, 6.1, 1.9, 3. ],\n",
       "       [7.9, 6.4, 2. , 3. ],\n",
       "       [6.4, 5.6, 2.2, 3. ],\n",
       "       [6.3, 5.1, 1.5, 3. ],\n",
       "       [6.1, 5.6, 1.4, 3. ],\n",
       "       [7.7, 6.1, 2.3, 3. ],\n",
       "       [6.3, 5.6, 2.4, 3. ],\n",
       "       [6.4, 5.5, 1.8, 3. ],\n",
       "       [6. , 4.8, 1.8, 3. ],\n",
       "       [6.9, 5.4, 2.1, 3. ],\n",
       "       [6.7, 5.6, 2.4, 3. ],\n",
       "       [6.9, 5.1, 2.3, 3. ],\n",
       "       [5.8, 5.1, 1.9, 3. ],\n",
       "       [6.8, 5.9, 2.3, 3. ],\n",
       "       [6.7, 5.7, 2.5, 3. ],\n",
       "       [6.7, 5.2, 2.3, 3. ],\n",
       "       [6.3, 5. , 1.9, 3. ],\n",
       "       [6.5, 5.2, 2. , 3. ],\n",
       "       [6.2, 5.4, 2.3, 3. ],\n",
       "       [5.9, 5.1, 1.8, 3. ]])"
      ]
     },
     "execution_count": 66,
     "metadata": {},
     "output_type": "execute_result"
    }
   ],
   "source": [
    "np.delete(iris,1, axis=1)"
   ]
  },
  {
   "cell_type": "code",
   "execution_count": 67,
   "metadata": {},
   "outputs": [
    {
     "data": {
      "text/plain": [
       "array([[5.1, 3.5, 1.4, 0.2, 1. ],\n",
       "       [5.4, 3.9, 1.7, 0.4, 1. ],\n",
       "       [4.6, 3.4, 1.4, 0.3, 1. ],\n",
       "       [5. , 3.4, 1.5, 0.2, 1. ],\n",
       "       [4.4, 2.9, 1.4, 0.2, 1. ],\n",
       "       [4.9, 3.1, 1.5, 0.1, 1. ],\n",
       "       [5.4, 3.7, 1.5, 0.2, 1. ],\n",
       "       [4.8, 3.4, 1.6, 0.2, 1. ],\n",
       "       [4.8, 3. , 1.4, 0.1, 1. ],\n",
       "       [4.3, 3. , 1.1, 0.1, 1. ],\n",
       "       [5.8, 4. , 1.2, 0.2, 1. ],\n",
       "       [5.7, 4.4, 1.5, 0.4, 1. ],\n",
       "       [5.4, 3.9, 1.3, 0.4, 1. ],\n",
       "       [5.1, 3.5, 1.4, 0.3, 1. ],\n",
       "       [5.7, 3.8, 1.7, 0.3, 1. ],\n",
       "       [5.1, 3.8, 1.5, 0.3, 1. ],\n",
       "       [5.4, 3.4, 1.7, 0.2, 1. ],\n",
       "       [5.1, 3.7, 1.5, 0.4, 1. ],\n",
       "       [4.6, 3.6, 1. , 0.2, 1. ],\n",
       "       [5.1, 3.3, 1.7, 0.5, 1. ],\n",
       "       [4.8, 3.4, 1.9, 0.2, 1. ],\n",
       "       [5. , 3. , 1.6, 0.2, 1. ],\n",
       "       [5. , 3.4, 1.6, 0.4, 1. ],\n",
       "       [5.2, 3.5, 1.5, 0.2, 1. ],\n",
       "       [5.2, 3.4, 1.4, 0.2, 1. ],\n",
       "       [4.7, 3.2, 1.6, 0.2, 1. ],\n",
       "       [4.8, 3.1, 1.6, 0.2, 1. ],\n",
       "       [5.4, 3.4, 1.5, 0.4, 1. ],\n",
       "       [5.2, 4.1, 1.5, 0.1, 1. ],\n",
       "       [5.5, 4.2, 1.4, 0.2, 1. ],\n",
       "       [4.9, 3.1, 1.5, 0.2, 1. ],\n",
       "       [5. , 3.2, 1.2, 0.2, 1. ],\n",
       "       [5.5, 3.5, 1.3, 0.2, 1. ],\n",
       "       [4.9, 3.6, 1.4, 0.1, 1. ],\n",
       "       [4.4, 3. , 1.3, 0.2, 1. ],\n",
       "       [5.1, 3.4, 1.5, 0.2, 1. ],\n",
       "       [5. , 3.5, 1.3, 0.3, 1. ],\n",
       "       [4.5, 2.3, 1.3, 0.3, 1. ],\n",
       "       [4.4, 3.2, 1.3, 0.2, 1. ],\n",
       "       [5. , 3.5, 1.6, 0.6, 1. ],\n",
       "       [5.1, 3.8, 1.9, 0.4, 1. ],\n",
       "       [4.8, 3. , 1.4, 0.3, 1. ],\n",
       "       [5.1, 3.8, 1.6, 0.2, 1. ],\n",
       "       [4.6, 3.2, 1.4, 0.2, 1. ],\n",
       "       [5.3, 3.7, 1.5, 0.2, 1. ],\n",
       "       [5. , 3.3, 1.4, 0.2, 1. ],\n",
       "       [7. , 3.2, 4.7, 1.4, 2. ],\n",
       "       [6.4, 3.2, 4.5, 1.5, 2. ],\n",
       "       [6.9, 3.1, 4.9, 1.5, 2. ],\n",
       "       [5.5, 2.3, 4. , 1.3, 2. ],\n",
       "       [6.5, 2.8, 4.6, 1.5, 2. ],\n",
       "       [5.7, 2.8, 4.5, 1.3, 2. ],\n",
       "       [6.3, 3.3, 4.7, 1.6, 2. ],\n",
       "       [4.9, 2.4, 3.3, 1. , 2. ],\n",
       "       [6.6, 2.9, 4.6, 1.3, 2. ],\n",
       "       [5.2, 2.7, 3.9, 1.4, 2. ],\n",
       "       [5. , 2. , 3.5, 1. , 2. ],\n",
       "       [5.9, 3. , 4.2, 1.5, 2. ],\n",
       "       [6. , 2.2, 4. , 1. , 2. ],\n",
       "       [6.1, 2.9, 4.7, 1.4, 2. ],\n",
       "       [5.6, 2.9, 3.6, 1.3, 2. ],\n",
       "       [6.7, 3.1, 4.4, 1.4, 2. ],\n",
       "       [5.6, 3. , 4.5, 1.5, 2. ],\n",
       "       [5.8, 2.7, 4.1, 1. , 2. ],\n",
       "       [6.2, 2.2, 4.5, 1.5, 2. ],\n",
       "       [5.6, 2.5, 3.9, 1.1, 2. ],\n",
       "       [5.9, 3.2, 4.8, 1.8, 2. ],\n",
       "       [6.1, 2.8, 4. , 1.3, 2. ],\n",
       "       [6.3, 2.5, 4.9, 1.5, 2. ],\n",
       "       [6.1, 2.8, 4.7, 1.2, 2. ],\n",
       "       [6.4, 2.9, 4.3, 1.3, 2. ],\n",
       "       [6.6, 3. , 4.4, 1.4, 2. ],\n",
       "       [6.8, 2.8, 4.8, 1.4, 2. ],\n",
       "       [6.7, 3. , 5. , 1.7, 2. ],\n",
       "       [6. , 2.9, 4.5, 1.5, 2. ],\n",
       "       [5.7, 2.6, 3.5, 1. , 2. ],\n",
       "       [5.5, 2.4, 3.8, 1.1, 2. ],\n",
       "       [5.5, 2.4, 3.7, 1. , 2. ],\n",
       "       [5.8, 2.7, 3.9, 1.2, 2. ],\n",
       "       [6. , 2.7, 5.1, 1.6, 2. ],\n",
       "       [5.4, 3. , 4.5, 1.5, 2. ],\n",
       "       [6. , 3.4, 4.5, 1.6, 2. ],\n",
       "       [6.7, 3.1, 4.7, 1.5, 2. ],\n",
       "       [6.3, 2.3, 4.4, 1.3, 2. ],\n",
       "       [5.6, 3. , 4.1, 1.3, 2. ],\n",
       "       [5.5, 2.5, 4. , 1.3, 2. ],\n",
       "       [5.5, 2.6, 4.4, 1.2, 2. ],\n",
       "       [6.1, 3. , 4.6, 1.4, 2. ],\n",
       "       [5.8, 2.6, 4. , 1.2, 2. ],\n",
       "       [5. , 2.3, 3.3, 1. , 2. ],\n",
       "       [5.6, 2.7, 4.2, 1.3, 2. ],\n",
       "       [5.7, 3. , 4.2, 1.2, 2. ],\n",
       "       [5.7, 2.9, 4.2, 1.3, 2. ],\n",
       "       [6.2, 2.9, 4.3, 1.3, 2. ],\n",
       "       [5.1, 2.5, 3. , 1.1, 2. ],\n",
       "       [5.7, 2.8, 4.1, 1.3, 2. ],\n",
       "       [6.3, 3.3, 6. , 2.5, 3. ],\n",
       "       [5.8, 2.7, 5.1, 1.9, 3. ],\n",
       "       [7.1, 3. , 5.9, 2.1, 3. ],\n",
       "       [6.3, 2.9, 5.6, 1.8, 3. ],\n",
       "       [6.5, 3. , 5.8, 2.2, 3. ],\n",
       "       [7.6, 3. , 6.6, 2.1, 3. ],\n",
       "       [4.9, 2.5, 4.5, 1.7, 3. ],\n",
       "       [7.3, 2.9, 6.3, 1.8, 3. ],\n",
       "       [6.7, 2.5, 5.8, 1.8, 3. ],\n",
       "       [7.2, 3.6, 6.1, 2.5, 3. ],\n",
       "       [6.5, 3.2, 5.1, 2. , 3. ],\n",
       "       [6.4, 2.7, 5.3, 1.9, 3. ],\n",
       "       [6.8, 3. , 5.5, 2.1, 3. ],\n",
       "       [5.7, 2.5, 5. , 2. , 3. ],\n",
       "       [5.8, 2.8, 5.1, 2.4, 3. ],\n",
       "       [6.4, 3.2, 5.3, 2.3, 3. ],\n",
       "       [6.5, 3. , 5.5, 1.8, 3. ],\n",
       "       [7.7, 3.8, 6.7, 2.2, 3. ],\n",
       "       [7.7, 2.6, 6.9, 2.3, 3. ],\n",
       "       [6. , 2.2, 5. , 1.5, 3. ],\n",
       "       [6.9, 3.2, 5.7, 2.3, 3. ],\n",
       "       [5.6, 2.8, 4.9, 2. , 3. ],\n",
       "       [7.7, 2.8, 6.7, 2. , 3. ],\n",
       "       [6.3, 2.7, 4.9, 1.8, 3. ],\n",
       "       [6.7, 3.3, 5.7, 2.1, 3. ],\n",
       "       [7.2, 3.2, 6. , 1.8, 3. ],\n",
       "       [6.2, 2.8, 4.8, 1.8, 3. ],\n",
       "       [6.1, 3. , 4.9, 1.8, 3. ],\n",
       "       [6.4, 2.8, 5.6, 2.1, 3. ],\n",
       "       [7.2, 3. , 5.8, 1.6, 3. ],\n",
       "       [7.4, 2.8, 6.1, 1.9, 3. ],\n",
       "       [7.9, 3.8, 6.4, 2. , 3. ],\n",
       "       [6.4, 2.8, 5.6, 2.2, 3. ],\n",
       "       [6.3, 2.8, 5.1, 1.5, 3. ],\n",
       "       [6.1, 2.6, 5.6, 1.4, 3. ],\n",
       "       [7.7, 3. , 6.1, 2.3, 3. ],\n",
       "       [6.3, 3.4, 5.6, 2.4, 3. ],\n",
       "       [6.4, 3.1, 5.5, 1.8, 3. ],\n",
       "       [6. , 3. , 4.8, 1.8, 3. ],\n",
       "       [6.9, 3.1, 5.4, 2.1, 3. ],\n",
       "       [6.7, 3.1, 5.6, 2.4, 3. ],\n",
       "       [6.9, 3.1, 5.1, 2.3, 3. ],\n",
       "       [5.8, 2.7, 5.1, 1.9, 3. ],\n",
       "       [6.8, 3.2, 5.9, 2.3, 3. ],\n",
       "       [6.7, 3.3, 5.7, 2.5, 3. ],\n",
       "       [6.7, 3. , 5.2, 2.3, 3. ],\n",
       "       [6.3, 2.5, 5. , 1.9, 3. ],\n",
       "       [6.5, 3. , 5.2, 2. , 3. ],\n",
       "       [6.2, 3.4, 5.4, 2.3, 3. ],\n",
       "       [5.9, 3. , 5.1, 1.8, 3. ]])"
      ]
     },
     "execution_count": 67,
     "metadata": {},
     "output_type": "execute_result"
    }
   ],
   "source": [
    "np.delete(iris,[1,2,3,4], axis=0) # sup index des ligne 1 2 3 4"
   ]
  },
  {
   "cell_type": "code",
   "execution_count": 68,
   "metadata": {},
   "outputs": [
    {
     "data": {
      "text/plain": [
       "array([10, 12, 13, 14, 15, 16, 17, 18])"
      ]
     },
     "execution_count": 68,
     "metadata": {},
     "output_type": "execute_result"
    }
   ],
   "source": [
    "np.delete(notre_tableau,1)"
   ]
  },
  {
   "cell_type": "code",
   "execution_count": 69,
   "metadata": {},
   "outputs": [
    {
     "data": {
      "text/plain": [
       "array([[10, 11, 12],\n",
       "       [13, 14, 15],\n",
       "       [16, 17, 18]])"
      ]
     },
     "execution_count": 69,
     "metadata": {},
     "output_type": "execute_result"
    }
   ],
   "source": [
    "#diviser un tab numpy\n",
    "\n",
    "notre_tableau"
   ]
  },
  {
   "cell_type": "code",
   "execution_count": 70,
   "metadata": {},
   "outputs": [
    {
     "name": "stdout",
     "output_type": "stream",
     "text": [
      "[[10 11 12]\n",
      " [13 14 15]] [[16 17 18]] []\n"
     ]
    }
   ],
   "source": [
    "import numpy as np\n",
    "# sarrete a 2 et 6\n",
    "notre_tableau1,notre_tableau2,notre_tableau3=np.split(notre_tableau, [2,6] )\n",
    "print(notre_tableau1, notre_tableau2, notre_tableau3,  )"
   ]
  },
  {
   "cell_type": "code",
   "execution_count": 71,
   "metadata": {},
   "outputs": [
    {
     "name": "stdout",
     "output_type": "stream",
     "text": [
      "avant division\n",
      "[[ 2.  5.  6.]\n",
      " [ 9. 10. 11.]\n",
      " [ 5.  6.  9.]]\n",
      "apres division\n",
      "[[ 2.  5.  6.]\n",
      " [ 9. 10. 11.]]\n",
      "[[5. 6. 9.]]\n"
     ]
    }
   ],
   "source": [
    "# sur 1 tableau a 2 dimensions\n",
    "# en sortie 2 tableau split\n",
    "#vsplit ligne\n",
    "\n",
    "array=np.array([[2,5,6],[9,10,11],[5,6,9]], dtype=\"float\")\n",
    "print(\"avant division\")\n",
    "print(array)\n",
    "array1, array2 = np.vsplit(array, [2])\n",
    "print('apres division')\n",
    "print(array1)\n",
    "print(array2)"
   ]
  },
  {
   "cell_type": "code",
   "execution_count": 8,
   "metadata": {},
   "outputs": [
    {
     "name": "stdout",
     "output_type": "stream",
     "text": [
      "avant division\n",
      "[[ 2.  5.  6.]\n",
      " [ 9. 10. 11.]\n",
      " [ 5.  6.  9.]]\n",
      "apres division\n",
      "[[ 2.  5.]\n",
      " [ 9. 10.]\n",
      " [ 5.  6.]]\n",
      "[[ 6.]\n",
      " [11.]\n",
      " [ 9.]]\n"
     ]
    }
   ],
   "source": [
    "#hsplit pareil pour les colonnes\n",
    "\n",
    "array=np.array([[2,5,6],[9,10,11],[5,6,9]], dtype=\"float\")\n",
    "print(\"avant division\")\n",
    "print(array)\n",
    "array1, array2 = np.hsplit(array, [2])\n",
    "print('apres division')\n",
    "print(array1)\n",
    "print(array2)"
   ]
  },
  {
   "cell_type": "code",
   "execution_count": 9,
   "metadata": {},
   "outputs": [
    {
     "name": "stdout",
     "output_type": "stream",
     "text": [
      "[1 2 3 4 5]\n",
      "[6 7 8 9]\n"
     ]
    },
    {
     "data": {
      "text/plain": [
       "array([1, 2, 3, 4, 5, 6, 7, 8, 9])"
      ]
     },
     "execution_count": 9,
     "metadata": {},
     "output_type": "execute_result"
    }
   ],
   "source": [
    "# concatener/combiner des tableaux\n",
    "\n",
    "# () concatenate\n",
    "\n",
    "array1 = np.array([1,2,3,4,5])\n",
    "array2 = np.array([6,7,8,9])\n",
    "print(array1)\n",
    "print(array2)\n",
    "np.concatenate([array1,array2])"
   ]
  },
  {
   "cell_type": "code",
   "execution_count": 10,
   "metadata": {},
   "outputs": [
    {
     "name": "stdout",
     "output_type": "stream",
     "text": [
      "[[1. 2. 3.]\n",
      " [4. 5. 6.]\n",
      " [7. 8. 9.]]\n",
      "[[ 2.  5.  6.]\n",
      " [ 9. 10. 11.]\n",
      " [ 5.  6.  9.]]\n"
     ]
    },
    {
     "data": {
      "text/plain": [
       "array([[ 1.,  2.,  3.],\n",
       "       [ 4.,  5.,  6.],\n",
       "       [ 7.,  8.,  9.],\n",
       "       [ 2.,  5.,  6.],\n",
       "       [ 9., 10., 11.],\n",
       "       [ 5.,  6.,  9.]])"
      ]
     },
     "execution_count": 10,
     "metadata": {},
     "output_type": "execute_result"
    }
   ],
   "source": [
    "array1 = np.array([[1,2,3],[4,5,6],[7,8,9]], dtype=\"float\")\n",
    "array2 = np.array([[2,5,6],[9,10,11],[5,6,9]], dtype=\"float\")\n",
    "print(array1)\n",
    "print(array2)\n",
    "np.concatenate([array1,array2])"
   ]
  },
  {
   "cell_type": "code",
   "execution_count": 11,
   "metadata": {},
   "outputs": [
    {
     "data": {
      "text/plain": [
       "array([[ 1.,  2.,  3.],\n",
       "       [ 4.,  5.,  6.],\n",
       "       [ 7.,  8.,  9.],\n",
       "       [ 2.,  5.,  6.],\n",
       "       [ 9., 10., 11.],\n",
       "       [ 5.,  6.,  9.],\n",
       "       [ 4., 10., 13.],\n",
       "       [ 7., 14., 15.]])"
      ]
     },
     "execution_count": 11,
     "metadata": {},
     "output_type": "execute_result"
    }
   ],
   "source": [
    "array3= np.array([[4,10,13],[7,14,15]], dtype=\"float\")\n",
    "np.concatenate([array1, array2, array3])"
   ]
  },
  {
   "cell_type": "code",
   "execution_count": 4,
   "metadata": {},
   "outputs": [],
   "source": [
    "# vstack() rajoute ou une ligne\n",
    "# hstack()  ou colonne ( concatene)\n",
    "\n",
    "# import numpy as np \n",
    "\n",
    "# array1 = np.array([15,16,47])\n",
    "# array2 = np.array([[1,2,3],[4,5,6],[7,8,9]], dtype=\"float\")\n",
    "# print(array1)\n",
    "# print(\"___\")\n",
    "# print(array2)\n",
    "# print(\"___\")\n",
    "# print(np.vstack([array1, array2]))\n",
    "# array1 = np.array([[15,16,47]])\n",
    "# print(\"___\")\n",
    "# print(array1)\n",
    "# print(\"___\")\n",
    "# print(array2)\n",
    "# print(\"___\")\n",
    "# print(np.hstack([array1, array2]))\n",
    "\n"
   ]
  },
  {
   "cell_type": "code",
   "execution_count": 12,
   "metadata": {},
   "outputs": [
    {
     "ename": "NameError",
     "evalue": "name 'iris' is not defined",
     "output_type": "error",
     "traceback": [
      "\u001b[0;31m---------------------------------------------------------------------------\u001b[0m",
      "\u001b[0;31mNameError\u001b[0m                                 Traceback (most recent call last)",
      "\u001b[0;32m<ipython-input-12-d3453d2d4c9e>\u001b[0m in \u001b[0;36m<module>\u001b[0;34m\u001b[0m\n\u001b[0;32m----> 1\u001b[0;31m \u001b[0mmoyenne\u001b[0m \u001b[0;34m=\u001b[0m \u001b[0mnp\u001b[0m\u001b[0;34m.\u001b[0m\u001b[0mmean\u001b[0m\u001b[0;34m(\u001b[0m\u001b[0miris\u001b[0m\u001b[0;34m,\u001b[0m \u001b[0maxis\u001b[0m \u001b[0;34m=\u001b[0m \u001b[0;36m0\u001b[0m\u001b[0;34m)\u001b[0m\u001b[0;34m\u001b[0m\u001b[0;34m\u001b[0m\u001b[0m\n\u001b[0m\u001b[1;32m      2\u001b[0m \u001b[0;34m\u001b[0m\u001b[0m\n\u001b[1;32m      3\u001b[0m \u001b[0mprint\u001b[0m\u001b[0;34m(\u001b[0m\u001b[0mnp\u001b[0m\u001b[0;34m.\u001b[0m\u001b[0minsert\u001b[0m\u001b[0;34m(\u001b[0m\u001b[0miris\u001b[0m\u001b[0;34m,\u001b[0m \u001b[0;36m150\u001b[0m\u001b[0;34m,\u001b[0m \u001b[0mmoyenne\u001b[0m\u001b[0;34m,\u001b[0m \u001b[0maxis\u001b[0m \u001b[0;34m=\u001b[0m \u001b[0;36m0\u001b[0m \u001b[0;34m)\u001b[0m\u001b[0;34m)\u001b[0m\u001b[0;34m\u001b[0m\u001b[0;34m\u001b[0m\u001b[0m\n",
      "\u001b[0;31mNameError\u001b[0m: name 'iris' is not defined"
     ]
    }
   ],
   "source": [
    "moyenne = np.mean(iris, axis = 0)\n",
    "\n",
    "print(np.insert(iris, 150, moyenne, axis = 0 ))\n"
   ]
  },
  {
   "cell_type": "code",
   "execution_count": 4,
   "metadata": {},
   "outputs": [
    {
     "name": "stdout",
     "output_type": "stream",
     "text": [
      "iris \n",
      " [[4.9 3.  1.4 0.2 1. ]\n",
      " [4.7 3.2 1.3 0.2 1. ]\n",
      " [4.6 3.1 1.5 0.2 1. ]\n",
      " [5.  3.6 1.4 0.2 1. ]\n",
      " [5.4 3.9 1.7 0.4 1. ]\n",
      " [4.6 3.4 1.4 0.3 1. ]\n",
      " [5.  3.4 1.5 0.2 1. ]\n",
      " [4.4 2.9 1.4 0.2 1. ]\n",
      " [4.9 3.1 1.5 0.1 1. ]\n",
      " [5.4 3.7 1.5 0.2 1. ]\n",
      " [4.8 3.4 1.6 0.2 1. ]\n",
      " [4.8 3.  1.4 0.1 1. ]\n",
      " [4.3 3.  1.1 0.1 1. ]\n",
      " [5.8 4.  1.2 0.2 1. ]\n",
      " [5.7 4.4 1.5 0.4 1. ]\n",
      " [5.4 3.9 1.3 0.4 1. ]\n",
      " [5.1 3.5 1.4 0.3 1. ]\n",
      " [5.7 3.8 1.7 0.3 1. ]\n",
      " [5.1 3.8 1.5 0.3 1. ]\n",
      " [5.4 3.4 1.7 0.2 1. ]\n",
      " [5.1 3.7 1.5 0.4 1. ]\n",
      " [4.6 3.6 1.  0.2 1. ]\n",
      " [5.1 3.3 1.7 0.5 1. ]\n",
      " [4.8 3.4 1.9 0.2 1. ]\n",
      " [5.  3.  1.6 0.2 1. ]\n",
      " [5.  3.4 1.6 0.4 1. ]\n",
      " [5.2 3.5 1.5 0.2 1. ]\n",
      " [5.2 3.4 1.4 0.2 1. ]\n",
      " [4.7 3.2 1.6 0.2 1. ]\n",
      " [4.8 3.1 1.6 0.2 1. ]\n",
      " [5.4 3.4 1.5 0.4 1. ]\n",
      " [5.2 4.1 1.5 0.1 1. ]\n",
      " [5.5 4.2 1.4 0.2 1. ]\n",
      " [4.9 3.1 1.5 0.2 1. ]\n",
      " [5.  3.2 1.2 0.2 1. ]\n",
      " [5.5 3.5 1.3 0.2 1. ]\n",
      " [4.9 3.6 1.4 0.1 1. ]\n",
      " [4.4 3.  1.3 0.2 1. ]\n",
      " [5.1 3.4 1.5 0.2 1. ]\n",
      " [5.  3.5 1.3 0.3 1. ]\n",
      " [4.5 2.3 1.3 0.3 1. ]\n",
      " [4.4 3.2 1.3 0.2 1. ]\n",
      " [5.  3.5 1.6 0.6 1. ]\n",
      " [5.1 3.8 1.9 0.4 1. ]\n",
      " [4.8 3.  1.4 0.3 1. ]\n",
      " [5.1 3.8 1.6 0.2 1. ]\n",
      " [4.6 3.2 1.4 0.2 1. ]\n",
      " [5.3 3.7 1.5 0.2 1. ]\n",
      " [5.  3.3 1.4 0.2 1. ]\n",
      " [7.  3.2 4.7 1.4 2. ]\n",
      " [6.4 3.2 4.5 1.5 2. ]\n",
      " [6.9 3.1 4.9 1.5 2. ]\n",
      " [5.5 2.3 4.  1.3 2. ]\n",
      " [6.5 2.8 4.6 1.5 2. ]\n",
      " [5.7 2.8 4.5 1.3 2. ]\n",
      " [6.3 3.3 4.7 1.6 2. ]\n",
      " [4.9 2.4 3.3 1.  2. ]\n",
      " [6.6 2.9 4.6 1.3 2. ]\n",
      " [5.2 2.7 3.9 1.4 2. ]\n",
      " [5.  2.  3.5 1.  2. ]\n",
      " [5.9 3.  4.2 1.5 2. ]\n",
      " [6.  2.2 4.  1.  2. ]\n",
      " [6.1 2.9 4.7 1.4 2. ]\n",
      " [5.6 2.9 3.6 1.3 2. ]\n",
      " [6.7 3.1 4.4 1.4 2. ]\n",
      " [5.6 3.  4.5 1.5 2. ]\n",
      " [5.8 2.7 4.1 1.  2. ]\n",
      " [6.2 2.2 4.5 1.5 2. ]\n",
      " [5.6 2.5 3.9 1.1 2. ]\n",
      " [5.9 3.2 4.8 1.8 2. ]\n",
      " [6.1 2.8 4.  1.3 2. ]\n",
      " [6.3 2.5 4.9 1.5 2. ]\n",
      " [6.1 2.8 4.7 1.2 2. ]\n",
      " [6.4 2.9 4.3 1.3 2. ]\n",
      " [6.6 3.  4.4 1.4 2. ]\n",
      " [6.8 2.8 4.8 1.4 2. ]\n",
      " [6.7 3.  5.  1.7 2. ]\n",
      " [6.  2.9 4.5 1.5 2. ]\n",
      " [5.7 2.6 3.5 1.  2. ]\n",
      " [5.5 2.4 3.8 1.1 2. ]\n",
      " [5.5 2.4 3.7 1.  2. ]\n",
      " [5.8 2.7 3.9 1.2 2. ]\n",
      " [6.  2.7 5.1 1.6 2. ]\n",
      " [5.4 3.  4.5 1.5 2. ]\n",
      " [6.  3.4 4.5 1.6 2. ]\n",
      " [6.7 3.1 4.7 1.5 2. ]\n",
      " [6.3 2.3 4.4 1.3 2. ]\n",
      " [5.6 3.  4.1 1.3 2. ]\n",
      " [5.5 2.5 4.  1.3 2. ]\n",
      " [5.5 2.6 4.4 1.2 2. ]\n",
      " [6.1 3.  4.6 1.4 2. ]\n",
      " [5.8 2.6 4.  1.2 2. ]\n",
      " [5.  2.3 3.3 1.  2. ]\n",
      " [5.6 2.7 4.2 1.3 2. ]\n",
      " [5.7 3.  4.2 1.2 2. ]\n",
      " [5.7 2.9 4.2 1.3 2. ]\n",
      " [6.2 2.9 4.3 1.3 2. ]\n",
      " [5.1 2.5 3.  1.1 2. ]\n",
      " [5.7 2.8 4.1 1.3 2. ]\n",
      " [6.3 3.3 6.  2.5 3. ]\n",
      " [5.8 2.7 5.1 1.9 3. ]\n",
      " [7.1 3.  5.9 2.1 3. ]\n",
      " [6.3 2.9 5.6 1.8 3. ]\n",
      " [6.5 3.  5.8 2.2 3. ]\n",
      " [7.6 3.  6.6 2.1 3. ]\n",
      " [4.9 2.5 4.5 1.7 3. ]\n",
      " [7.3 2.9 6.3 1.8 3. ]\n",
      " [6.7 2.5 5.8 1.8 3. ]\n",
      " [7.2 3.6 6.1 2.5 3. ]\n",
      " [6.5 3.2 5.1 2.  3. ]\n",
      " [6.4 2.7 5.3 1.9 3. ]\n",
      " [6.8 3.  5.5 2.1 3. ]\n",
      " [5.7 2.5 5.  2.  3. ]\n",
      " [5.8 2.8 5.1 2.4 3. ]\n",
      " [6.4 3.2 5.3 2.3 3. ]\n",
      " [6.5 3.  5.5 1.8 3. ]\n",
      " [7.7 3.8 6.7 2.2 3. ]\n",
      " [7.7 2.6 6.9 2.3 3. ]\n",
      " [6.  2.2 5.  1.5 3. ]\n",
      " [6.9 3.2 5.7 2.3 3. ]\n",
      " [5.6 2.8 4.9 2.  3. ]\n",
      " [7.7 2.8 6.7 2.  3. ]\n",
      " [6.3 2.7 4.9 1.8 3. ]\n",
      " [6.7 3.3 5.7 2.1 3. ]\n",
      " [7.2 3.2 6.  1.8 3. ]\n",
      " [6.2 2.8 4.8 1.8 3. ]\n",
      " [6.1 3.  4.9 1.8 3. ]\n",
      " [6.4 2.8 5.6 2.1 3. ]\n",
      " [7.2 3.  5.8 1.6 3. ]\n",
      " [7.4 2.8 6.1 1.9 3. ]\n",
      " [7.9 3.8 6.4 2.  3. ]\n",
      " [6.4 2.8 5.6 2.2 3. ]\n",
      " [6.3 2.8 5.1 1.5 3. ]\n",
      " [6.1 2.6 5.6 1.4 3. ]\n",
      " [7.7 3.  6.1 2.3 3. ]\n",
      " [6.3 3.4 5.6 2.4 3. ]\n",
      " [6.4 3.1 5.5 1.8 3. ]\n",
      " [6.  3.  4.8 1.8 3. ]\n",
      " [6.9 3.1 5.4 2.1 3. ]\n",
      " [6.7 3.1 5.6 2.4 3. ]\n",
      " [6.9 3.1 5.1 2.3 3. ]\n",
      " [5.8 2.7 5.1 1.9 3. ]\n",
      " [6.8 3.2 5.9 2.3 3. ]\n",
      " [6.7 3.3 5.7 2.5 3. ]\n",
      " [6.7 3.  5.2 2.3 3. ]\n",
      " [6.3 2.5 5.  1.9 3. ]\n",
      " [6.5 3.  5.2 2.  3. ]\n",
      " [6.2 3.4 5.4 2.3 3. ]\n",
      " [5.9 3.  5.1 1.8 3. ]]\n",
      "iris+insert \n",
      " [ 4.9 10.  10.  10.  10.  10.   3.   1.4  0.2  1.   4.7  3.2  1.3  0.2\n",
      "  1.   4.6  3.1  1.5  0.2  1.   5.   3.6  1.4  0.2  1.   5.4  3.9  1.7\n",
      "  0.4  1.   4.6  3.4  1.4  0.3  1.   5.   3.4  1.5  0.2  1.   4.4  2.9\n",
      "  1.4  0.2  1.   4.9  3.1  1.5  0.1  1.   5.4  3.7  1.5  0.2  1.   4.8\n",
      "  3.4  1.6  0.2  1.   4.8  3.   1.4  0.1  1.   4.3  3.   1.1  0.1  1.\n",
      "  5.8  4.   1.2  0.2  1.   5.7  4.4  1.5  0.4  1.   5.4  3.9  1.3  0.4\n",
      "  1.   5.1  3.5  1.4  0.3  1.   5.7  3.8  1.7  0.3  1.   5.1  3.8  1.5\n",
      "  0.3  1.   5.4  3.4  1.7  0.2  1.   5.1  3.7  1.5  0.4  1.   4.6  3.6\n",
      "  1.   0.2  1.   5.1  3.3  1.7  0.5  1.   4.8  3.4  1.9  0.2  1.   5.\n",
      "  3.   1.6  0.2  1.   5.   3.4  1.6  0.4  1.   5.2  3.5  1.5  0.2  1.\n",
      "  5.2  3.4  1.4  0.2  1.   4.7  3.2  1.6  0.2  1.   4.8  3.1  1.6  0.2\n",
      "  1.   5.4  3.4  1.5  0.4  1.   5.2  4.1  1.5  0.1  1.   5.5  4.2  1.4\n",
      "  0.2  1.   4.9  3.1  1.5  0.2  1.   5.   3.2  1.2  0.2  1.   5.5  3.5\n",
      "  1.3  0.2  1.   4.9  3.6  1.4  0.1  1.   4.4  3.   1.3  0.2  1.   5.1\n",
      "  3.4  1.5  0.2  1.   5.   3.5  1.3  0.3  1.   4.5  2.3  1.3  0.3  1.\n",
      "  4.4  3.2  1.3  0.2  1.   5.   3.5  1.6  0.6  1.   5.1  3.8  1.9  0.4\n",
      "  1.   4.8  3.   1.4  0.3  1.   5.1  3.8  1.6  0.2  1.   4.6  3.2  1.4\n",
      "  0.2  1.   5.3  3.7  1.5  0.2  1.   5.   3.3  1.4  0.2  1.   7.   3.2\n",
      "  4.7  1.4  2.   6.4  3.2  4.5  1.5  2.   6.9  3.1  4.9  1.5  2.   5.5\n",
      "  2.3  4.   1.3  2.   6.5  2.8  4.6  1.5  2.   5.7  2.8  4.5  1.3  2.\n",
      "  6.3  3.3  4.7  1.6  2.   4.9  2.4  3.3  1.   2.   6.6  2.9  4.6  1.3\n",
      "  2.   5.2  2.7  3.9  1.4  2.   5.   2.   3.5  1.   2.   5.9  3.   4.2\n",
      "  1.5  2.   6.   2.2  4.   1.   2.   6.1  2.9  4.7  1.4  2.   5.6  2.9\n",
      "  3.6  1.3  2.   6.7  3.1  4.4  1.4  2.   5.6  3.   4.5  1.5  2.   5.8\n",
      "  2.7  4.1  1.   2.   6.2  2.2  4.5  1.5  2.   5.6  2.5  3.9  1.1  2.\n",
      "  5.9  3.2  4.8  1.8  2.   6.1  2.8  4.   1.3  2.   6.3  2.5  4.9  1.5\n",
      "  2.   6.1  2.8  4.7  1.2  2.   6.4  2.9  4.3  1.3  2.   6.6  3.   4.4\n",
      "  1.4  2.   6.8  2.8  4.8  1.4  2.   6.7  3.   5.   1.7  2.   6.   2.9\n",
      "  4.5  1.5  2.   5.7  2.6  3.5  1.   2.   5.5  2.4  3.8  1.1  2.   5.5\n",
      "  2.4  3.7  1.   2.   5.8  2.7  3.9  1.2  2.   6.   2.7  5.1  1.6  2.\n",
      "  5.4  3.   4.5  1.5  2.   6.   3.4  4.5  1.6  2.   6.7  3.1  4.7  1.5\n",
      "  2.   6.3  2.3  4.4  1.3  2.   5.6  3.   4.1  1.3  2.   5.5  2.5  4.\n",
      "  1.3  2.   5.5  2.6  4.4  1.2  2.   6.1  3.   4.6  1.4  2.   5.8  2.6\n",
      "  4.   1.2  2.   5.   2.3  3.3  1.   2.   5.6  2.7  4.2  1.3  2.   5.7\n",
      "  3.   4.2  1.2  2.   5.7  2.9  4.2  1.3  2.   6.2  2.9  4.3  1.3  2.\n",
      "  5.1  2.5  3.   1.1  2.   5.7  2.8  4.1  1.3  2.   6.3  3.3  6.   2.5\n",
      "  3.   5.8  2.7  5.1  1.9  3.   7.1  3.   5.9  2.1  3.   6.3  2.9  5.6\n",
      "  1.8  3.   6.5  3.   5.8  2.2  3.   7.6  3.   6.6  2.1  3.   4.9  2.5\n",
      "  4.5  1.7  3.   7.3  2.9  6.3  1.8  3.   6.7  2.5  5.8  1.8  3.   7.2\n",
      "  3.6  6.1  2.5  3.   6.5  3.2  5.1  2.   3.   6.4  2.7  5.3  1.9  3.\n",
      "  6.8  3.   5.5  2.1  3.   5.7  2.5  5.   2.   3.   5.8  2.8  5.1  2.4\n",
      "  3.   6.4  3.2  5.3  2.3  3.   6.5  3.   5.5  1.8  3.   7.7  3.8  6.7\n",
      "  2.2  3.   7.7  2.6  6.9  2.3  3.   6.   2.2  5.   1.5  3.   6.9  3.2\n",
      "  5.7  2.3  3.   5.6  2.8  4.9  2.   3.   7.7  2.8  6.7  2.   3.   6.3\n",
      "  2.7  4.9  1.8  3.   6.7  3.3  5.7  2.1  3.   7.2  3.2  6.   1.8  3.\n",
      "  6.2  2.8  4.8  1.8  3.   6.1  3.   4.9  1.8  3.   6.4  2.8  5.6  2.1\n",
      "  3.   7.2  3.   5.8  1.6  3.   7.4  2.8  6.1  1.9  3.   7.9  3.8  6.4\n",
      "  2.   3.   6.4  2.8  5.6  2.2  3.   6.3  2.8  5.1  1.5  3.   6.1  2.6\n",
      "  5.6  1.4  3.   7.7  3.   6.1  2.3  3.   6.3  3.4  5.6  2.4  3.   6.4\n",
      "  3.1  5.5  1.8  3.   6.   3.   4.8  1.8  3.   6.9  3.1  5.4  2.1  3.\n",
      "  6.7  3.1  5.6  2.4  3.   6.9  3.1  5.1  2.3  3.   5.8  2.7  5.1  1.9\n",
      "  3.   6.8  3.2  5.9  2.3  3.   6.7  3.3  5.7  2.5  3.   6.7  3.   5.2\n",
      "  2.3  3.   6.3  2.5  5.   1.9  3.   6.5  3.   5.2  2.   3.   6.2  3.4\n",
      "  5.4  2.3  3.   5.9  3.   5.1  1.8  3. ]\n"
     ]
    }
   ],
   "source": [
    "import numpy as np\n",
    "iris=np.genfromtxt(\"iris.csv\", delimiter=\";\", skip_header=True, encoding=\"latin-1\")\n",
    "print('iris \\n', iris)\n",
    "iris2 = np.insert(iris, 1,[10,10,10,10,10])\n",
    "\n",
    "print('iris+insert \\n',iris2)"
   ]
  }
 ],
 "metadata": {
  "kernelspec": {
   "display_name": "Python 3",
   "language": "python",
   "name": "python3"
  },
  "language_info": {
   "codemirror_mode": {
    "name": "ipython",
    "version": 3
   },
   "file_extension": ".py",
   "mimetype": "text/x-python",
   "name": "python",
   "nbconvert_exporter": "python",
   "pygments_lexer": "ipython3",
   "version": "3.8.5"
  }
 },
 "nbformat": 4,
 "nbformat_minor": 4
}
