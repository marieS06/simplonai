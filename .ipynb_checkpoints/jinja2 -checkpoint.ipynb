{
 "cells": [
  {
   "cell_type": "code",
   "execution_count": 2,
   "metadata": {},
   "outputs": [
    {
     "name": "stdout",
     "output_type": "stream",
     "text": [
      "votre nom :mp\n",
      "bonjour mp\n"
     ]
    }
   ],
   "source": [
    "from jinja2 import Template\n",
    "\n",
    "reponse = input('votre nom :')\n",
    "\n",
    "tm = Template(\"bonjour {{ nom }}\")\n",
    "texte = tm.render(nom=reponse)\n",
    "\n",
    "# fonction template -> mon template\n",
    "# tm.render -> ce qu'il doit me rendre\n",
    "\n",
    "\n",
    "print(texte)"
   ]
  },
  {
   "cell_type": "code",
   "execution_count": 1,
   "metadata": {},
   "outputs": [
    {
     "name": "stdout",
     "output_type": "stream",
     "text": [
      "Votre nom :mm\n",
      "<!doctype html>\n",
      "<html lang=\"en\">\n",
      "<head>\n",
      "  <title>Titre de la page</title>\n",
      "</head>\n",
      "<body>\n",
      "  Mon premier contenu\n",
      "</body>\n",
      "</html>\n",
      "\n"
     ]
    }
   ],
   "source": [
    "# TMPL_DIR : REPERTOIRE\n",
    "#from jinja2 import Template\n",
    "from jinja2 import Environment, FileSystemLoader\n",
    "\n",
    "\n",
    "## Necessaire pour les dates en français\n",
    "import datetime\n",
    "\n",
    "TMPL_DIR = \"jinjaessaie\"\n",
    "fichier = \"base.jinja\"\n",
    "\n",
    "reponse = input(\"Votre nom :\")\n",
    "\n",
    "templateLoader = FileSystemLoader(searchpath=TMPL_DIR)\n",
    "templateEnv = Environment(loader=templateLoader)\n",
    "template = templateEnv.get_template(fichier)\n",
    "\n",
    "data={\n",
    "    'nom':reponse,\n",
    "    'time_stamp':datetime.datetime.now().strftime(\"%x %X\")\n",
    "}\n",
    "print(template.render(data))"
   ]
  },
  {
   "cell_type": "code",
   "execution_count": 2,
   "metadata": {},
   "outputs": [
    {
     "ename": "SyntaxError",
     "evalue": "invalid syntax (<ipython-input-2-c9c88776c3a1>, line 1)",
     "output_type": "error",
     "traceback": [
      "\u001b[0;36m  File \u001b[0;32m\"<ipython-input-2-c9c88776c3a1>\"\u001b[0;36m, line \u001b[0;32m1\u001b[0m\n\u001b[0;31m    <!doctype html>\u001b[0m\n\u001b[0m    ^\u001b[0m\n\u001b[0;31mSyntaxError\u001b[0m\u001b[0;31m:\u001b[0m invalid syntax\n"
     ]
    }
   ],
   "source": [
    "<!doctype html>\n",
    "<html lang=\"en\">\n",
    "<head>\n",
    "  <title>Titre de la page</title>\n",
    "</head>\n",
    "<body>\n",
    "  Mon premier contenu\n",
    "</body>\n",
    "</html>\n",
    "\n"
   ]
  },
  {
   "cell_type": "code",
   "execution_count": null,
   "metadata": {},
   "outputs": [],
   "source": []
  },
  {
   "cell_type": "code",
   "execution_count": 5,
   "metadata": {},
   "outputs": [
    {
     "data": {
      "text/plain": [
       "'/home/simplon'"
      ]
     },
     "execution_count": 5,
     "metadata": {},
     "output_type": "execute_result"
    }
   ],
   "source": [
    "%pwd"
   ]
  },
  {
   "cell_type": "code",
   "execution_count": null,
   "metadata": {},
   "outputs": [],
   "source": []
  }
 ],
 "metadata": {
  "kernelspec": {
   "display_name": "Python 3",
   "language": "python",
   "name": "python3"
  },
  "language_info": {
   "codemirror_mode": {
    "name": "ipython",
    "version": 3
   },
   "file_extension": ".py",
   "mimetype": "text/x-python",
   "name": "python",
   "nbconvert_exporter": "python",
   "pygments_lexer": "ipython3",
   "version": "3.8.5"
  }
 },
 "nbformat": 4,
 "nbformat_minor": 4
}
