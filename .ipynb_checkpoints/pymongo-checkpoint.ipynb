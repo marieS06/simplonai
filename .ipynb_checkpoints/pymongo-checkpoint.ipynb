{
 "cells": [
  {
   "cell_type": "code",
   "execution_count": null,
   "metadata": {},
   "outputs": [],
   "source": [
    "from random import randint\n",
    "def genPhrase(list):\n",
    "    gene = randint(0, len(list)-1)\n",
    "    return gene\n",
    "\n",
    "phrase_demarre=[\"Comment allez-vous ?\", \"Pourquoi venez-vous me voir ?\", \"Comment s’est passée votre journée ?\"]\n",
    "phrase_relation=[\"Comment va votre XXX ?\", \"La relation avec XXX vous pose-t-elle problème ?\", \"Pourquoi pensez-vous en ce moment à votre XXX ?\"]\n",
    "phrase_interrogation=[\"Pourquoi me posez-vous cette question  ?\", \"Oseriez-vous poser cette question à un humain ?\",\"Je ne peux malheureusement pas répondre à cette question.\"]\n",
    "phrase_contraire=[\"J’entends bien.\", \"Je sens une pointe de regret.\", \"Est-ce une bonne nouvelle ?\", \"Oui, c’est ça le problème.\",\"Pensez-vous ce que vous dites ?\",\"Hum... Il se peut.\"]\n",
    "relation=[\"pere\", \"mere\", \"copain\", \"copine\", \"maman\", \"papa\", \"ami\", \"amie\"]\n",
    "\n",
    "print(\"--- DEPART ----\")\n",
    "robot_dit = genPhrase(phrase_demarre)\n",
    "print(phrase_demarre[robot_dit])\n",
    "reponse=input().lower()\n",
    "ls_repond = reponse.split(\" \")\n",
    "for i in ls_repond :\n",
    "    if i in relation :\n",
    "        robot_dit = genPhrase(phrase_relation)\n",
    "        print(phrase_relation[robot_dit].replace(\"XXX\",i))\n",
    "        break\n",
    "    elif i == \"?\" :\n",
    "        robot_dit = genPhrase(phrase_interrogation)\n",
    "        print(phrase_interrogation[robot_dit])\n",
    "        break\n",
    "    else :\n",
    "        robot_dit = genPhrase(phrase_contraire)\n",
    "        print(phrase_contraire[robot_dit])\n",
    "        "
   ]
  },
  {
   "cell_type": "code",
   "execution_count": null,
   "metadata": {},
   "outputs": [],
   "source": []
  }
 ],
 "metadata": {
  "kernelspec": {
   "display_name": "Python 3",
   "language": "python",
   "name": "python3"
  },
  "language_info": {
   "codemirror_mode": {
    "name": "ipython",
    "version": 3
   },
   "file_extension": ".py",
   "mimetype": "text/x-python",
   "name": "python",
   "nbconvert_exporter": "python",
   "pygments_lexer": "ipython3",
   "version": "3.8.5"
  }
 },
 "nbformat": 4,
 "nbformat_minor": 4
}
