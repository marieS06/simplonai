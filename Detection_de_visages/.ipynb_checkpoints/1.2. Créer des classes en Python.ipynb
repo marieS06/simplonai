{
 "cells": [
  {
   "cell_type": "code",
   "execution_count": 28,
   "metadata": {},
   "outputs": [],
   "source": [
    "from random import randrange\n",
    "\n",
    "# On initialise toutes les valeurs et couleurs\n",
    "# que peuvent prendre les cartes\n",
    "valeurs = [i for i in range(1, 11)]\n",
    "couleurs = [i for i in range(1, 5)]\n",
    "\n",
    "# On choisi le nombre de tour que va durée la partie\n",
    "# et on initialise le score à 0.\n",
    "nbTours = 7\n",
    "score = 0\n",
    "\n",
    "# Enfin on crée une liste de tuple\n",
    "# pour représenter le paquet de cartes\n",
    "paquet = [(v, c) for v in valeurs for c in couleurs]\n",
    "main1, main2 = [], []"
   ]
  },
  {
   "cell_type": "code",
   "execution_count": 30,
   "metadata": {},
   "outputs": [],
   "source": [
    "for i in range(nbTours):\n",
    "    # Le joueur 1 tire une carte aléatoirement dansle paquet\n",
    "    x = paquet[randrange(len(paquet))]\n",
    "    # La carte est ajouté à la main du joueur 1\n",
    "    main1.append(x)\n",
    "    # La carte tiré est supprimé du paquet\n",
    "    paquet.remove(x)\n",
    "    # Idem pour le joueur 2\n",
    "    y = paquet[randrange(len(paquet))]\n",
    "    main2.append(y)\n",
    "    paquet.remove(y)"
   ]
  },
  {
   "cell_type": "code",
   "execution_count": 42,
   "metadata": {},
   "outputs": [],
   "source": [
    "for i in range(nbTours):\n",
    "    if main1[i][0] > main2[i][0] or (\n",
    "    main1[i][0] == main2[i][0] and main1[i][1] > main2[i][1]):\n",
    "        score += 1\n",
    "    else : \n",
    "        score -= 1"
   ]
  },
  {
   "cell_type": "code",
   "execution_count": 43,
   "metadata": {},
   "outputs": [
    {
     "name": "stdout",
     "output_type": "stream",
     "text": [
      "Vainqueur : joueur 2\n"
     ]
    }
   ],
   "source": [
    "print(\"Vainqueur : \" + (\"joueur 1\" if score > 0 else \"joueur 2\"))"
   ]
  },
  {
   "cell_type": "code",
   "execution_count": 5,
   "metadata": {},
   "outputs": [],
   "source": [
    "from random import randrange\n",
    "\n",
    "nbTours = 7\n",
    "score = 0\n",
    "\n",
    "class Carte:\n",
    "    def __init__(self, couleur, valeur):\n",
    "        self.couleur = couleur\n",
    "        self.valeur = valeur\n",
    "\n",
    "class Partie:\n",
    "    def __init__(self, tours, couleurs, valeurs):\n",
    "        self.score = 0\n",
    "        self.nbTours = tours\n",
    "        self.paquet = [Carte(v, c)\n",
    "                       for v in range(valeurs + 1)\n",
    "                       for c in range(couleurs + 1)]\n",
    "    def jouer(self):\n",
    "        self.main1, self.main2 = piocher(self.paquet, self.nbTours)\n",
    "        for i in range(self.nbTours):\n",
    "            self.score += (1 if plusGrandQue(\n",
    "            self.main1[i], self.main2[i]) else -1)\n",
    "        print(str(self.score) + \" Vainqueur : \" + \n",
    "              (\"joueur 1\" if self.score > 0 else \"joueur 2\"))\n",
    "                \n",
    "def plusGrandQue(carte1, carte2):\n",
    "    return carte1.valeur > carte2.valeur or (\n",
    "    carte1.valeur == carte2.valeur and\n",
    "    carte1.couleur > carte2.couleur)\n",
    "\n",
    "def piocher(paquet, nb):\n",
    "    main1 = []\n",
    "    main2 = []\n",
    "    for i in range(nb):\n",
    "            x = paquet[randrange(len(paquet))]\n",
    "            main1.append(x)\n",
    "            paquet.remove(x)\n",
    "            y = paquet[randrange(len(paquet))]\n",
    "            main2.append(y)\n",
    "            paquet.remove(y)\n",
    "    return main1, main2\n",
    "            \n"
   ]
  },
  {
   "cell_type": "code",
   "execution_count": 6,
   "metadata": {},
   "outputs": [
    {
     "name": "stdout",
     "output_type": "stream",
     "text": [
      "5 Vainqueur : joueur 1\n",
      "8 Vainqueur : joueur 1\n",
      "5 Vainqueur : joueur 1\n"
     ]
    }
   ],
   "source": [
    "partie = Partie(couleurs=4, valeurs=10, tours=7)\n",
    "partie.jouer()\n",
    "partie.jouer()\n",
    "partie.jouer()"
   ]
  },
  {
   "cell_type": "code",
   "execution_count": null,
   "metadata": {},
   "outputs": [],
   "source": []
  },
  {
   "cell_type": "code",
   "execution_count": null,
   "metadata": {},
   "outputs": [],
   "source": []
  },
  {
   "cell_type": "code",
   "execution_count": null,
   "metadata": {},
   "outputs": [],
   "source": []
  }
 ],
 "metadata": {
  "kernelspec": {
   "display_name": "Python 3",
   "language": "python",
   "name": "python3"
  },
  "language_info": {
   "codemirror_mode": {
    "name": "ipython",
    "version": 3
   },
   "file_extension": ".py",
   "mimetype": "text/x-python",
   "name": "python",
   "nbconvert_exporter": "python",
   "pygments_lexer": "ipython3",
   "version": "3.8.3"
  }
 },
 "nbformat": 4,
 "nbformat_minor": 2
}
