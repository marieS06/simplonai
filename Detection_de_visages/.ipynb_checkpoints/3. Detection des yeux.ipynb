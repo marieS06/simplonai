{
 "cells": [
  {
   "cell_type": "code",
   "execution_count": 16,
   "id": "3ef8a929",
   "metadata": {},
   "outputs": [],
   "source": [
    "import cv2 as cv"
   ]
  },
  {
   "cell_type": "markdown",
   "id": "a01282ca",
   "metadata": {},
   "source": [
    "#### On charge les classificateurs en cascade pré-entrainés"
   ]
  },
  {
   "cell_type": "code",
   "execution_count": 17,
   "id": "9d056f70",
   "metadata": {},
   "outputs": [],
   "source": [
    "face_cascade = cv.CascadeClassifier(\n",
    "    'Detection de visages\\\\haarcascade_frontalface_default.xml')\n",
    "eye_cascade = cv.CascadeClassifier(\n",
    "    'Detection de visages\\\\haarcascade_eye.xml')"
   ]
  },
  {
   "cell_type": "markdown",
   "id": "b61143b3",
   "metadata": {},
   "source": [
    "#### On charge l'images"
   ]
  },
  {
   "cell_type": "code",
   "execution_count": 18,
   "id": "c814beac",
   "metadata": {},
   "outputs": [],
   "source": [
    "img = cv.imread('Detection de visages\\\\obama.jpg')\n",
    "gray = cv.cvtColor(img, cv.COLOR_BGR2GRAY)"
   ]
  },
  {
   "cell_type": "markdown",
   "id": "0adba6d0",
   "metadata": {},
   "source": [
    "#### Je lance la détection puis je dessine les rectangles sur l'image"
   ]
  },
  {
   "cell_type": "code",
   "execution_count": 19,
   "id": "bc3df0b4",
   "metadata": {},
   "outputs": [],
   "source": [
    "faces = face_cascade.detectMultiScale(gray, 1.1, 8)"
   ]
  },
  {
   "cell_type": "code",
   "execution_count": 20,
   "id": "59246a10",
   "metadata": {},
   "outputs": [],
   "source": [
    "# affichage des visages\n",
    "for face in faces:\n",
    "    x, y, w, h = face\n",
    "    \n",
    "    # dessiner le rectangle sur l'image principale\n",
    "    cv.rectangle(img, (x, y), (x + w, y + h), (0, 255, 0), 2)"
   ]
  },
  {
   "cell_type": "markdown",
   "id": "1cc1eeda",
   "metadata": {},
   "source": [
    "#### Je lance la détection des yeux et dessine les rectangles autour des yeux"
   ]
  },
  {
   "cell_type": "code",
   "execution_count": 21,
   "id": "3a291ef9",
   "metadata": {},
   "outputs": [],
   "source": [
    "eyes = eye_cascade.detectMultiScale(gray, 1.1, 3) "
   ]
  },
  {
   "cell_type": "code",
   "execution_count": 22,
   "id": "5e7f1a54",
   "metadata": {},
   "outputs": [],
   "source": [
    "for (ex, ey, ew, eh) in eyes:\n",
    "    # dessiner le rectangle autour des yeux sur l'image principale\n",
    "    cv.rectangle(img, (ex, ey), (ex + ew, ey + eh), (255,0,0), 2)"
   ]
  },
  {
   "cell_type": "code",
   "execution_count": 23,
   "id": "c21f1c5b",
   "metadata": {},
   "outputs": [],
   "source": [
    "# affiche l'image principale\n",
    "cv.imshow('image principale', img)\n",
    "cv.waitKey(0)\n",
    "cv.destroyAllWindows()"
   ]
  },
  {
   "cell_type": "code",
   "execution_count": null,
   "id": "c6a7bae4",
   "metadata": {},
   "outputs": [],
   "source": []
  }
 ],
 "metadata": {
  "kernelspec": {
   "display_name": "Python 3",
   "language": "python",
   "name": "python3"
  },
  "language_info": {
   "codemirror_mode": {
    "name": "ipython",
    "version": 3
   },
   "file_extension": ".py",
   "mimetype": "text/x-python",
   "name": "python",
   "nbconvert_exporter": "python",
   "pygments_lexer": "ipython3",
   "version": "3.8.11"
  }
 },
 "nbformat": 4,
 "nbformat_minor": 5
}
