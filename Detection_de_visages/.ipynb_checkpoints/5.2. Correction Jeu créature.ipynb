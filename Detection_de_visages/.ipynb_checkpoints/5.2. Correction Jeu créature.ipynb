{
 "cells": [
  {
   "cell_type": "code",
   "execution_count": 4,
   "metadata": {},
   "outputs": [],
   "source": [
    "from random import randrange"
   ]
  },
  {
   "cell_type": "code",
   "execution_count": 5,
   "metadata": {},
   "outputs": [],
   "source": [
    "class Case:\n",
    "    def __init__(self, x, y):\n",
    "        self.x = x\n",
    "        self.y = y\n",
    "        \n",
    "    def __str__(self):\n",
    "        return \"Case(x=\"+str(self.x)+\", y=\"+str(self.y)+\")\"\n",
    "        \n",
    "    def adjacentes(self, jeu):\n",
    "        return [c for c in jeu.listeCases if self != c and abs(c.x-self.x)<2 and abs(c.y-self.y)<2]"
   ]
  },
  {
   "cell_type": "code",
   "execution_count": 6,
   "metadata": {},
   "outputs": [],
   "source": [
    "class Creature:\n",
    "    def __init__(self, nom, position):\n",
    "        self.nom = nom\n",
    "        self.position = position\n",
    "        \n",
    "    def __str__(self):\n",
    "        return self.nom+\" : \"+str(self.position)\n",
    "    \n",
    "    def ChoisirCible (self, jeu):\n",
    "        possibles = self.position.adjacentes(jeu)\n",
    "        occupees = [case for case in possibles if jeu.estOccupee(case)]\n",
    "        if len(occupees)>0:\n",
    "            return occupees[0]\n",
    "        else:\n",
    "            i = randrange(0, len(possibles))\n",
    "            return possibles[i]"
   ]
  },
  {
   "cell_type": "code",
   "execution_count": 7,
   "metadata": {},
   "outputs": [],
   "source": [
    "class Jeu:\n",
    "    def __init__(self, listeCases, listeCreatures):\n",
    "        self.listeCases = listeCases\n",
    "        self.listeCreatures = listeCreatures\n",
    "        self.tour = 1\n",
    "        self.actif = listeCreatures[0]\n",
    "    \n",
    "    \n",
    "    def __str__(self):\n",
    "        s = \"Tour \"+str(self.tour)+\" \"\n",
    "        for c in self.listeCreatures:\n",
    "            s += str(c) + \" \"\n",
    "        s += \"actif = \" +str(self.actif.nom)\n",
    "        return s\n",
    "    \n",
    "    def estOccupee(self, case):\n",
    "        return any(b.position == case for b in self.listeCreatures)\n",
    "    \n",
    "    def deplacer(self, creature, case):\n",
    "        if creature.position in case.adjacentes(self):\n",
    "            if self.estOccupee(case):\n",
    "                print(\"Victoire de \" + creature.nom)\n",
    "                self.tour = 0\n",
    "            else:\n",
    "                self.tour += 1\n",
    "                self.actif = [c for c in self.listeCreatures\n",
    "                             if c != creature][0]\n",
    "            creature.position = case"
   ]
  },
  {
   "cell_type": "code",
   "execution_count": 8,
   "metadata": {},
   "outputs": [],
   "source": [
    "#initialisation\n",
    "\n",
    "listeCases =[]\n",
    "for x in range(4):\n",
    "    for y in range(4):\n",
    "        listeCases.append(Case(x, y))\n",
    "bot1 = Creature(\"bot1\", listeCases[0])\n",
    "bot2 = Creature(\"bot2\", listeCases[-1])\n",
    "\n",
    "jeu = Jeu(listeCases, [bot1, bot2])"
   ]
  },
  {
   "cell_type": "code",
   "execution_count": 9,
   "metadata": {},
   "outputs": [
    {
     "name": "stdout",
     "output_type": "stream",
     "text": [
      "Tour 1 bot1 : Case(x=0, y=0) bot2 : Case(x=3, y=3) actif = bot1\n",
      "Tour 2 bot1 : Case(x=1, y=0) bot2 : Case(x=3, y=3) actif = bot2\n",
      "Tour 3 bot1 : Case(x=1, y=0) bot2 : Case(x=3, y=2) actif = bot1\n",
      "Tour 4 bot1 : Case(x=1, y=1) bot2 : Case(x=3, y=2) actif = bot2\n",
      "Tour 5 bot1 : Case(x=1, y=1) bot2 : Case(x=3, y=3) actif = bot1\n",
      "Tour 6 bot1 : Case(x=0, y=2) bot2 : Case(x=3, y=3) actif = bot2\n",
      "Tour 7 bot1 : Case(x=0, y=2) bot2 : Case(x=3, y=2) actif = bot1\n",
      "Tour 8 bot1 : Case(x=1, y=2) bot2 : Case(x=3, y=2) actif = bot2\n",
      "Tour 9 bot1 : Case(x=1, y=2) bot2 : Case(x=2, y=3) actif = bot1\n",
      "Victoire de bot1\n"
     ]
    }
   ],
   "source": [
    "#partie\n",
    "\n",
    "while jeu.tour > 0:\n",
    "    print(jeu)\n",
    "    cible = jeu.actif.ChoisirCible(jeu)\n",
    "    jeu.deplacer(jeu.actif, cible)"
   ]
  },
  {
   "cell_type": "code",
   "execution_count": null,
   "metadata": {},
   "outputs": [],
   "source": []
  }
 ],
 "metadata": {
  "kernelspec": {
   "display_name": "Python 3",
   "language": "python",
   "name": "python3"
  },
  "language_info": {
   "codemirror_mode": {
    "name": "ipython",
    "version": 3
   },
   "file_extension": ".py",
   "mimetype": "text/x-python",
   "name": "python",
   "nbconvert_exporter": "python",
   "pygments_lexer": "ipython3",
   "version": "3.8.3"
  }
 },
 "nbformat": 4,
 "nbformat_minor": 4
}
