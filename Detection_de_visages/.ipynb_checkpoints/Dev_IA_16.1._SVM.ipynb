{
 "cells": [
  {
   "cell_type": "code",
   "execution_count": 1,
   "id": "0c98c4c3",
   "metadata": {},
   "outputs": [],
   "source": [
    "# Importer les librairies\n",
    "import numpy as np\n",
    "import matplotlib.pyplot as plt\n",
    "import pandas as pd"
   ]
  },
  {
   "cell_type": "markdown",
   "id": "6181d936",
   "metadata": {},
   "source": [
    "### Descriptif du jeu de donnée :\n",
    "\n",
    "Une entreprise de vente de voiture vient de sortir une nouvelle voiture de luxe mais absolument pas chère.\n",
    "L'entreprise a donc mis en ligne une publicité de cet voiture sur les réseaux sociaux.\n",
    "- Dans notre jeux de données la variable cible est \"Purchased\". elle prendra la valeur :\n",
    ">- 0 si la personne n'a pas cliqué sur la pub\n",
    ">- 1 s'il a cliqué sur la pub et acheté la voiture.\n",
    "- Les variables explicatives sont le genre, l'âge et l'estimation du salaire."
   ]
  },
  {
   "cell_type": "code",
   "execution_count": 45,
   "id": "e1263265",
   "metadata": {},
   "outputs": [],
   "source": [
    "# Importer le jeu de données\n",
    "data = pd.read_csv('Jeux_de_donnees\\Social_Network_Ads.csv')"
   ]
  },
  {
   "cell_type": "code",
   "execution_count": 4,
   "id": "97c57449",
   "metadata": {},
   "outputs": [
    {
     "data": {
      "text/html": [
       "<div>\n",
       "<style scoped>\n",
       "    .dataframe tbody tr th:only-of-type {\n",
       "        vertical-align: middle;\n",
       "    }\n",
       "\n",
       "    .dataframe tbody tr th {\n",
       "        vertical-align: top;\n",
       "    }\n",
       "\n",
       "    .dataframe thead th {\n",
       "        text-align: right;\n",
       "    }\n",
       "</style>\n",
       "<table border=\"1\" class=\"dataframe\">\n",
       "  <thead>\n",
       "    <tr style=\"text-align: right;\">\n",
       "      <th></th>\n",
       "      <th>User ID</th>\n",
       "      <th>Gender</th>\n",
       "      <th>Age</th>\n",
       "      <th>EstimatedSalary</th>\n",
       "      <th>Purchased</th>\n",
       "    </tr>\n",
       "  </thead>\n",
       "  <tbody>\n",
       "    <tr>\n",
       "      <th>0</th>\n",
       "      <td>15624510</td>\n",
       "      <td>Male</td>\n",
       "      <td>19.0</td>\n",
       "      <td>19000.0</td>\n",
       "      <td>0</td>\n",
       "    </tr>\n",
       "    <tr>\n",
       "      <th>1</th>\n",
       "      <td>15810944</td>\n",
       "      <td>Male</td>\n",
       "      <td>35.0</td>\n",
       "      <td>20000.0</td>\n",
       "      <td>0</td>\n",
       "    </tr>\n",
       "    <tr>\n",
       "      <th>2</th>\n",
       "      <td>15668575</td>\n",
       "      <td>Female</td>\n",
       "      <td>26.0</td>\n",
       "      <td>43000.0</td>\n",
       "      <td>0</td>\n",
       "    </tr>\n",
       "    <tr>\n",
       "      <th>3</th>\n",
       "      <td>15603246</td>\n",
       "      <td>Female</td>\n",
       "      <td>27.0</td>\n",
       "      <td>57000.0</td>\n",
       "      <td>0</td>\n",
       "    </tr>\n",
       "    <tr>\n",
       "      <th>4</th>\n",
       "      <td>15804002</td>\n",
       "      <td>Male</td>\n",
       "      <td>19.0</td>\n",
       "      <td>76000.0</td>\n",
       "      <td>0</td>\n",
       "    </tr>\n",
       "    <tr>\n",
       "      <th>...</th>\n",
       "      <td>...</td>\n",
       "      <td>...</td>\n",
       "      <td>...</td>\n",
       "      <td>...</td>\n",
       "      <td>...</td>\n",
       "    </tr>\n",
       "    <tr>\n",
       "      <th>395</th>\n",
       "      <td>15691863</td>\n",
       "      <td>Female</td>\n",
       "      <td>46.0</td>\n",
       "      <td>41000.0</td>\n",
       "      <td>1</td>\n",
       "    </tr>\n",
       "    <tr>\n",
       "      <th>396</th>\n",
       "      <td>15706071</td>\n",
       "      <td>Male</td>\n",
       "      <td>51.0</td>\n",
       "      <td>23000.0</td>\n",
       "      <td>1</td>\n",
       "    </tr>\n",
       "    <tr>\n",
       "      <th>397</th>\n",
       "      <td>15654296</td>\n",
       "      <td>Female</td>\n",
       "      <td>50.0</td>\n",
       "      <td>20000.0</td>\n",
       "      <td>1</td>\n",
       "    </tr>\n",
       "    <tr>\n",
       "      <th>398</th>\n",
       "      <td>15755018</td>\n",
       "      <td>Male</td>\n",
       "      <td>36.0</td>\n",
       "      <td>33000.0</td>\n",
       "      <td>0</td>\n",
       "    </tr>\n",
       "    <tr>\n",
       "      <th>399</th>\n",
       "      <td>15594041</td>\n",
       "      <td>Female</td>\n",
       "      <td>49.0</td>\n",
       "      <td>36000.0</td>\n",
       "      <td>1</td>\n",
       "    </tr>\n",
       "  </tbody>\n",
       "</table>\n",
       "<p>400 rows × 5 columns</p>\n",
       "</div>"
      ],
      "text/plain": [
       "      User ID  Gender   Age  EstimatedSalary  Purchased\n",
       "0    15624510    Male  19.0          19000.0          0\n",
       "1    15810944    Male  35.0          20000.0          0\n",
       "2    15668575  Female  26.0          43000.0          0\n",
       "3    15603246  Female  27.0          57000.0          0\n",
       "4    15804002    Male  19.0          76000.0          0\n",
       "..        ...     ...   ...              ...        ...\n",
       "395  15691863  Female  46.0          41000.0          1\n",
       "396  15706071    Male  51.0          23000.0          1\n",
       "397  15654296  Female  50.0          20000.0          1\n",
       "398  15755018    Male  36.0          33000.0          0\n",
       "399  15594041  Female  49.0          36000.0          1\n",
       "\n",
       "[400 rows x 5 columns]"
      ]
     },
     "execution_count": 4,
     "metadata": {},
     "output_type": "execute_result"
    }
   ],
   "source": [
    "data"
   ]
  },
  {
   "cell_type": "code",
   "execution_count": 6,
   "id": "b056cc9c",
   "metadata": {},
   "outputs": [],
   "source": [
    "from sklearn.compose import ColumnTransformer\n",
    "from sklearn.pipeline import Pipeline\n",
    "from sklearn.preprocessing import StandardScaler, OneHotEncoder\n",
    "from sklearn.model_selection import StratifiedKFold, KFold\n",
    "from sklearn.linear_model import SGDClassifier\n",
    "from sklearn.metrics import accuracy_score"
   ]
  },
  {
   "cell_type": "code",
   "execution_count": 251,
   "id": "bc131d68",
   "metadata": {},
   "outputs": [],
   "source": [
    "# Je crée mes Pipline et transforme mes variables\n",
    "\n",
    "num_attribs1 = [\"Age\", \"EstimatedSalary\", ]\n",
    "num_attribs2 = [\"EstimatedSalary\", ]\n",
    "cat_attribs = [\"Gender\"]\n",
    "\n",
    "\n",
    "num_pipeline = Pipeline([\n",
    "        ('std_scaler', StandardScaler()),\n",
    "    ])\n",
    "\n",
    "\n",
    "full_pipeline1 = ColumnTransformer([\n",
    "        (\"num\", num_pipeline, num_attribs1),\n",
    "    ])\n",
    "\n",
    "full_pipeline2 = ColumnTransformer([\n",
    "        (\"num\", num_pipeline, num_attribs2),\n",
    "    ])\n",
    "\n",
    "full_pipeline3 = ColumnTransformer([\n",
    "        (\"num\", num_pipeline, num_attribs1),\n",
    "        (\"cat\", OneHotEncoder(), cat_attribs),\n",
    "    ])"
   ]
  },
  {
   "cell_type": "code",
   "execution_count": 38,
   "id": "6f4c2f3b",
   "metadata": {},
   "outputs": [],
   "source": [
    "def learning(full_pipeline):\n",
    "    ac_score = []\n",
    "\n",
    "    skf = StratifiedKFold(n_splits=100) # stratified leave-k-out cross validation\n",
    "\n",
    "    for train_index, test_index in skf.split(data, data['Purchased']):\n",
    "\n",
    "        data_train, data_test = data.loc[train_index], data.loc[test_index]\n",
    "\n",
    "        X_train = full_pipeline.fit_transform(data_train) # Attention ici on utilise la méthode fit_transforme\n",
    "        y_train = np.array(data_train[\"Purchased\"])\n",
    "\n",
    "        X_test = full_pipeline.transform(data_test)  # et ici on utilise la méthode transforme\n",
    "        y_test = np.array(data_test[\"Purchased\"])\n",
    "\n",
    "        model = SGDClassifier(max_iter=1000, loss='hinge')\n",
    "        model.fit(X_train, y_train)\n",
    "        ac_score.append(accuracy_score(y_test, model.predict(X_test)))\n",
    "\n",
    "        #print(accuracy_score(y_test, model.predict(X_test)))\n",
    "\n",
    "    print(\"****************\")\n",
    "    print(\"Précision moyenne : \", np.mean(ac_score))\n",
    "    return np.mean(ac_score)"
   ]
  },
  {
   "cell_type": "code",
   "execution_count": 44,
   "id": "d08d1a98",
   "metadata": {},
   "outputs": [
    {
     "name": "stdout",
     "output_type": "stream",
     "text": [
      "****************\n",
      "Précision moyenne :  0.8225\n",
      "****************\n",
      "Précision moyenne :  0.7125\n",
      "****************\n",
      "Précision moyenne :  0.83\n"
     ]
    }
   ],
   "source": [
    "learning(full_pipeline1)\n",
    "learning(full_pipeline2)\n",
    "learning(full_pipeline3);"
   ]
  },
  {
   "cell_type": "markdown",
   "id": "a7147feb",
   "metadata": {},
   "source": [
    "#### Je décide de concerver le 3ième modèle et de l'entrainer avec toute les données."
   ]
  },
  {
   "cell_type": "code",
   "execution_count": 252,
   "id": "9fff4118",
   "metadata": {},
   "outputs": [
    {
     "data": {
      "text/plain": [
       "SGDClassifier()"
      ]
     },
     "execution_count": 252,
     "metadata": {},
     "output_type": "execute_result"
    }
   ],
   "source": [
    "X = full_pipeline3.fit_transform(data)\n",
    "y = np.array(data[\"Purchased\"])\n",
    "\n",
    "model = SGDClassifier(max_iter=1000, loss='hinge')\n",
    "model.fit(X, y)"
   ]
  },
  {
   "cell_type": "markdown",
   "id": "9840f283",
   "metadata": {},
   "source": [
    "#### Visualisation des résultat avec le tracé de la marge pour deux variables explicatives (modèle 1)"
   ]
  },
  {
   "cell_type": "code",
   "execution_count": 253,
   "id": "4c57a50e",
   "metadata": {},
   "outputs": [
    {
     "data": {
      "text/plain": [
       "SGDClassifier()"
      ]
     },
     "execution_count": 253,
     "metadata": {},
     "output_type": "execute_result"
    }
   ],
   "source": [
    "X = full_pipeline1.fit_transform(data)\n",
    "y = np.array(data[\"Purchased\"])\n",
    "\n",
    "model = SGDClassifier(max_iter=1000, loss='hinge')\n",
    "model.fit(X, y)"
   ]
  },
  {
   "cell_type": "code",
   "execution_count": 254,
   "id": "62a45fc7",
   "metadata": {},
   "outputs": [
    {
     "name": "stderr",
     "output_type": "stream",
     "text": [
      "*c* argument looks like a single numeric RGB or RGBA sequence, which should be avoided as value-mapping will have precedence in case its length matches with *x* & *y*.  Please use the *color* keyword-argument or provide a 2D array with a single row if you intend to specify the same RGB or RGBA value for all points.\n",
      "*c* argument looks like a single numeric RGB or RGBA sequence, which should be avoided as value-mapping will have precedence in case its length matches with *x* & *y*.  Please use the *color* keyword-argument or provide a 2D array with a single row if you intend to specify the same RGB or RGBA value for all points.\n"
     ]
    },
    {
     "data": {
      "image/png": "[encoded data removed]",
      "text/plain": [
       "<Figure size 432x288 with 1 Axes>"
      ]
     },
     "metadata": {
      "needs_background": "light"
     },
     "output_type": "display_data"
    }
   ],
   "source": [
    "# https://scikit-learn.org/stable/auto_examples/linear_model/plot_sgd_separating_hyperplane.html#sphx-glr-auto-examples-linear-model-plot-sgd-separating-hyperplane-py\n",
    "\n",
    "# Je génère deux listes ayant le même bornes que les variables age et salaire standardisées.\n",
    "# chacune des valeurs est espacé de 0.01 (c'est le pas)\n",
    "# Se sont ces deux listes que je vais utiliser pour tracer la marge.\n",
    "X = full_pipeline1.transform(data)\n",
    "x1 = np.arange(start = X[:, 0].min() - 1, stop = X[:, 0].max() + 1, step = 0.01)\n",
    "x2 = np.arange(start = X[:, 1].min() - 1, stop = X[:, 1].max() + 1, step = 0.01)\n",
    "\n",
    "# La fonction meshgrid de numpy permet d'obtenir deux tableaux de deux dimensions\n",
    "# avec autant de ligne et de colonnes que x1 et x2.\n",
    "# Pour le premier tableux les valeurs du vecteur x1 se répètent sur chacune des lignes.\n",
    "# Pour le second tableux les valeurs du vecteur x2 se répètent sur chacune des lignes.\n",
    "X1, X2 = np.meshgrid(x1,x2)\n",
    "\n",
    "# Pour chacune de ces valeurs je vais faire une prédiction.\n",
    "# J'utilise la méthode .ravel() de numpy pour passer mes tableaux en lignes\n",
    "# J'utilise la méthode .T pour passer mes deux lignes en deux colonnes\n",
    "# Aprés avoir obtenu les prédictions, j'utilise la méthode .reshape() pour passer la liste des prédictions\n",
    "# au même format que les tableaux obtenu avec mesgrid().\n",
    "\n",
    "Z = model.predict(np.array([X1.ravel(), X2.ravel()]).T).reshape(X1.shape)\n",
    "\n",
    "plt.contourf(x1, x2, Z,\n",
    "             alpha = 0.4, cmap = ListedColormap(('red', 'green')));\n",
    "\n",
    "for i, j in enumerate(np.unique(y)):\n",
    "    plt.scatter(X[y == j, 0], X[y == j, 1],\n",
    "                c = ListedColormap(('red', 'green'))(i), label = j)\n",
    "    \n",
    "plt.title('Résultats du Training set')\n",
    "plt.xlabel('Age')\n",
    "plt.ylabel('Salaire Estimé')\n",
    "plt.legend()\n",
    "plt.show()"
   ]
  },
  {
   "cell_type": "code",
   "execution_count": 272,
   "id": "9e5be94b",
   "metadata": {},
   "outputs": [],
   "source": [
    "# Construction du modèle\n",
    "from sklearn.kernel_approximation import PolynomialCountSketch, RBFSampler\n",
    "\n",
    "\n",
    "num_attribs = [\"Age\", \"EstimatedSalary\", ]\n",
    "cat_attribs = [\"Gender\"]\n",
    "\n",
    "num_pipeline1 = Pipeline([\n",
    "        ('std_scaler', StandardScaler()),\n",
    "        ('poly', PolynomialCountSketch(degree=5))\n",
    "    ])\n",
    "\n",
    "num_pipeline2 = Pipeline([\n",
    "        ('std_scaler', StandardScaler()),\n",
    "        ('RBFGaussian', RBFSampler(gamma=0.5))\n",
    "    ])\n",
    "\n",
    "\n",
    "full_pipeline1 = ColumnTransformer([\n",
    "        (\"num\", num_pipeline, num_attribs),\n",
    "    ])\n",
    "\n",
    "full_pipeline2 = ColumnTransformer([\n",
    "        (\"num\", num_pipeline2, num_attribs),\n",
    "    ])"
   ]
  },
  {
   "cell_type": "code",
   "execution_count": 273,
   "id": "c668972b",
   "metadata": {},
   "outputs": [
    {
     "name": "stdout",
     "output_type": "stream",
     "text": [
      "****************\n",
      "Précision moyenne :  0.7975\n",
      "****************\n",
      "Précision moyenne :  0.9\n"
     ]
    },
    {
     "data": {
      "text/plain": [
       "0.9"
      ]
     },
     "execution_count": 273,
     "metadata": {},
     "output_type": "execute_result"
    }
   ],
   "source": [
    "learning(full_pipeline1)\n",
    "learning(full_pipeline2)"
   ]
  },
  {
   "cell_type": "code",
   "execution_count": 266,
   "id": "92f6daf8",
   "metadata": {},
   "outputs": [
    {
     "data": {
      "text/plain": [
       "SGDClassifier()"
      ]
     },
     "execution_count": 266,
     "metadata": {},
     "output_type": "execute_result"
    }
   ],
   "source": [
    "X = full_pipeline2.fit_transform(data)\n",
    "y = np.array(data[\"Purchased\"])\n",
    "\n",
    "model = SGDClassifier(max_iter=1000, loss='hinge')\n",
    "model.fit(X, y)"
   ]
  },
  {
   "cell_type": "code",
   "execution_count": 267,
   "id": "73c7ebd5",
   "metadata": {},
   "outputs": [
    {
     "name": "stderr",
     "output_type": "stream",
     "text": [
      "*c* argument looks like a single numeric RGB or RGBA sequence, which should be avoided as value-mapping will have precedence in case its length matches with *x* & *y*.  Please use the *color* keyword-argument or provide a 2D array with a single row if you intend to specify the same RGB or RGBA value for all points.\n",
      "*c* argument looks like a single numeric RGB or RGBA sequence, which should be avoided as value-mapping will have precedence in case its length matches with *x* & *y*.  Please use the *color* keyword-argument or provide a 2D array with a single row if you intend to specify the same RGB or RGBA value for all points.\n"
     ]
    },
    {
     "data": {
      "image/png": "[encoded data removed]",
      "text/plain": [
       "<Figure size 432x288 with 1 Axes>"
      ]
     },
     "metadata": {
      "needs_background": "light"
     },
     "output_type": "display_data"
    }
   ],
   "source": [
    "X = data.iloc[:, [2, 3]].values\n",
    "y = data.iloc[:, -1].values\n",
    "x1 = np.arange(start = X[:, 0].min() - 1, stop = X[:, 0].max() + 1, step = 1)\n",
    "x2 = np.arange(start = X[:, 1].min() - 1, stop = X[:, 1].max() + 1, step = 100)\n",
    "\n",
    "x1, x2 = np.meshgrid(x1,x2)\n",
    "\n",
    "Age = x1.ravel()\n",
    "EstimatedSalary = x2.ravel()\n",
    "\n",
    "Users = np.zeros(len(Age))\n",
    "Gender = np.zeros(len(Age))\n",
    "Purchased = np.zeros(len(Age))\n",
    "\n",
    "\n",
    "data2 = pd.DataFrame(np.array([Users, Gender, Age, EstimatedSalary, Purchased]).T, columns=data.columns)\n",
    "\n",
    "X_predict = full_pipeline2.transform(data2)\n",
    "\n",
    "\n",
    "Z = model.predict(full_pipeline2.transform(data2)).reshape(x1.shape)\n",
    "\n",
    "plt.contourf(x1, x2, Z,\n",
    "             alpha = 0.4, cmap = ListedColormap(('red', 'green')));\n",
    "\n",
    "for i, j in enumerate(np.unique(y)):\n",
    "    plt.scatter(X[y == j, 0], X[y == j, 1],\n",
    "                c = ListedColormap(('red', 'green'))(i), label = j)\n",
    "    \n",
    "plt.title('Résultats du Training set')\n",
    "plt.xlabel('Age')\n",
    "plt.ylabel('Salaire Estimé')\n",
    "plt.legend()\n",
    "plt.show()"
   ]
  },
  {
   "cell_type": "code",
   "execution_count": null,
   "id": "6ab7f97e",
   "metadata": {},
   "outputs": [],
   "source": []
  }
 ],
 "metadata": {
  "kernelspec": {
   "display_name": "Python 3",
   "language": "python",
   "name": "python3"
  },
  "language_info": {
   "codemirror_mode": {
    "name": "ipython",
    "version": 3
   },
   "file_extension": ".py",
   "mimetype": "text/x-python",
   "name": "python",
   "nbconvert_exporter": "python",
   "pygments_lexer": "ipython3",
   "version": "3.8.11"
  }
 },
 "nbformat": 4,
 "nbformat_minor": 5
}
