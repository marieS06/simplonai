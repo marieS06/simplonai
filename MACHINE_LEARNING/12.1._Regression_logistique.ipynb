{
 "cells": [
  {
   "cell_type": "code",
   "execution_count": 1,
   "metadata": {},
   "outputs": [],
   "source": [
    "import pandas as pd\n",
    "from sklearn.linear_model import SGDClassifier\n",
    "from sklearn.preprocessing import StandardScaler\n",
    "from sklearn.pipeline import make_pipeline"
   ]
  },
  {
   "cell_type": "code",
   "execution_count": 2,
   "metadata": {},
   "outputs": [
    {
     "data": {
      "text/html": [
       "<div>\n",
       "<style scoped>\n",
       "    .dataframe tbody tr th:only-of-type {\n",
       "        vertical-align: middle;\n",
       "    }\n",
       "\n",
       "    .dataframe tbody tr th {\n",
       "        vertical-align: top;\n",
       "    }\n",
       "\n",
       "    .dataframe thead th {\n",
       "        text-align: right;\n",
       "    }\n",
       "</style>\n",
       "<table border=\"1\" class=\"dataframe\">\n",
       "  <thead>\n",
       "    <tr style=\"text-align: right;\">\n",
       "      <th></th>\n",
       "      <th>Longueur des sépales</th>\n",
       "      <th>Largeur des sépales</th>\n",
       "      <th>Longueur des pétales</th>\n",
       "      <th>Largeur des pétales</th>\n",
       "      <th>Espèce</th>\n",
       "    </tr>\n",
       "  </thead>\n",
       "  <tbody>\n",
       "    <tr>\n",
       "      <th>0</th>\n",
       "      <td>5.1</td>\n",
       "      <td>3.5</td>\n",
       "      <td>1.4</td>\n",
       "      <td>0.2</td>\n",
       "      <td>1</td>\n",
       "    </tr>\n",
       "    <tr>\n",
       "      <th>1</th>\n",
       "      <td>4.9</td>\n",
       "      <td>3.0</td>\n",
       "      <td>1.4</td>\n",
       "      <td>0.2</td>\n",
       "      <td>1</td>\n",
       "    </tr>\n",
       "    <tr>\n",
       "      <th>2</th>\n",
       "      <td>4.7</td>\n",
       "      <td>3.2</td>\n",
       "      <td>1.3</td>\n",
       "      <td>0.2</td>\n",
       "      <td>1</td>\n",
       "    </tr>\n",
       "    <tr>\n",
       "      <th>3</th>\n",
       "      <td>4.6</td>\n",
       "      <td>3.1</td>\n",
       "      <td>1.5</td>\n",
       "      <td>0.2</td>\n",
       "      <td>1</td>\n",
       "    </tr>\n",
       "    <tr>\n",
       "      <th>4</th>\n",
       "      <td>5.0</td>\n",
       "      <td>3.6</td>\n",
       "      <td>1.4</td>\n",
       "      <td>0.2</td>\n",
       "      <td>1</td>\n",
       "    </tr>\n",
       "    <tr>\n",
       "      <th>...</th>\n",
       "      <td>...</td>\n",
       "      <td>...</td>\n",
       "      <td>...</td>\n",
       "      <td>...</td>\n",
       "      <td>...</td>\n",
       "    </tr>\n",
       "    <tr>\n",
       "      <th>145</th>\n",
       "      <td>6.7</td>\n",
       "      <td>3.0</td>\n",
       "      <td>5.2</td>\n",
       "      <td>2.3</td>\n",
       "      <td>3</td>\n",
       "    </tr>\n",
       "    <tr>\n",
       "      <th>146</th>\n",
       "      <td>6.3</td>\n",
       "      <td>2.5</td>\n",
       "      <td>5.0</td>\n",
       "      <td>1.9</td>\n",
       "      <td>3</td>\n",
       "    </tr>\n",
       "    <tr>\n",
       "      <th>147</th>\n",
       "      <td>6.5</td>\n",
       "      <td>3.0</td>\n",
       "      <td>5.2</td>\n",
       "      <td>2.0</td>\n",
       "      <td>3</td>\n",
       "    </tr>\n",
       "    <tr>\n",
       "      <th>148</th>\n",
       "      <td>6.2</td>\n",
       "      <td>3.4</td>\n",
       "      <td>5.4</td>\n",
       "      <td>2.3</td>\n",
       "      <td>3</td>\n",
       "    </tr>\n",
       "    <tr>\n",
       "      <th>149</th>\n",
       "      <td>5.9</td>\n",
       "      <td>3.0</td>\n",
       "      <td>5.1</td>\n",
       "      <td>1.8</td>\n",
       "      <td>3</td>\n",
       "    </tr>\n",
       "  </tbody>\n",
       "</table>\n",
       "<p>150 rows × 5 columns</p>\n",
       "</div>"
      ],
      "text/plain": [
       "     Longueur des sépales  Largeur des sépales  Longueur des pétales  \\\n",
       "0                     5.1                  3.5                   1.4   \n",
       "1                     4.9                  3.0                   1.4   \n",
       "2                     4.7                  3.2                   1.3   \n",
       "3                     4.6                  3.1                   1.5   \n",
       "4                     5.0                  3.6                   1.4   \n",
       "..                    ...                  ...                   ...   \n",
       "145                   6.7                  3.0                   5.2   \n",
       "146                   6.3                  2.5                   5.0   \n",
       "147                   6.5                  3.0                   5.2   \n",
       "148                   6.2                  3.4                   5.4   \n",
       "149                   5.9                  3.0                   5.1   \n",
       "\n",
       "     Largeur des pétales  Espèce  \n",
       "0                    0.2       1  \n",
       "1                    0.2       1  \n",
       "2                    0.2       1  \n",
       "3                    0.2       1  \n",
       "4                    0.2       1  \n",
       "..                   ...     ...  \n",
       "145                  2.3       3  \n",
       "146                  1.9       3  \n",
       "147                  2.0       3  \n",
       "148                  2.3       3  \n",
       "149                  1.8       3  \n",
       "\n",
       "[150 rows x 5 columns]"
      ]
     },
     "execution_count": 2,
     "metadata": {},
     "output_type": "execute_result"
    }
   ],
   "source": [
    "iris = pd.read_csv(\"Jeux_de_donnees/iris.csv\", delimiter=\";\", encoding=\"latin-1\")\n",
    "iris"
   ]
  },
  {
   "cell_type": "code",
   "execution_count": 3,
   "metadata": {},
   "outputs": [
    {
     "data": {
      "text/html": [
       "<div>\n",
       "<style scoped>\n",
       "    .dataframe tbody tr th:only-of-type {\n",
       "        vertical-align: middle;\n",
       "    }\n",
       "\n",
       "    .dataframe tbody tr th {\n",
       "        vertical-align: top;\n",
       "    }\n",
       "\n",
       "    .dataframe thead th {\n",
       "        text-align: right;\n",
       "    }\n",
       "</style>\n",
       "<table border=\"1\" class=\"dataframe\">\n",
       "  <thead>\n",
       "    <tr style=\"text-align: right;\">\n",
       "      <th></th>\n",
       "      <th>Longueur des sépales</th>\n",
       "      <th>Largeur des sépales</th>\n",
       "      <th>Longueur des pétales</th>\n",
       "      <th>Largeur des pétales</th>\n",
       "      <th>Espèce</th>\n",
       "    </tr>\n",
       "  </thead>\n",
       "  <tbody>\n",
       "    <tr>\n",
       "      <th>0</th>\n",
       "      <td>5.1</td>\n",
       "      <td>3.5</td>\n",
       "      <td>1.4</td>\n",
       "      <td>0.2</td>\n",
       "      <td>1</td>\n",
       "    </tr>\n",
       "    <tr>\n",
       "      <th>1</th>\n",
       "      <td>4.9</td>\n",
       "      <td>3.0</td>\n",
       "      <td>1.4</td>\n",
       "      <td>0.2</td>\n",
       "      <td>1</td>\n",
       "    </tr>\n",
       "    <tr>\n",
       "      <th>2</th>\n",
       "      <td>4.7</td>\n",
       "      <td>3.2</td>\n",
       "      <td>1.3</td>\n",
       "      <td>0.2</td>\n",
       "      <td>1</td>\n",
       "    </tr>\n",
       "    <tr>\n",
       "      <th>3</th>\n",
       "      <td>4.6</td>\n",
       "      <td>3.1</td>\n",
       "      <td>1.5</td>\n",
       "      <td>0.2</td>\n",
       "      <td>1</td>\n",
       "    </tr>\n",
       "    <tr>\n",
       "      <th>4</th>\n",
       "      <td>5.0</td>\n",
       "      <td>3.6</td>\n",
       "      <td>1.4</td>\n",
       "      <td>0.2</td>\n",
       "      <td>1</td>\n",
       "    </tr>\n",
       "    <tr>\n",
       "      <th>...</th>\n",
       "      <td>...</td>\n",
       "      <td>...</td>\n",
       "      <td>...</td>\n",
       "      <td>...</td>\n",
       "      <td>...</td>\n",
       "    </tr>\n",
       "    <tr>\n",
       "      <th>95</th>\n",
       "      <td>5.7</td>\n",
       "      <td>3.0</td>\n",
       "      <td>4.2</td>\n",
       "      <td>1.2</td>\n",
       "      <td>2</td>\n",
       "    </tr>\n",
       "    <tr>\n",
       "      <th>96</th>\n",
       "      <td>5.7</td>\n",
       "      <td>2.9</td>\n",
       "      <td>4.2</td>\n",
       "      <td>1.3</td>\n",
       "      <td>2</td>\n",
       "    </tr>\n",
       "    <tr>\n",
       "      <th>97</th>\n",
       "      <td>6.2</td>\n",
       "      <td>2.9</td>\n",
       "      <td>4.3</td>\n",
       "      <td>1.3</td>\n",
       "      <td>2</td>\n",
       "    </tr>\n",
       "    <tr>\n",
       "      <th>98</th>\n",
       "      <td>5.1</td>\n",
       "      <td>2.5</td>\n",
       "      <td>3.0</td>\n",
       "      <td>1.1</td>\n",
       "      <td>2</td>\n",
       "    </tr>\n",
       "    <tr>\n",
       "      <th>99</th>\n",
       "      <td>5.7</td>\n",
       "      <td>2.8</td>\n",
       "      <td>4.1</td>\n",
       "      <td>1.3</td>\n",
       "      <td>2</td>\n",
       "    </tr>\n",
       "  </tbody>\n",
       "</table>\n",
       "<p>100 rows × 5 columns</p>\n",
       "</div>"
      ],
      "text/plain": [
       "    Longueur des sépales  Largeur des sépales  Longueur des pétales  \\\n",
       "0                    5.1                  3.5                   1.4   \n",
       "1                    4.9                  3.0                   1.4   \n",
       "2                    4.7                  3.2                   1.3   \n",
       "3                    4.6                  3.1                   1.5   \n",
       "4                    5.0                  3.6                   1.4   \n",
       "..                   ...                  ...                   ...   \n",
       "95                   5.7                  3.0                   4.2   \n",
       "96                   5.7                  2.9                   4.2   \n",
       "97                   6.2                  2.9                   4.3   \n",
       "98                   5.1                  2.5                   3.0   \n",
       "99                   5.7                  2.8                   4.1   \n",
       "\n",
       "    Largeur des pétales  Espèce  \n",
       "0                   0.2       1  \n",
       "1                   0.2       1  \n",
       "2                   0.2       1  \n",
       "3                   0.2       1  \n",
       "4                   0.2       1  \n",
       "..                  ...     ...  \n",
       "95                  1.2       2  \n",
       "96                  1.3       2  \n",
       "97                  1.3       2  \n",
       "98                  1.1       2  \n",
       "99                  1.3       2  \n",
       "\n",
       "[100 rows x 5 columns]"
      ]
     },
     "execution_count": 3,
     "metadata": {},
     "output_type": "execute_result"
    }
   ],
   "source": [
    "iris2 = iris[iris['Espèce']!=3]\n",
    "iris2"
   ]
  },
  {
   "cell_type": "code",
   "execution_count": 4,
   "metadata": {},
   "outputs": [
    {
     "data": {
      "text/html": [
       "<div>\n",
       "<style scoped>\n",
       "    .dataframe tbody tr th:only-of-type {\n",
       "        vertical-align: middle;\n",
       "    }\n",
       "\n",
       "    .dataframe tbody tr th {\n",
       "        vertical-align: top;\n",
       "    }\n",
       "\n",
       "    .dataframe thead th {\n",
       "        text-align: right;\n",
       "    }\n",
       "</style>\n",
       "<table border=\"1\" class=\"dataframe\">\n",
       "  <thead>\n",
       "    <tr style=\"text-align: right;\">\n",
       "      <th></th>\n",
       "      <th>Longueur des sépales</th>\n",
       "      <th>Largeur des sépales</th>\n",
       "      <th>Longueur des pétales</th>\n",
       "      <th>Largeur des pétales</th>\n",
       "      <th>Espèce</th>\n",
       "    </tr>\n",
       "  </thead>\n",
       "  <tbody>\n",
       "    <tr>\n",
       "      <th>count</th>\n",
       "      <td>100.000000</td>\n",
       "      <td>100.000000</td>\n",
       "      <td>100.000000</td>\n",
       "      <td>100.000000</td>\n",
       "      <td>100.000000</td>\n",
       "    </tr>\n",
       "    <tr>\n",
       "      <th>mean</th>\n",
       "      <td>5.471000</td>\n",
       "      <td>3.099000</td>\n",
       "      <td>2.861000</td>\n",
       "      <td>0.786000</td>\n",
       "      <td>1.500000</td>\n",
       "    </tr>\n",
       "    <tr>\n",
       "      <th>std</th>\n",
       "      <td>0.641698</td>\n",
       "      <td>0.478739</td>\n",
       "      <td>1.449549</td>\n",
       "      <td>0.565153</td>\n",
       "      <td>0.502519</td>\n",
       "    </tr>\n",
       "    <tr>\n",
       "      <th>min</th>\n",
       "      <td>4.300000</td>\n",
       "      <td>2.000000</td>\n",
       "      <td>1.000000</td>\n",
       "      <td>0.100000</td>\n",
       "      <td>1.000000</td>\n",
       "    </tr>\n",
       "    <tr>\n",
       "      <th>25%</th>\n",
       "      <td>5.000000</td>\n",
       "      <td>2.800000</td>\n",
       "      <td>1.500000</td>\n",
       "      <td>0.200000</td>\n",
       "      <td>1.000000</td>\n",
       "    </tr>\n",
       "    <tr>\n",
       "      <th>50%</th>\n",
       "      <td>5.400000</td>\n",
       "      <td>3.050000</td>\n",
       "      <td>2.450000</td>\n",
       "      <td>0.800000</td>\n",
       "      <td>1.500000</td>\n",
       "    </tr>\n",
       "    <tr>\n",
       "      <th>75%</th>\n",
       "      <td>5.900000</td>\n",
       "      <td>3.400000</td>\n",
       "      <td>4.325000</td>\n",
       "      <td>1.300000</td>\n",
       "      <td>2.000000</td>\n",
       "    </tr>\n",
       "    <tr>\n",
       "      <th>max</th>\n",
       "      <td>7.000000</td>\n",
       "      <td>4.400000</td>\n",
       "      <td>5.100000</td>\n",
       "      <td>1.800000</td>\n",
       "      <td>2.000000</td>\n",
       "    </tr>\n",
       "  </tbody>\n",
       "</table>\n",
       "</div>"
      ],
      "text/plain": [
       "       Longueur des sépales  Largeur des sépales  Longueur des pétales  \\\n",
       "count            100.000000           100.000000            100.000000   \n",
       "mean               5.471000             3.099000              2.861000   \n",
       "std                0.641698             0.478739              1.449549   \n",
       "min                4.300000             2.000000              1.000000   \n",
       "25%                5.000000             2.800000              1.500000   \n",
       "50%                5.400000             3.050000              2.450000   \n",
       "75%                5.900000             3.400000              4.325000   \n",
       "max                7.000000             4.400000              5.100000   \n",
       "\n",
       "       Largeur des pétales      Espèce  \n",
       "count           100.000000  100.000000  \n",
       "mean              0.786000    1.500000  \n",
       "std               0.565153    0.502519  \n",
       "min               0.100000    1.000000  \n",
       "25%               0.200000    1.000000  \n",
       "50%               0.800000    1.500000  \n",
       "75%               1.300000    2.000000  \n",
       "max               1.800000    2.000000  "
      ]
     },
     "execution_count": 4,
     "metadata": {},
     "output_type": "execute_result"
    }
   ],
   "source": [
    "iris2.describe()"
   ]
  },
  {
   "cell_type": "code",
   "execution_count": 5,
   "metadata": {},
   "outputs": [
    {
     "name": "stderr",
     "output_type": "stream",
     "text": [
      "<ipython-input-5-21a7c8fccabd>:3: SettingWithCopyWarning: \n",
      "A value is trying to be set on a copy of a slice from a DataFrame.\n",
      "Try using .loc[row_indexer,col_indexer] = value instead\n",
      "\n",
      "See the caveats in the documentation: https://pandas.pydata.org/pandas-docs/stable/user_guide/indexing.html#returning-a-view-versus-a-copy\n",
      "  iris2[\"Longueur_sépales_disc\"] = pd.cut(iris2[\"Longueur des sépales\"],\n"
     ]
    }
   ],
   "source": [
    "import numpy as np\n",
    "\n",
    "iris2[\"Longueur_sépales_disc\"] = pd.cut(iris2[\"Longueur des sépales\"],\n",
    "                               bins=5,\n",
    "                               labels=[\"class1\", \"class2\",\n",
    "                                       \"class3\", \"class4\", \"class5\"])\n"
   ]
  },
  {
   "cell_type": "code",
   "execution_count": 6,
   "metadata": {},
   "outputs": [
    {
     "data": {
      "text/html": [
       "<div>\n",
       "<style scoped>\n",
       "    .dataframe tbody tr th:only-of-type {\n",
       "        vertical-align: middle;\n",
       "    }\n",
       "\n",
       "    .dataframe tbody tr th {\n",
       "        vertical-align: top;\n",
       "    }\n",
       "\n",
       "    .dataframe thead th {\n",
       "        text-align: right;\n",
       "    }\n",
       "</style>\n",
       "<table border=\"1\" class=\"dataframe\">\n",
       "  <thead>\n",
       "    <tr style=\"text-align: right;\">\n",
       "      <th></th>\n",
       "      <th>Longueur des sépales</th>\n",
       "      <th>Largeur des sépales</th>\n",
       "      <th>Longueur des pétales</th>\n",
       "      <th>Largeur des pétales</th>\n",
       "      <th>Espèce</th>\n",
       "      <th>Longueur_sépales_disc</th>\n",
       "    </tr>\n",
       "  </thead>\n",
       "  <tbody>\n",
       "    <tr>\n",
       "      <th>0</th>\n",
       "      <td>5.1</td>\n",
       "      <td>3.5</td>\n",
       "      <td>1.4</td>\n",
       "      <td>0.2</td>\n",
       "      <td>1</td>\n",
       "      <td>class2</td>\n",
       "    </tr>\n",
       "    <tr>\n",
       "      <th>1</th>\n",
       "      <td>4.9</td>\n",
       "      <td>3.0</td>\n",
       "      <td>1.4</td>\n",
       "      <td>0.2</td>\n",
       "      <td>1</td>\n",
       "      <td>class2</td>\n",
       "    </tr>\n",
       "    <tr>\n",
       "      <th>2</th>\n",
       "      <td>4.7</td>\n",
       "      <td>3.2</td>\n",
       "      <td>1.3</td>\n",
       "      <td>0.2</td>\n",
       "      <td>1</td>\n",
       "      <td>class1</td>\n",
       "    </tr>\n",
       "    <tr>\n",
       "      <th>3</th>\n",
       "      <td>4.6</td>\n",
       "      <td>3.1</td>\n",
       "      <td>1.5</td>\n",
       "      <td>0.2</td>\n",
       "      <td>1</td>\n",
       "      <td>class1</td>\n",
       "    </tr>\n",
       "    <tr>\n",
       "      <th>4</th>\n",
       "      <td>5.0</td>\n",
       "      <td>3.6</td>\n",
       "      <td>1.4</td>\n",
       "      <td>0.2</td>\n",
       "      <td>1</td>\n",
       "      <td>class2</td>\n",
       "    </tr>\n",
       "    <tr>\n",
       "      <th>...</th>\n",
       "      <td>...</td>\n",
       "      <td>...</td>\n",
       "      <td>...</td>\n",
       "      <td>...</td>\n",
       "      <td>...</td>\n",
       "      <td>...</td>\n",
       "    </tr>\n",
       "    <tr>\n",
       "      <th>95</th>\n",
       "      <td>5.7</td>\n",
       "      <td>3.0</td>\n",
       "      <td>4.2</td>\n",
       "      <td>1.2</td>\n",
       "      <td>2</td>\n",
       "      <td>class3</td>\n",
       "    </tr>\n",
       "    <tr>\n",
       "      <th>96</th>\n",
       "      <td>5.7</td>\n",
       "      <td>2.9</td>\n",
       "      <td>4.2</td>\n",
       "      <td>1.3</td>\n",
       "      <td>2</td>\n",
       "      <td>class3</td>\n",
       "    </tr>\n",
       "    <tr>\n",
       "      <th>97</th>\n",
       "      <td>6.2</td>\n",
       "      <td>2.9</td>\n",
       "      <td>4.3</td>\n",
       "      <td>1.3</td>\n",
       "      <td>2</td>\n",
       "      <td>class4</td>\n",
       "    </tr>\n",
       "    <tr>\n",
       "      <th>98</th>\n",
       "      <td>5.1</td>\n",
       "      <td>2.5</td>\n",
       "      <td>3.0</td>\n",
       "      <td>1.1</td>\n",
       "      <td>2</td>\n",
       "      <td>class2</td>\n",
       "    </tr>\n",
       "    <tr>\n",
       "      <th>99</th>\n",
       "      <td>5.7</td>\n",
       "      <td>2.8</td>\n",
       "      <td>4.1</td>\n",
       "      <td>1.3</td>\n",
       "      <td>2</td>\n",
       "      <td>class3</td>\n",
       "    </tr>\n",
       "  </tbody>\n",
       "</table>\n",
       "<p>100 rows × 6 columns</p>\n",
       "</div>"
      ],
      "text/plain": [
       "    Longueur des sépales  Largeur des sépales  Longueur des pétales  \\\n",
       "0                    5.1                  3.5                   1.4   \n",
       "1                    4.9                  3.0                   1.4   \n",
       "2                    4.7                  3.2                   1.3   \n",
       "3                    4.6                  3.1                   1.5   \n",
       "4                    5.0                  3.6                   1.4   \n",
       "..                   ...                  ...                   ...   \n",
       "95                   5.7                  3.0                   4.2   \n",
       "96                   5.7                  2.9                   4.2   \n",
       "97                   6.2                  2.9                   4.3   \n",
       "98                   5.1                  2.5                   3.0   \n",
       "99                   5.7                  2.8                   4.1   \n",
       "\n",
       "    Largeur des pétales  Espèce Longueur_sépales_disc  \n",
       "0                   0.2       1                class2  \n",
       "1                   0.2       1                class2  \n",
       "2                   0.2       1                class1  \n",
       "3                   0.2       1                class1  \n",
       "4                   0.2       1                class2  \n",
       "..                  ...     ...                   ...  \n",
       "95                  1.2       2                class3  \n",
       "96                  1.3       2                class3  \n",
       "97                  1.3       2                class4  \n",
       "98                  1.1       2                class2  \n",
       "99                  1.3       2                class3  \n",
       "\n",
       "[100 rows x 6 columns]"
      ]
     },
     "execution_count": 6,
     "metadata": {},
     "output_type": "execute_result"
    }
   ],
   "source": [
    "iris2"
   ]
  },
  {
   "cell_type": "markdown",
   "metadata": {},
   "source": [
    "### Test du chi2\n",
    "\n",
    "Ce test permet de vérifier l'absence de lien statistique entre deux variables X et Y.\n",
    "\n",
    "Les deux sont dites indépendantes lorsqu'il n'existe aucun lien statistique entre elles, dit autrement, la connaissance de X ne permet en aucune manière de se prononcer sur Y.\n",
    "\n",
    "L'hypothèse nulle (H0) de ce test est la suivante : les deux variables X et Y sont indépendantes.\n",
    "\n",
    "En termes de valeur p, l'hypothèse nulle est généralement rejetée lorsque p ≤ 0,05. "
   ]
  },
  {
   "cell_type": "markdown",
   "metadata": {},
   "source": [
    "#### On commence pa créer un tablesu de contingence"
   ]
  },
  {
   "cell_type": "code",
   "execution_count": 7,
   "metadata": {},
   "outputs": [
    {
     "data": {
      "text/html": [
       "<div>\n",
       "<style scoped>\n",
       "    .dataframe tbody tr th:only-of-type {\n",
       "        vertical-align: middle;\n",
       "    }\n",
       "\n",
       "    .dataframe tbody tr th {\n",
       "        vertical-align: top;\n",
       "    }\n",
       "\n",
       "    .dataframe thead th {\n",
       "        text-align: right;\n",
       "    }\n",
       "</style>\n",
       "<table border=\"1\" class=\"dataframe\">\n",
       "  <thead>\n",
       "    <tr style=\"text-align: right;\">\n",
       "      <th>Longueur_sépales_disc</th>\n",
       "      <th>class1</th>\n",
       "      <th>class2</th>\n",
       "      <th>class3</th>\n",
       "      <th>class4</th>\n",
       "      <th>class5</th>\n",
       "    </tr>\n",
       "    <tr>\n",
       "      <th>Espèce</th>\n",
       "      <th></th>\n",
       "      <th></th>\n",
       "      <th></th>\n",
       "      <th></th>\n",
       "      <th></th>\n",
       "    </tr>\n",
       "  </thead>\n",
       "  <tbody>\n",
       "    <tr>\n",
       "      <th>1</th>\n",
       "      <td>16</td>\n",
       "      <td>24</td>\n",
       "      <td>10</td>\n",
       "      <td>0</td>\n",
       "      <td>0</td>\n",
       "    </tr>\n",
       "    <tr>\n",
       "      <th>2</th>\n",
       "      <td>0</td>\n",
       "      <td>5</td>\n",
       "      <td>21</td>\n",
       "      <td>15</td>\n",
       "      <td>9</td>\n",
       "    </tr>\n",
       "  </tbody>\n",
       "</table>\n",
       "</div>"
      ],
      "text/plain": [
       "Longueur_sépales_disc  class1  class2  class3  class4  class5\n",
       "Espèce                                                       \n",
       "1                          16      24      10       0       0\n",
       "2                           0       5      21      15       9"
      ]
     },
     "execution_count": 7,
     "metadata": {},
     "output_type": "execute_result"
    }
   ],
   "source": [
    "cont = iris2[[\"Espèce\", \"Longueur_sépales_disc\"]].pivot_table(\n",
    "    index=\"Espèce\", columns=\"Longueur_sépales_disc\", aggfunc=len).fillna(0).copy().astype(int)\n",
    "\n",
    "cont"
   ]
  },
  {
   "cell_type": "code",
   "execution_count": 8,
   "metadata": {},
   "outputs": [
    {
     "data": {
      "text/plain": [
       "1.6921892453303934e-11"
      ]
     },
     "execution_count": 8,
     "metadata": {},
     "output_type": "execute_result"
    }
   ],
   "source": [
    "from scipy.stats import chi2_contingency\n",
    "st_chi2, st_p, st_dof, st_exp = chi2_contingency(cont)\n",
    "st_p"
   ]
  },
  {
   "cell_type": "code",
   "execution_count": 25,
   "metadata": {},
   "outputs": [],
   "source": [
    "from sklearn.model_selection import StratifiedShuffleSplit\n",
    "\n",
    "split = StratifiedShuffleSplit(n_splits=1,\n",
    "                               test_size=0.2, random_state=42)\n",
    "\n",
    "for train_index, test_index in split.split(iris2, iris2[\"Espèce\"]):\n",
    "    strat_train_set = iris2.loc[train_index]\n",
    "    strat_test_set = iris2.loc[test_index]\n",
    "\n",
    "X_train = np.c_[strat_train_set[[\"Longueur des sépales\", \"Largeur des sépales\",\n",
    "                                \"Longueur des pétales\", \"Largeur des pétales\"]]]\n",
    "y_train = np.array(strat_train_set[\"Espèce\"])\n",
    "\n",
    "X_test = np.c_[strat_test_set[[\"Longueur des sépales\", \"Largeur des sépales\",\n",
    "                                \"Longueur des pétales\", \"Largeur des pétales\"]]]\n",
    "y_test = np.array(strat_test_set[\"Espèce\"])"
   ]
  },
  {
   "cell_type": "code",
   "execution_count": 26,
   "metadata": {},
   "outputs": [
    {
     "data": {
      "text/plain": [
       "Pipeline(steps=[('standardscaler', StandardScaler()),\n",
       "                ('sgdclassifier', SGDClassifier(loss='log'))])"
      ]
     },
     "execution_count": 26,
     "metadata": {},
     "output_type": "execute_result"
    }
   ],
   "source": [
    "model = make_pipeline(StandardScaler(),\n",
    "                     SGDClassifier(max_iter=1000, loss='log'))\n",
    "model.fit(X_train, y_train)"
   ]
  },
  {
   "cell_type": "code",
   "execution_count": 27,
   "metadata": {},
   "outputs": [
    {
     "data": {
      "text/plain": [
       "array([2, 2, 2, 2, 1, 1, 1, 2, 1, 1, 1, 2, 1, 1, 1, 2, 2, 1, 2, 2],\n",
       "      dtype=int64)"
      ]
     },
     "execution_count": 27,
     "metadata": {},
     "output_type": "execute_result"
    }
   ],
   "source": [
    "model.predict(X_test)"
   ]
  },
  {
   "cell_type": "code",
   "execution_count": 28,
   "metadata": {},
   "outputs": [
    {
     "data": {
      "text/plain": [
       "array([[1.17377406e-04, 9.99882623e-01],\n",
       "       [2.92654789e-13, 1.00000000e+00],\n",
       "       [3.21989990e-10, 1.00000000e+00],\n",
       "       [3.24366756e-10, 1.00000000e+00],\n",
       "       [9.99964055e-01, 3.59450421e-05],\n",
       "       [9.99953585e-01, 4.64146296e-05],\n",
       "       [9.98634305e-01, 1.36569451e-03],\n",
       "       [4.70423700e-11, 1.00000000e+00],\n",
       "       [9.98782056e-01, 1.21794401e-03],\n",
       "       [9.99999927e-01, 7.27190458e-08],\n",
       "       [9.99998983e-01, 1.01707296e-06],\n",
       "       [2.39390729e-11, 1.00000000e+00],\n",
       "       [9.99944022e-01, 5.59777797e-05],\n",
       "       [9.99995173e-01, 4.82723532e-06],\n",
       "       [9.99932420e-01, 6.75800381e-05],\n",
       "       [2.56608793e-05, 9.99974339e-01],\n",
       "       [8.73890244e-08, 9.99999913e-01],\n",
       "       [9.99886714e-01, 1.13285511e-04],\n",
       "       [3.49496210e-10, 1.00000000e+00],\n",
       "       [1.13887518e-07, 9.99999886e-01]])"
      ]
     },
     "execution_count": 28,
     "metadata": {},
     "output_type": "execute_result"
    }
   ],
   "source": [
    "model.predict_proba(X_test) "
   ]
  },
  {
   "cell_type": "code",
   "execution_count": 29,
   "metadata": {},
   "outputs": [
    {
     "data": {
      "text/plain": [
       "array([1, 2], dtype=int64)"
      ]
     },
     "execution_count": 29,
     "metadata": {},
     "output_type": "execute_result"
    }
   ],
   "source": [
    "model.classes_"
   ]
  },
  {
   "cell_type": "markdown",
   "metadata": {},
   "source": [
    "Un classifieur construit une frontière entre deux classes, la distance d’un point à la frontière constitue une information importante. Plus elle est grande, plus le modèle est confiant. Cette distance est souvent appelée score."
   ]
  },
  {
   "cell_type": "code",
   "execution_count": 30,
   "metadata": {},
   "outputs": [
    {
     "data": {
      "text/plain": [
       "array([  9.04999873,  28.85951865,  21.85650051,  21.84914661,\n",
       "       -10.23348345,  -9.97784944,  -6.59472555,  23.77997437,\n",
       "        -6.70937239, -16.43666244, -13.79858069,  24.45551171,\n",
       "        -9.79049976, -12.24123182,  -9.60213033,  10.57051727,\n",
       "        16.25289605,  -9.08548598,  21.77452814,  15.98805444])"
      ]
     },
     "execution_count": 30,
     "metadata": {},
     "output_type": "execute_result"
    }
   ],
   "source": [
    "model.decision_function(X_test)"
   ]
  },
  {
   "cell_type": "markdown",
   "metadata": {},
   "source": [
    "#### Matrice de confusion"
   ]
  },
  {
   "cell_type": "code",
   "execution_count": 31,
   "metadata": {},
   "outputs": [
    {
     "data": {
      "text/plain": [
       "array([[10,  0],\n",
       "       [ 0, 10]], dtype=int64)"
      ]
     },
     "execution_count": 31,
     "metadata": {},
     "output_type": "execute_result"
    }
   ],
   "source": [
    "from sklearn.metrics import confusion_matrix\n",
    "conf = confusion_matrix(y_test, model.predict(X_test))\n",
    "conf"
   ]
  },
  {
   "cell_type": "markdown",
   "metadata": {},
   "source": [
    "#### Valeur de la courbe roc"
   ]
  },
  {
   "cell_type": "code",
   "execution_count": 32,
   "metadata": {},
   "outputs": [
    {
     "data": {
      "text/plain": [
       "array([0. , 0.1, 1. , 1. ])"
      ]
     },
     "execution_count": 32,
     "metadata": {},
     "output_type": "execute_result"
    }
   ],
   "source": [
    "from sklearn.metrics import roc_curve, auc\n",
    "\n",
    "fpr, tpr, thresholds = roc_curve(y_test, model.decision_function(X_test), pos_label=2)\n",
    "\n",
    "fpr\n",
    "\n",
    "tpr"
   ]
  },
  {
   "cell_type": "code",
   "execution_count": 33,
   "metadata": {},
   "outputs": [
    {
     "data": {
      "text/plain": [
       "array([0., 0., 0., 1.])"
      ]
     },
     "execution_count": 33,
     "metadata": {},
     "output_type": "execute_result"
    }
   ],
   "source": [
    "fpr"
   ]
  },
  {
   "cell_type": "code",
   "execution_count": 34,
   "metadata": {},
   "outputs": [
    {
     "data": {
      "text/plain": [
       "array([ 29.85951865,  28.85951865,   9.04999873, -16.43666244])"
      ]
     },
     "execution_count": 34,
     "metadata": {},
     "output_type": "execute_result"
    }
   ],
   "source": [
    "thresholds"
   ]
  },
  {
   "cell_type": "markdown",
   "metadata": {},
   "source": [
    "- fpr désigne le False Positive Rate autrement dit le taux de faux positive, C’est l’erreur de classification. \n",
    "- tpr désigne le nombre de True Positive Rate.\n",
    "- Sont les valeurs de seuils qui ont été utilisé pour calculer les fpr, tpr.\n",
    "- True et False ne sont pas vrai ou faux mais le nom de deux classes."
   ]
  },
  {
   "cell_type": "code",
   "execution_count": 35,
   "metadata": {},
   "outputs": [
    {
     "data": {
      "text/plain": [
       "[<matplotlib.lines.Line2D at 0x28b44bfcd30>]"
      ]
     },
     "execution_count": 35,
     "metadata": {},
     "output_type": "execute_result"
    },
    {
     "data": {
      "image/png": "[encoded data removed]",
      "text/plain": [
       "<Figure size 432x288 with 1 Axes>"
      ]
     },
     "metadata": {
      "needs_background": "light"
     },
     "output_type": "display_data"
    }
   ],
   "source": [
    "from matplotlib.pyplot import plot\n",
    "plot(fpr, tpr, 'go--', linewidth=2, markersize=12)"
   ]
  },
  {
   "cell_type": "markdown",
   "metadata": {},
   "source": [
    "#### L'aire sous la courbe - l'AUC"
   ]
  },
  {
   "cell_type": "code",
   "execution_count": 36,
   "metadata": {},
   "outputs": [
    {
     "data": {
      "text/plain": [
       "1.0"
      ]
     },
     "execution_count": 36,
     "metadata": {},
     "output_type": "execute_result"
    }
   ],
   "source": [
    "auc = auc(fpr, tpr)\n",
    "auc"
   ]
  },
  {
   "cell_type": "markdown",
   "metadata": {},
   "source": [
    "#### Score de précision"
   ]
  },
  {
   "cell_type": "code",
   "execution_count": 37,
   "metadata": {},
   "outputs": [
    {
     "data": {
      "text/plain": [
       "1.0"
      ]
     },
     "execution_count": 37,
     "metadata": {},
     "output_type": "execute_result"
    }
   ],
   "source": [
    "from sklearn.metrics import accuracy_score\n",
    "\n",
    "accuracy_score(y_test, model.predict(X_test))"
   ]
  },
  {
   "cell_type": "markdown",
   "metadata": {},
   "source": [
    "#### leave k-out-cross-validation"
   ]
  },
  {
   "cell_type": "code",
   "execution_count": 61,
   "metadata": {},
   "outputs": [
    {
     "name": "stdout",
     "output_type": "stream",
     "text": [
      "TRAIN: [25 26 27 28 29 30 31 32 33 34 35 36 37 38 39 40 41 42 43 44 45 46 47 48\n",
      " 49 50 51 52 53 54 55 56 57 58 59 60 61 62 63 64 65 66 67 68 69 70 71 72\n",
      " 73 74 75 76 77 78 79 80 81 82 83 84 85 86 87 88 89 90 91 92 93 94 95 96\n",
      " 97 98 99] TEST: [ 0  1  2  3  4  5  6  7  8  9 10 11 12 13 14 15 16 17 18 19 20 21 22 23\n",
      " 24]\n",
      "TRAIN: [ 0  1  2  3  4  5  6  7  8  9 10 11 12 13 14 15 16 17 18 19 20 21 22 23\n",
      " 24 50 51 52 53 54 55 56 57 58 59 60 61 62 63 64 65 66 67 68 69 70 71 72\n",
      " 73 74 75 76 77 78 79 80 81 82 83 84 85 86 87 88 89 90 91 92 93 94 95 96\n",
      " 97 98 99] TEST: [25 26 27 28 29 30 31 32 33 34 35 36 37 38 39 40 41 42 43 44 45 46 47 48\n",
      " 49]\n",
      "TRAIN: [ 0  1  2  3  4  5  6  7  8  9 10 11 12 13 14 15 16 17 18 19 20 21 22 23\n",
      " 24 25 26 27 28 29 30 31 32 33 34 35 36 37 38 39 40 41 42 43 44 45 46 47\n",
      " 48 49 75 76 77 78 79 80 81 82 83 84 85 86 87 88 89 90 91 92 93 94 95 96\n",
      " 97 98 99] TEST: [50 51 52 53 54 55 56 57 58 59 60 61 62 63 64 65 66 67 68 69 70 71 72 73\n",
      " 74]\n",
      "TRAIN: [ 0  1  2  3  4  5  6  7  8  9 10 11 12 13 14 15 16 17 18 19 20 21 22 23\n",
      " 24 25 26 27 28 29 30 31 32 33 34 35 36 37 38 39 40 41 42 43 44 45 46 47\n",
      " 48 49 50 51 52 53 54 55 56 57 58 59 60 61 62 63 64 65 66 67 68 69 70 71\n",
      " 72 73 74] TEST: [75 76 77 78 79 80 81 82 83 84 85 86 87 88 89 90 91 92 93 94 95 96 97 98\n",
      " 99]\n"
     ]
    }
   ],
   "source": [
    "import numpy as np\n",
    "from sklearn.model_selection import train_test_split\n",
    "from sklearn import datasets\n",
    "from sklearn.model_selection import ShuffleSplit, KFold\n",
    "\n",
    "X = np.c_[iris2[[\"Longueur des sépales\", \"Largeur des sépales\",\n",
    "                                \"Longueur des pétales\", \"Largeur des pétales\"]]]\n",
    "y = np.array(iris2[\"Espèce\"])\n",
    "\n",
    "kf = KFold(n_splits=4)\n",
    "for train_index, test_index in kf.split(X):\n",
    "    print(\"TRAIN:\", train_index, \"TEST:\", test_index)\n",
    "    X_train, X_test = X[train_index], X[test_index]\n",
    "    y_train, y_test = y[train_index], y[test_index]"
   ]
  },
  {
   "cell_type": "code",
   "execution_count": 62,
   "metadata": {},
   "outputs": [
    {
     "name": "stdout",
     "output_type": "stream",
     "text": [
      "1.0\n"
     ]
    }
   ],
   "source": [
    "X = np.c_[iris2[[\"Longueur des sépales\", \"Largeur des sépales\",\n",
    "                                \"Longueur des pétales\", \"Largeur des pétales\"]]]\n",
    "y = y_train = np.array(iris2[\"Espèce\"])\n",
    "\n",
    "\n",
    "model = make_pipeline(StandardScaler(),\n",
    "                     SGDClassifier(max_iter=1000, loss='log'))\n",
    "\n",
    "ac_score = []\n",
    "\n",
    "kf = KFold(n_splits=len(X))\n",
    "#kf = KFold(n_splits=10)\n",
    "for train_index, test_index in kf.split(X):\n",
    "    \n",
    "    X_train, X_test = X[train_index], X[test_index]\n",
    "    y_train, y_test = y[train_index], y[test_index]\n",
    "    \n",
    "    model.fit(X_train, y_train)\n",
    "    ac_score.append(accuracy_score(y_test, model.predict(X_test)))\n",
    "    \n",
    "print(np.mean(ac_score))"
   ]
  },
  {
   "cell_type": "code",
   "execution_count": 60,
   "metadata": {},
   "outputs": [
    {
     "name": "stdout",
     "output_type": "stream",
     "text": [
      "1.0\n"
     ]
    }
   ],
   "source": [
    "from sklearn.model_selection import StratifiedKFold\n",
    "\n",
    "\n",
    "X = np.c_[iris2[[\"Longueur des sépales\", \"Largeur des sépales\",\n",
    "                                \"Longueur des pétales\", \"Largeur des pétales\"]]]\n",
    "y = y_train = np.array(iris2[\"Espèce\"])\n",
    "\n",
    "model = make_pipeline(StandardScaler(),\n",
    "                     SGDClassifier(max_iter=1000, loss='log'))\n",
    "\n",
    "all_auc = []\n",
    "\n",
    "skf = StratifiedKFold(n_splits=len(X))\n",
    "#skf = StratifiedKFold(n_splits=5)\n",
    "\n",
    "for train_index, test_index in kf.split(X):\n",
    "    \n",
    "    X_train, X_test = X[train_index], X[test_index]\n",
    "    y_train, y_test = y[train_index], y[test_index]\n",
    "    \n",
    "    model.fit(X_train, y_train)\n",
    "    ac_score.append(accuracy_score(y_test, model.predict(X_test)))\n",
    "    \n",
    "print(np.mean(ac_score))"
   ]
  },
  {
   "cell_type": "markdown",
   "metadata": {},
   "source": [
    "### Regression Softmax ou multinomial\n",
    "\n",
    "Il suffit de fournir le jeux de données contenant cette fois les trois espèces différente (iris et non iris2)"
   ]
  },
  {
   "cell_type": "code",
   "execution_count": 80,
   "metadata": {},
   "outputs": [
    {
     "name": "stdout",
     "output_type": "stream",
     "text": [
      "0.945\n"
     ]
    }
   ],
   "source": [
    "X = np.c_[iris[[\"Longueur des sépales\", \"Largeur des sépales\",\n",
    "                                \"Longueur des pétales\", \"Largeur des pétales\"]]]\n",
    "y = y_train = np.array(iris[\"Espèce\"])\n",
    "\n",
    "model = make_pipeline(StandardScaler(),\n",
    "                     SGDClassifier(max_iter=1000, loss='log'))\n",
    "\n",
    "all_auc = []\n",
    "\n",
    "skf = StratifiedKFold(n_splits=len(X))\n",
    "#skf = StratifiedKFold(n_splits=5)\n",
    "\n",
    "for train_index, test_index in kf.split(X):\n",
    "    \n",
    "    X_train, X_test = X[train_index], X[test_index]\n",
    "    y_train, y_test = y[train_index], y[test_index]\n",
    "    \n",
    "    model.fit(X_train, y_train)\n",
    "    ac_score.append(accuracy_score(y_test, model.predict(X_test)))\n",
    "    \n",
    "print(np.mean(ac_score))"
   ]
  },
  {
   "cell_type": "markdown",
   "metadata": {},
   "source": [
    "Pour la prédiction d'une observation notre modèle Softmax renvoie trois probabilités"
   ]
  },
  {
   "cell_type": "code",
   "execution_count": 74,
   "metadata": {},
   "outputs": [
    {
     "data": {
      "text/plain": [
       "array([[3.46898138e-06, 3.20087129e-03, 9.96795660e-01]])"
      ]
     },
     "execution_count": 74,
     "metadata": {},
     "output_type": "execute_result"
    }
   ],
   "source": [
    "obs = np.array([[5.9, 3. , 5.1, 1.8]])\n",
    "model.predict_proba(obs) "
   ]
  },
  {
   "cell_type": "markdown",
   "metadata": {},
   "source": [
    "Chacune des probabilités correspond aux trois class suivante"
   ]
  },
  {
   "cell_type": "code",
   "execution_count": 79,
   "metadata": {},
   "outputs": [
    {
     "data": {
      "text/plain": [
       "array([1, 2, 3], dtype=int64)"
      ]
     },
     "execution_count": 79,
     "metadata": {},
     "output_type": "execute_result"
    }
   ],
   "source": [
    "model.classes_"
   ]
  },
  {
   "cell_type": "code",
   "execution_count": 85,
   "metadata": {},
   "outputs": [
    {
     "data": {
      "text/plain": [
       "array([[10,  0,  0],\n",
       "       [ 0,  9,  1],\n",
       "       [ 0,  0, 10]], dtype=int64)"
      ]
     },
     "execution_count": 85,
     "metadata": {},
     "output_type": "execute_result"
    }
   ],
   "source": [
    "from sklearn.model_selection import StratifiedShuffleSplit\n",
    "\n",
    "split = StratifiedShuffleSplit(n_splits=1,\n",
    "                               test_size=0.2, random_state=42)\n",
    "\n",
    "for train_index, test_index in split.split(iris, iris[\"Espèce\"]):\n",
    "    strat_train_set = iris.loc[train_index]\n",
    "    strat_test_set = iris.loc[test_index]\n",
    "\n",
    "X_train = np.c_[strat_train_set[[\"Longueur des sépales\", \"Largeur des sépales\",\n",
    "                                \"Longueur des pétales\", \"Largeur des pétales\"]]]\n",
    "y_train = np.array(strat_train_set[\"Espèce\"])\n",
    "\n",
    "X_test = np.c_[strat_test_set[[\"Longueur des sépales\", \"Largeur des sépales\",\n",
    "                                \"Longueur des pétales\", \"Largeur des pétales\"]]]\n",
    "y_test = np.array(strat_test_set[\"Espèce\"])\n",
    "\n",
    "model = make_pipeline(StandardScaler(),\n",
    "                     SGDClassifier(max_iter=1000, loss='log'))\n",
    "model.fit(X_train, y_train)\n",
    "\n",
    "confusion_matrix(y_test, model.predict(X_test))"
   ]
  },
  {
   "cell_type": "code",
   "execution_count": null,
   "metadata": {},
   "outputs": [],
   "source": []
  }
 ],
 "metadata": {
  "kernelspec": {
   "display_name": "Python 3",
   "language": "python",
   "name": "python3"
  },
  "language_info": {
   "codemirror_mode": {
    "name": "ipython",
    "version": 3
   },
   "file_extension": ".py",
   "mimetype": "text/x-python",
   "name": "python",
   "nbconvert_exporter": "python",
   "pygments_lexer": "ipython3",
   "version": "3.8.11"
  }
 },
 "nbformat": 4,
 "nbformat_minor": 4
}
