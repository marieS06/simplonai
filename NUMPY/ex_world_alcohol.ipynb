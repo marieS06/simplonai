{
 "cells": [
  {
   "cell_type": "code",
   "execution_count": 3,
   "metadata": {},
   "outputs": [
    {
     "name": "stdout",
     "output_type": "stream",
     "text": [
      "[['1986' 'Western Pacific' 'Viet Nam' 'Wine' '0']\n",
      " ['1986' 'Americas' 'Uruguay' 'Other' '0.5']\n",
      " ['1985' 'Africa' \"Cte d'Ivoire\" 'Wine' '1.62']\n",
      " ...\n",
      " ['1986' 'Europe' 'Switzerland' 'Spirits' '2.54']\n",
      " ['1987' 'Western Pacific' 'Papua New Guinea' 'Other' '0']\n",
      " ['1986' 'Africa' 'Swaziland' 'Other' '5.15']]\n"
     ]
    }
   ],
   "source": [
    "import numpy as np\n",
    "\n",
    "world_alcohol = np.genfromtxt(\"world_alcohol.csv\",delimiter=\",\", dtype=\"U75\", skip_header=1)\n",
    "print(world_alcohol)"
   ]
  },
  {
   "cell_type": "code",
   "execution_count": 5,
   "metadata": {},
   "outputs": [
    {
     "name": "stdout",
     "output_type": "stream",
     "text": [
      "[False False False ... False False False]\n"
     ]
    }
   ],
   "source": [
    "countries_is_canada = world_alcohol[:,2] == \"canada\" #quels sont les lignes qui contiennent\n",
    "print(countries_is_canada)"
   ]
  },
  {
   "cell_type": "code",
   "execution_count": 10,
   "metadata": {},
   "outputs": [
    {
     "name": "stdout",
     "output_type": "stream",
     "text": [
      "[['1984' 'Americas' 'Canada' 'Spirits' '3.35']\n",
      " ['1989' 'Americas' 'Canada' 'Wine' '1.27']\n",
      " ['1984' 'Americas' 'Canada' 'Beer' '5']\n",
      " ['1985' 'Americas' 'Canada' 'Beer' '4.94']\n",
      " ['1987' 'Americas' 'Canada' 'Wine' '1.3']\n",
      " ['1987' 'Americas' 'Canada' 'Beer' '4.83']\n",
      " ['1986' 'Americas' 'Canada' 'Other' '']\n",
      " ['1986' 'Americas' 'Canada' 'Spirits' '3.11']\n",
      " ['1985' 'Americas' 'Canada' 'Spirits' '3.21']\n",
      " ['1985' 'Americas' 'Canada' 'Other' '']\n",
      " ['1986' 'Americas' 'Canada' 'Beer' '4.87']\n",
      " ['1984' 'Americas' 'Canada' 'Wine' '1.24']\n",
      " ['1989' 'Americas' 'Canada' 'Spirits' '2.91']\n",
      " ['1984' 'Americas' 'Canada' 'Other' '']\n",
      " ['1985' 'Americas' 'Canada' 'Wine' '1.29']\n",
      " ['1987' 'Americas' 'Canada' 'Spirits' '2.99']\n",
      " ['1989' 'Americas' 'Canada' 'Beer' '4.82']\n",
      " ['1989' 'Americas' 'Canada' 'Other' '']\n",
      " ['1986' 'Americas' 'Canada' 'Wine' '1.33']\n",
      " ['1987' 'Americas' 'Canada' 'Other' '']]\n",
      "\n",
      "(20, 5)\n"
     ]
    }
   ],
   "source": [
    "# une fois on sait qu'elles st les lignes je les reselect\n",
    "countries_canada = world_alcohol[world_alcohol[:,2] == \"Canada\"] #quels sont les lignes qui contiennent\n",
    "print(countries_canada)\n",
    "print()\n",
    "print(countries_canada.shape)\n",
    "# shape == compte nbre ligne,ligne col"
   ]
  },
  {
   "cell_type": "code",
   "execution_count": 17,
   "metadata": {},
   "outputs": [
    {
     "name": "stdout",
     "output_type": "stream",
     "text": [
      "(20, 5)\n"
     ]
    }
   ],
   "source": [
    "countries_is_algeria = world_alcohol[:,2] == \"Algeria\" #quels sont les lignes qui contiennent\n",
    "countries_algeria = world_alcohol[countries_is_algeria]\n",
    "print(countries_algeria.shape)"
   ]
  },
  {
   "cell_type": "code",
   "execution_count": 23,
   "metadata": {},
   "outputs": [
    {
     "name": "stdout",
     "output_type": "stream",
     "text": [
      "(646, 5)\n"
     ]
    }
   ],
   "source": [
    "countries_is_algeria = world_alcohol[:,0] == \"1984\" #quels sont les lignes qui contiennent\n",
    "countries_algeria = world_alcohol[countries_is_algeria]\n",
    "print(countries_algeria.shape)#selectionne"
   ]
  },
  {
   "cell_type": "code",
   "execution_count": 31,
   "metadata": {},
   "outputs": [
    {
     "name": "stdout",
     "output_type": "stream",
     "text": [
      "[['1986' 'Africa' 'Algeria' 'Wine' '0.1']\n",
      " ['1986' 'Africa' 'Algeria' 'Spirits' '0.01']\n",
      " ['1986' 'Africa' 'Algeria' 'Beer' '0.18']\n",
      " ['1986' 'Africa' 'Algeria' 'Other' '0']]\n"
     ]
    }
   ],
   "source": [
    "# comparaison avec plus conditions\n",
    "# & et                  #fichier   #lign,col            +                   ou c'est =\n",
    "is_algeria_and_1986 = (world_alcohol[:,2] == \"Algeria\") & (world_alcohol[:,0] == \"1986\")\n",
    "rows_with_algeria_and_1986 = world_alcohol[is_algeria_and_1986] # je mets dans rows_with\n",
    "print(rows_with_algeria_and_1986)"
   ]
  },
  {
   "cell_type": "code",
   "execution_count": 30,
   "metadata": {},
   "outputs": [
    {
     "name": "stdout",
     "output_type": "stream",
     "text": [
      "[['1984' 'Africa' 'Algeria' 'Spirits' '0.01']\n",
      " ['1987' 'Africa' 'Algeria' 'Beer' '0.17']\n",
      " ['1987' 'Africa' 'Algeria' 'Spirits' '0.01']\n",
      " ['1986' 'Africa' 'Algeria' 'Wine' '0.1']\n",
      " ['1984' 'Africa' 'Algeria' 'Other' '0']\n",
      " ['1989' 'Africa' 'Algeria' 'Beer' '0.16']\n",
      " ['1989' 'Africa' 'Algeria' 'Spirits' '0.01']\n",
      " ['1989' 'Africa' 'Algeria' 'Wine' '0.23']\n",
      " ['1986' 'Africa' 'Algeria' 'Spirits' '0.01']\n",
      " ['1984' 'Africa' 'Algeria' 'Wine' '0.12']\n",
      " ['1985' 'Africa' 'Algeria' 'Beer' '0.19']\n",
      " ['1985' 'Africa' 'Algeria' 'Other' '0']\n",
      " ['1986' 'Africa' 'Algeria' 'Beer' '0.18']\n",
      " ['1985' 'Africa' 'Algeria' 'Wine' '0.11']\n",
      " ['1986' 'Africa' 'Algeria' 'Other' '0']\n",
      " ['1989' 'Africa' 'Algeria' 'Other' '0']\n",
      " ['1987' 'Africa' 'Algeria' 'Other' '0']\n",
      " ['1984' 'Africa' 'Algeria' 'Beer' '0.2']\n",
      " ['1985' 'Africa' 'Algeria' 'Spirits' '0.01']\n",
      " ['1987' 'Africa' 'Algeria' 'Wine' '0.1']]\n"
     ]
    }
   ],
   "source": [
    "# | or \n",
    "\n",
    "is_algeria_and_1986 = (world_alcohol[:,2] == \"Algeria\") | (world_alcohol[:,0] == \"Canada\")\n",
    "rows_with_algeria_and_1986 = world_alcohol[is_algeria_and_1986] # je mets dans rows_with_alg..\n",
    "print(rows_with_algeria_and_1986)"
   ]
  },
  {
   "cell_type": "code",
   "execution_count": 32,
   "metadata": {},
   "outputs": [],
   "source": [
    "world_alcohol_2 = world_alcohol.copy() # faire une copy"
   ]
  },
  {
   "cell_type": "code",
   "execution_count": 33,
   "metadata": {},
   "outputs": [
    {
     "name": "stdout",
     "output_type": "stream",
     "text": [
      "['1986' '1986' '1985' ... '1986' '1987' '1986']\n"
     ]
    }
   ],
   "source": [
    "print(world_alcohol_2[:,0])"
   ]
  },
  {
   "cell_type": "code",
   "execution_count": 35,
   "metadata": {},
   "outputs": [
    {
     "name": "stdout",
     "output_type": "stream",
     "text": [
      "[['1986' 'Western Pacific' 'Viet Nam' 'Wine' '0']\n",
      " ['1986' 'Americas' 'Uruguay' 'Other' '0.5']\n",
      " ['1986' 'Americas' 'Colombia' 'Beer' '4.27']\n",
      " ...\n",
      " ['1986' 'Western Pacific' 'Fiji' 'Spirits' '0.05']\n",
      " ['1986' 'Europe' 'Switzerland' 'Spirits' '2.54']\n",
      " ['1986' 'Africa' 'Swaziland' 'Other' '5.15']]\n"
     ]
    }
   ],
   "source": [
    "print(world_alcohol_2[world_alcohol_2[:,0] == '1986']) # affiche mon info ligne col"
   ]
  },
  {
   "cell_type": "code",
   "execution_count": 36,
   "metadata": {},
   "outputs": [
    {
     "name": "stdout",
     "output_type": "stream",
     "text": [
      "['1986' '1986' '1986' '1986' '1986' '1986' '1986' '1986' '1986' '1986'\n",
      " '1986' '1986' '1986' '1986' '1986' '1986' '1986' '1986' '1986' '1986'\n",
      " '1986' '1986' '1986' '1986' '1986' '1986' '1986' '1986' '1986' '1986'\n",
      " '1986' '1986' '1986' '1986' '1986' '1986' '1986' '1986' '1986' '1986'\n",
      " '1986' '1986' '1986' '1986' '1986' '1986' '1986' '1986' '1986' '1986'\n",
      " '1986' '1986' '1986' '1986' '1986' '1986' '1986' '1986' '1986' '1986'\n",
      " '1986' '1986' '1986' '1986' '1986' '1986' '1986' '1986' '1986' '1986'\n",
      " '1986' '1986' '1986' '1986' '1986' '1986' '1986' '1986' '1986' '1986'\n",
      " '1986' '1986' '1986' '1986' '1986' '1986' '1986' '1986' '1986' '1986'\n",
      " '1986' '1986' '1986' '1986' '1986' '1986' '1986' '1986' '1986' '1986'\n",
      " '1986' '1986' '1986' '1986' '1986' '1986' '1986' '1986' '1986' '1986'\n",
      " '1986' '1986' '1986' '1986' '1986' '1986' '1986' '1986' '1986' '1986'\n",
      " '1986' '1986' '1986' '1986' '1986' '1986' '1986' '1986' '1986' '1986'\n",
      " '1986' '1986' '1986' '1986' '1986' '1986' '1986' '1986' '1986' '1986'\n",
      " '1986' '1986' '1986' '1986' '1986' '1986' '1986' '1986' '1986' '1986'\n",
      " '1986' '1986' '1986' '1986' '1986' '1986' '1986' '1986' '1986' '1986'\n",
      " '1986' '1986' '1986' '1986' '1986' '1986' '1986' '1986' '1986' '1986'\n",
      " '1986' '1986' '1986' '1986' '1986' '1986' '1986' '1986' '1986' '1986'\n",
      " '1986' '1986' '1986' '1986' '1986' '1986' '1986' '1986' '1986' '1986'\n",
      " '1986' '1986' '1986' '1986' '1986' '1986' '1986' '1986' '1986' '1986'\n",
      " '1986' '1986' '1986' '1986' '1986' '1986' '1986' '1986' '1986' '1986'\n",
      " '1986' '1986' '1986' '1986' '1986' '1986' '1986' '1986' '1986' '1986'\n",
      " '1986' '1986' '1986' '1986' '1986' '1986' '1986' '1986' '1986' '1986'\n",
      " '1986' '1986' '1986' '1986' '1986' '1986' '1986' '1986' '1986' '1986'\n",
      " '1986' '1986' '1986' '1986' '1986' '1986' '1986' '1986' '1986' '1986'\n",
      " '1986' '1986' '1986' '1986' '1986' '1986' '1986' '1986' '1986' '1986'\n",
      " '1986' '1986' '1986' '1986' '1986' '1986' '1986' '1986' '1986' '1986'\n",
      " '1986' '1986' '1986' '1986' '1986' '1986' '1986' '1986' '1986' '1986'\n",
      " '1986' '1986' '1986' '1986' '1986' '1986' '1986' '1986' '1986' '1986'\n",
      " '1986' '1986' '1986' '1986' '1986' '1986' '1986' '1986' '1986' '1986'\n",
      " '1986' '1986' '1986' '1986' '1986' '1986' '1986' '1986' '1986' '1986'\n",
      " '1986' '1986' '1986' '1986' '1986' '1986' '1986' '1986' '1986' '1986'\n",
      " '1986' '1986' '1986' '1986' '1986' '1986' '1986' '1986' '1986' '1986'\n",
      " '1986' '1986' '1986' '1986' '1986' '1986' '1986' '1986' '1986' '1986'\n",
      " '1986' '1986' '1986' '1986' '1986' '1986' '1986' '1986' '1986' '1986'\n",
      " '1986' '1986' '1986' '1986' '1986' '1986' '1986' '1986' '1986' '1986'\n",
      " '1986' '1986' '1986' '1986' '1986' '1986' '1986' '1986' '1986' '1986'\n",
      " '1986' '1986' '1986' '1986' '1986' '1986' '1986' '1986' '1986' '1986'\n",
      " '1986' '1986' '1986' '1986' '1986' '1986' '1986' '1986' '1986' '1986'\n",
      " '1986' '1986' '1986' '1986' '1986' '1986' '1986' '1986' '1986' '1986'\n",
      " '1986' '1986' '1986' '1986' '1986' '1986' '1986' '1986' '1986' '1986'\n",
      " '1986' '1986' '1986' '1986' '1986' '1986' '1986' '1986' '1986' '1986'\n",
      " '1986' '1986' '1986' '1986' '1986' '1986' '1986' '1986' '1986' '1986'\n",
      " '1986' '1986' '1986' '1986' '1986' '1986' '1986' '1986' '1986' '1986'\n",
      " '1986' '1986' '1986' '1986' '1986' '1986' '1986' '1986' '1986' '1986'\n",
      " '1986' '1986' '1986' '1986' '1986' '1986' '1986' '1986' '1986' '1986'\n",
      " '1986' '1986' '1986' '1986' '1986' '1986' '1986' '1986' '1986' '1986'\n",
      " '1986' '1986' '1986' '1986' '1986' '1986' '1986' '1986' '1986' '1986'\n",
      " '1986' '1986' '1986' '1986' '1986' '1986' '1986' '1986' '1986' '1986'\n",
      " '1986' '1986' '1986' '1986' '1986' '1986' '1986' '1986' '1986' '1986'\n",
      " '1986' '1986' '1986' '1986' '1986' '1986' '1986' '1986' '1986' '1986'\n",
      " '1986' '1986' '1986' '1986' '1986' '1986' '1986' '1986' '1986' '1986'\n",
      " '1986' '1986' '1986' '1986' '1986' '1986' '1986' '1986' '1986' '1986'\n",
      " '1986' '1986' '1986' '1986' '1986' '1986' '1986' '1986' '1986' '1986'\n",
      " '1986' '1986' '1986' '1986' '1986' '1986' '1986' '1986' '1986' '1986'\n",
      " '1986' '1986' '1986' '1986' '1986' '1986' '1986' '1986' '1986' '1986'\n",
      " '1986' '1986' '1986' '1986' '1986' '1986' '1986' '1986' '1986' '1986'\n",
      " '1986' '1986' '1986' '1986' '1986' '1986' '1986' '1986' '1986' '1986'\n",
      " '1986' '1986' '1986' '1986' '1986' '1986' '1986' '1986' '1986' '1986'\n",
      " '1986' '1986' '1986' '1986' '1986' '1986' '1986' '1986' '1986' '1986'\n",
      " '1986' '1986' '1986' '1986' '1986' '1986' '1986' '1986' '1986' '1986'\n",
      " '1986' '1986' '1986' '1986' '1986' '1986' '1986' '1986' '1986' '1986'\n",
      " '1986' '1986' '1986' '1986' '1986' '1986' '1986' '1986' '1986' '1986'\n",
      " '1986' '1986' '1986' '1986' '1986' '1986' '1986' '1986' '1986' '1986'\n",
      " '1986' '1986' '1986' '1986' '1986' '1986' '1986' '1986' '1986' '1986'\n",
      " '1986']\n"
     ]
    }
   ],
   "source": [
    "print(world_alcohol_2[:,0][world_alcohol_2[:,0] == '1986'])"
   ]
  },
  {
   "cell_type": "code",
   "execution_count": 38,
   "metadata": {},
   "outputs": [],
   "source": [
    "masque = (world_alcohol_2[:,0] == '1986')\n",
    "world_alcohol_2[:,0] [masque] = '2018' # remplace 1 valeur"
   ]
  },
  {
   "cell_type": "code",
   "execution_count": 39,
   "metadata": {
    "scrolled": true
   },
   "outputs": [
    {
     "name": "stdout",
     "output_type": "stream",
     "text": [
      "[['2018' 'Western Pacific' 'Viet Nam' 'Wine' '0']\n",
      " ['2018' 'Americas' 'Uruguay' 'Other' '0.5']\n",
      " ['1985' 'Africa' \"Cte d'Ivoire\" 'Wine' '1.62']\n",
      " ...\n",
      " ['2018' 'Europe' 'Switzerland' 'Spirits' '2.54']\n",
      " ['1987' 'Western Pacific' 'Papua New Guinea' 'Other' '0']\n",
      " ['2018' 'Africa' 'Swaziland' 'Other' '5.15']]\n"
     ]
    }
   ],
   "source": [
    "print(world_alcohol_2)"
   ]
  },
  {
   "cell_type": "code",
   "execution_count": 51,
   "metadata": {},
   "outputs": [],
   "source": [
    "world_alcohol_2[:,3][world_alcohol_2[:,3] == 'Wine'] = 'beer' # modifie\n"
   ]
  },
  {
   "cell_type": "code",
   "execution_count": 52,
   "metadata": {},
   "outputs": [
    {
     "name": "stdout",
     "output_type": "stream",
     "text": [
      "[['2018' 'Western Pacific' 'Viet Nam' 'beer' '0']\n",
      " ['2018' 'Americas' 'Uruguay' 'Other' '0.5']\n",
      " ['1985' 'Africa' \"Cte d'Ivoire\" 'beer' '1.62']\n",
      " ...\n",
      " ['2018' 'Europe' 'Switzerland' 'Spirits' '2.54']\n",
      " ['1987' 'Western Pacific' 'Papua New Guinea' 'Other' '0']\n",
      " ['2018' 'Africa' 'Swaziland' 'Other' '5.15']]\n"
     ]
    }
   ],
   "source": [
    "print(world_alcohol_2)"
   ]
  },
  {
   "cell_type": "code",
   "execution_count": 53,
   "metadata": {},
   "outputs": [
    {
     "name": "stdout",
     "output_type": "stream",
     "text": [
      "[False False False ... False False False]\n"
     ]
    }
   ],
   "source": [
    "is_value_empty = (world_alcohol [:,4] == '') #lig,col\n",
    "print(is_value_empty) # quand c'est vide"
   ]
  },
  {
   "cell_type": "code",
   "execution_count": 54,
   "metadata": {},
   "outputs": [
    {
     "name": "stdout",
     "output_type": "stream",
     "text": [
      "[['1986' 'Western Pacific' 'Viet Nam' 'Wine' '0']\n",
      " ['1986' 'Americas' 'Uruguay' 'Other' '0.5']\n",
      " ['1985' 'Africa' \"Cte d'Ivoire\" 'Wine' '1.62']\n",
      " ...\n",
      " ['1986' 'Europe' 'Switzerland' 'Spirits' '2.54']\n",
      " ['1987' 'Western Pacific' 'Papua New Guinea' 'Other' '0']\n",
      " ['1986' 'Africa' 'Swaziland' 'Other' '5.15']]\n"
     ]
    }
   ],
   "source": [
    "# on rajoute ---------------pour ttes les col vide on raj 0\n",
    "world_alcohol[is_value_empty, 4] = '0'\n",
    "print(world_alcohol)"
   ]
  },
  {
   "cell_type": "code",
   "execution_count": 317,
   "metadata": {},
   "outputs": [
    {
     "name": "stdout",
     "output_type": "stream",
     "text": [
      "[0.   0.5  1.62 ... 2.54 0.   5.15]\n"
     ]
    }
   ],
   "source": [
    "alcohol_consumption = world_alcohol[:,4] # je recup\n",
    "alcohol_consumption = alcohol_consumption.astype(float) # pour convertir\n",
    "print(alcohol_consumption)"
   ]
  },
  {
   "cell_type": "code",
   "execution_count": 87,
   "metadata": {},
   "outputs": [],
   "source": [
    "#pour tt calculer\n",
    "total_alcohol = alcohol_consumption.sum()\n",
    "average_alcohol = alcohol_consumption.mean()"
   ]
  },
  {
   "cell_type": "code",
   "execution_count": 88,
   "metadata": {},
   "outputs": [
    {
     "name": "stdout",
     "output_type": "stream",
     "text": [
      "3908.96\n"
     ]
    }
   ],
   "source": [
    "print(total_alcohol)"
   ]
  },
  {
   "cell_type": "code",
   "execution_count": 89,
   "metadata": {},
   "outputs": [
    {
     "name": "stdout",
     "output_type": "stream",
     "text": [
      "1.2001719373656738\n"
     ]
    }
   ],
   "source": [
    "print(average_alcohol)"
   ]
  },
  {
   "cell_type": "code",
   "execution_count": 92,
   "metadata": {},
   "outputs": [
    {
     "name": "stdout",
     "output_type": "stream",
     "text": [
      "9.120000000000001\n",
      "2.2800000000000002\n"
     ]
    }
   ],
   "source": [
    "is_canada_and_1987 = (world_alcohol[:,2] == \"Canada\") & (world_alcohol[:,0] == \"1987\")# ! espace entre guillemet !\n",
    "rows_with_canada_and_1987 = world_alcohol[is_canada_and_1987] # ! tjrs rapel ton dossier / tu veux ca ds ca\n",
    "alcohol_consumption_canada1987 = rows_with_canada_and_1987[:,4] # pour comparer\n",
    "alcohol_consumption_canada1987 = alcohol_consumption_canada1987.astype(float)\n",
    "print(alcohol_consumption_canada1987.sum())\n",
    "print(alcohol_consumption_canada1987.mean())"
   ]
  },
  {
   "cell_type": "code",
   "execution_count": 105,
   "metadata": {},
   "outputs": [
    {
     "name": "stdout",
     "output_type": "stream",
     "text": [
      "310.02\n",
      "2.0001290322580645\n"
     ]
    }
   ],
   "source": [
    "is_Americas_and_Beer = (world_alcohol[:,1] == \"Americas\") & (world_alcohol[:,3] == \"Beer\")\n",
    "Americas_and_Beer = world_alcohol[is_Americas_and_Beer]\n",
    "alcohol_consumption_Americas_and_Beer = Americas_and_Beer[:,4]\n",
    "alcohol_consumption_Americas_and_Beer = alcohol_consumption_Americas_and_Beer.astype(float)\n",
    "print(alcohol_consumption_Americas_and_Beer.sum())\n",
    "print(alcohol_consumption_Americas_and_Beer.mean())"
   ]
  },
  {
   "cell_type": "code",
   "execution_count": 302,
   "metadata": {},
   "outputs": [
    {
     "name": "stdout",
     "output_type": "stream",
     "text": [
      "{'Guatemala': 2.47, 'Seychelles': 3.3000000000000003, 'Costa Rica': 5.3999999999999995, 'Mauritius': 3.54, 'Zimbabwe': 4.92, 'Suriname': 3.67, 'Croatia': 10.92, 'Syrian Arab Republic': 0.54, 'Bolivia (Plurinational State of)': 3.05, 'Somalia': 0.0, 'Namibia': 0.24, 'Uganda': 7.8, 'Afghanistan': 0.0, 'Jamaica': 3.03, 'Finland': 9.419999999999998, 'Iraq': 0.75, 'Malawi': 1.02, 'Bulgaria': 11.43, 'Nicaragua': 2.5, 'Central African Republic': 2.5199999999999996, 'Burundi': 8.159999999999998, 'Sweden': 7.47, 'Greece': 10.15, 'Kyrgyzstan': 4.279999999999999, 'Belgium': 11.61, 'Angola': 2.28, 'Burkina Faso': 3.99, 'Czech Republic': 13.009999999999998, 'United Arab Emirates': 4.43, 'Peru': 4.99, 'Trinidad and Tobago': 4.68, 'Guyana': 9.940000000000001, 'Bahrain': 4.89, 'Benin': 1.3800000000000001, 'Liberia': 5.61, 'Viet Nam': 0.16, 'Belarus': 7.9799999999999995, 'Swaziland': 6.68, 'France': 16.05, 'United States of America': 9.16, 'Cabo Verde': 2.79, 'Saudi Arabia': 0.15, 'Poland': 9.33, 'Senegal': 0.6100000000000001, 'Slovenia': 12.969999999999999, 'Hungary': 16.29, 'Iran (Islamic Republic of)': 0.0, 'Lesotho': 2.02, 'Gabon': 9.34, 'Comoros': 0.10999999999999999, 'Italy': 10.899999999999999, 'Denmark': 11.649999999999999, 'Canada': 9.0, 'Zambia': 3.37, 'Botswana': 4.63, 'Kuwait': 0.0, 'Russian Federation': 5.35, 'New Zealand': 11.52, 'Uruguay': 7.4399999999999995, 'Fiji': 1.9600000000000002, 'Israel': 2.0300000000000002, \"Cte d'Ivoire\": 2.2, 'Spain': 13.280000000000001, 'South Africa': 9.21, 'Morocco': 0.7, 'Venezuela (Bolivarian Republic of)': 7.87, 'Egypt': 0.42000000000000004, 'Ethiopia': 0.8600000000000001, 'Bhutan': 0.31, 'Chile': 8.649999999999999, 'Cambodia': 0.33, 'Mali': 0.6699999999999999, 'Nepal': 0.03, 'Kiribati': 0.48, 'Dominican Republic': 4.53, 'Vanuatu': 1.74, 'Solomon Islands': 0.5800000000000001, 'Libya': 0.0, 'Ukraine': 5.32, 'Eritrea': 0.29, 'Switzerland': 13.849999999999998, 'Mexico': 5.1, 'Portugal': 15.350000000000001, 'El Salvador': 1.77, 'Philippines': 3.78, 'Netherlands': 10.030000000000001, 'Mozambique': 0.39, 'Togo': 2.2199999999999998, \"Democratic People's Republic of Korea\": 3.6799999999999997, 'Cuba': 4.37, 'Singapore': 1.61, 'Lithuania': 0.0, 'Ecuador': 2.54, 'Malaysia': 0.68, 'Niger': 0.11, 'Democratic Republic of the Congo': 1.92, 'Australia': 12.09, 'Cyprus': 9.29, 'Antigua and Barbuda': 4.69, 'Pakistan': 0.02, 'Colombia': 6.960000000000001, 'Saint Lucia': 11.62, 'Brazil': 5.52, 'Algeria': 0.4, 'Malta': 7.13, \"Lao People's Democratic Republic\": 5.95, 'Turkey': 0.72, 'Ghana': 1.8599999999999999, 'Mauritania': 0.02, 'Cameroon': 6.359999999999999, 'Bahamas': 12.290000000000001, 'Djibouti': 0.87, 'Equatorial Guinea': 6.49, 'Oman': 1.03, 'Micronesia (Federated States of)': 0.0, 'Myanmar': 0.16, 'Qatar': 1.4500000000000002, 'Rwanda': 7.549999999999999, 'Mongolia': 2.59, 'Latvia': 7.039999999999999, 'Kenya': 2.82, 'Saint Kitts and Nevis': 4.65, 'Japan': 7.74, 'Iceland': 5.359999999999999, 'Papua New Guinea': 1.1099999999999999, 'Guinea-Bissau': 2.67, 'Belize': 0.0, 'United Republic of Tanzania': 5.9, 'Paraguay': 6.51, 'Thailand': 3.92, 'Tunisia': 0.95, 'United Kingdom of Great Britain and Northern Ireland': 9.99, 'Lebanon': 3.94, 'Luxembourg': 15.21, 'Albania': 1.73, 'Bangladesh': 0.0, 'Sudan': 0.15, 'Congo': 3.1500000000000004, 'Indonesia': 0.07, 'Sierra Leone': 4.380000000000001, 'Guinea': 0.21, 'Panama': 4.6000000000000005, 'Honduras': 2.15, 'Samoa': 2.63, 'Brunei Darussalam': 2.7800000000000002, 'Germany': 14.64, 'Yemen': 0.2, 'Chad': 0.30000000000000004, 'Sri Lanka': 0.14, 'Republic of Korea': 9.620000000000001, 'Sao Tome and Principe': 2.57, 'Slovakia': 12.700000000000001, 'Haiti': 5.81, 'Jordan': 0.19, 'Madagascar': 1.38, 'Austria': 13.9, 'Norway': 5.08, 'Argentina': 10.82, 'Romania': 8.41, 'China': 3.33, 'Nigeria': 6.74, 'India': 1.66, 'Ireland': 11.79, 'Gambia': 1.6300000000000001}\n",
      "Hungary a 16.29\n"
     ]
    }
   ],
   "source": [
    "dic_pays = {}\n",
    "annee = '1989'\n",
    "\n",
    "list_pays = world_alcohol[:,2][world_alcohol[:,0]==annee]\n",
    "\n",
    "for i in list_pays :\n",
    "    if i not in dic_pays :\n",
    "        dic_pays[i] = i\n",
    "max_consomme = 0\n",
    "name_pays = \"\"\n",
    "\n",
    "for p,v in dic_pays.items() :\n",
    "    vpays = world_alcohol[( world_alcohol[:,2]==p) & (world_alcohol[:,0]==annee)]\n",
    "    tab_pays = vpays[:,4]\n",
    "    tab_pays = tab_pays.astype(float)\n",
    "    dic_pays[p] = tab_pays.sum()\n",
    "    if(tab_pays.sum() > max_consomme):\n",
    "        max_consomme = tab_pays.sum()\n",
    "        name_pays= p\n",
    "print(dic_pays)\n",
    "print(name_pays, 'a', max_consomme)\n",
    "                           "
   ]
  },
  {
   "cell_type": "code",
   "execution_count": 187,
   "metadata": {},
   "outputs": [
    {
     "name": "stdout",
     "output_type": "stream",
     "text": [
      "{'Viet Nam': 0.16, 'Uruguay': 7.4399999999999995, \"Cte d'Ivoire\": 2.2, 'Colombia': 6.960000000000001, 'Saint Kitts and Nevis': 4.65, 'Guatemala': 2.47, 'Mauritius': 3.54, 'Angola': 2.28, 'Antigua and Barbuda': 4.69, 'Nigeria': 6.74, 'Botswana': 4.63, \"Lao People's Democratic Republic\": 5.95, 'Afghanistan': 0.0, 'Guinea-Bissau': 2.67, 'Costa Rica': 5.3999999999999995, 'Seychelles': 3.3000000000000003, 'Norway': 5.08, 'Kenya': 2.82, 'Myanmar': 0.16, 'Romania': 8.41, 'Turkey': 0.72, 'Comoros': 0.10999999999999999, 'Tunisia': 0.95, 'United Kingdom of Great Britain and Northern Ireland': 9.99, 'Bahrain': 4.89, 'Italy': 10.899999999999999, 'Sierra Leone': 4.380000000000001, 'Micronesia (Federated States of)': 0.0, 'Mauritania': 0.02, 'Russian Federation': 5.35, 'Egypt': 0.42000000000000004, 'Sweden': 7.47, 'Qatar': 1.4500000000000002, 'Burkina Faso': 3.99, 'Austria': 13.9, 'Czech Republic': 13.009999999999998, 'Ukraine': 5.32, 'China': 3.33, 'Lithuania': 0.0, 'Zimbabwe': 4.92, 'Trinidad and Tobago': 4.68, 'Mexico': 5.1, 'Nicaragua': 2.5, 'Malta': 7.13, 'Switzerland': 13.849999999999998, 'Finland': 9.419999999999998, 'Saudi Arabia': 0.15, 'Kuwait': 0.0, 'El Salvador': 1.77, 'Suriname': 3.67, 'Croatia': 10.92, 'Somalia': 0.0, 'Syrian Arab Republic': 0.54, 'Iran (Islamic Republic of)': 0.0, 'Papua New Guinea': 1.1099999999999999, 'Libya': 0.0, 'Bolivia (Plurinational State of)': 3.05, 'Iraq': 0.75, 'Namibia': 0.24, 'Uganda': 7.8, 'Togo': 2.2199999999999998, 'Madagascar': 1.38, 'Mali': 0.6699999999999999, 'Pakistan': 0.02, 'Cameroon': 6.359999999999999, 'Jamaica': 3.03, 'Malawi': 1.02, 'Netherlands': 10.030000000000001, 'Ireland': 11.79, 'Sri Lanka': 0.14, 'Democratic Republic of the Congo': 1.92, 'Bahamas': 12.290000000000001, 'Lebanon': 3.94, 'Bulgaria': 11.43, 'Eritrea': 0.29, 'Niger': 0.11, 'Luxembourg': 15.21, 'Indonesia': 0.07, 'Equatorial Guinea': 6.49, \"Democratic People's Republic of Korea\": 3.6799999999999997, 'Chile': 8.649999999999999, 'Central African Republic': 2.5199999999999996, 'Spain': 13.280000000000001, 'Gambia': 1.6300000000000001, 'Ghana': 1.8599999999999999, 'Brazil': 5.52, 'Portugal': 15.350000000000001, 'Burundi': 8.159999999999998, 'Belgium': 11.61, 'Paraguay': 6.51, 'Hungary': 16.29, 'Greece': 10.15, 'India': 1.66, 'Kyrgyzstan': 4.279999999999999, 'France': 16.05, 'Zambia': 3.37, 'Israel': 2.0300000000000002, 'Swaziland': 6.68, 'Canada': 9.0, 'Cambodia': 0.33, 'Cabo Verde': 2.79, 'United Arab Emirates': 4.43, 'Peru': 4.99, 'Solomon Islands': 0.5800000000000001, 'United Republic of Tanzania': 5.9, 'Chad': 0.30000000000000004, 'Cuba': 4.37, 'Guyana': 9.940000000000001, 'Mongolia': 2.59, 'Australia': 12.09, 'Sao Tome and Principe': 2.57, 'Slovenia': 12.969999999999999, 'Benin': 1.3800000000000001, 'Algeria': 0.4, 'Venezuela (Bolivarian Republic of)': 7.87, 'Ecuador': 2.54, 'Iceland': 5.359999999999999, 'Liberia': 5.61, 'Yemen': 0.2, 'Sudan': 0.15, 'Belarus': 7.9799999999999995, 'Cyprus': 9.29, 'United States of America': 9.16, 'Vanuatu': 1.74, 'Bangladesh': 0.0, 'Philippines': 3.78, 'Slovakia': 12.700000000000001, 'Poland': 9.33, 'Senegal': 0.6100000000000001, 'Honduras': 2.15, 'Bhutan': 0.31, 'Fiji': 1.9600000000000002, 'Belize': 0.0, 'Lesotho': 2.02, 'Singapore': 1.61, 'Guinea': 0.21, 'Brunei Darussalam': 2.7800000000000002, 'Congo': 3.1500000000000004, 'Thailand': 3.92, 'Djibouti': 0.87, 'Gabon': 9.34, 'Dominican Republic': 4.53, 'Morocco': 0.7, 'New Zealand': 11.52, 'Denmark': 11.649999999999999, 'Samoa': 2.63, 'Argentina': 10.82, 'Oman': 1.03, 'Kiribati': 0.48, 'Albania': 1.73, 'Nepal': 0.03, 'Malaysia': 0.68, 'Latvia': 7.039999999999999, 'Haiti': 5.81, 'South Africa': 9.21, 'Republic of Korea': 9.620000000000001, 'Japan': 7.74, 'Mozambique': 0.39, 'Ethiopia': 0.8600000000000001, 'Panama': 4.6000000000000005, 'Germany': 14.64, 'Saint Lucia': 11.62, 'Rwanda': 7.549999999999999, 'Jordan': 0.19}\n"
     ]
    }
   ],
   "source": [
    "\n",
    "totals = {}\n",
    "\n",
    "is_year = world_alcohol[:,0] == \"1989\"\n",
    "year = world_alcohol[is_year]\n",
    "countries = world_alcohol[:,2]\n",
    "\n",
    "for country in countries:\n",
    "    is_country = year[:,2] == country\n",
    "    country_consumption = year[is_country]\n",
    "    alcohol_column = country_consumption[:,4]\n",
    "    is_empty = alcohol_column == ''\n",
    "    alcohol_column[is_empty] = \"0\"\n",
    "    alcohol_column = alcohol_column.astype(float)\n",
    "    totals[country] = alcohol_column.sum()\n",
    "    \n",
    "print(totals)"
   ]
  },
  {
   "cell_type": "code",
   "execution_count": 328,
   "metadata": {},
   "outputs": [
    {
     "name": "stdout",
     "output_type": "stream",
     "text": [
      "Swaziland\n"
     ]
    }
   ],
   "source": [
    "highest_value = 0\n",
    "highest_key = None\n",
    "countries = world_alcohol[:,2]\n",
    "\n",
    "for index, key in enumerate(contries) :\n",
    "    if index>highest_value:\n",
    "        highest_value=index\n",
    "        highest_key=key\n",
    "        \n",
    "        \n",
    "print(highest_key)\n"
   ]
  },
  {
   "cell_type": "code",
   "execution_count": 307,
   "metadata": {},
   "outputs": [
    {
     "name": "stdout",
     "output_type": "stream",
     "text": [
      "['0' '0.5' '1.62' ... '2.54' '0' '5.15']\n"
     ]
    }
   ],
   "source": [
    "alcohol_plus = world_alcohol\n",
    "print(alcohol_plus[:,4])"
   ]
  },
  {
   "cell_type": "code",
   "execution_count": 56,
   "metadata": {},
   "outputs": [
    {
     "name": "stdout",
     "output_type": "stream",
     "text": [
      "['1984' 'Europe' 'Portugal' 'Wine' '13.5']\n"
     ]
    },
    {
     "data": {
      "text/plain": [
       "0        1984\n",
       "1      Europe\n",
       "2    Portugal\n",
       "3        Wine\n",
       "4        13.5\n",
       "Name: 692, dtype: object"
      ]
     },
     "execution_count": 56,
     "metadata": {},
     "output_type": "execute_result"
    }
   ],
   "source": [
    "import numpy as np\n",
    "import pandas as pd\n",
    "\n",
    "df=pd.read_csv('world_alcohol.csv', sep=',',header=None) #lis le fichier csv dans une variable de type panda\n",
    "my_data = df.values # recupere les valeurs donc c'est le tableau\n",
    "\n",
    "highest_value = 0\n",
    "highest_key = None\n",
    "\n",
    "for index,info in enumerate(my_data[1:]):\n",
    "    value = np.float(info[-1])\n",
    "    if(value>highest_value):\n",
    "        highest_key = index+1\n",
    "        highest_value = value\n",
    "print(my_data[highest_key])\n",
    "\n",
    "# df[1:][4] degage toute la premiere ligne 0 \tYear \tWHO region \tCountry \tBeverage Types \tDisplay Value\n",
    "# le pb c'est les nombres sont des strings et \"astype(float)\" les tranforment en float\n",
    "# idxmax() retourne l'index (écrit a gauche) du maximum \n",
    "# loc permet d'afficher le contenu d 'une ligne\n",
    "df.loc[df[1:][4].astype(float).idxmax()]\n"
   ]
  },
  {
   "cell_type": "code",
   "execution_count": null,
   "metadata": {},
   "outputs": [],
   "source": []
  },
  {
   "cell_type": "code",
   "execution_count": 15,
   "metadata": {},
   "outputs": [
    {
     "name": "stdout",
     "output_type": "stream",
     "text": [
      "['Viet Nam', 'Uruguay', 'Colombia', 'Antigua and Barbuda', 'Myanmar', 'Italy', 'Sierra Leone', 'Micronesia (Federated States of)', 'Russian Federation', 'Sweden', 'Czech Republic', 'Mexico', 'Malta', 'Saudi Arabia', 'Togo', 'Madagascar', 'Pakistan', 'Bolivia (Plurinational State of)', 'Ukraine', 'Sri Lanka', 'Bahamas', 'Lebanon', 'Eritrea', 'Spain', 'Madagascar', 'Gambia', 'Nicaragua', 'Belgium', 'Bolivia (Plurinational State of)', 'Zambia', 'Gambia', 'Uganda', 'Cabo Verde', 'Saint Kitts and Nevis', 'Norway', 'Australia', 'Togo', 'Venezuela (Bolivarian Republic of)', 'Cyprus', 'Vanuatu', 'Syrian Arab Republic', 'Bhutan', 'Guinea', 'Solomon Islands', 'Thailand', 'United Kingdom of Great Britain and Northern Ireland', 'Dominican Republic', 'Indonesia', 'Australia', 'Norway', 'Bahamas', 'Algeria', 'Micronesia (Federated States of)', 'Samoa', 'Bangladesh', 'Pakistan', 'Pakistan', 'Equatorial Guinea', 'Senegal', 'Qatar', 'Tunisia', 'Kyrgyzstan', 'Costa Rica', \"Lao People's Democratic Republic\", 'Swaziland', 'Samoa', 'Chad', 'Gabon', 'Portugal', 'Mauritania', 'Albania', 'Italy', 'Thailand', 'Mauritius', 'Mozambique', 'Ghana', 'Denmark', 'Uruguay', 'Niger', 'Angola', 'Finland', 'Zambia', 'Morocco', 'Singapore', 'Costa Rica', 'Germany', 'Luxembourg', 'Nepal', 'United Republic of Tanzania', 'Yemen', 'Tunisia', 'Iraq', 'Saudi Arabia', 'Burundi', 'Liberia', 'Dominican Republic', 'Angola', 'Central African Republic', 'Saint Lucia', 'Malaysia', \"Democratic People's Republic of Korea\", 'Czech Republic', 'Thailand', 'Israel', 'Israel', 'Botswana', 'Honduras', 'Rwanda', 'France', 'Mauritius', 'Niger', 'Bolivia (Plurinational State of)', 'Guinea', 'United Kingdom of Great Britain and Northern Ireland', 'Malta', 'Spain', 'Greece', 'United States of America', 'Morocco', 'Uruguay', 'Mongolia', 'Seychelles', 'Swaziland', \"Democratic People's Republic of Korea\", 'Guinea-Bissau', 'Venezuela (Bolivarian Republic of)', 'Iceland', 'Netherlands', 'Benin', 'Kuwait', 'Bhutan', 'China', 'Ecuador', 'Chile', 'Austria', 'Cyprus', 'Cameroon', 'Mongolia', 'Norway', 'Central African Republic', 'Democratic Republic of the Congo', 'Afghanistan', 'Iraq', 'Somalia', 'Malawi', 'Yemen', 'Kenya', 'South Africa', 'Namibia', 'Egypt', 'Papua New Guinea', 'Brunei Darussalam', 'Mexico', 'Cameroon', 'Pakistan', 'Congo', 'Cabo Verde', 'Russian Federation', 'Portugal', 'El Salvador', 'Zimbabwe', 'Sri Lanka', 'Egypt', \"Lao People's Democratic Republic\", 'Burkina Faso', 'Guinea-Bissau', 'Rwanda', 'Nigeria', 'Denmark', 'Sudan', 'Eritrea', 'Germany', 'Australia', 'Congo', 'Namibia', 'Russian Federation', 'Ukraine', 'Viet Nam', 'Mauritania', 'Spain', 'Burundi', 'Indonesia', 'Libya', \"Cte d'Ivoire\", 'Syrian Arab Republic', 'Lesotho', 'Panama', 'Myanmar', 'Turkey', 'Philippines', 'Hungary', 'Somalia', 'Iceland', 'Costa Rica', 'Sao Tome and Principe', 'Greece', 'Italy', 'Afghanistan', 'Germany', 'Honduras', 'Qatar', 'Bahrain', 'Guinea', 'Tunisia', 'Nicaragua', 'Namibia', 'United States of America', 'Peru', 'Czech Republic', 'Samoa', 'Solomon Islands', 'Nigeria', 'Luxembourg', 'Singapore', 'Republic of Korea', 'Bulgaria', 'South Africa', 'Syrian Arab Republic', 'Kenya', 'Mali', 'China', 'India', 'Sudan', 'Honduras', 'Malta', 'Solomon Islands', 'Albania', 'Denmark', 'Slovakia', 'Bangladesh', 'Netherlands', 'Sierra Leone', 'Dominican Republic', 'Belgium', 'Mongolia', 'Russian Federation', 'Sweden', \"Cte d'Ivoire\", 'Iceland', 'Panama', 'Netherlands', 'Nepal', 'Senegal', 'Chad', 'Vanuatu', 'Bangladesh', 'Nigeria', 'Jamaica', 'Algeria', 'Mauritius', 'Eritrea', 'India', 'Cuba', 'Canada', 'Burkina Faso', 'Hungary', 'Kuwait', 'Jordan', 'Sierra Leone', 'Nicaragua', 'Singapore', 'Kiribati', 'France', 'Zimbabwe', 'New Zealand', 'Venezuela (Bolivarian Republic of)', 'Sri Lanka', 'Ethiopia', 'Bulgaria', 'Panama', 'Congo', 'Egypt', 'Uruguay', 'Cyprus', 'Argentina', 'Syrian Arab Republic', 'Guyana', 'Latvia', 'Somalia', 'Niger', 'Seychelles', 'Haiti', 'Sweden', \"Cte d'Ivoire\", 'Libya', 'Rwanda', 'Fiji', 'Saint Lucia', 'Vanuatu', 'Liberia', 'Comoros', 'France', 'Slovenia', 'Botswana', 'Burkina Faso', 'Finland', 'Lithuania', 'Djibouti', 'Ecuador', 'New Zealand', 'Cameroon', 'United States of America', 'Eritrea', 'Ukraine', 'Poland', 'Malaysia', 'Dominican Republic', 'Mexico', 'Fiji', 'Albania', 'Fiji', 'Belgium', 'Finland', \"Democratic People's Republic of Korea\", 'Saint Kitts and Nevis', 'Gambia', 'Sao Tome and Principe', 'Lesotho', 'Vanuatu', 'Sao Tome and Principe', 'Congo', 'Colombia', 'Bhutan', 'Zambia', 'Madagascar', 'Antigua and Barbuda', 'Australia', 'United Republic of Tanzania', 'Comoros', 'Republic of Korea', 'Iceland', 'Poland', 'Madagascar', 'Bahrain', 'Canada', 'United States of America', 'Ghana', 'Costa Rica', 'Benin', 'Ecuador', 'Lithuania', 'Kyrgyzstan', 'Peru', 'Guatemala', 'Myanmar', 'Guyana', 'Republic of Korea', 'United Kingdom of Great Britain and Northern Ireland', 'Benin', 'Romania', 'Chile', 'Cambodia', 'Ethiopia', 'Togo', 'Jamaica', 'Cambodia', 'Comoros', 'El Salvador', 'United Republic of Tanzania', 'Uganda', 'Trinidad and Tobago', \"Democratic People's Republic of Korea\", 'Malaysia', 'Japan', 'Iran (Islamic Republic of)', 'Poland', 'Sudan', 'Austria', 'Slovakia', 'Equatorial Guinea', 'Antigua and Barbuda', 'Libya', 'Equatorial Guinea', 'Mongolia', 'United Arab Emirates', 'Comoros', 'Colombia', 'Suriname', 'United Arab Emirates', 'Brunei Darussalam', 'Gabon', 'Brazil', 'Ireland', 'Malawi', 'Uganda', 'Cameroon', 'Jamaica', 'Luxembourg', 'Latvia', 'Gambia', 'Switzerland', 'Mali', 'Trinidad and Tobago', 'Nepal', 'Gabon', 'Philippines', 'Zimbabwe', 'Namibia', 'Angola', 'Bahrain', 'Slovakia', 'Belarus', 'Switzerland', 'Guinea-Bissau', 'Guyana', 'Cyprus', 'Finland', 'Japan', 'Central African Republic', 'Qatar', 'Oman', 'Venezuela (Bolivarian Republic of)', 'Cambodia', 'Argentina', 'Turkey', 'Iraq', 'Djibouti', 'Sudan', 'Djibouti', 'Jordan', 'Tunisia', 'Equatorial Guinea', 'Philippines', 'Myanmar', 'Saint Kitts and Nevis', 'Israel', 'Canada', 'Japan', 'Lithuania', 'South Africa', 'Viet Nam', 'New Zealand', 'Hungary', 'Ukraine', 'Panama', 'Suriname', 'Suriname', 'Israel', 'United Arab Emirates', 'Cabo Verde', 'Lebanon', 'Mali', 'Greece', 'Philippines', 'Ethiopia', 'Saudi Arabia', 'Latvia', 'Nicaragua', 'Afghanistan', 'El Salvador', 'Lesotho', 'Honduras', 'Algeria', 'Egypt', 'Greece', 'Oman', 'Brazil', 'Jordan', 'Mozambique', 'Iran (Islamic Republic of)', 'Malta', 'India', 'Romania', 'Belize', 'Lebanon', 'Democratic Republic of the Congo', 'Trinidad and Tobago', 'Libya', 'Iran (Islamic Republic of)', 'Sao Tome and Principe', 'Oman', 'Chile', 'Lebanon', 'Germany', 'Chad', 'Senegal', 'Luxembourg', 'South Africa', 'Zambia', 'El Salvador', 'Switzerland', 'Kiribati', 'Samoa', 'Brunei Darussalam', \"Lao People's Democratic Republic\", 'Haiti', 'Portugal', 'Romania', 'Guatemala', 'Somalia', 'Sri Lanka', 'Portugal', 'France', 'Algeria', 'Ghana', 'Ghana', 'Guyana', 'Botswana', 'India', 'Jamaica', 'Brazil', 'United Kingdom of Great Britain and Northern Ireland', 'Antigua and Barbuda', 'China', 'Yemen', 'Saint Kitts and Nevis', 'Morocco', 'Indonesia', 'Democratic Republic of the Congo', 'Mauritania', 'Ireland', 'Latvia', 'Rwanda', \"Cte d'Ivoire\", 'Chile', 'Slovenia', 'Slovenia', 'Papua New Guinea', 'Papua New Guinea', 'Belize', 'Bolivia (Plurinational State of)', 'Cuba', 'Saint Lucia', 'Brazil', 'Niger', 'Burundi', 'Mexico', 'Yemen', 'Norway', 'Albania', 'Guinea', 'Kuwait', 'Kuwait', 'Turkey', 'Kenya', 'Suriname', 'Belgium', 'Liberia', 'Mauritius', 'Bangladesh', 'Trinidad and Tobago', 'New Zealand', 'Cuba', 'Cuba', 'Bahamas', 'Peru', 'Benin', 'Malawi', 'Austria', 'Democratic Republic of the Congo', 'Botswana', 'Togo', 'Chad', 'United Republic of Tanzania', 'Brunei Darussalam', 'Bulgaria', 'Denmark', 'Colombia', 'Afghanistan', 'Burundi', 'Belarus', 'Senegal', 'Bahrain', 'Italy', 'Morocco', 'Central African Republic', 'Argentina', 'Cabo Verde', 'Sierra Leone', 'Micronesia (Federated States of)', 'Iraq', 'Kiribati', 'Bahamas', 'Uganda', 'Kyrgyzstan', 'Qatar', 'Nepal', 'Argentina', 'Netherlands', 'China', 'Indonesia', 'Solomon Islands', 'Japan', 'Mozambique', 'Guinea-Bissau', 'Slovakia', 'Paraguay', 'Austria', 'Haiti', 'Kyrgyzstan', 'Ecuador', 'Papua New Guinea', 'Guatemala', 'Malawi', 'Ethiopia', 'Republic of Korea', 'Gabon', 'Romania', 'Lesotho', 'Swaziland', 'Malaysia', 'Belize', 'Hungary', 'Thailand', 'Lithuania', 'Cambodia', 'Angola', 'Saint Lucia', 'Mauritania', 'Kenya', 'Saudi Arabia', 'Ireland', 'Oman', 'Micronesia (Federated States of)', 'Czech Republic', 'Spain', 'Haiti', 'Nigeria', 'Paraguay', 'Bhutan', 'Turkey', 'Ireland', 'Iran (Islamic Republic of)', 'Mozambique', 'Kiribati', 'Mali', 'Belarus', 'Singapore', \"Lao People's Democratic Republic\", 'Belarus', 'Peru', 'Jordan', 'Guatemala', 'Djibouti', 'Canada', 'Liberia', 'Burkina Faso', 'Zimbabwe', 'Sweden', 'Paraguay', 'Paraguay', 'Belize', 'Seychelles', 'Viet Nam', 'Slovenia', 'Poland', 'United Arab Emirates', 'Bulgaria', 'Fiji', 'Switzerland', 'Swaziland']\n"
     ]
    }
   ],
   "source": [
    "def mean_alc_per_year(year, data=world_alcohol):\n",
    "    # year: annee selectionné par l'utilisateur\n",
    "    # data: la liste a étudier, par défaut c'est world_alcohol\n",
    "\n",
    "\n",
    "    dico = {} # recuperer toutes les valeurs de consomation d'alcohol\n",
    "    compteur = {} # compter combien de fois un pays est écrit dans le tableau\n",
    "    test = [] # enregistrer les noms de pays\n",
    "    for info in my_data[1:]: # je parcour les lignes une par une   \n",
    "        if info[0] == year : # on selectionne l'anne\n",
    "            nom_pays = info[2]\n",
    "            value = np.float(info[-1]) # string to float\n",
    "            # on verifie qu'il y a une valeur\n",
    "            if np.isnan(value): # est ce que c'est un not a number\n",
    "                value = 0\n",
    "            # on test si le pays a deja une valeur\n",
    "            if(nom_pays in dico ):\n",
    "                dico[nom_pays] += value\n",
    "                compteur[nom_pays] += 1\n",
    "            else:\n",
    "                if(value!=0):\n",
    "                    dico[nom_pays] = value # créé un nouvelle entré dans le dico\n",
    "                    compteur[nom_pays] = 1\n",
    "               \n",
    "            test.append(nom_pays) # stock tous les pays que l'on a compté\n",
    "    # on calcul la moyenne\n",
    "   \n",
    "    resultat = {}\n",
    "    for pays in np.unique(test):\n",
    "        val = dico[pays]\n",
    "        cpt = compteur[pays]\n",
    "        resultat[pays] = val/cpt\n",
    "    return resultat, dico, test\n",
    "\n",
    "resultat, dico, test= mean_alc_per_year('1986')\n",
    "\n",
    "print(test)\n",
    "# print( resultat )\n",
    "       \n"
   ]
  },
  {
   "cell_type": "code",
   "execution_count": 3,
   "metadata": {},
   "outputs": [],
   "source": [
    "import pandas as pd\n",
    "\n",
    "df=pd.read_csv('world_alcohol.csv', sep=',',header=None) #lis le fichier csv dans une variable de type panda\n",
    "\n",
    "\n",
    "\n",
    "\n",
    "\n",
    "\n"
   ]
  }
 ],
 "metadata": {
  "kernelspec": {
   "display_name": "Python 3",
   "language": "python",
   "name": "python3"
  },
  "language_info": {
   "codemirror_mode": {
    "name": "ipython",
    "version": 3
   },
   "file_extension": ".py",
   "mimetype": "text/x-python",
   "name": "python",
   "nbconvert_exporter": "python",
   "pygments_lexer": "ipython3",
   "version": "3.8.5"
  }
 },
 "nbformat": 4,
 "nbformat_minor": 4
}
