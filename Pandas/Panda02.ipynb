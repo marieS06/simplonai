{
 "cells": [
  {
   "cell_type": "code",
   "execution_count": 60,
   "metadata": {},
   "outputs": [
    {
     "data": {
      "text/html": [
       "<div>\n",
       "<style scoped>\n",
       "    .dataframe tbody tr th:only-of-type {\n",
       "        vertical-align: middle;\n",
       "    }\n",
       "\n",
       "    .dataframe tbody tr th {\n",
       "        vertical-align: top;\n",
       "    }\n",
       "\n",
       "    .dataframe thead th {\n",
       "        text-align: right;\n",
       "    }\n",
       "</style>\n",
       "<table border=\"1\" class=\"dataframe\">\n",
       "  <thead>\n",
       "    <tr style=\"text-align: right;\">\n",
       "      <th></th>\n",
       "      <th>FILM</th>\n",
       "      <th>RottenTomatoes</th>\n",
       "      <th>RottenTomatoes_User</th>\n",
       "      <th>Metacritic</th>\n",
       "      <th>Metacritic_User</th>\n",
       "      <th>IMDB</th>\n",
       "      <th>Fandango_Stars</th>\n",
       "      <th>Fandango_Ratingvalue</th>\n",
       "      <th>RT_norm</th>\n",
       "      <th>RT_user_norm</th>\n",
       "      <th>...</th>\n",
       "      <th>IMDB_norm</th>\n",
       "      <th>RT_norm_round</th>\n",
       "      <th>RT_user_norm_round</th>\n",
       "      <th>Metacritic_norm_round</th>\n",
       "      <th>Metacritic_user_norm_round</th>\n",
       "      <th>IMDB_norm_round</th>\n",
       "      <th>Metacritic_user_vote_count</th>\n",
       "      <th>IMDB_user_vote_count</th>\n",
       "      <th>Fandango_votes</th>\n",
       "      <th>Fandango_Difference</th>\n",
       "    </tr>\n",
       "  </thead>\n",
       "  <tbody>\n",
       "    <tr>\n",
       "      <th>0</th>\n",
       "      <td>Avengers: Age of Ultron (2015)</td>\n",
       "      <td>74</td>\n",
       "      <td>86</td>\n",
       "      <td>66</td>\n",
       "      <td>7.1</td>\n",
       "      <td>7.8</td>\n",
       "      <td>5.0</td>\n",
       "      <td>4.5</td>\n",
       "      <td>3.70</td>\n",
       "      <td>4.3</td>\n",
       "      <td>...</td>\n",
       "      <td>3.90</td>\n",
       "      <td>3.5</td>\n",
       "      <td>4.5</td>\n",
       "      <td>3.5</td>\n",
       "      <td>3.5</td>\n",
       "      <td>4.0</td>\n",
       "      <td>1330</td>\n",
       "      <td>271107</td>\n",
       "      <td>14846</td>\n",
       "      <td>0.5</td>\n",
       "    </tr>\n",
       "    <tr>\n",
       "      <th>1</th>\n",
       "      <td>Cinderella (2015)</td>\n",
       "      <td>85</td>\n",
       "      <td>80</td>\n",
       "      <td>67</td>\n",
       "      <td>7.5</td>\n",
       "      <td>7.1</td>\n",
       "      <td>5.0</td>\n",
       "      <td>4.5</td>\n",
       "      <td>4.25</td>\n",
       "      <td>4.0</td>\n",
       "      <td>...</td>\n",
       "      <td>3.55</td>\n",
       "      <td>4.5</td>\n",
       "      <td>4.0</td>\n",
       "      <td>3.5</td>\n",
       "      <td>4.0</td>\n",
       "      <td>3.5</td>\n",
       "      <td>249</td>\n",
       "      <td>65709</td>\n",
       "      <td>12640</td>\n",
       "      <td>0.5</td>\n",
       "    </tr>\n",
       "  </tbody>\n",
       "</table>\n",
       "<p>2 rows × 22 columns</p>\n",
       "</div>"
      ],
      "text/plain": [
       "                             FILM  RottenTomatoes  RottenTomatoes_User  \\\n",
       "0  Avengers: Age of Ultron (2015)              74                   86   \n",
       "1               Cinderella (2015)              85                   80   \n",
       "\n",
       "   Metacritic  Metacritic_User  IMDB  Fandango_Stars  Fandango_Ratingvalue  \\\n",
       "0          66              7.1   7.8             5.0                   4.5   \n",
       "1          67              7.5   7.1             5.0                   4.5   \n",
       "\n",
       "   RT_norm  RT_user_norm  ...  IMDB_norm  RT_norm_round  RT_user_norm_round  \\\n",
       "0     3.70           4.3  ...       3.90            3.5                 4.5   \n",
       "1     4.25           4.0  ...       3.55            4.5                 4.0   \n",
       "\n",
       "   Metacritic_norm_round  Metacritic_user_norm_round  IMDB_norm_round  \\\n",
       "0                    3.5                         3.5              4.0   \n",
       "1                    3.5                         4.0              3.5   \n",
       "\n",
       "   Metacritic_user_vote_count  IMDB_user_vote_count  Fandango_votes  \\\n",
       "0                        1330                271107           14846   \n",
       "1                         249                 65709           12640   \n",
       "\n",
       "   Fandango_Difference  \n",
       "0                  0.5  \n",
       "1                  0.5  \n",
       "\n",
       "[2 rows x 22 columns]"
      ]
     },
     "execution_count": 60,
     "metadata": {},
     "output_type": "execute_result"
    }
   ],
   "source": [
    "import pandas as pd\n",
    "import numpy as np\n",
    "fandago = pd.read_csv(\"fandango_score_comparison.csv\")\n",
    "\n",
    "fandago.head(2)\n"
   ]
  },
  {
   "cell_type": "code",
   "execution_count": 6,
   "metadata": {},
   "outputs": [],
   "source": [
    "#objet serie\n",
    "### Types de données d'un objet Series : \n",
    "# - Float\n",
    "# - Int\n",
    "# - Bool\n",
    "# - Datetime64[ns] : Date et horaire sans la time zone\n",
    "# - Datetime[ns, tz] : Date et horaire avec la time zone\n",
    "# - Timedelta[ns] : Différence de date et horaire (seconde, minute, …)\n",
    "# - Category : pour les variables catégorielles\n",
    "# - Object : chaîne de caractère."
   ]
  },
  {
   "cell_type": "code",
   "execution_count": 58,
   "metadata": {},
   "outputs": [
    {
     "name": "stdout",
     "output_type": "stream",
     "text": [
      "<class 'pandas.core.series.Series'>\n",
      "\n",
      "0    Avengers: Age of Ultron (2015)\n",
      "1                 Cinderella (2015)\n",
      "2                    Ant-Man (2015)\n",
      "3            Do You Believe? (2015)\n",
      "4     Hot Tub Time Machine 2 (2015)\n",
      "Name: FILM, dtype: object\n"
     ]
    }
   ],
   "source": [
    "series_film = fandago['FILM']\n",
    "print(type(series_film))\n",
    "print()\n",
    "print(series_film[0:5])"
   ]
  },
  {
   "cell_type": "code",
   "execution_count": 59,
   "metadata": {},
   "outputs": [
    {
     "name": "stdout",
     "output_type": "stream",
     "text": [
      "0    74\n",
      "1    85\n",
      "2    80\n",
      "3    18\n",
      "4    14\n",
      "Name: RottenTomatoes, dtype: int64\n"
     ]
    }
   ],
   "source": [
    "## Indexage avec des entiers\n",
    "# - Sélectionner la colonne \"FILM\" et assigner la à la variable series_film puis afficher les 5 premières valeurs.\n",
    "# - Faire de même avec la colonne \"RottenTomatoes\" et assigner la à la variable series_rt puis afficher les 5 premières valeurs.\n",
    "\n",
    "series_rt = fandago['RottenTomatoes']\n",
    "print(series_rt[0:5])"
   ]
  },
  {
   "cell_type": "code",
   "execution_count": 10,
   "metadata": {},
   "outputs": [],
   "source": [
    "# personnaliser son indexage\n",
    "\n",
    "from pandas import Series"
   ]
  },
  {
   "cell_type": "code",
   "execution_count": 11,
   "metadata": {},
   "outputs": [
    {
     "data": {
      "text/plain": [
       "numpy.ndarray"
      ]
     },
     "execution_count": 11,
     "metadata": {},
     "output_type": "execute_result"
    }
   ],
   "source": [
    "film_names = series_film.values\n",
    "rt_scores = series_rt.values\n",
    "type(film_names)"
   ]
  },
  {
   "cell_type": "code",
   "execution_count": 13,
   "metadata": {},
   "outputs": [],
   "source": [
    "series_custom = Series(rt_scores, index=film_names)\n",
    "#  CELLE QUI ST CONTENUES"
   ]
  },
  {
   "cell_type": "code",
   "execution_count": 14,
   "metadata": {},
   "outputs": [
    {
     "data": {
      "text/plain": [
       "Avengers: Age of Ultron (2015)                74\n",
       "Cinderella (2015)                             85\n",
       "Ant-Man (2015)                                80\n",
       "Do You Believe? (2015)                        18\n",
       "Hot Tub Time Machine 2 (2015)                 14\n",
       "                                            ... \n",
       "Mr. Holmes (2015)                             87\n",
       "'71 (2015)                                    97\n",
       "Two Days, One Night (2014)                    97\n",
       "Gett: The Trial of Viviane Amsalem (2015)    100\n",
       "Kumiko, The Treasure Hunter (2015)            87\n",
       "Length: 146, dtype: int64"
      ]
     },
     "execution_count": 14,
     "metadata": {},
     "output_type": "execute_result"
    }
   ],
   "source": [
    "series_custom"
   ]
  },
  {
   "cell_type": "code",
   "execution_count": 15,
   "metadata": {},
   "outputs": [
    {
     "data": {
      "text/plain": [
       "Avengers: Age of Ultron (2015)                74\n",
       "Gett: The Trial of Viviane Amsalem (2015)    100\n",
       "dtype: int64"
      ]
     },
     "execution_count": 15,
     "metadata": {},
     "output_type": "execute_result"
    }
   ],
   "source": [
    "# j'ai choisi d'afficher\n",
    "series_custom[['Avengers: Age of Ultron (2015)', 'Gett: The Trial of Viviane Amsalem (2015)']]"
   ]
  },
  {
   "cell_type": "code",
   "execution_count": 16,
   "metadata": {},
   "outputs": [
    {
     "data": {
      "text/plain": [
       "The Water Diviner (2015)             63\n",
       "Irrational Man (2015)                42\n",
       "Top Five (2014)                      86\n",
       "Shaun the Sheep Movie (2015)         99\n",
       "Love & Mercy (2015)                  89\n",
       "Far From The Madding Crowd (2015)    84\n",
       "dtype: int64"
      ]
     },
     "execution_count": 16,
     "metadata": {},
     "output_type": "execute_result"
    }
   ],
   "source": [
    "series_custom[5:11]"
   ]
  },
  {
   "cell_type": "code",
   "execution_count": 17,
   "metadata": {},
   "outputs": [],
   "source": [
    "# reindexer un objet series\n",
    "original_index = series_custom.index\n",
    "sorted_index = sorted(original_index)\n",
    "sorted_by_index = series_custom.reindex(sorted_index)"
   ]
  },
  {
   "cell_type": "code",
   "execution_count": 18,
   "metadata": {
    "scrolled": true
   },
   "outputs": [
    {
     "name": "stdout",
     "output_type": "stream",
     "text": [
      "'71 (2015)                          97\n",
      "5 Flights Up (2015)                 52\n",
      "A Little Chaos (2015)               40\n",
      "A Most Violent Year (2014)          90\n",
      "About Elly (2015)                   97\n",
      "                                    ..\n",
      "What We Do in the Shadows (2015)    96\n",
      "When Marnie Was There (2015)        89\n",
      "While We're Young (2015)            83\n",
      "Wild Tales (2014)                   96\n",
      "Woman in Gold (2015)                52\n",
      "Length: 146, dtype: int64\n"
     ]
    }
   ],
   "source": [
    "## Réindexer un objet Series\n",
    "# - Créer la liste original_index contenant l'index actuel à partir de l'attribut index.\n",
    "# - Trier cet index en utilisant la méthode sorted() et assigner le résultat à la variable sorted_index.\n",
    "# - Puis appliquer la méthode reindex() à notre Series custom_series afin de réindexer selon l'index de sorted_index.\n",
    "# - Stocker le résultat dans la variable sorted_by_index.\n",
    "# - Afficher le résultat.\n",
    "print(sorted_by_index)"
   ]
  },
  {
   "cell_type": "code",
   "execution_count": 19,
   "metadata": {},
   "outputs": [],
   "source": [
    "sc2 = series_custom.sort_index()\n",
    "sc3 = series_custom.sort_values()"
   ]
  },
  {
   "cell_type": "code",
   "execution_count": 20,
   "metadata": {},
   "outputs": [
    {
     "name": "stdout",
     "output_type": "stream",
     "text": [
      "'71 (2015)                    97\n",
      "5 Flights Up (2015)           52\n",
      "A Little Chaos (2015)         40\n",
      "A Most Violent Year (2014)    90\n",
      "About Elly (2015)             97\n",
      "Aloha (2015)                  19\n",
      "American Sniper (2015)        72\n",
      "American Ultra (2015)         46\n",
      "Amy (2015)                    97\n",
      "Annie (2014)                  27\n",
      "dtype: int64\n"
     ]
    }
   ],
   "source": [
    "print(sc2[0:10])"
   ]
  },
  {
   "cell_type": "code",
   "execution_count": 21,
   "metadata": {},
   "outputs": [
    {
     "name": "stdout",
     "output_type": "stream",
     "text": [
      "Paul Blart: Mall Cop 2 (2015)     5\n",
      "Hitman: Agent 47 (2015)           7\n",
      "Hot Pursuit (2015)                8\n",
      "Fantastic Four (2015)             9\n",
      "Taken 3 (2015)                    9\n",
      "The Boy Next Door (2015)         10\n",
      "The Loft (2015)                  11\n",
      "Unfinished Business (2015)       11\n",
      "Mortdecai (2015)                 12\n",
      "Seventh Son (2015)               12\n",
      "dtype: int64\n"
     ]
    }
   ],
   "source": [
    "print(sc3[0:10])\n",
    "\n",
    "## Trier un objet Series\n",
    "# - Trier la Series series_custom par index en utilisant la méthode sort_index() et assigner le résultat à la variable sc2.\n",
    "# - Trier la Series series_custom par valeurs et assigner le résultat à la variable sc3.\n",
    "# - Afficher les 10 premières valeurs de sc2 et sc3.\n"
   ]
  },
  {
   "cell_type": "code",
   "execution_count": 23,
   "metadata": {},
   "outputs": [
    {
     "data": {
      "text/plain": [
       "Avengers: Age of Ultron (2015)               3.70\n",
       "Cinderella (2015)                            4.25\n",
       "Ant-Man (2015)                               4.00\n",
       "Do You Believe? (2015)                       0.90\n",
       "Hot Tub Time Machine 2 (2015)                0.70\n",
       "                                             ... \n",
       "Mr. Holmes (2015)                            4.35\n",
       "'71 (2015)                                   4.85\n",
       "Two Days, One Night (2014)                   4.85\n",
       "Gett: The Trial of Viviane Amsalem (2015)    5.00\n",
       "Kumiko, The Treasure Hunter (2015)           4.35\n",
       "Length: 146, dtype: float64"
      ]
     },
     "execution_count": 23,
     "metadata": {},
     "output_type": "execute_result"
    }
   ],
   "source": [
    "# ascending false : descendant\n",
    "\n",
    "series_normalized = (series_custom/20)\n",
    "series_normalized\n",
    "\n",
    "## Transformation de colonnes\n",
    "# - Normaliser la Series series_custom (échelle de notes de 0 à 100) pour obtenir une échelle de notes de 0 à 5 en divisant l'objet par 20.\n",
    "# - Assigner le nouvel objet Series à la variable series_normalized.\n",
    "# - Afficher le résultat."
   ]
  },
  {
   "cell_type": "code",
   "execution_count": 24,
   "metadata": {},
   "outputs": [
    {
     "data": {
      "text/plain": [
       "Avengers: Age of Ultron (2015)                True\n",
       "Cinderella (2015)                             True\n",
       "Ant-Man (2015)                                True\n",
       "Do You Believe? (2015)                       False\n",
       "Hot Tub Time Machine 2 (2015)                False\n",
       "                                             ...  \n",
       "Mr. Holmes (2015)                             True\n",
       "'71 (2015)                                    True\n",
       "Two Days, One Night (2014)                    True\n",
       "Gett: The Trial of Viviane Amsalem (2015)     True\n",
       "Kumiko, The Treasure Hunter (2015)            True\n",
       "Length: 146, dtype: bool"
      ]
     },
     "execution_count": 24,
     "metadata": {},
     "output_type": "execute_result"
    }
   ],
   "source": [
    "criteria_one = series_custom > 50\n",
    "criteria_two = series_custom < 75\n",
    "criteria_one"
   ]
  },
  {
   "cell_type": "code",
   "execution_count": 26,
   "metadata": {},
   "outputs": [
    {
     "data": {
      "text/plain": [
       "Avengers: Age of Ultron (2015)                                            74\n",
       "The Water Diviner (2015)                                                  63\n",
       "Unbroken (2014)                                                           51\n",
       "Southpaw (2015)                                                           59\n",
       "Insidious: Chapter 3 (2015)                                               59\n",
       "The Man From U.N.C.L.E. (2015)                                            68\n",
       "Run All Night (2015)                                                      60\n",
       "5 Flights Up (2015)                                                       52\n",
       "Welcome to Me (2015)                                                      71\n",
       "Saint Laurent (2015)                                                      51\n",
       "Maps to the Stars (2015)                                                  60\n",
       "Pitch Perfect 2 (2015)                                                    67\n",
       "The Age of Adaline (2015)                                                 54\n",
       "The DUFF (2015)                                                           71\n",
       "Ricki and the Flash (2015)                                                64\n",
       "Unfriended (2015)                                                         60\n",
       "American Sniper (2015)                                                    72\n",
       "The Hobbit: The Battle of the Five Armies (2014)                          61\n",
       "Paper Towns (2015)                                                        55\n",
       "Big Eyes (2014)                                                           72\n",
       "Maggie (2015)                                                             54\n",
       "Focus (2015)                                                              57\n",
       "The Second Best Exotic Marigold Hotel (2015)                              62\n",
       "The 100-Year-Old Man Who Climbed Out the Window and Disappeared (2015)    67\n",
       "Escobar: Paradise Lost (2015)                                             52\n",
       "Into the Woods (2014)                                                     71\n",
       "Inherent Vice (2014)                                                      73\n",
       "Magic Mike XXL (2015)                                                     62\n",
       "Woman in Gold (2015)                                                      52\n",
       "The Last Five Years (2015)                                                60\n",
       "Jurassic World (2015)                                                     71\n",
       "Minions (2015)                                                            54\n",
       "Spare Parts (2015)                                                        52\n",
       "dtype: int64"
      ]
     },
     "execution_count": 26,
     "metadata": {},
     "output_type": "execute_result"
    }
   ],
   "source": [
    "both_criteria = series_custom[criteria_one & criteria_two]\n",
    "both_criteria\n",
    "## Comparer et filtrer\n",
    "# - Assigner à la variable criteria_one le critère des valeurs de series_custom supérieurs à 50.\n",
    "# - Assigner à la variable criteria_two le critère des valeurs de series_custom inférieurs à 75.\n",
    "# - Retourner un nouvel objet Series filtré qu'on nommera both_criteria qui contient seulement les valeurs pour lesquelles les 2 critères sont vrais.\n",
    "# - Afficher ce dernier résultat.\n"
   ]
  },
  {
   "cell_type": "code",
   "execution_count": 27,
   "metadata": {},
   "outputs": [],
   "source": [
    "rt_critics = Series(fandago['RottenTomatoes'].values, index=fandago['FILM'])\n",
    "rt_users = Series(fandago['RottenTomatoes_User'].values, index=fandago['FILM'])"
   ]
  },
  {
   "cell_type": "code",
   "execution_count": 30,
   "metadata": {},
   "outputs": [],
   "source": [
    "rt_mean = (rt_critics + rt_users)/2"
   ]
  },
  {
   "cell_type": "code",
   "execution_count": 31,
   "metadata": {},
   "outputs": [
    {
     "name": "stdout",
     "output_type": "stream",
     "text": [
      "FILM\n",
      "Avengers: Age of Ultron (2015)               80.0\n",
      "Cinderella (2015)                            82.5\n",
      "Ant-Man (2015)                               85.0\n",
      "Do You Believe? (2015)                       51.0\n",
      "Hot Tub Time Machine 2 (2015)                21.0\n",
      "                                             ... \n",
      "Mr. Holmes (2015)                            82.5\n",
      "'71 (2015)                                   89.5\n",
      "Two Days, One Night (2014)                   87.5\n",
      "Gett: The Trial of Viviane Amsalem (2015)    90.5\n",
      "Kumiko, The Treasure Hunter (2015)           75.0\n",
      "Length: 146, dtype: float64\n"
     ]
    }
   ],
   "source": [
    "print(rt_mean)"
   ]
  },
  {
   "cell_type": "code",
   "execution_count": 33,
   "metadata": {},
   "outputs": [
    {
     "name": "stdout",
     "output_type": "stream",
     "text": [
      "146\n"
     ]
    }
   ],
   "source": [
    "# tout sur les objets dataframes Pandas\n",
    "first = 0\n",
    "last = fandago.shape[0]-1\n",
    "# renvoie \n",
    "print(fandago.shape[0])"
   ]
  },
  {
   "cell_type": "code",
   "execution_count": 34,
   "metadata": {},
   "outputs": [
    {
     "data": {
      "text/html": [
       "<div>\n",
       "<style scoped>\n",
       "    .dataframe tbody tr th:only-of-type {\n",
       "        vertical-align: middle;\n",
       "    }\n",
       "\n",
       "    .dataframe tbody tr th {\n",
       "        vertical-align: top;\n",
       "    }\n",
       "\n",
       "    .dataframe thead th {\n",
       "        text-align: right;\n",
       "    }\n",
       "</style>\n",
       "<table border=\"1\" class=\"dataframe\">\n",
       "  <thead>\n",
       "    <tr style=\"text-align: right;\">\n",
       "      <th></th>\n",
       "      <th>FILM</th>\n",
       "      <th>RottenTomatoes</th>\n",
       "      <th>RottenTomatoes_User</th>\n",
       "      <th>Metacritic</th>\n",
       "      <th>Metacritic_User</th>\n",
       "      <th>IMDB</th>\n",
       "      <th>Fandango_Stars</th>\n",
       "      <th>Fandango_Ratingvalue</th>\n",
       "      <th>RT_norm</th>\n",
       "      <th>RT_user_norm</th>\n",
       "      <th>...</th>\n",
       "      <th>IMDB_norm</th>\n",
       "      <th>RT_norm_round</th>\n",
       "      <th>RT_user_norm_round</th>\n",
       "      <th>Metacritic_norm_round</th>\n",
       "      <th>Metacritic_user_norm_round</th>\n",
       "      <th>IMDB_norm_round</th>\n",
       "      <th>Metacritic_user_vote_count</th>\n",
       "      <th>IMDB_user_vote_count</th>\n",
       "      <th>Fandango_votes</th>\n",
       "      <th>Fandango_Difference</th>\n",
       "    </tr>\n",
       "  </thead>\n",
       "  <tbody>\n",
       "    <tr>\n",
       "      <th>0</th>\n",
       "      <td>Avengers: Age of Ultron (2015)</td>\n",
       "      <td>74</td>\n",
       "      <td>86</td>\n",
       "      <td>66</td>\n",
       "      <td>7.1</td>\n",
       "      <td>7.8</td>\n",
       "      <td>5.0</td>\n",
       "      <td>4.5</td>\n",
       "      <td>3.70</td>\n",
       "      <td>4.30</td>\n",
       "      <td>...</td>\n",
       "      <td>3.90</td>\n",
       "      <td>3.5</td>\n",
       "      <td>4.5</td>\n",
       "      <td>3.5</td>\n",
       "      <td>3.5</td>\n",
       "      <td>4.0</td>\n",
       "      <td>1330</td>\n",
       "      <td>271107</td>\n",
       "      <td>14846</td>\n",
       "      <td>0.5</td>\n",
       "    </tr>\n",
       "    <tr>\n",
       "      <th>145</th>\n",
       "      <td>Kumiko, The Treasure Hunter (2015)</td>\n",
       "      <td>87</td>\n",
       "      <td>63</td>\n",
       "      <td>68</td>\n",
       "      <td>6.4</td>\n",
       "      <td>6.7</td>\n",
       "      <td>3.5</td>\n",
       "      <td>3.5</td>\n",
       "      <td>4.35</td>\n",
       "      <td>3.15</td>\n",
       "      <td>...</td>\n",
       "      <td>3.35</td>\n",
       "      <td>4.5</td>\n",
       "      <td>3.0</td>\n",
       "      <td>3.5</td>\n",
       "      <td>3.0</td>\n",
       "      <td>3.5</td>\n",
       "      <td>19</td>\n",
       "      <td>5289</td>\n",
       "      <td>41</td>\n",
       "      <td>0.0</td>\n",
       "    </tr>\n",
       "  </tbody>\n",
       "</table>\n",
       "<p>2 rows × 22 columns</p>\n",
       "</div>"
      ],
      "text/plain": [
       "                                   FILM  RottenTomatoes  RottenTomatoes_User  \\\n",
       "0        Avengers: Age of Ultron (2015)              74                   86   \n",
       "145  Kumiko, The Treasure Hunter (2015)              87                   63   \n",
       "\n",
       "     Metacritic  Metacritic_User  IMDB  Fandango_Stars  Fandango_Ratingvalue  \\\n",
       "0            66              7.1   7.8             5.0                   4.5   \n",
       "145          68              6.4   6.7             3.5                   3.5   \n",
       "\n",
       "     RT_norm  RT_user_norm  ...  IMDB_norm  RT_norm_round  RT_user_norm_round  \\\n",
       "0       3.70          4.30  ...       3.90            3.5                 4.5   \n",
       "145     4.35          3.15  ...       3.35            4.5                 3.0   \n",
       "\n",
       "     Metacritic_norm_round  Metacritic_user_norm_round  IMDB_norm_round  \\\n",
       "0                      3.5                         3.5              4.0   \n",
       "145                    3.5                         3.0              3.5   \n",
       "\n",
       "     Metacritic_user_vote_count  IMDB_user_vote_count  Fandango_votes  \\\n",
       "0                          1330                271107           14846   \n",
       "145                          19                  5289              41   \n",
       "\n",
       "     Fandango_Difference  \n",
       "0                    0.5  \n",
       "145                  0.0  \n",
       "\n",
       "[2 rows x 22 columns]"
      ]
     },
     "execution_count": 34,
     "metadata": {},
     "output_type": "execute_result"
    }
   ],
   "source": [
    "first_last = fandago.iloc[[first,last]]\n",
    "first_last\n",
    "# je recup la 1 et la derniere ligne"
   ]
  },
  {
   "cell_type": "code",
   "execution_count": 38,
   "metadata": {},
   "outputs": [
    {
     "name": "stdout",
     "output_type": "stream",
     "text": [
      "Index(['Avengers: Age of Ultron (2015)', 'Cinderella (2015)', 'Ant-Man (2015)',\n",
      "       'Do You Believe? (2015)', 'Hot Tub Time Machine 2 (2015)',\n",
      "       'The Water Diviner (2015)', 'Irrational Man (2015)', 'Top Five (2014)',\n",
      "       'Shaun the Sheep Movie (2015)', 'Love & Mercy (2015)',\n",
      "       ...\n",
      "       'The Woman In Black 2 Angel of Death (2015)', 'Danny Collins (2015)',\n",
      "       'Spare Parts (2015)', 'Serena (2015)', 'Inside Out (2015)',\n",
      "       'Mr. Holmes (2015)', ''71 (2015)', 'Two Days, One Night (2014)',\n",
      "       'Gett: The Trial of Viviane Amsalem (2015)',\n",
      "       'Kumiko, The Treasure Hunter (2015)'],\n",
      "      dtype='object', name='FILM', length=146)\n"
     ]
    }
   ],
   "source": [
    "# set index pour nommer l'index , nom de la colonne \n",
    "fandago_films = fandago.set_index('FILM', drop=False)\n",
    "print(fandago_films.index)"
   ]
  },
  {
   "cell_type": "code",
   "execution_count": 40,
   "metadata": {},
   "outputs": [
    {
     "data": {
      "text/html": [
       "<div>\n",
       "<style scoped>\n",
       "    .dataframe tbody tr th:only-of-type {\n",
       "        vertical-align: middle;\n",
       "    }\n",
       "\n",
       "    .dataframe tbody tr th {\n",
       "        vertical-align: top;\n",
       "    }\n",
       "\n",
       "    .dataframe thead th {\n",
       "        text-align: right;\n",
       "    }\n",
       "</style>\n",
       "<table border=\"1\" class=\"dataframe\">\n",
       "  <thead>\n",
       "    <tr style=\"text-align: right;\">\n",
       "      <th></th>\n",
       "      <th>FILM</th>\n",
       "      <th>RottenTomatoes</th>\n",
       "      <th>RottenTomatoes_User</th>\n",
       "      <th>Metacritic</th>\n",
       "      <th>Metacritic_User</th>\n",
       "      <th>IMDB</th>\n",
       "      <th>Fandango_Stars</th>\n",
       "      <th>Fandango_Ratingvalue</th>\n",
       "      <th>RT_norm</th>\n",
       "      <th>RT_user_norm</th>\n",
       "      <th>...</th>\n",
       "      <th>IMDB_norm</th>\n",
       "      <th>RT_norm_round</th>\n",
       "      <th>RT_user_norm_round</th>\n",
       "      <th>Metacritic_norm_round</th>\n",
       "      <th>Metacritic_user_norm_round</th>\n",
       "      <th>IMDB_norm_round</th>\n",
       "      <th>Metacritic_user_vote_count</th>\n",
       "      <th>IMDB_user_vote_count</th>\n",
       "      <th>Fandango_votes</th>\n",
       "      <th>Fandango_Difference</th>\n",
       "    </tr>\n",
       "    <tr>\n",
       "      <th>FILM</th>\n",
       "      <th></th>\n",
       "      <th></th>\n",
       "      <th></th>\n",
       "      <th></th>\n",
       "      <th></th>\n",
       "      <th></th>\n",
       "      <th></th>\n",
       "      <th></th>\n",
       "      <th></th>\n",
       "      <th></th>\n",
       "      <th></th>\n",
       "      <th></th>\n",
       "      <th></th>\n",
       "      <th></th>\n",
       "      <th></th>\n",
       "      <th></th>\n",
       "      <th></th>\n",
       "      <th></th>\n",
       "      <th></th>\n",
       "      <th></th>\n",
       "      <th></th>\n",
       "    </tr>\n",
       "  </thead>\n",
       "  <tbody>\n",
       "    <tr>\n",
       "      <th>Top Five (2014)</th>\n",
       "      <td>Top Five (2014)</td>\n",
       "      <td>86</td>\n",
       "      <td>64</td>\n",
       "      <td>81</td>\n",
       "      <td>6.8</td>\n",
       "      <td>6.5</td>\n",
       "      <td>4.0</td>\n",
       "      <td>3.5</td>\n",
       "      <td>4.30</td>\n",
       "      <td>3.2</td>\n",
       "      <td>...</td>\n",
       "      <td>3.25</td>\n",
       "      <td>4.5</td>\n",
       "      <td>3.0</td>\n",
       "      <td>4.0</td>\n",
       "      <td>3.5</td>\n",
       "      <td>3.5</td>\n",
       "      <td>124</td>\n",
       "      <td>16876</td>\n",
       "      <td>3223</td>\n",
       "      <td>0.5</td>\n",
       "    </tr>\n",
       "    <tr>\n",
       "      <th>Black Sea (2015)</th>\n",
       "      <td>Black Sea (2015)</td>\n",
       "      <td>82</td>\n",
       "      <td>60</td>\n",
       "      <td>62</td>\n",
       "      <td>6.6</td>\n",
       "      <td>6.4</td>\n",
       "      <td>4.0</td>\n",
       "      <td>3.5</td>\n",
       "      <td>4.10</td>\n",
       "      <td>3.0</td>\n",
       "      <td>...</td>\n",
       "      <td>3.20</td>\n",
       "      <td>4.0</td>\n",
       "      <td>3.0</td>\n",
       "      <td>3.0</td>\n",
       "      <td>3.5</td>\n",
       "      <td>3.0</td>\n",
       "      <td>37</td>\n",
       "      <td>16547</td>\n",
       "      <td>218</td>\n",
       "      <td>0.5</td>\n",
       "    </tr>\n",
       "    <tr>\n",
       "      <th>Taken 3 (2015)</th>\n",
       "      <td>Taken 3 (2015)</td>\n",
       "      <td>9</td>\n",
       "      <td>46</td>\n",
       "      <td>26</td>\n",
       "      <td>4.6</td>\n",
       "      <td>6.1</td>\n",
       "      <td>4.5</td>\n",
       "      <td>4.1</td>\n",
       "      <td>0.45</td>\n",
       "      <td>2.3</td>\n",
       "      <td>...</td>\n",
       "      <td>3.05</td>\n",
       "      <td>0.5</td>\n",
       "      <td>2.5</td>\n",
       "      <td>1.5</td>\n",
       "      <td>2.5</td>\n",
       "      <td>3.0</td>\n",
       "      <td>240</td>\n",
       "      <td>104235</td>\n",
       "      <td>6757</td>\n",
       "      <td>0.4</td>\n",
       "    </tr>\n",
       "  </tbody>\n",
       "</table>\n",
       "<p>3 rows × 22 columns</p>\n",
       "</div>"
      ],
      "text/plain": [
       "                              FILM  RottenTomatoes  RottenTomatoes_User  \\\n",
       "FILM                                                                      \n",
       "Top Five (2014)    Top Five (2014)              86                   64   \n",
       "Black Sea (2015)  Black Sea (2015)              82                   60   \n",
       "Taken 3 (2015)      Taken 3 (2015)               9                   46   \n",
       "\n",
       "                  Metacritic  Metacritic_User  IMDB  Fandango_Stars  \\\n",
       "FILM                                                                  \n",
       "Top Five (2014)           81              6.8   6.5             4.0   \n",
       "Black Sea (2015)          62              6.6   6.4             4.0   \n",
       "Taken 3 (2015)            26              4.6   6.1             4.5   \n",
       "\n",
       "                  Fandango_Ratingvalue  RT_norm  RT_user_norm  ...  IMDB_norm  \\\n",
       "FILM                                                           ...              \n",
       "Top Five (2014)                    3.5     4.30           3.2  ...       3.25   \n",
       "Black Sea (2015)                   3.5     4.10           3.0  ...       3.20   \n",
       "Taken 3 (2015)                     4.1     0.45           2.3  ...       3.05   \n",
       "\n",
       "                  RT_norm_round  RT_user_norm_round  Metacritic_norm_round  \\\n",
       "FILM                                                                         \n",
       "Top Five (2014)             4.5                 3.0                    4.0   \n",
       "Black Sea (2015)            4.0                 3.0                    3.0   \n",
       "Taken 3 (2015)              0.5                 2.5                    1.5   \n",
       "\n",
       "                  Metacritic_user_norm_round  IMDB_norm_round  \\\n",
       "FILM                                                            \n",
       "Top Five (2014)                          3.5              3.5   \n",
       "Black Sea (2015)                         3.5              3.0   \n",
       "Taken 3 (2015)                           2.5              3.0   \n",
       "\n",
       "                  Metacritic_user_vote_count  IMDB_user_vote_count  \\\n",
       "FILM                                                                 \n",
       "Top Five (2014)                          124                 16876   \n",
       "Black Sea (2015)                          37                 16547   \n",
       "Taken 3 (2015)                           240                104235   \n",
       "\n",
       "                  Fandango_votes  Fandango_Difference  \n",
       "FILM                                                   \n",
       "Top Five (2014)             3223                  0.5  \n",
       "Black Sea (2015)             218                  0.5  \n",
       "Taken 3 (2015)              6757                  0.4  \n",
       "\n",
       "[3 rows x 22 columns]"
      ]
     },
     "execution_count": 40,
     "metadata": {},
     "output_type": "execute_result"
    }
   ],
   "source": [
    "# selectionner des valeurs depuis un index .loc\n",
    "\n",
    "movies = [\"Top Five (2014)\", \"Black Sea (2015)\", \"Taken 3 (2015)\"]\n",
    "some_movies = fandago_films.loc[movies]\n",
    "some_movies"
   ]
  },
  {
   "cell_type": "code",
   "execution_count": 41,
   "metadata": {},
   "outputs": [
    {
     "data": {
      "text/plain": [
       "FILM                           object\n",
       "RottenTomatoes                  int64\n",
       "RottenTomatoes_User             int64\n",
       "Metacritic                      int64\n",
       "Metacritic_User               float64\n",
       "IMDB                          float64\n",
       "Fandango_Stars                float64\n",
       "Fandango_Ratingvalue          float64\n",
       "RT_norm                       float64\n",
       "RT_user_norm                  float64\n",
       "Metacritic_norm               float64\n",
       "Metacritic_user_nom           float64\n",
       "IMDB_norm                     float64\n",
       "RT_norm_round                 float64\n",
       "RT_user_norm_round            float64\n",
       "Metacritic_norm_round         float64\n",
       "Metacritic_user_norm_round    float64\n",
       "IMDB_norm_round               float64\n",
       "Metacritic_user_vote_count      int64\n",
       "IMDB_user_vote_count            int64\n",
       "Fandango_votes                  int64\n",
       "Fandango_Difference           float64\n",
       "dtype: object"
      ]
     },
     "execution_count": 41,
     "metadata": {},
     "output_type": "execute_result"
    }
   ],
   "source": [
    "fandago_films.dtypes\n",
    "# tous\n",
    "## Méthode Apply() sur les colonnes d'un DataFrame\n",
    "# - Obtenir le dataframe float_df ne contenant que les colonnes décimales float64 à l'aide de l'attribut .dtypes\n",
    "# - Utiliser la méthode apply() sur ce dataframe float_df afin d'obtenir l'écart type chaque colonne et assigner le résultat à la variable exo_df.\n",
    "# - Afficher les premières lignes du résultat."
   ]
  },
  {
   "cell_type": "code",
   "execution_count": 46,
   "metadata": {},
   "outputs": [
    {
     "data": {
      "text/plain": [
       "Index(['Metacritic_User', 'IMDB', 'Fandango_Stars', 'Fandango_Ratingvalue',\n",
       "       'RT_norm', 'RT_user_norm', 'Metacritic_norm', 'Metacritic_user_nom',\n",
       "       'IMDB_norm', 'RT_norm_round', 'RT_user_norm_round',\n",
       "       'Metacritic_norm_round', 'Metacritic_user_norm_round',\n",
       "       'IMDB_norm_round', 'Fandango_Difference'],\n",
       "      dtype='object')"
      ]
     },
     "execution_count": 46,
     "metadata": {},
     "output_type": "execute_result"
    }
   ],
   "source": [
    "types = fandago_films.dtypes\n",
    "float_columns = types[types.values == 'float64'].index\n",
    "\n",
    "float_columns"
   ]
  },
  {
   "cell_type": "code",
   "execution_count": 48,
   "metadata": {},
   "outputs": [
    {
     "data": {
      "text/plain": [
       "<bound method NDFrame.head of                                            Metacritic_User  IMDB  \\\n",
       "FILM                                                               \n",
       "Avengers: Age of Ultron (2015)                         7.1   7.8   \n",
       "Cinderella (2015)                                      7.5   7.1   \n",
       "Ant-Man (2015)                                         8.1   7.8   \n",
       "Do You Believe? (2015)                                 4.7   5.4   \n",
       "Hot Tub Time Machine 2 (2015)                          3.4   5.1   \n",
       "...                                                    ...   ...   \n",
       "Mr. Holmes (2015)                                      7.9   7.4   \n",
       "'71 (2015)                                             7.5   7.2   \n",
       "Two Days, One Night (2014)                             8.8   7.4   \n",
       "Gett: The Trial of Viviane Amsalem (2015)              7.3   7.8   \n",
       "Kumiko, The Treasure Hunter (2015)                     6.4   6.7   \n",
       "\n",
       "                                           Fandango_Stars  \\\n",
       "FILM                                                        \n",
       "Avengers: Age of Ultron (2015)                        5.0   \n",
       "Cinderella (2015)                                     5.0   \n",
       "Ant-Man (2015)                                        5.0   \n",
       "Do You Believe? (2015)                                5.0   \n",
       "Hot Tub Time Machine 2 (2015)                         3.5   \n",
       "...                                                   ...   \n",
       "Mr. Holmes (2015)                                     4.0   \n",
       "'71 (2015)                                            3.5   \n",
       "Two Days, One Night (2014)                            3.5   \n",
       "Gett: The Trial of Viviane Amsalem (2015)             3.5   \n",
       "Kumiko, The Treasure Hunter (2015)                    3.5   \n",
       "\n",
       "                                           Fandango_Ratingvalue  RT_norm  \\\n",
       "FILM                                                                       \n",
       "Avengers: Age of Ultron (2015)                              4.5     3.70   \n",
       "Cinderella (2015)                                           4.5     4.25   \n",
       "Ant-Man (2015)                                              4.5     4.00   \n",
       "Do You Believe? (2015)                                      4.5     0.90   \n",
       "Hot Tub Time Machine 2 (2015)                               3.0     0.70   \n",
       "...                                                         ...      ...   \n",
       "Mr. Holmes (2015)                                           4.0     4.35   \n",
       "'71 (2015)                                                  3.5     4.85   \n",
       "Two Days, One Night (2014)                                  3.5     4.85   \n",
       "Gett: The Trial of Viviane Amsalem (2015)                   3.5     5.00   \n",
       "Kumiko, The Treasure Hunter (2015)                          3.5     4.35   \n",
       "\n",
       "                                           RT_user_norm  Metacritic_norm  \\\n",
       "FILM                                                                       \n",
       "Avengers: Age of Ultron (2015)                     4.30             3.30   \n",
       "Cinderella (2015)                                  4.00             3.35   \n",
       "Ant-Man (2015)                                     4.50             3.20   \n",
       "Do You Believe? (2015)                             4.20             1.10   \n",
       "Hot Tub Time Machine 2 (2015)                      1.40             1.45   \n",
       "...                                                 ...              ...   \n",
       "Mr. Holmes (2015)                                  3.90             3.35   \n",
       "'71 (2015)                                         4.10             4.15   \n",
       "Two Days, One Night (2014)                         3.90             4.45   \n",
       "Gett: The Trial of Viviane Amsalem (2015)          4.05             4.50   \n",
       "Kumiko, The Treasure Hunter (2015)                 3.15             3.40   \n",
       "\n",
       "                                           Metacritic_user_nom  IMDB_norm  \\\n",
       "FILM                                                                        \n",
       "Avengers: Age of Ultron (2015)                            3.55       3.90   \n",
       "Cinderella (2015)                                         3.75       3.55   \n",
       "Ant-Man (2015)                                            4.05       3.90   \n",
       "Do You Believe? (2015)                                    2.35       2.70   \n",
       "Hot Tub Time Machine 2 (2015)                             1.70       2.55   \n",
       "...                                                        ...        ...   \n",
       "Mr. Holmes (2015)                                         3.95       3.70   \n",
       "'71 (2015)                                                3.75       3.60   \n",
       "Two Days, One Night (2014)                                4.40       3.70   \n",
       "Gett: The Trial of Viviane Amsalem (2015)                 3.65       3.90   \n",
       "Kumiko, The Treasure Hunter (2015)                        3.20       3.35   \n",
       "\n",
       "                                           RT_norm_round  RT_user_norm_round  \\\n",
       "FILM                                                                           \n",
       "Avengers: Age of Ultron (2015)                       3.5                 4.5   \n",
       "Cinderella (2015)                                    4.5                 4.0   \n",
       "Ant-Man (2015)                                       4.0                 4.5   \n",
       "Do You Believe? (2015)                               1.0                 4.0   \n",
       "Hot Tub Time Machine 2 (2015)                        0.5                 1.5   \n",
       "...                                                  ...                 ...   \n",
       "Mr. Holmes (2015)                                    4.5                 4.0   \n",
       "'71 (2015)                                           5.0                 4.0   \n",
       "Two Days, One Night (2014)                           5.0                 4.0   \n",
       "Gett: The Trial of Viviane Amsalem (2015)            5.0                 4.0   \n",
       "Kumiko, The Treasure Hunter (2015)                   4.5                 3.0   \n",
       "\n",
       "                                           Metacritic_norm_round  \\\n",
       "FILM                                                               \n",
       "Avengers: Age of Ultron (2015)                               3.5   \n",
       "Cinderella (2015)                                            3.5   \n",
       "Ant-Man (2015)                                               3.0   \n",
       "Do You Believe? (2015)                                       1.0   \n",
       "Hot Tub Time Machine 2 (2015)                                1.5   \n",
       "...                                                          ...   \n",
       "Mr. Holmes (2015)                                            3.5   \n",
       "'71 (2015)                                                   4.0   \n",
       "Two Days, One Night (2014)                                   4.5   \n",
       "Gett: The Trial of Viviane Amsalem (2015)                    4.5   \n",
       "Kumiko, The Treasure Hunter (2015)                           3.5   \n",
       "\n",
       "                                           Metacritic_user_norm_round  \\\n",
       "FILM                                                                    \n",
       "Avengers: Age of Ultron (2015)                                    3.5   \n",
       "Cinderella (2015)                                                 4.0   \n",
       "Ant-Man (2015)                                                    4.0   \n",
       "Do You Believe? (2015)                                            2.5   \n",
       "Hot Tub Time Machine 2 (2015)                                     1.5   \n",
       "...                                                               ...   \n",
       "Mr. Holmes (2015)                                                 4.0   \n",
       "'71 (2015)                                                        4.0   \n",
       "Two Days, One Night (2014)                                        4.5   \n",
       "Gett: The Trial of Viviane Amsalem (2015)                         3.5   \n",
       "Kumiko, The Treasure Hunter (2015)                                3.0   \n",
       "\n",
       "                                           IMDB_norm_round  \\\n",
       "FILM                                                         \n",
       "Avengers: Age of Ultron (2015)                         4.0   \n",
       "Cinderella (2015)                                      3.5   \n",
       "Ant-Man (2015)                                         4.0   \n",
       "Do You Believe? (2015)                                 2.5   \n",
       "Hot Tub Time Machine 2 (2015)                          2.5   \n",
       "...                                                    ...   \n",
       "Mr. Holmes (2015)                                      3.5   \n",
       "'71 (2015)                                             3.5   \n",
       "Two Days, One Night (2014)                             3.5   \n",
       "Gett: The Trial of Viviane Amsalem (2015)              4.0   \n",
       "Kumiko, The Treasure Hunter (2015)                     3.5   \n",
       "\n",
       "                                           Fandango_Difference  \n",
       "FILM                                                            \n",
       "Avengers: Age of Ultron (2015)                             0.5  \n",
       "Cinderella (2015)                                          0.5  \n",
       "Ant-Man (2015)                                             0.5  \n",
       "Do You Believe? (2015)                                     0.5  \n",
       "Hot Tub Time Machine 2 (2015)                              0.5  \n",
       "...                                                        ...  \n",
       "Mr. Holmes (2015)                                          0.0  \n",
       "'71 (2015)                                                 0.0  \n",
       "Two Days, One Night (2014)                                 0.0  \n",
       "Gett: The Trial of Viviane Amsalem (2015)                  0.0  \n",
       "Kumiko, The Treasure Hunter (2015)                         0.0  \n",
       "\n",
       "[146 rows x 15 columns]>"
      ]
     },
     "execution_count": 48,
     "metadata": {},
     "output_type": "execute_result"
    }
   ],
   "source": [
    "float_df = fandago_films[float_columns]\n",
    "float_df.head"
   ]
  },
  {
   "cell_type": "code",
   "execution_count": 49,
   "metadata": {},
   "outputs": [
    {
     "data": {
      "text/plain": [
       "Metacritic_User         1.505529\n",
       "IMDB                    0.955447\n",
       "Fandango_Stars          0.538532\n",
       "Fandango_Ratingvalue    0.501106\n",
       "RT_norm                 1.503265\n",
       "dtype: float64"
      ]
     },
     "execution_count": 49,
     "metadata": {},
     "output_type": "execute_result"
    }
   ],
   "source": [
    "import numpy as np\n",
    "exo_df = float_df.apply(lambda x: np.std(x))\n",
    "exo_df.head()\n",
    "# x nom / que je lui donne sur les colonnes"
   ]
  },
  {
   "cell_type": "code",
   "execution_count": 56,
   "metadata": {},
   "outputs": [],
   "source": [
    "# sur les lignes axis=1 que pour apply sinon l'inverse\n",
    "import numpy as np\n",
    "rt_mt_user = float_df[['RT_user_norm','Metacritic_user_nom']]\n",
    "rt_mt_means = rt_mt_user.apply(lambda row: np.mean(row), axis=1)\n",
    "## Méthode Apply() sur les lignes d'un DataFrame\n",
    "# - Utiliser la méthode apply() pour calculer la moyenne (méthode mean() de la librairie Numpy) des valeurs de chaque film pour 'RT_user_norm' et 'metacritic_user_nom' puis assigner le résultat à la variable rt_mt_means.\n",
    "# - Afficher les 5 premières valeurs de rt_mt_means.\n"
   ]
  },
  {
   "cell_type": "code",
   "execution_count": 57,
   "metadata": {
    "scrolled": true
   },
   "outputs": [
    {
     "name": "stdout",
     "output_type": "stream",
     "text": [
      "FILM\n",
      "Avengers: Age of Ultron (2015)    3.925\n",
      "Cinderella (2015)                 3.875\n",
      "Ant-Man (2015)                    4.275\n",
      "Do You Believe? (2015)            3.275\n",
      "Hot Tub Time Machine 2 (2015)     1.550\n",
      "dtype: float64\n"
     ]
    }
   ],
   "source": [
    "print(rt_mt_means[0:5])"
   ]
  },
  {
   "cell_type": "code",
   "execution_count": null,
   "metadata": {},
   "outputs": [],
   "source": []
  }
 ],
 "metadata": {
  "kernelspec": {
   "display_name": "Python 3",
   "language": "python",
   "name": "python3"
  },
  "language_info": {
   "codemirror_mode": {
    "name": "ipython",
    "version": 3
   },
   "file_extension": ".py",
   "mimetype": "text/x-python",
   "name": "python",
   "nbconvert_exporter": "python",
   "pygments_lexer": "ipython3",
   "version": "3.8.5"
  }
 },
 "nbformat": 4,
 "nbformat_minor": 4
}
