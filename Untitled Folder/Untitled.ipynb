{
 "cells": [
  {
   "cell_type": "markdown",
   "metadata": {},
   "source": [
    "Detection du visage"
   ]
  },
  {
   "cell_type": "markdown",
   "metadata": {},
   "source": [
    "adabbost dans open cv"
   ]
  },
  {
   "cell_type": "raw",
   "metadata": {},
   "source": [
    "propriete quantifiable réecrire sous forme numérique"
   ]
  },
  {
   "cell_type": "markdown",
   "metadata": {},
   "source": [
    "les bordures : valeur du pixel\n",
    "    \n",
    "les lignes : meme valeur\n",
    "    \n",
    "changement de texture : mélange de valeur "
   ]
  },
  {
   "cell_type": "raw",
   "metadata": {},
   "source": [
    "Caractéristiques speudo Haar"
   ]
  },
  {
   "cell_type": "markdown",
   "metadata": {},
   "source": [
    "1 noir/blanc\n",
    "2 découpage\n",
    "3 somme en pixel de son voisin"
   ]
  },
  {
   "cell_type": "markdown",
   "metadata": {},
   "source": [
    "plus l'erreur sera grande plus le poid sera élevé"
   ]
  },
  {
   "cell_type": "markdown",
   "metadata": {},
   "source": [
    "classificateur en cascade :\n",
    "    separe en plusieurs étapes\n",
    "    voir si il trouve sinon s'arrete "
   ]
  },
  {
   "cell_type": "code",
   "execution_count": null,
   "metadata": {},
   "outputs": [],
   "source": []
  }
 ],
 "metadata": {
  "kernelspec": {
   "display_name": "Python 3",
   "language": "python",
   "name": "python3"
  },
  "language_info": {
   "codemirror_mode": {
    "name": "ipython",
    "version": 3
   },
   "file_extension": ".py",
   "mimetype": "text/x-python",
   "name": "python",
   "nbconvert_exporter": "python",
   "pygments_lexer": "ipython3",
   "version": "3.8.5"
  }
 },
 "nbformat": 4,
 "nbformat_minor": 4
}
