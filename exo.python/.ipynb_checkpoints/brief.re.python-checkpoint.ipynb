{
 "cells": [
  {
   "cell_type": "code",
   "execution_count": 6,
   "metadata": {},
   "outputs": [],
   "source": [
    "#proposer une fonction almost(mot, s)qui trouve dans un texte s \n",
    "#toute les occurrence d’un mot dont une lettre a pu éventuellement être enlevée.\n",
    "import re\n",
    "\n",
    "text= \"Les etrois tris, lys trois gros, les troisx roi.\"\n",
    "\n",
    "def almost(mot_reference, s, seuil):\n",
    "    s=re.sub(r'[\\W]*[\\s]+[\\W]*',\" \",s)\n",
    "    texte_parse=s.lower().split(\" \")\n",
    "    occur=[]\n",
    "    \n",
    "    for mot in texte_parse:\n",
    "        if len(mot_reference)-seuil<=len(mot)<=len(mot_reference)+seuil :\n",
    "            ## ligne suivante à modifier pour qu'il fonctionne quand seuil>1: \n",
    "            pattern=['.?'+mot_reference[:indice-1]+'.?'+mot_reference[indice:]+'.?' \n",
    "            for indice in range(1,len(mot_reference))]\n",
    "            print(pattern)\n",
    "            pattern='|'.join(pattern)\n",
    "            if re.match(pattern,mot):\n",
    "                occur.append(mot)\n",
    "    \n",
    "    \n",
    "    \n",
    "    return occur\n",
    "\n"
   ]
  },
  {
   "cell_type": "code",
   "execution_count": 10,
   "metadata": {},
   "outputs": [
    {
     "name": "stdout",
     "output_type": "stream",
     "text": [
      "['les', 'etrois', 'tris', 'lys', 'trois', 'gros', 'les', 'troisx', 'roi.']\n",
      "['.?.?rois.?', '.?t.?ois.?', '.?tr.?is.?', '.?tro.?s.?']\n",
      "['.?.?rois.?', '.?t.?ois.?', '.?tr.?is.?', '.?tro.?s.?']\n",
      "['.?.?rois.?', '.?t.?ois.?', '.?tr.?is.?', '.?tro.?s.?']\n",
      "['.?.?rois.?', '.?t.?ois.?', '.?tr.?is.?', '.?tro.?s.?']\n",
      "['.?.?rois.?', '.?t.?ois.?', '.?tr.?is.?', '.?tro.?s.?']\n",
      "['.?.?rois.?', '.?t.?ois.?', '.?tr.?is.?', '.?tro.?s.?']\n",
      "tro\n",
      "s\n"
     ]
    }
   ],
   "source": [
    "almost('trois', text , 1)\n",
    "\n",
    "mot_reference = 'trois'\n",
    "indice = 4\n",
    "print( mot_reference[:indice-1] )\n",
    "print( mot_reference[indice:] )"
   ]
  },
  {
   "cell_type": "code",
   "execution_count": 18,
   "metadata": {},
   "outputs": [],
   "source": [
    "def score(phrase, s):\n",
    "    return count\n",
    "\n",
    "    s=re.sub(r'[\\W]*[\\s]+[\\W]*',\" \",s)\n",
    "    phrase=re.sub(r'[\\W]*[\\s]+[\\W]*',\" \",phrase)\n",
    "    print(phrase)\n",
    "    count=0\n",
    "    for mot in phrase.split(' '):\n",
    "        \n",
    "        liste_occu=almost(mot,s,1)\n",
    "        count=[ 5 if occurence==mot else 1 for occurence in liste_occu]\n",
    "        print(count)\n",
    "        \n",
    "        "
   ]
  },
  {
   "cell_type": "code",
   "execution_count": 19,
   "metadata": {},
   "outputs": [],
   "source": [
    "def score(phrase, s):\n",
    "    return count\n",
    "\n",
    "    s=re.sub(r'[\\W]*[\\s]+[\\W]*',\" \",s)\n",
    "    phrase=re.sub(r'[\\W]*[\\s]+[\\W]*',\" \",phrase)\n",
    "    print(phrase)\n",
    "    count=0\n",
    "    for mot in phrase.split(' '):\n",
    "        \n",
    "        liste_occu=almost(mot,s,1)\n",
    "        count=[ 5 if occurence==mot else 1 for occurence in liste_occu]\n",
    "        print(count)"
   ]
  },
  {
   "cell_type": "code",
   "execution_count": 20,
   "metadata": {},
   "outputs": [],
   "source": [
    "def marie(phrase, s):\n",
    "\n",
    "    s=re.sub(r'[\\W]*[\\s]+[\\W]*',\" \",s)\n",
    "    phrase=re.sub(r'[\\W]*[\\s]+[\\W]*',\" \",phrase)\n",
    "    phrase=phrase.split(' ')\n",
    "    \n",
    "\n",
    "    count=0\n",
    "    for mot in phrase:\n",
    "        \n",
    "        liste_occu=almost(mot,s,1)\n",
    "        count+=sum([ 5 if occurence==mot else 1 for occurence in liste_occu])\n",
    "    \n",
    "    if len(phrase)>1:\n",
    "        for indice in range(0,len(phrase)-1):\n",
    "            portion=\" \".join(phrase[indice:indice+2])\n",
    "            print(portion)\n",
    "            count+=20 if portion in s else 0\n",
    "    \n",
    "        \n",
    "    return count"
   ]
  },
  {
   "cell_type": "code",
   "execution_count": 6,
   "metadata": {},
   "outputs": [
    {
     "name": "stdout",
     "output_type": "stream",
     "text": [
      "{'</body>': [117, 248], '</head>': [62, 193], '</html>': [124, 255], '</p>': [113, 244], '</title>': [54, 185], '<body>': [69, 200], '<head>': [6, 137], '<html>': [0, 131], '<p>': [75, 206], '<title>': [36, 167]}\n"
     ]
    }
   ],
   "source": [
    "import re\n",
    "import numpy as np\n",
    "\n",
    "def balise2dico(t):\n",
    "\n",
    "    dico = {}\n",
    "    balise = re.findall('<[a-z\\\\/\"=\\s]*>',t)\n",
    "    for bal in np.unique(balise):\n",
    "       \n",
    "        dico[bal] = [m.start() for m in re.finditer(bal, t)]\n",
    "\n",
    "    return dico\n",
    "\n",
    "\n",
    "str = \"<html><head><meta charset='utf-8' /><title>Paragraphes</title></head><body><p>Bonjour et bienvenue sur mon site !</p></body></html>\"\n",
    "str+=str\n",
    "\n",
    "dico = balise2dico(str)\n",
    "print(dico)\n"
   ]
  },
  {
   "cell_type": "code",
   "execution_count": 7,
   "metadata": {},
   "outputs": [
    {
     "ename": "NameError",
     "evalue": "name 's' is not defined",
     "output_type": "error",
     "traceback": [
      "\u001b[0;31m---------------------------------------------------------------------------\u001b[0m",
      "\u001b[0;31mNameError\u001b[0m                                 Traceback (most recent call last)",
      "\u001b[0;32m<ipython-input-7-d91c76aa990c>\u001b[0m in \u001b[0;36m<module>\u001b[0;34m\u001b[0m\n\u001b[1;32m     12\u001b[0m     \u001b[0;32mreturn\u001b[0m \u001b[0mfound\u001b[0m\u001b[0;34m\u001b[0m\u001b[0;34m\u001b[0m\u001b[0m\n\u001b[1;32m     13\u001b[0m \u001b[0;34m\u001b[0m\u001b[0m\n\u001b[0;32m---> 14\u001b[0;31m \u001b[0mprint\u001b[0m\u001b[0;34m(\u001b[0m\u001b[0mpluslarge\u001b[0m\u001b[0;34m(\u001b[0m\u001b[0;34m\"trois\"\u001b[0m\u001b[0;34m,\u001b[0m \u001b[0ms\u001b[0m\u001b[0;34m)\u001b[0m\u001b[0;34m)\u001b[0m\u001b[0;34m\u001b[0m\u001b[0;34m\u001b[0m\u001b[0m\n\u001b[0m\u001b[1;32m     15\u001b[0m \u001b[0mprint\u001b[0m\u001b[0;34m(\u001b[0m\u001b[0mpluslarge\u001b[0m\u001b[0;34m(\u001b[0m\u001b[0;34m\"les\"\u001b[0m\u001b[0;34m,\u001b[0m \u001b[0ms\u001b[0m\u001b[0;34m)\u001b[0m\u001b[0;34m)\u001b[0m\u001b[0;34m\u001b[0m\u001b[0;34m\u001b[0m\u001b[0m\n",
      "\u001b[0;31mNameError\u001b[0m: name 's' is not defined"
     ]
    }
   ],
   "source": [
    "def pluslarge(mot, s):\n",
    "    z = \" \"+sub(\"[,.]\", \"\", s)+ \" \"\n",
    "    found = findall(\"\\s\"+mot+\"[^\\s]?\\s\", z)\n",
    "    for i in range(len(mot)):\n",
    "        # Je cherche le mot avec une lettre remplacé\n",
    "        motif = \"\\s\"+mot[:i]+\"[^\"+mot[i]+\"]?\"\n",
    "        motif += mot[i+1:]+\"\\s\"\n",
    "        found += findall(motif, \" \"+z)\n",
    "        # Je cherche le mot avec une lettre en plus\n",
    "        motif += \"\\s\"+mot[:i]+\"[^\\s]\"+mot[i:]+\"\\s\"\n",
    "        found += findall(motif, \" \"+z)\n",
    "    return found\n",
    "\n",
    "print(pluslarge(\"trois\", s))\n",
    "print(pluslarge(\"les\", s))"
   ]
  },
  {
   "cell_type": "code",
   "execution_count": 8,
   "metadata": {},
   "outputs": [
    {
     "ename": "NameError",
     "evalue": "name 's' is not defined",
     "output_type": "error",
     "traceback": [
      "\u001b[0;31m---------------------------------------------------------------------------\u001b[0m",
      "\u001b[0;31mNameError\u001b[0m                                 Traceback (most recent call last)",
      "\u001b[0;32m<ipython-input-8-c81ccf6058e4>\u001b[0m in \u001b[0;36m<module>\u001b[0;34m\u001b[0m\n\u001b[1;32m      9\u001b[0m \u001b[0mp\u001b[0m\u001b[0;34m=\u001b[0m\u001b[0;34m\"Le petit bonhomme en mousse\"\u001b[0m\u001b[0;34m\u001b[0m\u001b[0;34m\u001b[0m\u001b[0m\n\u001b[1;32m     10\u001b[0m \u001b[0mt\u001b[0m \u001b[0;34m=\u001b[0m \u001b[0;34m\"Ce superbe matelas en mousse naturelle\"\u001b[0m\u001b[0;34m\u001b[0m\u001b[0;34m\u001b[0m\u001b[0m\n\u001b[0;32m---> 11\u001b[0;31m \u001b[0mprint\u001b[0m\u001b[0;34m(\u001b[0m\u001b[0mscore\u001b[0m\u001b[0;34m(\u001b[0m\u001b[0;34m\"les trois gros\"\u001b[0m\u001b[0;34m,\u001b[0m \u001b[0ms\u001b[0m\u001b[0;34m)\u001b[0m\u001b[0;34m)\u001b[0m\u001b[0;34m\u001b[0m\u001b[0;34m\u001b[0m\u001b[0m\n\u001b[0m\u001b[1;32m     12\u001b[0m \u001b[0mprint\u001b[0m\u001b[0;34m(\u001b[0m\u001b[0mscore\u001b[0m\u001b[0;34m(\u001b[0m\u001b[0mp\u001b[0m\u001b[0;34m,\u001b[0m \u001b[0mt\u001b[0m\u001b[0;34m)\u001b[0m\u001b[0;34m)\u001b[0m\u001b[0;34m\u001b[0m\u001b[0;34m\u001b[0m\u001b[0m\n",
      "\u001b[0;31mNameError\u001b[0m: name 's' is not defined"
     ]
    }
   ],
   "source": [
    "def score(p, s):\n",
    "    sc = 0\n",
    "    q = \" \"+sub(\"[,.]\",\"\", p)+\" \"\n",
    "    z = \" \" + sub(\"[,.]\",\"\", s)\n",
    "    for x in p.split():\n",
    "        sc += len(pluslarge(x, s))\n",
    "        sc += 4*z.count(\" \"+x+\" \")\n",
    "    return sc\n",
    "p=\"Le petit bonhomme en mousse\"\n",
    "t = \"Ce superbe matelas en mousse naturelle\"\n",
    "print(score(\"les trois gros\", s))\n",
    "print(score(p, t))"
   ]
  },
  {
   "cell_type": "markdown",
   "metadata": {},
   "source": [
    "partie facultative"
   ]
  },
  {
   "cell_type": "code",
   "execution_count": null,
   "metadata": {},
   "outputs": [],
   "source": [
    "import os\n",
    "liste = os.listdir('Jeux_de_donnees/textes')\n",
    "results={}\n",
    "\n",
    "recherche = \"analyse et visualisation\"\n",
    "\n",
    "for file in liste:\n",
    "    filin = open(\"Jeux_de_donnees/textes/\"+file, \"r\", encoding=\"utf-8\")\n",
    "    filin = filin.read()\n",
    "    results[file] = score2(recherche, filin)\n",
    "    \n",
    "tuples = sorted(results.items(), key=lambda item: item[1], reverse=True)\n",
    "\n",
    "for i, j in tuples :\n",
    "    print(i + \" : \" + str(j))"
   ]
  }
 ],
 "metadata": {
  "kernelspec": {
   "display_name": "Python 3",
   "language": "python",
   "name": "python3"
  },
  "language_info": {
   "codemirror_mode": {
    "name": "ipython",
    "version": 3
   },
   "file_extension": ".py",
   "mimetype": "text/x-python",
   "name": "python",
   "nbconvert_exporter": "python",
   "pygments_lexer": "ipython3",
   "version": "3.8.5"
  }
 },
 "nbformat": 4,
 "nbformat_minor": 4
}
