{
 "cells": [
  {
   "cell_type": "code",
   "execution_count": 1,
   "metadata": {},
   "outputs": [],
   "source": [
    "### créer des classes en Python\n"
   ]
  },
  {
   "cell_type": "code",
   "execution_count": 9,
   "metadata": {},
   "outputs": [],
   "source": [
    "class Superstring : \n",
    "    def __init__(self, chaine):\n",
    "        self.ch = chaine\n",
    "    def ajoute(self, char):\n",
    "        self.ch += char\n",
    "    def insert(self, char, i):\n",
    "        self.ch = self.ch[:i] + char + self.ch[i:]\n",
    "    def upper(self):\n",
    "        self.ch = self.ch.upper()\n",
    "    def __str__(self):\n",
    "        return self.ch"
   ]
  },
  {
   "cell_type": "code",
   "execution_count": 11,
   "metadata": {},
   "outputs": [
    {
     "name": "stdout",
     "output_type": "stream",
     "text": [
      "ECOUTEZ BIEN C'EST TRÈS IMPORTANT CE QUE JE DIS !\n"
     ]
    }
   ],
   "source": [
    "s1= Superstring(\"Ecoutez bien c'est important\")\n",
    "s1.ajoute(\" ce que je dis !\")\n",
    "s1.insert(\" très\", 18)\n",
    "s1.upper()\n",
    "print(s1)"
   ]
  },
  {
   "cell_type": "code",
   "execution_count": 12,
   "metadata": {},
   "outputs": [],
   "source": [
    "class Superstring : \n",
    "    def __init__(self, chaine):\n",
    "        self.ch = chaine\n",
    "    def ajoute(self, char):\n",
    "        self.ch += char\n",
    "    def insert(self, char, i):\n",
    "        self.ch = self.ch[:i] + char + self.ch[i:]\n",
    "    def upper(self):\n",
    "        self.ch = self.ch.upper()\n",
    "# car pas la méthode __str__"
   ]
  },
  {
   "cell_type": "code",
   "execution_count": 13,
   "metadata": {},
   "outputs": [
    {
     "name": "stdout",
     "output_type": "stream",
     "text": [
      "<__main__.Superstring object at 0x7f9d9c50f850>\n"
     ]
    }
   ],
   "source": [
    "s1= Superstring(\"Ecoutez bien c'est important\")\n",
    "s1.ajoute(\" ce que je dis !\")\n",
    "s1.insert(\" très\", 18)\n",
    "s1.upper()\n",
    "print(s1)"
   ]
  },
  {
   "cell_type": "code",
   "execution_count": 16,
   "metadata": {},
   "outputs": [],
   "source": [
    "class Superstring : \n",
    "    def __init__(self, chaine):\n",
    "        self.ch = chaine\n",
    "    def ajoute(self, char):\n",
    "        self.ch += char\n",
    "    def insert(self, char, i):\n",
    "        self.ch = self.ch[:i] + char + self.ch[i:]\n",
    "    def upper(self):\n",
    "        self.ch = self.ch.upper()\n",
    "    def oo(self):\n",
    "        self.ch =self.ch.lower()\n",
    "    def __str__(self):\n",
    "        return self.ch"
   ]
  },
  {
   "cell_type": "code",
   "execution_count": 17,
   "metadata": {},
   "outputs": [
    {
     "name": "stdout",
     "output_type": "stream",
     "text": [
      "ecoutez bien c'est très important ce que je dis !\n"
     ]
    }
   ],
   "source": [
    "s1= Superstring(\"Ecoutez bien c'est important\")\n",
    "s1.ajoute(\" ce que je dis !\")\n",
    "s1.insert(\" très\", 18)\n",
    "s1.upper()\n",
    "s1.oo()\n",
    "print(s1)"
   ]
  },
  {
   "cell_type": "code",
   "execution_count": 74,
   "metadata": {},
   "outputs": [],
   "source": [
    "class Superstring : \n",
    "    def __init__(self, chaine):\n",
    "        self.ch = chaine\n",
    "    def ajoute(self, char):\n",
    "        self.ch += char\n",
    "    def insert(self, char, i):\n",
    "        self.ch = self.ch[:i] + char + self.ch[i:]\n",
    "    def upper(self):\n",
    "        self.ch = self.ch.upper()\n",
    "    def oo(self):\n",
    "        self.ch =self.ch.lower()\n",
    "    def tri(self):\n",
    "        self.ch=self.ch.split(\" \")\n",
    "        self.ch=sorted(self.ch)\n",
    "        self.ch=\" \".join(self.ch)\n",
    "    def __str__(self):\n",
    "        return self.ch"
   ]
  },
  {
   "cell_type": "code",
   "execution_count": null,
   "metadata": {},
   "outputs": [],
   "source": [
    "# sorted (rien devant) fonction native\n",
    "# \" \".join( )\n",
    "# sur chaine de charactere "
   ]
  },
  {
   "cell_type": "code",
   "execution_count": 77,
   "metadata": {},
   "outputs": [
    {
     "name": "stdout",
     "output_type": "stream",
     "text": [
      "! bien c'est ce dis ecoutez important je que très\n"
     ]
    }
   ],
   "source": [
    "s1= Superstring(\"Ecoutez bien c'est important\")\n",
    "s1.ajoute(\" ce que je dis !\")\n",
    "s1.insert(\" très\", 18)\n",
    "s1.upper()\n",
    "s1.oo()\n",
    "s1.tri()\n",
    "print(s1)"
   ]
  },
  {
   "cell_type": "code",
   "execution_count": 37,
   "metadata": {},
   "outputs": [],
   "source": [
    "class Superstring : \n",
    "    def __init__(self, chaine):\n",
    "        self.ch = chaine\n",
    "    def ajoute(self, char):\n",
    "        self.ch += char\n",
    "    def insert(self, char, i):\n",
    "        self.ch = self.ch[:i] + char + self.ch[i:]\n",
    "    def upper(self):\n",
    "        self.ch = self.ch.upper()\n",
    "    def oo(self):\n",
    "        self.ch =self.ch.lower()\n",
    "        return self.ch\n",
    "    def __str__(self):\n",
    "        return self.ch.upper()"
   ]
  },
  {
   "cell_type": "code",
   "execution_count": null,
   "metadata": {},
   "outputs": [],
   "source": []
  },
  {
   "cell_type": "code",
   "execution_count": 38,
   "metadata": {},
   "outputs": [
    {
     "name": "stdout",
     "output_type": "stream",
     "text": [
      "ECOUTEZ BIEN C'EST TRÈS IMPORTANT CE QUE JE DIS !\n"
     ]
    }
   ],
   "source": [
    "s1= Superstring(\"Ecoutez bien c'est important\")\n",
    "s1.ajoute(\" ce que je dis !\")\n",
    "s1.insert(\" très\", 18)\n",
    "s1.upper()\n",
    "s1.oo()\n",
    "\n",
    "print(s1)"
   ]
  },
  {
   "cell_type": "code",
   "execution_count": 84,
   "metadata": {},
   "outputs": [],
   "source": [
    "class formulaire : \n",
    "    def __init__(self, nom,prenom, anneeNaissance):\n",
    "        self.nom =nom.upper()\n",
    "        self.prenom =prenom.upper()\n",
    "        self.anneeNaissance = anneeNaissance\n",
    "    def age(self):\n",
    "        return 2020 - self.anneeNaissance\n",
    "    def majeur(self):\n",
    "        return self.age() >=18\n",
    "    def memeFamille(self, formulaire):\n",
    "        return self.nom == formulaire.nom\n",
    "  "
   ]
  },
  {
   "cell_type": "code",
   "execution_count": 86,
   "metadata": {},
   "outputs": [
    {
     "name": "stdout",
     "output_type": "stream",
     "text": [
      "False\n",
      "True\n",
      "True\n"
     ]
    }
   ],
   "source": [
    "jd = formulaire('Doe','John', 2005)\n",
    "ad = formulaire('doe', 'Alice', 2000)\n",
    "\n",
    "print(jd.majeur())\n",
    "print(ad.majeur())\n",
    "print(jd.memeFamille(ad))"
   ]
  },
  {
   "cell_type": "code",
   "execution_count": 96,
   "metadata": {},
   "outputs": [],
   "source": [
    "class formulaire : \n",
    "    def __init__(self, nom,prenom, anneeNaissance):\n",
    "        self.nom =nom.upper()\n",
    "        self.prenom =prenom.upper()\n",
    "        self.anneeNaissance = anneeNaissance\n",
    "    def age(self):\n",
    "        return 2021 - self.anneeNaissance\n",
    "        self.anneeNaissance=self.anneeNaissance.split(\" \")\n",
    "        self.anneeNaissance=sorted(self.anneeNaissance)\n",
    "        self.anneeNaissance=\" \".join(self.anneeNaissance)\n",
    "    def memeFamille(self, formulaire):\n",
    "        return self.nom == formulaire.nom\n",
    "  "
   ]
  },
  {
   "cell_type": "code",
   "execution_count": 97,
   "metadata": {},
   "outputs": [
    {
     "name": "stdout",
     "output_type": "stream",
     "text": [
      "MMS MMS 16\n",
      "DDS DDS 21\n",
      "true de la mm famille et false pas de la meme famille : False\n"
     ]
    }
   ],
   "source": [
    "jd = formulaire('mms','mms', 2005)\n",
    "ad = formulaire('dds', 'dds', 2000)\n",
    "\n",
    "print(jd.nom,jd.prenom,jd.age())\n",
    "print(ad.nom,ad.prenom,ad.age())\n",
    "print('true de la mm famille et false pas de la meme famille :' ,jd.memeFamille(ad))"
   ]
  },
  {
   "cell_type": "code",
   "execution_count": 121,
   "metadata": {},
   "outputs": [],
   "source": [
    "class formulaire : \n",
    "    def __init__(self, nom,prenom, anneeNaissance):\n",
    "        self.nom =nom.upper()\n",
    "        self.prenom =prenom.upper()\n",
    "        self.anneeNaissance = anneeNaissance\n",
    "    def age(self):\n",
    "        return 2021 - self.anneeNaissance\n",
    "        self.anneeNaissance=self.anneeNaissance.split(\" \")\n",
    "        self.anneeNaissance=sort(self.anneeNaissance)\n",
    "        self.anneeNaissance=\" \".join(self.anneeNaissance)\n",
    "    def memeFamille(self, formulaire):\n",
    "        return self.nom == formulaire.nom\n",
    "    "
   ]
  },
  {
   "cell_type": "code",
   "execution_count": 122,
   "metadata": {},
   "outputs": [
    {
     "name": "stdout",
     "output_type": "stream",
     "text": [
      "MMS MMS 16\n",
      "DDS DDS 21\n",
      "true de la mm famille et false pas de la meme famille : False\n"
     ]
    }
   ],
   "source": [
    "jd = formulaire('mms','mms', 2005)\n",
    "ad = formulaire('dds', 'dds', 2000)\n",
    "\n",
    "print(jd.nom,jd.prenom,jd.age())\n",
    "print(ad.nom,ad.prenom,ad.age())\n",
    "print('true de la mm famille et false pas de la meme famille :' ,jd.memeFamille(ad))"
   ]
  },
  {
   "cell_type": "code",
   "execution_count": 120,
   "metadata": {},
   "outputs": [
    {
     "name": "stdout",
     "output_type": "stream",
     "text": [
      "[('john', 'uu', 1998), ('daves', 'Bc', 2020), ('jane', 'Bb', 2020)]\n"
     ]
    }
   ],
   "source": [
    "class Student:\n",
    "\n",
    "    def __init__(self, name, prenom, age):\n",
    "\n",
    "        self.name = name\n",
    "\n",
    "        self.prenom = prenom\n",
    "\n",
    "        self.age = age\n",
    "\n",
    "    def __repr__(self):\n",
    "\n",
    "        return repr((self.name, self.prenom, self.age))\n",
    "    # repr si c'est dans une liste\n",
    "    # str si je veux directement voir mes objets\n",
    "\n",
    "student_objects = [\n",
    "\n",
    "    Student('john', 'uu', 1998),\n",
    "\n",
    "    Student('jane', 'Bb', 2020),\n",
    "\n",
    "    Student('daves', 'Bc', 2020),\n",
    "\n",
    "]\n",
    "\n",
    "a = sorted(student_objects, key=lambda student: str(student.age) + student.name + student.prenom)   \n",
    "print(a)"
   ]
  },
  {
   "cell_type": "code",
   "execution_count": 113,
   "metadata": {},
   "outputs": [],
   "source": [
    "class formulaire : \n",
    "    def __init__(self, nom,prenom, anneeNaissance):\n",
    "        self.nom =nom.upper()\n",
    "        self.prenom =prenom.upper()\n",
    "        self.anneeNaissance = anneeNaissance\n",
    "    def age(self):\n",
    "        return 2021 - self.anneeNaissance\n",
    "        self.anneeNaissance=self.anneeNaissance.split(\" \")\n",
    "        self.anneeNaissance=sort(self.anneeNaissance)\n",
    "        self.anneeNaissance=\" \".join(self.anneeNaissance)\n",
    "    def memeFamille(self, formulaire):\n",
    "        return self.nom == formulaire.nom"
   ]
  },
  {
   "cell_type": "code",
   "execution_count": 114,
   "metadata": {},
   "outputs": [
    {
     "name": "stdout",
     "output_type": "stream",
     "text": [
      "MMS MMS 16\n",
      "DDS DDS 21\n",
      "true de la mm famille et false pas de la meme famille : False\n"
     ]
    }
   ],
   "source": [
    "jd = formulaire('mms','mms', 2005)\n",
    "ad = formulaire('dds', 'dds', 2000)\n",
    "\n",
    "print(jd.nom,jd.prenom,jd.age())\n",
    "print(ad.nom,ad.prenom,ad.age())\n",
    "print('true de la mm famille et false pas de la meme famille :' ,jd.memeFamille(ad))"
   ]
  },
  {
   "cell_type": "code",
   "execution_count": 124,
   "metadata": {},
   "outputs": [],
   "source": [
    "from random import randrange\n",
    "# on initialise toutes les valeurs et couleurs\n",
    "# que peuvent prendre les cartes\n",
    "valeurs = [i for i in range(1, 11)]\n",
    "couleurs = [i for i in range(1, 5)]\n",
    "# on choisi le nombre de tour que va durée la partie\n",
    "# et on initailise le score à 0\n",
    "nbTours = 7\n",
    "score = 0\n",
    "# enfin on crée une liste de tuples\n",
    "# pour representer le paquet de cartes\n",
    "paquet = [(v , c) for v in valeurs for c in couleurs]\n",
    "main1, main2 = [],[]"
   ]
  },
  {
   "cell_type": "code",
   "execution_count": 125,
   "metadata": {},
   "outputs": [],
   "source": [
    "for i in range(nbTours):\n",
    "    #le joueur 1 tire une carte aleatoirement dans le paquet\n",
    "    x = paquet[randrange(len(paquet))]\n",
    "    # la carte est ajouté à la main du joueur 1\n",
    "    main1.append(x)\n",
    "    #la carte tiré est supprimé du paquet\n",
    "    paquet.remove(x)\n",
    "    #idem pour le joueur 2\n",
    "    y = paquet[randrange(len(paquet))]\n",
    "    main2.append(y)\n",
    "    paquet.remove(y)"
   ]
  },
  {
   "cell_type": "code",
   "execution_count": 126,
   "metadata": {},
   "outputs": [],
   "source": [
    "# pour chaque carte tirée on détermine qui du joueur 1 ou 2 à pris\n",
    "\n",
    "for i in range(nbTours):\n",
    "    if main1[i][0]>main2[i][0] or (\n",
    "    main1[i][0]==main2[i][0] and main1[i][1]>main2[i][1]):\n",
    "        score+=1\n",
    "    else:\n",
    "        score-= 1"
   ]
  },
  {
   "cell_type": "code",
   "execution_count": 127,
   "metadata": {},
   "outputs": [
    {
     "name": "stdout",
     "output_type": "stream",
     "text": [
      "Vainqueur : joueur 2\n"
     ]
    }
   ],
   "source": [
    "print(\"Vainqueur : \" + (\"joueur 1\" if score > 0 else \"joueur 2\"))"
   ]
  },
  {
   "cell_type": "markdown",
   "metadata": {},
   "source": [
    "ENCAPSULATION"
   ]
  },
  {
   "cell_type": "code",
   "execution_count": 93,
   "metadata": {},
   "outputs": [],
   "source": [
    "class formulaire : \n",
    "    def __init__(self, nom,prenom, naissance):\n",
    "        self.nom =nom.upper()\n",
    "        self.prenom =prenom.upper()\n",
    "        na = str(naissance)\n",
    "        if na.isnumeric():\n",
    "            self.naissance = int(na)\n",
    "        else:\n",
    "            self.naissance = 1900\n",
    "    def age(self):\n",
    "        return 2020 - self.naissance\n",
    "    def majeur(self):\n",
    "        return self.age() >=18\n",
    "    def memeFamille(self, formulaire):\n",
    "        return self.nom == formulaire.nom\n",
    "  "
   ]
  },
  {
   "cell_type": "code",
   "execution_count": 94,
   "metadata": {},
   "outputs": [
    {
     "name": "stdout",
     "output_type": "stream",
     "text": [
      "MMS MMS 15\n",
      "NOOB MMS 15\n",
      "DDS DDS 20\n",
      "true de la mm famille et false pas de la meme famille : False\n"
     ]
    }
   ],
   "source": [
    "jd = formulaire('mms','mms', 2005)\n",
    "jb = formulaire('Noob', 'John','')\n",
    "ad = formulaire('dds', 'dds', 2000)\n",
    "\n",
    "print(jd.nom,jd.prenom,jd.age())\n",
    "print(jb.nom,jd.prenom,jd.age())\n",
    "print(ad.nom,ad.prenom,ad.age())\n",
    "print('true de la mm famille et false pas de la meme famille :' ,jd.memeFamille(ad))"
   ]
  },
  {
   "cell_type": "code",
   "execution_count": 101,
   "metadata": {},
   "outputs": [],
   "source": [
    "class formulaire : \n",
    "    \n",
    "    def __init__(self, nom,prenom, naissance):\n",
    "        self.nom =nom.upper()\n",
    "        self.prenom =prenom.upper()\n",
    "        self.naissance = str(prenom).upper()\n",
    "        \n",
    "    def _set_naissance(self, naissance):\n",
    "        if isinstance(naissance,list):\n",
    "            naissance = naissance[0]\n",
    "        na = str(naissance)\n",
    "        if na.isnumeric():\n",
    "            self._naissance = int(na)\n",
    "        else:\n",
    "            self._naissance = 1900\n",
    "            \n",
    "    def _get_naissance(self):\n",
    "        print(self._naissance)\n",
    "        return self._naissance\n",
    "    naissance = property(_get_naissance,_set_naissance)\n",
    "\n",
    "    def _get_nom(self):\n",
    "        print(self._nom)\n",
    "        return self._nom\n",
    "    \n",
    "    def _set_nom(self,nom):\n",
    "        self._nom = nom\n",
    "    name = property(_get_nom,_set_nom)\n",
    "        \n",
    "    def _get_prenom(self):\n",
    "        print(self._prenom)\n",
    "        return self.prenom\n",
    "    \n",
    "    def _set_prenom(self,prenom):\n",
    "        self._prenom = prenom\n",
    "    prenom = property(_get_prenom,_set_prenom)\n",
    "        \n",
    "    def age(self):\n",
    "        return 2021 - self.naissance\n",
    "    \n",
    "    def majeur(self):\n",
    "        return self.age() >=18\n",
    "    \n",
    "    def memeFamille(self, formulaire):\n",
    "        return self.nom == formulaire.nom\n",
    "  "
   ]
  },
  {
   "cell_type": "code",
   "execution_count": 102,
   "metadata": {},
   "outputs": [
    {
     "name": "stdout",
     "output_type": "stream",
     "text": [
      "1900\n",
      "121\n",
      "1900\n",
      "121\n",
      "1990\n",
      "31\n"
     ]
    }
   ],
   "source": [
    "ad = formulaire('doe', 'alice', ['2000', '20', '1999'])\n",
    "\n",
    "print(ad.age())\n",
    "ad.naissance = 'yolo'\n",
    "print(ad.age())\n",
    "ad.naissance = '1990'\n",
    "print(ad.age())\n",
    "\n",
    "#ss = formulaire('marie')\n",
    "#ss.nom = 'marie'\n",
    "#print(ad.nom())\n",
    "\n"
   ]
  },
  {
   "cell_type": "markdown",
   "metadata": {},
   "source": [
    "HERITAGE"
   ]
  },
  {
   "cell_type": "code",
   "execution_count": 103,
   "metadata": {},
   "outputs": [],
   "source": [
    "class superstring(list):\n",
    "    def __init__(self,chaine):\n",
    "        list.__init__(self, chaine)\n",
    "    def upper(self):\n",
    "        for (i, c) in enumerate(self):\n",
    "            self[i] = c.upper()\n",
    "    def __str__(self):\n",
    "        return \"\".join(self)"
   ]
  },
  {
   "cell_type": "code",
   "execution_count": 104,
   "metadata": {},
   "outputs": [
    {
     "name": "stdout",
     "output_type": "stream",
     "text": [
      "DEBOUT LES DORMANTS\n"
     ]
    }
   ],
   "source": [
    "s1 = superstring('Debout le dormant')\n",
    "s1.append('s')\n",
    "s1.insert(9, 's')\n",
    "s1.upper()\n",
    "print(s1)"
   ]
  },
  {
   "cell_type": "code",
   "execution_count": 156,
   "metadata": {},
   "outputs": [],
   "source": [
    "class formulaire : \n",
    "    \n",
    "    def __init__(self,nom,prenom, naissance):\n",
    "        \n",
    "        self.nom =nom.upper()\n",
    "        self.prenom =prenom.upper()\n",
    "        self.naissance = naissance\n",
    "        \n",
    "    def _set_naissance(self, naissance):\n",
    "        if isinstance(naissance,list):\n",
    "            naissance = naissance[0]\n",
    "        na = str(naissance)\n",
    "        if na.isnumeric():\n",
    "            self._naissance = int(na)\n",
    "        else:\n",
    "            self._naissance = 1900\n",
    "            \n",
    "    def _get_naissance(self):\n",
    "       \n",
    "        return self._naissance\n",
    "    naissance = property(_get_naissance,_set_naissance)\n",
    "\n",
    "    def _get_nom(self):\n",
    "        \n",
    "        return self._nom\n",
    "    \n",
    "    def _set_nom(self,nom):\n",
    "        self._nom = nom\n",
    "    name = property(_get_nom,_set_nom)\n",
    "        \n",
    "    def _get_prenom(self):\n",
    "       \n",
    "        return self._prenom\n",
    "    \n",
    "    def _set_prenom(self,prenom):\n",
    "        self._prenom = prenom\n",
    "    prenom = property(_get_prenom,_set_prenom)\n",
    "        \n",
    "    def age(self):\n",
    "        print(2021 - self.naissance)\n",
    "        return 2021 - self.naissance\n",
    "    \n",
    "    def majeur(self):\n",
    "        return self.age() >=18\n",
    "    \n",
    "    def memeFamille(self, formulaire):\n",
    "        return self.nom == formulaire.nom\n",
    "  "
   ]
  },
  {
   "cell_type": "code",
   "execution_count": 157,
   "metadata": {},
   "outputs": [],
   "source": [
    "class Data(formulaire):\n",
    "    def __init__(self,nom,prenom,naissance):\n",
    "        formulaire.__init__(self,nom,prenom,naissance)\n",
    "    def _get_id(self):\n",
    "        \n",
    "        return self._id\n",
    "    id = property(_get_id)\n",
    "    def buildID(self):\n",
    "        self._id = self.nom[:2]+self.prenom[:2]+str(self.age())[:2]\n",
    "   \n",
    "       "
   ]
  },
  {
   "cell_type": "code",
   "execution_count": 158,
   "metadata": {},
   "outputs": [
    {
     "name": "stdout",
     "output_type": "stream",
     "text": [
      "22\n",
      "30\n",
      "DOJH22\n",
      "DOAL30\n"
     ]
    }
   ],
   "source": [
    "jd = Data('Doe', 'Jhon', 1999)\n",
    "ad = Data('Doe', 'Alice', 1991)\n",
    "\n",
    "jd.buildID()\n",
    "ad.buildID()\n",
    "print(jd.id)\n",
    "print(ad.id)\n",
    "\n",
    "\n",
    "\n",
    "\n"
   ]
  },
  {
   "cell_type": "code",
   "execution_count": 163,
   "metadata": {},
   "outputs": [],
   "source": [
    "class Recensement:\n",
    "    def __init__(self, l1, l2, l3):\n",
    "        self.f2020 = l3\n",
    "        self.f2019 = l2\n",
    "        self.f2018 = l1\n",
    "    def _get_f2020(self):\n",
    "        return self._f2020\n",
    "     def _get_f2019(self):\n",
    "        return self._f2019\n",
    "     def _get_f2018(self):\n",
    "        return self._f2018\n",
    "    f2020 = property(_get_f2020)\n",
    "    f2019 = property(_get_f2019)\n",
    "    f2018 = property(_get_f2018)\n",
    "    \n",
    "    def permanents(self):\n",
    "        return [f for f in self.f2020 if \n",
    "                f in self.f2019 and f in self.f2018]"
   ]
  },
  {
   "cell_type": "code",
   "execution_count": 164,
   "metadata": {},
   "outputs": [],
   "source": [
    "class Listeelectorale(Recensement):\n",
    "     def __init__(self,l1,l2,l3):\n",
    "              Recensement.__init__(self,l1,l2,l3)\n",
    "                \n",
    "        def listeMajeurs(age):\n",
    "            for i in listeMajeurs:\n",
    "                if i < 18 :\n",
    "                return 'mineur'\n",
    "            else:\n",
    "                return'majeur'\n",
    "        "
   ]
  },
  {
   "cell_type": "code",
   "execution_count": null,
   "metadata": {},
   "outputs": [],
   "source": []
  }
 ],
 "metadata": {
  "kernelspec": {
   "display_name": "Python 3",
   "language": "python",
   "name": "python3"
  },
  "language_info": {
   "codemirror_mode": {
    "name": "ipython",
    "version": 3
   },
   "file_extension": ".py",
   "mimetype": "text/x-python",
   "name": "python",
   "nbconvert_exporter": "python",
   "pygments_lexer": "ipython3",
   "version": "3.8.5"
  }
 },
 "nbformat": 4,
 "nbformat_minor": 4
}
