{
 "cells": [
  {
   "cell_type": "code",
   "execution_count": 26,
   "metadata": {},
   "outputs": [
    {
     "name": "stdout",
     "output_type": "stream",
     "text": [
      "Vainqueur : joueur 1\n"
     ]
    }
   ],
   "source": [
    "from random import randrange\n",
    "\n",
    "def piocher(paquet, nbTours = 7):\n",
    "    for i in range(nbTours):\n",
    "    #le joueur 1 tire une carte aleatoirement dans le paquet\n",
    "        x = paquet[randrange(len(paquet))]\n",
    "    # la carte est ajouté à la main du joueur 1\n",
    "        main1.append(x)\n",
    "    #la carte tiré est supprimé du paquet\n",
    "        paquet.remove(x)\n",
    "    #idem pour le joueur 2\n",
    "        y = paquet[randrange(len(paquet))]\n",
    "        main2.append(y)\n",
    "        paquet.remove(y)\n",
    "    \n",
    "    return main1, main2  \n",
    "\n",
    "def plusGrandQue(joueur1,joueur2,tour):\n",
    "    return joueur1[tour][0]>joueur2[tour][0] or (joueur1[tour][0]==joueur2[tour][0] and joueur1[tour][1]>joueur2[tour][1])\n",
    "\n",
    "\n",
    "valeurs = [i for i in range(1, 11)]\n",
    "couleurs = [i for i in range(1, 5)]\n",
    "\n",
    "nbTours = 7\n",
    "score = 0\n",
    "\n",
    "paquet = [(v , c) for v in valeurs \n",
    "          for c in couleurs]\n",
    "main1, main2 = piocher(paquet) \n",
    "    \n",
    "for i in range(nbTours):\n",
    "    if plusGrandQue(main1,main2,i):\n",
    "        score+=1 \n",
    "    else:\n",
    "        score-= 1\n",
    "        \n",
    "print(\"Vainqueur : \" + (\"joueur 1\" if score > 0 else \"joueur 2\"))\n"
   ]
  },
  {
   "cell_type": "code",
   "execution_count": null,
   "metadata": {},
   "outputs": [],
   "source": []
  },
  {
   "cell_type": "code",
   "execution_count": 25,
   "metadata": {},
   "outputs": [],
   "source": []
  },
  {
   "cell_type": "code",
   "execution_count": null,
   "metadata": {},
   "outputs": [],
   "source": []
  }
 ],
 "metadata": {
  "kernelspec": {
   "display_name": "Python 3",
   "language": "python",
   "name": "python3"
  },
  "language_info": {
   "codemirror_mode": {
    "name": "ipython",
    "version": 3
   },
   "file_extension": ".py",
   "mimetype": "text/x-python",
   "name": "python",
   "nbconvert_exporter": "python",
   "pygments_lexer": "ipython3",
   "version": "3.8.5"
  }
 },
 "nbformat": 4,
 "nbformat_minor": 4
}
