{
 "cells": [
  {
   "cell_type": "code",
   "execution_count": 1,
   "metadata": {},
   "outputs": [],
   "source": [
    "### créer des classes en Python\n"
   ]
  },
  {
   "cell_type": "code",
   "execution_count": 9,
   "metadata": {},
   "outputs": [],
   "source": [
    "class Superstring : \n",
    "    def __init__(self, chaine):\n",
    "        self.ch = chaine\n",
    "    def ajoute(self, char):\n",
    "        self.ch += char\n",
    "    def insert(self, char, i):\n",
    "        self.ch = self.ch[:i] + char + self.ch[i:]\n",
    "    def upper(self):\n",
    "        self.ch = self.ch.upper()\n",
    "    def __str__(self):\n",
    "        return self.ch"
   ]
  },
  {
   "cell_type": "code",
   "execution_count": 11,
   "metadata": {},
   "outputs": [
    {
     "name": "stdout",
     "output_type": "stream",
     "text": [
      "ECOUTEZ BIEN C'EST TRÈS IMPORTANT CE QUE JE DIS !\n"
     ]
    }
   ],
   "source": [
    "s1= Superstring(\"Ecoutez bien c'est important\")\n",
    "s1.ajoute(\" ce que je dis !\")\n",
    "s1.insert(\" très\", 18)\n",
    "s1.upper()\n",
    "print(s1)"
   ]
  },
  {
   "cell_type": "code",
   "execution_count": 12,
   "metadata": {},
   "outputs": [],
   "source": [
    "class Superstring : \n",
    "    def __init__(self, chaine):\n",
    "        self.ch = chaine\n",
    "    def ajoute(self, char):\n",
    "        self.ch += char\n",
    "    def insert(self, char, i):\n",
    "        self.ch = self.ch[:i] + char + self.ch[i:]\n",
    "    def upper(self):\n",
    "        self.ch = self.ch.upper()\n",
    "# car pas la méthode __str__"
   ]
  },
  {
   "cell_type": "code",
   "execution_count": 13,
   "metadata": {},
   "outputs": [
    {
     "name": "stdout",
     "output_type": "stream",
     "text": [
      "<__main__.Superstring object at 0x7f9d9c50f850>\n"
     ]
    }
   ],
   "source": [
    "s1= Superstring(\"Ecoutez bien c'est important\")\n",
    "s1.ajoute(\" ce que je dis !\")\n",
    "s1.insert(\" très\", 18)\n",
    "s1.upper()\n",
    "print(s1)"
   ]
  },
  {
   "cell_type": "code",
   "execution_count": 16,
   "metadata": {},
   "outputs": [],
   "source": [
    "class Superstring : \n",
    "    def __init__(self, chaine):\n",
    "        self.ch = chaine\n",
    "    def ajoute(self, char):\n",
    "        self.ch += char\n",
    "    def insert(self, char, i):\n",
    "        self.ch = self.ch[:i] + char + self.ch[i:]\n",
    "    def upper(self):\n",
    "        self.ch = self.ch.upper()\n",
    "    def oo(self):\n",
    "        self.ch =self.ch.lower()\n",
    "    def __str__(self):\n",
    "        return self.ch"
   ]
  },
  {
   "cell_type": "code",
   "execution_count": 17,
   "metadata": {},
   "outputs": [
    {
     "name": "stdout",
     "output_type": "stream",
     "text": [
      "ecoutez bien c'est très important ce que je dis !\n"
     ]
    }
   ],
   "source": [
    "s1= Superstring(\"Ecoutez bien c'est important\")\n",
    "s1.ajoute(\" ce que je dis !\")\n",
    "s1.insert(\" très\", 18)\n",
    "s1.upper()\n",
    "s1.oo()\n",
    "print(s1)"
   ]
  },
  {
   "cell_type": "code",
   "execution_count": 74,
   "metadata": {},
   "outputs": [],
   "source": [
    "class Superstring : \n",
    "    def __init__(self, chaine):\n",
    "        self.ch = chaine\n",
    "    def ajoute(self, char):\n",
    "        self.ch += char\n",
    "    def insert(self, char, i):\n",
    "        self.ch = self.ch[:i] + char + self.ch[i:]\n",
    "    def upper(self):\n",
    "        self.ch = self.ch.upper()\n",
    "    def oo(self):\n",
    "        self.ch =self.ch.lower()\n",
    "    def tri(self):\n",
    "        self.ch=self.ch.split(\" \")\n",
    "        self.ch=sorted(self.ch)\n",
    "        self.ch=\" \".join(self.ch)\n",
    "    def __str__(self):\n",
    "        return self.ch"
   ]
  },
  {
   "cell_type": "code",
   "execution_count": null,
   "metadata": {},
   "outputs": [],
   "source": [
    "# sorted (rien devant) fonction native\n",
    "# \" \".join( )\n",
    "# sur chaine de charactere "
   ]
  },
  {
   "cell_type": "code",
   "execution_count": 77,
   "metadata": {},
   "outputs": [
    {
     "name": "stdout",
     "output_type": "stream",
     "text": [
      "! bien c'est ce dis ecoutez important je que très\n"
     ]
    }
   ],
   "source": [
    "s1= Superstring(\"Ecoutez bien c'est important\")\n",
    "s1.ajoute(\" ce que je dis !\")\n",
    "s1.insert(\" très\", 18)\n",
    "s1.upper()\n",
    "s1.oo()\n",
    "s1.tri()\n",
    "print(s1)"
   ]
  },
  {
   "cell_type": "code",
   "execution_count": 37,
   "metadata": {},
   "outputs": [],
   "source": [
    "class Superstring : \n",
    "    def __init__(self, chaine):\n",
    "        self.ch = chaine\n",
    "    def ajoute(self, char):\n",
    "        self.ch += char\n",
    "    def insert(self, char, i):\n",
    "        self.ch = self.ch[:i] + char + self.ch[i:]\n",
    "    def upper(self):\n",
    "        self.ch = self.ch.upper()\n",
    "    def oo(self):\n",
    "        self.ch =self.ch.lower()\n",
    "        return self.ch\n",
    "    def __str__(self):\n",
    "        return self.ch.upper()"
   ]
  },
  {
   "cell_type": "code",
   "execution_count": null,
   "metadata": {},
   "outputs": [],
   "source": []
  },
  {
   "cell_type": "code",
   "execution_count": 38,
   "metadata": {},
   "outputs": [
    {
     "name": "stdout",
     "output_type": "stream",
     "text": [
      "ECOUTEZ BIEN C'EST TRÈS IMPORTANT CE QUE JE DIS !\n"
     ]
    }
   ],
   "source": [
    "s1= Superstring(\"Ecoutez bien c'est important\")\n",
    "s1.ajoute(\" ce que je dis !\")\n",
    "s1.insert(\" très\", 18)\n",
    "s1.upper()\n",
    "s1.oo()\n",
    "\n",
    "print(s1)"
   ]
  },
  {
   "cell_type": "code",
   "execution_count": 84,
   "metadata": {},
   "outputs": [],
   "source": [
    "class formulaire : \n",
    "    def __init__(self, nom,prenom, anneeNaissance):\n",
    "        self.nom =nom.upper()\n",
    "        self.prenom =prenom.upper()\n",
    "        self.anneeNaissance = anneeNaissance\n",
    "    def age(self):\n",
    "        return 2020 - self.anneeNaissance\n",
    "    def majeur(self):\n",
    "        return self.age() >=18\n",
    "    def memeFamille(self, formulaire):\n",
    "        return self.nom == formulaire.nom\n",
    "  "
   ]
  },
  {
   "cell_type": "code",
   "execution_count": 86,
   "metadata": {},
   "outputs": [
    {
     "name": "stdout",
     "output_type": "stream",
     "text": [
      "False\n",
      "True\n",
      "True\n"
     ]
    }
   ],
   "source": [
    "jd = formulaire('Doe','John', 2005)\n",
    "ad = formulaire('doe', 'Alice', 2000)\n",
    "\n",
    "print(jd.majeur())\n",
    "print(ad.majeur())\n",
    "print(jd.memeFamille(ad))"
   ]
  },
  {
   "cell_type": "code",
   "execution_count": 96,
   "metadata": {},
   "outputs": [],
   "source": [
    "class formulaire : \n",
    "    def __init__(self, nom,prenom, anneeNaissance):\n",
    "        self.nom =nom.upper()\n",
    "        self.prenom =prenom.upper()\n",
    "        self.anneeNaissance = anneeNaissance\n",
    "    def age(self):\n",
    "        return 2021 - self.anneeNaissance\n",
    "        self.anneeNaissance=self.anneeNaissance.split(\" \")\n",
    "        self.anneeNaissance=sorted(self.anneeNaissance)\n",
    "        self.anneeNaissance=\" \".join(self.anneeNaissance)\n",
    "    def memeFamille(self, formulaire):\n",
    "        return self.nom == formulaire.nom\n",
    "  "
   ]
  },
  {
   "cell_type": "code",
   "execution_count": 97,
   "metadata": {},
   "outputs": [
    {
     "name": "stdout",
     "output_type": "stream",
     "text": [
      "MMS MMS 16\n",
      "DDS DDS 21\n",
      "true de la mm famille et false pas de la meme famille : False\n"
     ]
    }
   ],
   "source": [
    "jd = formulaire('mms','mms', 2005)\n",
    "ad = formulaire('dds', 'dds', 2000)\n",
    "\n",
    "print(jd.nom,jd.prenom,jd.age())\n",
    "print(ad.nom,ad.prenom,ad.age())\n",
    "print('true de la mm famille et false pas de la meme famille :' ,jd.memeFamille(ad))"
   ]
  },
  {
   "cell_type": "code",
   "execution_count": 121,
   "metadata": {},
   "outputs": [],
   "source": [
    "class formulaire : \n",
    "    def __init__(self, nom,prenom, anneeNaissance):\n",
    "        self.nom =nom.upper()\n",
    "        self.prenom =prenom.upper()\n",
    "        self.anneeNaissance = anneeNaissance\n",
    "    def age(self):\n",
    "        return 2021 - self.anneeNaissance\n",
    "        self.anneeNaissance=self.anneeNaissance.split(\" \")\n",
    "        self.anneeNaissance=sort(self.anneeNaissance)\n",
    "        self.anneeNaissance=\" \".join(self.anneeNaissance)\n",
    "    def memeFamille(self, formulaire):\n",
    "        return self.nom == formulaire.nom\n",
    "    "
   ]
  },
  {
   "cell_type": "code",
   "execution_count": 122,
   "metadata": {},
   "outputs": [
    {
     "name": "stdout",
     "output_type": "stream",
     "text": [
      "MMS MMS 16\n",
      "DDS DDS 21\n",
      "true de la mm famille et false pas de la meme famille : False\n"
     ]
    }
   ],
   "source": [
    "jd = formulaire('mms','mms', 2005)\n",
    "ad = formulaire('dds', 'dds', 2000)\n",
    "\n",
    "print(jd.nom,jd.prenom,jd.age())\n",
    "print(ad.nom,ad.prenom,ad.age())\n",
    "print('true de la mm famille et false pas de la meme famille :' ,jd.memeFamille(ad))"
   ]
  },
  {
   "cell_type": "code",
   "execution_count": 120,
   "metadata": {},
   "outputs": [
    {
     "name": "stdout",
     "output_type": "stream",
     "text": [
      "[('john', 'uu', 1998), ('daves', 'Bc', 2020), ('jane', 'Bb', 2020)]\n"
     ]
    }
   ],
   "source": [
    "class Student:\n",
    "\n",
    "    def __init__(self, name, prenom, age):\n",
    "\n",
    "        self.name = name\n",
    "\n",
    "        self.prenom = prenom\n",
    "\n",
    "        self.age = age\n",
    "\n",
    "    def __repr__(self):\n",
    "\n",
    "        return repr((self.name, self.prenom, self.age))\n",
    "    # repr si c'est dans une liste\n",
    "    # str si je veux directement voir mes objets\n",
    "\n",
    "student_objects = [\n",
    "\n",
    "    Student('john', 'uu', 1998),\n",
    "\n",
    "    Student('jane', 'Bb', 2020),\n",
    "\n",
    "    Student('daves', 'Bc', 2020),\n",
    "\n",
    "]\n",
    "\n",
    "a = sorted(student_objects, key=lambda student: str(student.age) + student.name + student.prenom)   \n",
    "print(a)"
   ]
  },
  {
   "cell_type": "code",
   "execution_count": 113,
   "metadata": {},
   "outputs": [],
   "source": [
    "class formulaire : \n",
    "    def __init__(self, nom,prenom, anneeNaissance):\n",
    "        self.nom =nom.upper()\n",
    "        self.prenom =prenom.upper()\n",
    "        self.anneeNaissance = anneeNaissance\n",
    "    def age(self):\n",
    "        return 2021 - self.anneeNaissance\n",
    "        self.anneeNaissance=self.anneeNaissance.split(\" \")\n",
    "        self.anneeNaissance=sort(self.anneeNaissance)\n",
    "        self.anneeNaissance=\" \".join(self.anneeNaissance)\n",
    "    def memeFamille(self, formulaire):\n",
    "        return self.nom == formulaire.nom"
   ]
  },
  {
   "cell_type": "code",
   "execution_count": 114,
   "metadata": {},
   "outputs": [
    {
     "name": "stdout",
     "output_type": "stream",
     "text": [
      "MMS MMS 16\n",
      "DDS DDS 21\n",
      "true de la mm famille et false pas de la meme famille : False\n"
     ]
    }
   ],
   "source": [
    "jd = formulaire('mms','mms', 2005)\n",
    "ad = formulaire('dds', 'dds', 2000)\n",
    "\n",
    "print(jd.nom,jd.prenom,jd.age())\n",
    "print(ad.nom,ad.prenom,ad.age())\n",
    "print('true de la mm famille et false pas de la meme famille :' ,jd.memeFamille(ad))"
   ]
  },
  {
   "cell_type": "code",
   "execution_count": 124,
   "metadata": {},
   "outputs": [],
   "source": [
    "from random import randrange\n",
    "# on initialise toutes les valeurs et couleurs\n",
    "# que peuvent prendre les cartes\n",
    "valeurs = [i for i in range(1, 11)]\n",
    "couleurs = [i for i in range(1, 5)]\n",
    "# on choisi le nombre de tour que va durée la partie\n",
    "# et on initailise le score à 0\n",
    "nbTours = 7\n",
    "score = 0\n",
    "# enfin on crée une liste de tuples\n",
    "# pour representer le paquet de cartes\n",
    "paquet = [(v , c) for v in valeurs for c in couleurs]\n",
    "main1, main2 = [],[]"
   ]
  },
  {
   "cell_type": "code",
   "execution_count": 125,
   "metadata": {},
   "outputs": [],
   "source": [
    "for i in range(nbTours):\n",
    "    #le joueur 1 tire une carte aleatoirement dans le paquet\n",
    "    x = paquet[randrange(len(paquet))]\n",
    "    # la carte est ajouté à la main du joueur 1\n",
    "    main1.append(x)\n",
    "    #la carte tiré est supprimé du paquet\n",
    "    paquet.remove(x)\n",
    "    #idem pour le joueur 2\n",
    "    y = paquet[randrange(len(paquet))]\n",
    "    main2.append(y)\n",
    "    paquet.remove(y)"
   ]
  },
  {
   "cell_type": "code",
   "execution_count": 126,
   "metadata": {},
   "outputs": [],
   "source": [
    "# pour chaque carte tirée on détermine qui du joueur 1 ou 2 à pris\n",
    "\n",
    "for i in range(nbTours):\n",
    "    if main1[i][0]>main2[i][0] or (\n",
    "    main1[i][0]==main2[i][0] and main1[i][1]>main2[i][1]):\n",
    "        score+=1\n",
    "    else:\n",
    "        score-= 1"
   ]
  },
  {
   "cell_type": "code",
   "execution_count": 127,
   "metadata": {},
   "outputs": [
    {
     "name": "stdout",
     "output_type": "stream",
     "text": [
      "Vainqueur : joueur 2\n"
     ]
    }
   ],
   "source": [
    "print(\"Vainqueur : \" + (\"joueur 1\" if score > 0 else \"joueur 2\"))"
   ]
  },
  {
   "cell_type": "code",
   "execution_count": null,
   "metadata": {},
   "outputs": [],
   "source": []
  }
 ],
 "metadata": {
  "kernelspec": {
   "display_name": "Python 3",
   "language": "python",
   "name": "python3"
  },
  "language_info": {
   "codemirror_mode": {
    "name": "ipython",
    "version": 3
   },
   "file_extension": ".py",
   "mimetype": "text/x-python",
   "name": "python",
   "nbconvert_exporter": "python",
   "pygments_lexer": "ipython3",
   "version": "3.8.5"
  }
 },
 "nbformat": 4,
 "nbformat_minor": 4
}
