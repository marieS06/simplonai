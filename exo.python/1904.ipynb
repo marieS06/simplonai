{
 "cells": [
  {
   "cell_type": "code",
   "execution_count": 1,
   "metadata": {},
   "outputs": [
    {
     "name": "stdout",
     "output_type": "stream",
     "text": [
      "   Rank  Major_code                                      Major Major_category  \\\n",
      "0     1        2419                      PETROLEUM ENGINEERING    Engineering   \n",
      "1     2        2416             MINING AND MINERAL ENGINEERING    Engineering   \n",
      "2     3        2415                  METALLURGICAL ENGINEERING    Engineering   \n",
      "3     4        2417  NAVAL ARCHITECTURE AND MARINE ENGINEERING    Engineering   \n",
      "4     5        2405                       CHEMICAL ENGINEERING    Engineering   \n",
      "\n",
      "   Total  Sample_size    Men  Women  ShareWomen  Employed  ...  Part_time  \\\n",
      "0   2339           36   2057    282    0.120564      1976  ...        270   \n",
      "1    756            7    679     77    0.101852       640  ...        170   \n",
      "2    856            3    725    131    0.153037       648  ...        133   \n",
      "3   1258           16   1123    135    0.107313       758  ...        150   \n",
      "4  32260          289  21239  11021    0.341631     25694  ...       5180   \n",
      "\n",
      "   Full_time_year_round  Unemployed  Unemployment_rate  Median  P25th   P75th  \\\n",
      "0                  1207          37           0.018381  110000  95000  125000   \n",
      "1                   388          85           0.117241   75000  55000   90000   \n",
      "2                   340          16           0.024096   73000  50000  105000   \n",
      "3                   692          40           0.050125   70000  43000   80000   \n",
      "4                 16697        1672           0.061098   65000  50000   75000   \n",
      "\n",
      "   College_jobs  Non_college_jobs  Low_wage_jobs  \n",
      "0          1534               364            193  \n",
      "1           350               257             50  \n",
      "2           456               176              0  \n",
      "3           529               102              0  \n",
      "4         18314              4440            972  \n",
      "\n",
      "[5 rows x 21 columns]\n"
     ]
    }
   ],
   "source": [
    "import pandas as pd\n",
    "import numpy as np\n",
    "recent_grads = pd.read_csv(\"recent-grads.csv\")\n",
    "\n",
    "print(recent_grads.head())\n"
   ]
  },
  {
   "cell_type": "code",
   "execution_count": 2,
   "metadata": {},
   "outputs": [
    {
     "name": "stdout",
     "output_type": "stream",
     "text": [
      "   Major_code                                  Major  \\\n",
      "0        1100                    GENERAL AGRICULTURE   \n",
      "1        1101  AGRICULTURE PRODUCTION AND MANAGEMENT   \n",
      "2        1102                 AGRICULTURAL ECONOMICS   \n",
      "3        1103                        ANIMAL SCIENCES   \n",
      "4        1104                           FOOD SCIENCE   \n",
      "\n",
      "                    Major_category   Total  Employed  \\\n",
      "0  Agriculture & Natural Resources  128148     90245   \n",
      "1  Agriculture & Natural Resources   95326     76865   \n",
      "2  Agriculture & Natural Resources   33955     26321   \n",
      "3  Agriculture & Natural Resources  103549     81177   \n",
      "4  Agriculture & Natural Resources   24280     17281   \n",
      "\n",
      "   Employed_full_time_year_round  Unemployed  Unemployment_rate  Median  \\\n",
      "0                          74078      2423.0           0.026147   50000   \n",
      "1                          64240      2266.0           0.028636   54000   \n",
      "2                          22810       821.0           0.030248   63000   \n",
      "3                          64937      3619.0           0.042679   46000   \n",
      "4                          12722       894.0           0.049188   62000   \n",
      "\n",
      "   P25th    P75th  \n",
      "0  34000  80000.0  \n",
      "1  36000  80000.0  \n",
      "2  40000  98000.0  \n",
      "3  30000  72000.0  \n",
      "4  38500  90000.0  \n"
     ]
    }
   ],
   "source": [
    "import pandas as pd\n",
    "import numpy as np\n",
    "all_ages= pd.read_csv(\"all-ages.csv\")\n",
    "\n",
    "print(all_ages.head())"
   ]
  },
  {
   "cell_type": "code",
   "execution_count": 56,
   "metadata": {},
   "outputs": [
    {
     "name": "stdout",
     "output_type": "stream",
     "text": [
      "['Agriculture & Natural Resources' 'Biology & Life Science' 'Engineering'\n",
      " 'Humanities & Liberal Arts' 'Communications & Journalism'\n",
      " 'Computers & Mathematics' 'Industrial Arts & Consumer Services'\n",
      " 'Education' 'Law & Public Policy' 'Interdisciplinary' 'Health'\n",
      " 'Social Science' 'Physical Sciences' ' Physical Sciences'\n",
      " 'Psychology & Social Work' '15726' 'Arts' 'Business']\n",
      "['Engineering' 'Business' 'Physical Sciences' 'Law & Public Policy'\n",
      " 'Computers & Mathematics' 'Agriculture & Natural Resources'\n",
      " 'Industrial Arts & Consumer Services' 'Arts' 'Health' 'Social Science'\n",
      " 'Biology & Life Science' 'Education' 'Humanities & Liberal Arts'\n",
      " 'Psychology & Social Work' 'Communications & Journalism'\n",
      " 'Interdisciplinary']\n"
     ]
    }
   ],
   "source": [
    "import numpy as np\n",
    "\n",
    "mo=all_ages['Major_category'].unique()\n",
    "print(mo)\n",
    "\n",
    "ma=recent_grads['Major_category'].unique()\n",
    "print(ma)\n",
    "\n",
    "\n"
   ]
  },
  {
   "cell_type": "code",
   "execution_count": 175,
   "metadata": {},
   "outputs": [
    {
     "name": "stdout",
     "output_type": "stream",
     "text": [
      "{'major_category': array(['Engineering', 'Business', 'Physical Sciences',\n",
      "       'Law & Public Policy', 'Computers & Mathematics',\n",
      "       'Agriculture & Natural Resources',\n",
      "       'Industrial Arts & Consumer Services', 'Arts', 'Health',\n",
      "       'Social Science', 'Biology & Life Science', 'Education',\n",
      "       'Humanities & Liberal Arts', 'Psychology & Social Work',\n",
      "       'Communications & Journalism', 'Interdisciplinary'], dtype=object), 'nombre_d_etudiant': 16}\n"
     ]
    }
   ],
   "source": [
    "to=1\n",
    "# a refaire\n",
    "for toto in ma:\n",
    "    \n",
    "    major = {'major_category': ma, 'nombre_d_etudiant': to}\n",
    "    to +=1\n",
    "    \n",
    "print(major)\n",
    "\n"
   ]
  },
  {
   "cell_type": "code",
   "execution_count": 328,
   "metadata": {},
   "outputs": [
    {
     "name": "stdout",
     "output_type": "stream",
     "text": [
      "                                       Total\n",
      "Major_category                              \n",
      " Physical Sciences                     12166\n",
      "15726                                  12607\n",
      "Agriculture & Natural Resources       632437\n",
      "Arts                                 1805865\n",
      "Biology & Life Science               1338186\n",
      "Business                             9858741\n",
      "Communications & Journalism          1803822\n",
      "Computers & Mathematics              1781378\n",
      "Education                            4700118\n",
      "Engineering                          3576013\n",
      "Health                               2950859\n",
      "Humanities & Liberal Arts            3738335\n",
      "Industrial Arts & Consumer Services  1018072\n",
      "Interdisciplinary                      45199\n",
      "Law & Public Policy                   902926\n",
      "Physical Sciences                    1013152\n",
      "Psychology & Social Work             1987278\n",
      "Social Science                       2654125\n",
      "                                       Total\n",
      "Major_category                              \n",
      "Agriculture & Natural Resources        79981\n",
      "Arts                                  357130\n",
      "Biology & Life Science                453862\n",
      "Business                             1302376\n",
      "Communications & Journalism           392601\n",
      "Computers & Mathematics               299008\n",
      "Education                             559129\n",
      "Engineering                           537583\n",
      "Health                                463230\n",
      "Humanities & Liberal Arts             713468\n",
      "Industrial Arts & Consumer Services   229792\n",
      "Interdisciplinary                      12296\n",
      "Law & Public Policy                   179107\n",
      "Physical Sciences                     185479\n",
      "Psychology & Social Work              481007\n",
      "Social Science                        529966\n"
     ]
    }
   ],
   "source": [
    "\n",
    "# import pandas as pd\n",
    "# import numpy as np\n",
    "# aa_car_counts={}\n",
    "# rg_cat_counts={}\n",
    "# all_ages= pd.read_csv(\"all-ages.csv\")\n",
    "# recent_grads = pd.read_csv(\"recent-grads.csv\")\n",
    "# aa_car_counts=all_ages.groupby(['Major_category','Total'])['Total'].aggregate('sum').unstack()\n",
    "# print(aa_car_counts)\n",
    "# rg_cat_counts=recent_grads.groupby(['Major_category','Total'])['Total'].aggregate('sum').unstack()\n",
    "# print(rg_cat_counts)\n",
    "\n",
    "import pandas as pd\n",
    "import numpy as np\n",
    "aa_car_counts={}\n",
    "rg_cat_counts={}\n",
    "all_ages= pd.read_csv(\"all-ages.csv\")\n",
    "recent_grads = pd.read_csv(\"recent-grads.csv\")\n",
    "aa_car_counts =all_ages.pivot_table(values=[\"Total\"], index=[\"Major_category\",], aggfunc=np.sum)\n",
    "print(aa_car_counts)\n",
    "rg_cat_counts =recent_grads.pivot_table(values=[\"Total\"], index=[\"Major_category\",], aggfunc=np.sum)\n",
    "print(rg_cat_counts)\n",
    "\n",
    "# to dict \n",
    "\n",
    "# def calculate_major_cat_totals(df):\n",
    "#     cats = df['Major_category'].unique()\n",
    "#     counts_dictionary = {}\n",
    "    \n",
    "#     for c in cats:\n",
    "#         major_df = df[df[\"Major_category\"] == c]\n",
    "#         total = major_df[\"Total\"].sum()\n",
    "#         counts_dictionary[c] = total\n",
    "#     return counts_dictionary"
   ]
  },
  {
   "cell_type": "code",
   "execution_count": 140,
   "metadata": {},
   "outputs": [
    {
     "name": "stdout",
     "output_type": "stream",
     "text": [
      "9.852546076122913 est la proportion\n"
     ]
    }
   ],
   "source": [
    "ll=recent_grads['Low_wage_jobs'].sum()\n",
    "vv=recent_grads['Total'].sum()\n",
    "cc=ll/vv *100\n",
    "\n",
    "low_wage_proportion=cc\n",
    "print(low_wage_proportion, 'est la proportion' )"
   ]
  },
  {
   "cell_type": "code",
   "execution_count": null,
   "metadata": {},
   "outputs": [],
   "source": [
    "# import numpy as np\n",
    "\n",
    "# major01=all_ages['Major']\n",
    "# major1=all_ages['Unemployment_rate']\n",
    "\n",
    "# major02=recent_grads['Major']\n",
    "# major2=recent_grads['Unemployment_rate']\n",
    "\n",
    "# major3=major01,major02\n",
    "# major4=major1,major2\n",
    "\n",
    "# print(major3)\n",
    "# print(major4)"
   ]
  },
  {
   "cell_type": "code",
   "execution_count": 139,
   "metadata": {},
   "outputs": [
    {
     "name": "stdout",
     "output_type": "stream",
     "text": [
      "42\n"
     ]
    }
   ],
   "source": [
    "import numpy as np\n",
    "\n",
    "major01=all_ages['Major'].unique()\n",
    "major1=all_ages['Unemployment_rate']\n",
    "\n",
    "major02=recent_grads['Major'].unique()\n",
    "major2=recent_grads['Unemployment_rate']\n",
    "\n",
    "rg_lower_count=0\n",
    "\n",
    "for maj in major01:\n",
    "    if maj in major02:\n",
    "\n",
    "        unemp_rec = recent_grads[\"Unemployment_rate\"][(recent_grads[\"Major\"]==maj) & (recent_grads[\"Unemployment_rate\"].isnull() == False)]\n",
    "        unemp_rec1 = all_ages[\"Unemployment_rate\"][(all_ages[\"Major\"]==maj) & (all_ages[\"Unemployment_rate\"].isnull() == False)]\n",
    "\n",
    "        if len(unemp_rec)==0:\n",
    "            continue\n",
    "        if len(unemp_rec1)==0:\n",
    "            continue\n",
    "        if unemp_rec.iloc[0]<unemp_rec1.iloc[0]:\n",
    "    \n",
    "            rg_lower_count+=1\n",
    "    \n",
    "print(rg_lower_count)    \n",
    "\n",
    "# majors_1 = all_ages[\"Major\"]\n",
    "# majors_2 = recent_grads[\"Major\"]\n",
    "# print(majors_1.shape)\n",
    "# print(majors_2.shape)\n",
    "\n",
    "# rg_lower_count = 0\n",
    "\n",
    "# for major in majors_1:\n",
    "#     is_major_1 = (all_ages[\"Major\"] == major)\n",
    "#     is_major_2 = (recent_grads[\"Major\"] == major)\n",
    "#     valeur_1 = all_ages[is_major_1][\"Unemployment_rate\"].tolist()\n",
    "#     valeur_2 = recent_grads[is_major_2][\"Unemployment_rate\"].tolist()\n",
    "#     if len(valeur_1) > 0 and len(valeur_2) > 0:\n",
    "#         if valeur_1 > valeur_2:\n",
    "#             rg_lower_count += 1\n",
    "\n",
    "# print(\"rg_lower_count =\",rg_lower_count)\n",
    "\n"
   ]
  },
  {
   "cell_type": "code",
   "execution_count": null,
   "metadata": {},
   "outputs": [],
   "source": []
  }
 ],
 "metadata": {
  "kernelspec": {
   "display_name": "Python 3",
   "language": "python",
   "name": "python3"
  },
  "language_info": {
   "codemirror_mode": {
    "name": "ipython",
    "version": 3
   },
   "file_extension": ".py",
   "mimetype": "text/x-python",
   "name": "python",
   "nbconvert_exporter": "python",
   "pygments_lexer": "ipython3",
   "version": "3.8.5"
  }
 },
 "nbformat": 4,
 "nbformat_minor": 4
}
