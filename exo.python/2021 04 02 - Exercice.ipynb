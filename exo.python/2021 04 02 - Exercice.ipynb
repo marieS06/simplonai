{
 "cells": [
  {
   "cell_type": "code",
   "execution_count": 4,
   "metadata": {},
   "outputs": [
    {
     "name": "stdout",
     "output_type": "stream",
     "text": [
      "La liste des entiers pair est :  [4, 56, 8, 0, 18, 6, 2]\n",
      "La liste des entiers impair est :  [23, 7, 9, 7, 55, 43]\n",
      "None\n"
     ]
    }
   ],
   "source": [
    "# NOMBRE PAIR ET IMPAIR\n",
    "def extract(l):\n",
    "    pair = []\n",
    "    impair = []\n",
    "    for x in l:\n",
    "        if(x%2 == 0):\n",
    "            pair.append(x)\n",
    "        else:\n",
    "            impair.append(x)\n",
    "    print(\"La liste des entiers pair est : \",pair)\n",
    "    print(\"La liste des entiers impair est : \",impair)\n",
    "# Tester l'algorithme\n",
    "l =[23,4,56,7,8,9,0,18,7,6,55,43,2]\n",
    "print(extract(l))"
   ]
  },
  {
   "cell_type": "code",
   "execution_count": 16,
   "metadata": {},
   "outputs": [
    {
     "name": "stdout",
     "output_type": "stream",
     "text": [
      "734\n"
     ]
    }
   ],
   "source": [
    "liste = [2,65,42,53,27,2,42,27,2,53,53,53,65,21,27,53,2,53,65,27]\n",
    "\n",
    "#EX1\n",
    "compte=0\n",
    "for valeur in liste:\n",
    "    compte+=valeur\n",
    "print(compte)"
   ]
  },
  {
   "cell_type": "code",
   "execution_count": 4,
   "metadata": {},
   "outputs": [
    {
     "name": "stdout",
     "output_type": "stream",
     "text": [
      "1 a 1 occurrences\n",
      "2 a 2 occurrences\n",
      "5 a 3 occurrences\n",
      "8 a 1 occurrences\n",
      "1 a 1 occurrences\n",
      "2 a 2 occurrences\n",
      "5 a 3 occurrences\n",
      "8 a 1 occurrences\n"
     ]
    }
   ],
   "source": [
    "def compterTri(tab):\n",
    "    trie = sorted(tab)\n",
    "    compteur = 1\n",
    "    avant = None\n",
    "    for v in trie:\n",
    "        if v == avant:\n",
    "            compteur += 1\n",
    "        elif avant != None:\n",
    "            print(str(avant)+\" a \"+str(compteur)+\" occurrences\")\n",
    "            compteur = 1\n",
    "        avant = v\n",
    "    print(str(avant)+\" a \"+str(compteur)+\" occurrences\")\n",
    "    \n",
    "tab=[1,2,5,2,5,5,8]\n",
    "compterTri(tab)\n",
    "\n",
    "\n",
    "def compterTri2(tab):\n",
    "    # tab=[9,2,5,3,5,5,8]\n",
    "    trie = sorted(tab)\n",
    "    # trie=[2,3,5,5,5,8,9]\n",
    "    compteur = 1\n",
    "    avant = trie[0] # avant = 2, la premiere case du tableau 'trie'\n",
    "    for v in trie[1:]: # [1:] veut dire qu'on parcoure le tab 3,5,5,5,8,9\n",
    "        if v == avant:\n",
    "            compteur += 1\n",
    "        else:\n",
    "            print(str(avant)+\" a \"+str(compteur)+\" occurrences\")\n",
    "            compteur = 1\n",
    "        avant = v\n",
    "    print(str(avant)+\" a \"+str(compteur)+\" occurrences\")\n",
    "\n",
    "tab=[1,2,5,2,5,5,8]\n",
    "compterTri2(tab)    "
   ]
  },
  {
   "cell_type": "code",
   "execution_count": 25,
   "metadata": {},
   "outputs": [
    {
     "name": "stdout",
     "output_type": "stream",
     "text": [
      "650\n",
      "310\n",
      "90\n",
      "320\n",
      "810\n",
      "820\n",
      "460\n",
      "120\n"
     ]
    }
   ],
   "source": [
    "L = [65, 31, 9, 32, 81, 82, 46, 12]\n",
    "for z in L:\n",
    "    print(10 * z)"
   ]
  },
  {
   "cell_type": "code",
   "execution_count": 27,
   "metadata": {},
   "outputs": [
    {
     "name": "stdout",
     "output_type": "stream",
     "text": [
      "[65]\n",
      "[65]\n",
      "[65]\n",
      "[65]\n",
      "[65, 81]\n",
      "[65, 81, 82]\n",
      "[65, 81, 82, 46]\n",
      "[65, 81, 82, 46]\n"
     ]
    }
   ],
   "source": [
    "t = [65, 31, 9, 32, 81, 82, 46, 12]\n",
    "L= []\n",
    "for z in t:\n",
    "    if z >= 42:\n",
    "        L.append(z)\n",
    "    print(L)"
   ]
  },
  {
   "cell_type": "code",
   "execution_count": 15,
   "metadata": {},
   "outputs": [
    {
     "name": "stdout",
     "output_type": "stream",
     "text": [
      "x x x x x x x x x x x x x x x x x x x x x x x x x x x x x x x x x x x x x x x x x x x x x x x x x x x x x x x x x x x x x x x x x x x x x x x x x x x x x x x x x x x x x x x x x x x x x x x x x x x x x x x x x x x x x x x x x x x x x x x x x x x x x x \n",
      "\n",
      "X X X X X X X X X X X X X X X X X X X X \n",
      "\n",
      " X X X X X X X X X X X X X X X X X X X X\n",
      "\n",
      "X X X X X X X X X X X X X X X X X X X X \n",
      "\n",
      " X X X X X X X X X X X X X X X X X X X X\n",
      "\n",
      "X X X X X X X X X X X X X X X X X X X X \n",
      "\n",
      " X X X X X X X X X X X X X X X X X X X X\n",
      "\n",
      "X X X X X X X X X X X X X X X X X X X X \n",
      "\n",
      " X X X X X X X X X X X X X X X X X X X X\n",
      "\n",
      "X X X X X X X X X X X X X X X X X X X X \n",
      "\n",
      " X X X X X X X X X X X X X X X X X X X X\n",
      "\n",
      "\n",
      "\n",
      " X X X X X X X X X X X X X X X X X X X X\n",
      "\n",
      " X X X X X X X X X X X X X X X X X X X X\n",
      "\n",
      " X X X X X X X X X X X X X X X X X X X X\n",
      "\n",
      " X X X X X X X X X X X X X X X X X X X X\n",
      "\n",
      " X X X X X X X X X X X X X X X X X X X X\n",
      "\n",
      " X X X X X X X X X X X X X X X X X X X X\n",
      "\n",
      " X X X X X X X X X X X X X X X X X X X X\n",
      "\n",
      " X X X X X X X X X X X X X X X X X X X X\n",
      "\n",
      " X X X X X X X X X X X X X X X X X X X X\n",
      "\n",
      " X X X X X X X X X X X X X X X X X X X X\n",
      "\n"
     ]
    }
   ],
   "source": [
    "for lig in range(1,10):\n",
    "    for col in range(1,lig + 10):\n",
    "        print( end = \"x \")\n",
    "      \n",
    "    \n",
    "print(\"\\n\")\n",
    "for x in range(10):\n",
    "    for y in range(40):    \n",
    "        if( (x+y)%2):\n",
    "            print(\" \",end=\"\")\n",
    "        else:\n",
    "            print(\"X\",end=\"\")\n",
    "    print(\"\\n\")\n",
    "    \n",
    "    \n",
    "print(\"\\n\")\n",
    "for x in range(10):\n",
    "    toto=0;\n",
    "    for y in range(40):    \n",
    "        if(toto):\n",
    "            print(\" \",end=\"\")\n",
    "            toto=0;\n",
    "        else:\n",
    "            print(\"X\",end=\"\")\n",
    "            toto=1;\n",
    "    print(\"\\n\")    "
   ]
  },
  {
   "cell_type": "code",
   "execution_count": 18,
   "metadata": {},
   "outputs": [
    {
     "data": {
      "text/plain": [
       "False"
      ]
     },
     "execution_count": 18,
     "metadata": {},
     "output_type": "execute_result"
    }
   ],
   "source": [
    "def estCroissante (L):\n",
    "    elementPrecedent=L[0]\n",
    "    for element in L:\n",
    "        if elementPrecedent>element :\n",
    "            return False\n",
    "        elementPrecedent=element   \n",
    "    return True\n",
    " \n",
    "l=[1,5,11,19,50,77]\n",
    "l2=[2,3,5,1]\n",
    " \n",
    " \n",
    "estCroissante(l)\n",
    "estCroissante(l2)"
   ]
  },
  {
   "cell_type": "code",
   "execution_count": 23,
   "metadata": {},
   "outputs": [
    {
     "name": "stdout",
     "output_type": "stream",
     "text": [
      "liste non triée\n"
     ]
    }
   ],
   "source": [
    "def estCroissante (L):\n",
    "    resultat = True\n",
    "    elementPrecedent=L[0]\n",
    "    for element in L:\n",
    "        if elementPrecedent>element :\n",
    "            resultat=\"liste triée\"\n",
    "            elementPrecedent=element  \n",
    "        else : \n",
    "            resultat=\"liste non triée\"\n",
    "    print(resultat)\n",
    "L=[1,5,15,9,50,77]\n",
    "estCroissante(L)"
   ]
  },
  {
   "cell_type": "code",
   "execution_count": 21,
   "metadata": {},
   "outputs": [
    {
     "name": "stdout",
     "output_type": "stream",
     "text": [
      "[3, 1, 2]\n"
     ]
    }
   ],
   "source": [
    "c=[1,2,3]\n",
    "\n",
    "c.insert(0,c.pop())\n",
    "\n",
    "print(c)"
   ]
  },
  {
   "cell_type": "code",
   "execution_count": 76,
   "metadata": {},
   "outputs": [
    {
     "ename": "SyntaxError",
     "evalue": "EOL while scanning string literal (<ipython-input-76-28114a104f0f>, line 3)",
     "output_type": "error",
     "traceback": [
      "\u001b[0;36m  File \u001b[0;32m\"<ipython-input-76-28114a104f0f>\"\u001b[0;36m, line \u001b[0;32m3\u001b[0m\n\u001b[0;31m    print(\"{0:3}\".format(var), end = \"’’)\u001b[0m\n\u001b[0m                                         ^\u001b[0m\n\u001b[0;31mSyntaxError\u001b[0m\u001b[0;31m:\u001b[0m EOL while scanning string literal\n"
     ]
    }
   ],
   "source": [
    "for lig in range(5,98,10):\n",
    "    for col in range(1,10):\n",
    "        print(\"{0:3}\".format(var), end = \"’’)\n",
    "        print(col, end = \">\"\"< \")\n",
    "       "
   ]
  },
  {
   "cell_type": "code",
   "execution_count": 77,
   "metadata": {},
   "outputs": [
    {
     "name": "stdout",
     "output_type": "stream",
     "text": [
      "NUMERISAIT MINIATURES\n",
      "True\n"
     ]
    }
   ],
   "source": [
    "def sontAnagrammes(a, b):\n",
    "     return sorted(a)==sorted(b)\n",
    "a=\"NUMERISAIT\"\n",
    "b=\"MINIATURES\"\n",
    "print(a, b)\n",
    "print(sontAnagrammes(a, b))"
   ]
  },
  {
   "cell_type": "code",
   "execution_count": null,
   "metadata": {},
   "outputs": [],
   "source": []
  }
 ],
 "metadata": {
  "kernelspec": {
   "display_name": "Python 3",
   "language": "python",
   "name": "python3"
  },
  "language_info": {
   "codemirror_mode": {
    "name": "ipython",
    "version": 3
   },
   "file_extension": ".py",
   "mimetype": "text/x-python",
   "name": "python",
   "nbconvert_exporter": "python",
   "pygments_lexer": "ipython3",
   "version": "3.8.5"
  }
 },
 "nbformat": 4,
 "nbformat_minor": 4
}
