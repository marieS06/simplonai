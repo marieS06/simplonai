{
 "cells": [
  {
   "cell_type": "code",
   "execution_count": null,
   "metadata": {},
   "outputs": [],
   "source": [
    "# exo 1\n",
    "\n",
    "liste = [2,65,42,53,27,2,42,27,2,53,53,53,65,21,27,53,2,53,65,27]\n",
    "\n",
    "compte=0\n",
    "\n",
    "for valeur in liste:\n",
    "    compte+=valeur\n",
    "print(compte)"
   ]
  },
  {
   "cell_type": "code",
   "execution_count": 1,
   "metadata": {},
   "outputs": [
    {
     "name": "stdout",
     "output_type": "stream",
     "text": [
      "La liste des entiers pair est :  [4, 56, 8, 0, 18, 6, 2]\n",
      "La liste des entiers impair est :  [23, 7, 9, 7, 55, 43]\n",
      "None\n"
     ]
    }
   ],
   "source": [
    "# exo 2\n",
    "\n",
    "def extract(l):\n",
    "    pair = []\n",
    "    impair = []\n",
    "    for x in l:\n",
    "        if(x%2 == 0):\n",
    "            pair.append(x)\n",
    "        else:\n",
    "            impair.append(x)\n",
    "    print(\"La liste des entiers pair est : \",pair)\n",
    "    print(\"La liste des entiers impair est : \",impair)\n",
    "# Tester l'algorithme\n",
    "l =[23,4,56,7,8,9,0,18,7,6,55,43,2]\n",
    "print(extract(l))"
   ]
  },
  {
   "cell_type": "code",
   "execution_count": 2,
   "metadata": {},
   "outputs": [
    {
     "name": "stdout",
     "output_type": "stream",
     "text": [
      "1 a 1 occurrences\n",
      "2 a 2 occurrences\n",
      "5 a 3 occurrences\n",
      "8 a 1 occurrences\n"
     ]
    }
   ],
   "source": [
    "# exo 3\n",
    "\n",
    "def compterTri2(tab):\n",
    "    # tab=[9,2,5,3,5,5,8]\n",
    "    trie = sorted(tab)\n",
    "    # trie=[2,3,5,5,5,8,9]\n",
    "    compteur = 1\n",
    "    avant = trie[0] # avant = 2, la premiere case du tableau 'trie'\n",
    "    for v in trie[1:]: # [1:] veut dire qu'on parcoure le tab 3,5,5,5,8,9\n",
    "        if v == avant:\n",
    "            compteur += 1\n",
    "        else:\n",
    "            print(str(avant)+\" a \"+str(compteur)+\" occurrences\")\n",
    "            compteur = 1\n",
    "        avant = v\n",
    "    print(str(avant)+\" a \"+str(compteur)+\" occurrences\")\n",
    "\n",
    "tab=[1,2,5,2,5,5,8]\n",
    "compterTri2(tab)    "
   ]
  },
  {
   "cell_type": "code",
   "execution_count": 3,
   "metadata": {},
   "outputs": [
    {
     "name": "stdout",
     "output_type": "stream",
     "text": [
      "\n",
      "\n",
      "X X X X X X X X X X X X X X X X X X X X \n",
      "\n",
      "X X X X X X X X X X X X X X X X X X X X \n",
      "\n",
      "X X X X X X X X X X X X X X X X X X X X \n",
      "\n",
      "X X X X X X X X X X X X X X X X X X X X \n",
      "\n",
      "X X X X X X X X X X X X X X X X X X X X \n",
      "\n",
      "X X X X X X X X X X X X X X X X X X X X \n",
      "\n",
      "X X X X X X X X X X X X X X X X X X X X \n",
      "\n",
      "X X X X X X X X X X X X X X X X X X X X \n",
      "\n",
      "X X X X X X X X X X X X X X X X X X X X \n",
      "\n",
      "X X X X X X X X X X X X X X X X X X X X \n",
      "\n"
     ]
    }
   ],
   "source": [
    "# exo 4\n",
    "\n",
    "print(\"\\n\")\n",
    "for x in range(10):\n",
    "    toto=0;\n",
    "    for y in range(40):    \n",
    "        if(toto):\n",
    "            print(\" \",end=\"\")\n",
    "            toto=0;\n",
    "        else:\n",
    "            print(\"X\",end=\"\")\n",
    "            toto=1;\n",
    "    print(\"\\n\")    "
   ]
  },
  {
   "cell_type": "code",
   "execution_count": 215,
   "metadata": {},
   "outputs": [
    {
     "name": "stdout",
     "output_type": "stream",
     "text": [
      "1 est premier\n",
      "2 est premier\n",
      "3 est premier\n",
      "5 est premier\n",
      "7 est premier\n",
      "11 est premier\n",
      "13 est premier\n",
      "17 est premier\n",
      "19 est premier\n",
      "23 est premier\n",
      "29 est premier\n",
      "31 est premier\n",
      "37 est premier\n",
      "41 est premier\n",
      "43 est premier\n",
      "47 est premier\n",
      "53 est premier\n",
      "59 est premier\n",
      "61 est premier\n",
      "67 est premier\n",
      "71 est premier\n",
      "73 est premier\n",
      "79 est premier\n",
      "83 est premier\n",
      "89 est premier\n",
      "97 est premier\n"
     ]
    }
   ],
   "source": [
    "# exo 5\n",
    "for k in range(1,101):\n",
    "    ok=0;\n",
    "    for n in range(2,k):\n",
    "        if( (k//n)*n == k):\n",
    "            ok=1;\n",
    "            break;\n",
    "    if(ok==0):\n",
    "        print(k ,'est premier')\n",
    "        \n"
   ]
  },
  {
   "cell_type": "code",
   "execution_count": 264,
   "metadata": {},
   "outputs": [
    {
     "name": "stdout",
     "output_type": "stream",
     "text": [
      "[1, 5, 8, 11, 19, 50, 77]\n",
      "[1, 5, 11, 19, 8, 50, 77]\n",
      "la liste n'est pas triée\n",
      "le tableau n'est pas dans l'ordre car 19 est plus grand que  8\n"
     ]
    }
   ],
   "source": [
    "# exo 6\n",
    "L=[1, 5, 11, 19, 8, 50, 77]\n",
    "LL=sorted(L)\n",
    "print(LL)\n",
    "print(L)\n",
    "\n",
    "if LL != L :\n",
    "    print(\"la liste n'est pas triée\")\n",
    "elif LL == L :\n",
    "    print(\"la liste est triée\")\n",
    "else : \n",
    "    print('entrer')\n",
    "    \n",
    "\n",
    "temp = L[0]\n",
    "ok=1;\n",
    "\n",
    "for actuel in L[1:]:\n",
    "    if(temp>actuel):\n",
    "        ok=0;\n",
    "        print('le tableau n\\'est pas dans l\\'ordre car', temp, 'est plus grand que ',actuel)\n",
    "    temp=actuel\n",
    "if(ok):\n",
    "    print('le tableau est bien trié')"
   ]
  },
  {
   "cell_type": "code",
   "execution_count": 265,
   "metadata": {
    "scrolled": true
   },
   "outputs": [
    {
     "name": "stdout",
     "output_type": "stream",
     "text": [
      "[0, 1, 2, 3, 4, 5]\n",
      "[5, 0, 1, 2, 3, 4]\n",
      "[4, 5, 0, 1, 2, 3]\n",
      "[3, 4, 5, 0, 1, 2]\n",
      "[2, 3, 4, 5, 0, 1]\n",
      "[1, 2, 3, 4, 5, 0]\n"
     ]
    }
   ],
   "source": [
    "# exo 7\n",
    "liste1=[0,1,2,3,4,5]\n",
    "print(liste1)\n",
    "for n in range(len(liste1)-1):\n",
    "    # addition de 2 tableaux car liste1[-1] n'est qu'une valeur et pas un tableau\n",
    "    liste1 = [ liste1[-1] ] + liste1[:-1] \n",
    "    print(liste1)"
   ]
  },
  {
   "cell_type": "code",
   "execution_count": 266,
   "metadata": {},
   "outputs": [
    {
     "name": "stdout",
     "output_type": "stream",
     "text": [
      "1er tab fini, on fini le 2eme tableau\n",
      "[1, 2, 2, 3, 5, 6, 7, 7, 9]\n"
     ]
    }
   ],
   "source": [
    "# exo 9\n",
    "\n",
    "\n",
    "L1 = [1,2,3,7]\n",
    "L2 = [2,5,6,7,9]\n",
    "\n",
    "resultat = []\n",
    "\n",
    "n1= len(L1)\n",
    "n2 = len(L2)\n",
    "\n",
    "i = 0\n",
    "j = 0\n",
    "while i<n1 and j<n2:\n",
    "    a = L1[i]\n",
    "    b = L2[j]\n",
    "    if( a < b ):\n",
    "        resultat.append(a)\n",
    "        i+= 1\n",
    "    else:\n",
    "        resultat.append(b)\n",
    "        j += 1      \n",
    "        \n",
    "if(i==n1):\n",
    "    print(\"1er tab fini, on fini le 2eme tableau\")\n",
    "    for b in L2[j:]:\n",
    "        resultat.append(b)\n",
    "else:\n",
    "    print(\"2em tab fini, on fini le 1er tableau\")\n",
    "    for a in L1[i:]:\n",
    "        resultat.append(a)\n",
    "print(resultat)"
   ]
  },
  {
   "cell_type": "code",
   "execution_count": 267,
   "metadata": {},
   "outputs": [
    {
     "name": "stdout",
     "output_type": "stream",
     "text": [
      "     1 15 18 55 60 65 77 80 85 93 99\n",
      "\n",
      "  5  >  <  <  <  <  <  <  <  <  <  <  \n",
      "\n",
      " 15  >  == <  <  <  <  <  <  <  <  <  \n",
      "\n",
      " 20  >  >  >  <  <  <  <  <  <  <  <  \n",
      "\n",
      " 77  >  >  >  >  >  >  == <  <  <  <  \n",
      "\n",
      " 98  >  >  >  >  >  >  >  >  >  >  <  \n",
      "\n"
     ]
    }
   ],
   "source": [
    "# exo 8\n",
    "left = [5,15,20,77,98]\n",
    "top = [1,15,18,55,60,65,77,80,85,93,99]\n",
    "\n",
    "print(\"{0:3}\".format(\"\"), end = \"\")\n",
    "for t in top:\n",
    "    print(\"{0:3}\".format(t), end = \"\")\n",
    "print(\"\\n\")    \n",
    "    \n",
    "    \n",
    "for l in left:\n",
    "    print(\"{0:3}\".format(l), end = \"\")\n",
    "    print(\"{0:2}\".format(\"\"), end = \"\")\n",
    "    for t in top:\n",
    "        if(l>t):\n",
    "            print(\"{0:3}\".format(\">\"), end = \"\")\n",
    "        elif(l==t):\n",
    "            print(\"{0:3}\".format(\"==\"), end = \"\")\n",
    "        else:\n",
    "            print(\"{0:3}\".format(\"<\"), end = \"\")\n",
    "    print(\"\\n\")"
   ]
  },
  {
   "cell_type": "code",
   "execution_count": null,
   "metadata": {},
   "outputs": [
    {
     "name": "stdout",
     "output_type": "stream",
     "text": [
      "rentre un mot de 6 lettreslo\n",
      "LO\n"
     ]
    }
   ],
   "source": [
    "#print(mot_Utilisateur)\n",
    "#print(mot_U)\n",
    "#print(mots)\n",
    "#print(mot)\n",
    "\n",
    "\n",
    "compteur_essaie=0\n",
    "\n",
    "while compteur_essaie<8:\n",
    "    mot_Utilisateur=input('rentre un mot de 6 lettres :')\n",
    "    mot_U=mot_Utilisateur.upper()\n",
    "    mots=['C','A','S','T','O','R']\n",
    "    compteur_essaie+=1\n",
    "    for i in mot_Utilisateur:\n",
    "        if i in mots:\n",
    "            if mots == 0:\n",
    "                print('il n\\'y a pas de lettre')\n",
    "            elif mots == 1:\n",
    "                print('il n\\'y a pas de lettre')\n",
    "            else :\n",
    "                print(mot_U)\n",
    "\n",
    "\n",
    "\n"
   ]
  },
  {
   "cell_type": "code",
   "execution_count": null,
   "metadata": {},
   "outputs": [],
   "source": [
    "#print(mot_Utilisateur)\n",
    "#print(mot_U)\n",
    "#print(mots)\n",
    "#print(mot)\n",
    "\n",
    "\n",
    "compteur_essaie=0\n",
    "\n",
    "while compteur_essaie<8:\n",
    "    mot_Utilisateur=input('rentre un mot de 6 lettres :')\n",
    "    mot_U=mot_Utilisateur.upper()\n",
    "    mots=['CASTOR']\n",
    "    compteur_essaie+=1\n",
    "    motus=''\n",
    "    \n",
    "    if len(mot_Utilisateur)!=6:\n",
    "        print(' \"\" ')\n",
    "    elif mot_Utilisateur == mots :\n",
    "        print('mot trouvé')\n",
    "    else:\n",
    "        for i in range(6):\n",
    "            if mot_U[i]==mots[i]:\n",
    "                motus+=mot_Utilisateur[i]+'#':\n",
    "            elif mot_utilisateur[i]in mots:\n",
    "                motus+=mot_Utilisateur[i]+'?'\n",
    "            else:\n",
    "                motus+=mot_Utilisateur[i].lower()+''\n",
    "        print(motus)\n",
    "        \n",
    "                    \n",
    "                \n",
    "                "
   ]
  }
 ],
 "metadata": {
  "kernelspec": {
   "display_name": "Python 3",
   "language": "python",
   "name": "python3"
  },
  "language_info": {
   "codemirror_mode": {
    "name": "ipython",
    "version": 3
   },
   "file_extension": ".py",
   "mimetype": "text/x-python",
   "name": "python",
   "nbconvert_exporter": "python",
   "pygments_lexer": "ipython3",
   "version": "3.8.5"
  }
 },
 "nbformat": 4,
 "nbformat_minor": 4
}
