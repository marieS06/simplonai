{
 "cells": [
  {
   "cell_type": "markdown",
   "metadata": {},
   "source": [
    "## Sauvegarde du modèle"
   ]
  },
  {
   "cell_type": "code",
   "execution_count": 16,
   "metadata": {},
   "outputs": [
    {
     "data": {
      "text/plain": [
       "['save_model/50_statups_regression_model_saved.joblib']"
      ]
     },
     "execution_count": 16,
     "metadata": {},
     "output_type": "execute_result"
    }
   ],
   "source": [
    "from joblib import dump\n",
    "#export tu sauvegardes ton model \n",
    "dump(model, 'save_model/50_statups_regression_model_saved.joblib')"
   ]
  },
  {
   "cell_type": "markdown",
   "metadata": {},
   "source": [
    "## Import du modèle et utilisation pour prédiction"
   ]
  },
  {
   "cell_type": "code",
   "execution_count": 17,
   "metadata": {},
   "outputs": [],
   "source": [
    "from joblib import load\n",
    "#import pour l'utiliser\n",
    "model = load('save_model/50_statups_regression_model_saved.joblib')"
   ]
  },
  {
   "cell_type": "code",
   "execution_count": 22,
   "metadata": {},
   "outputs": [
    {
     "name": "stdout",
     "output_type": "stream",
     "text": [
      "Quels sont les dépenses en recherche et développement ? : 300000\n",
      "Quels sont les dépenses en marketing ? : 100000\n"
     ]
    }
   ],
   "source": [
    "rDSpend = input(\"Quels sont les dépenses en recherche et développement ? : \")\n",
    "marketingSpend = input(\"Quels sont les dépenses en marketing ? : \")"
   ]
  },
  {
   "cell_type": "code",
   "execution_count": 23,
   "metadata": {},
   "outputs": [
    {
     "name": "stdout",
     "output_type": "stream",
     "text": [
      "Les bénéfices pour l'année à venir sont estimé à : 294238.54805648245\n"
     ]
    }
   ],
   "source": [
    "benefice = model.predict([[rDSpend, marketingSpend]])[0]\n",
    "print(\"Les bénéfices pour l'année à venir sont estimé à : \" + str(benefice))"
   ]
  },
  {
   "cell_type": "markdown",
   "metadata": {},
   "source": [
    "## Création d'une fonction de prédiction"
   ]
  },
  {
   "cell_type": "code",
   "execution_count": 4,
   "metadata": {},
   "outputs": [],
   "source": [
    "def predict(rd, marketing):\n",
    "    model = load('save_model/50_statups_regression_model_saved.joblib')\n",
    "    benefice = model.predict([[rd, marketing]])[0]\n",
    "    return benefice"
   ]
  },
  {
   "cell_type": "code",
   "execution_count": 9,
   "metadata": {},
   "outputs": [
    {
     "data": {
      "text/plain": [
       "306115.28603664914"
      ]
     },
     "execution_count": 9,
     "metadata": {},
     "output_type": "execute_result"
    }
   ],
   "source": [
    "predict(rDSpend, marketingSpend)"
   ]
  },
  {
   "cell_type": "code",
   "execution_count": null,
   "metadata": {},
   "outputs": [],
   "source": []
  }
 ],
 "metadata": {
  "kernelspec": {
   "display_name": "Python 3",
   "language": "python",
   "name": "python3"
  },
  "language_info": {
   "codemirror_mode": {
    "name": "ipython",
    "version": 3
   },
   "file_extension": ".py",
   "mimetype": "text/x-python",
   "name": "python",
   "nbconvert_exporter": "python",
   "pygments_lexer": "ipython3",
   "version": "3.8.5"
  }
 },
 "nbformat": 4,
 "nbformat_minor": 4
}
