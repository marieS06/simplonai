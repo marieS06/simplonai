{
 "cells": [
  {
   "cell_type": "code",
   "execution_count": 69,
   "metadata": {},
   "outputs": [
    {
     "name": "stdout",
     "output_type": "stream",
     "text": [
      "al 3\n",
      "apres 2\n"
     ]
    }
   ],
   "source": [
    "a= 2\n",
    "\n",
    "def test():\n",
    "    #global a\n",
    "    a = 3\n",
    "    print('al',a)\n",
    "test()\n",
    "print('apres', a)"
   ]
  },
  {
   "cell_type": "code",
   "execution_count": 70,
   "metadata": {},
   "outputs": [
    {
     "name": "stdout",
     "output_type": "stream",
     "text": [
      "je map x= 10\n",
      "je map x= 5.0\n",
      "je map x= 2.5\n",
      "je m'appelle pas pour x= 1.25\n"
     ]
    },
    {
     "data": {
      "text/plain": [
       "4"
      ]
     },
     "execution_count": 70,
     "metadata": {},
     "output_type": "execute_result"
    }
   ],
   "source": [
    "def recursive(x) :\n",
    "    if x/2 < 1 :\n",
    "        print(\"je m'appelle pas pour x=\" ,x)\n",
    "        return 1 \n",
    "    else :\n",
    "        print(\"je map x=\", x)\n",
    "        return recursive (x/2) + 1\n",
    "    \n",
    "recursive( 10 )"
   ]
  },
  {
   "cell_type": "code",
   "execution_count": 71,
   "metadata": {},
   "outputs": [],
   "source": [
    "s1 = \"Du passe faisons table rase\"\n",
    "l1 = [i for i in s1]\n",
    "l2 = s1.split(\"as\")\n",
    "l3 = s1.split()"
   ]
  },
  {
   "cell_type": "code",
   "execution_count": 72,
   "metadata": {},
   "outputs": [
    {
     "name": "stdout",
     "output_type": "stream",
     "text": [
      "D u   p\n"
     ]
    }
   ],
   "source": [
    "print(l1[0], l1[1], l1[2], l1[3],)"
   ]
  },
  {
   "cell_type": "code",
   "execution_count": 73,
   "metadata": {},
   "outputs": [
    {
     "name": "stdout",
     "output_type": "stream",
     "text": [
      "['Du p', 'se faisons table r', 'e']\n"
     ]
    }
   ],
   "source": [
    "print(l2)"
   ]
  },
  {
   "cell_type": "code",
   "execution_count": 74,
   "metadata": {},
   "outputs": [
    {
     "name": "stdout",
     "output_type": "stream",
     "text": [
      "['Du', 'passe', 'faisons', 'table', 'rase']\n"
     ]
    }
   ],
   "source": [
    "print(l3)"
   ]
  },
  {
   "cell_type": "code",
   "execution_count": 81,
   "metadata": {},
   "outputs": [
    {
     "name": "stdout",
     "output_type": "stream",
     "text": [
      "faisons TABLE\n"
     ]
    }
   ],
   "source": [
    "l1=['H','e','l','l','o','','W']\n",
    "l2 = ['Du', 'passe', 'faisons', 'table', 'rase']\n",
    "s1 = \"\".join(l1)\n",
    "s2=\" \".join(l2)\n",
    "#print(s1)\n",
    "#print(s2)\n",
    "s1 = \"Faisons table rase\"\n",
    "s2 = s1[:8].lower() + s1[8:13].upper()\n",
    "print(s2)"
   ]
  },
  {
   "cell_type": "code",
   "execution_count": 82,
   "metadata": {},
   "outputs": [
    {
     "name": "stdout",
     "output_type": "stream",
     "text": [
      "3\n"
     ]
    }
   ],
   "source": [
    "s1 = \"Ce texte contient deux fois le mot texte.\"\n",
    "print(s1.find('texte',0))"
   ]
  },
  {
   "cell_type": "code",
   "execution_count": 83,
   "metadata": {},
   "outputs": [
    {
     "name": "stdout",
     "output_type": "stream",
     "text": [
      "35\n"
     ]
    }
   ],
   "source": [
    "print(s1.find('texte', 4))"
   ]
  },
  {
   "cell_type": "code",
   "execution_count": 84,
   "metadata": {},
   "outputs": [
    {
     "name": "stdout",
     "output_type": "stream",
     "text": [
      "-1\n"
     ]
    }
   ],
   "source": [
    "print(s1.find('texte',36))"
   ]
  },
  {
   "cell_type": "code",
   "execution_count": 86,
   "metadata": {},
   "outputs": [
    {
     "name": "stdout",
     "output_type": "stream",
     "text": [
      "3\n",
      "35\n",
      "-1\n"
     ]
    }
   ],
   "source": [
    "s1 = \"Ce texte contient deux fois le mot texte.\"\n",
    "max = 0\n",
    "while max > -1:\n",
    "    max = s1.find('texte', max+1)\n",
    "    print(max)"
   ]
  },
  {
   "cell_type": "code",
   "execution_count": 92,
   "metadata": {},
   "outputs": [
    {
     "name": "stdout",
     "output_type": "stream",
     "text": [
      "20\n",
      "le prix est de $deux \n",
      "16\n",
      "le prix est de $2.15 \n"
     ]
    }
   ],
   "source": [
    "s1 = \"le prix est de deux euros.\"\n",
    "if 'euros' in s1:\n",
    "    i= s1.index('euros')\n",
    "    print(i)\n",
    "    s2 = s1[:i-5] + '$' + s1[i-5:i]\n",
    "    print(s2)\n",
    "    j = s2.find('deux')\n",
    "    print(j)\n",
    "    s3 = s2[:j] + '2.15' + s2[j+4:]\n",
    "    print(s3)"
   ]
  },
  {
   "cell_type": "code",
   "execution_count": 93,
   "metadata": {},
   "outputs": [
    {
     "name": "stdout",
     "output_type": "stream",
     "text": [
      "Le prix est de $2.15\n"
     ]
    }
   ],
   "source": [
    "s1 = 'Le prix est de deux euros'\n",
    "s2 = s1.replace('deux euros', '$2.15')\n",
    "print(s2)"
   ]
  },
  {
   "cell_type": "code",
   "execution_count": 96,
   "metadata": {},
   "outputs": [
    {
     "name": "stdout",
     "output_type": "stream",
     "text": [
      "nombre\n",
      "mot\n",
      "?\n"
     ]
    }
   ],
   "source": [
    "s = '300 seulement ?'\n",
    "l = s.split()\n",
    "for mot in l:\n",
    "    if mot.isalpha():\n",
    "        print('mot')\n",
    "    if mot.isnumeric():\n",
    "        print('nombre')\n",
    "    if not mot.isalnum():\n",
    "        print('?')"
   ]
  },
  {
   "cell_type": "code",
   "execution_count": 103,
   "metadata": {},
   "outputs": [
    {
     "name": "stdout",
     "output_type": "stream",
     "text": [
      "['Le', 'Argentine']\n",
      "[]\n"
     ]
    }
   ],
   "source": [
    "from re import findall\n",
    "s=\"Le PIB de l'Argentine baisse depuis 3 ans\"\n",
    "l1 = findall('[A-Z][a-z]+',s)\n",
    "l2 = findall('[a-zA-Z]*[iI] [a-zA-Z]*',s)\n",
    "print(l1)\n",
    "print(l2)"
   ]
  },
  {
   "cell_type": "code",
   "execution_count": 117,
   "metadata": {},
   "outputs": [
    {
     "name": "stdout",
     "output_type": "stream",
     "text": [
      "['0678828383', '09.34.67.12.11', '03 11 23 20 38', '03.11 23 2038']\n"
     ]
    }
   ],
   "source": [
    "from re import findall\n",
    "motif = \"0[1-9](?:[\\s\\.]?[0-9]{2}){4}\"\n",
    "n1=\"0678828383\"\n",
    "n2=\"09.34.67.12.11\"\n",
    "n3=\"03 11 23 20 38,\"\n",
    "n4=\"03 11 23 20,\"\n",
    "n5=\"03.11 23 2038,\"\n",
    "n6=\"03-23-20-20-38\"\n",
    "s = n1+n2+n3+n4+n5+n6\n",
    "print(findall(motif, s))"
   ]
  },
  {
   "cell_type": "code",
   "execution_count": 111,
   "metadata": {},
   "outputs": [
    {
     "name": "stdout",
     "output_type": "stream",
     "text": [
      "['0678828383', '09.34.67.12.11', '03 11 23 20 38', '03.11 23 2038']\n"
     ]
    }
   ],
   "source": [
    "from re import  findall\n",
    "\n",
    "motif = \"0[1-9](?:[\\s\\.]?[0-9]{2}){4}\"\n",
    "n1 = \"0678828383\"\n",
    "n2 = \"09.34.67.12.11\"\n",
    "n3 = \"03 11 23 20 38,\"\n",
    "n4 = \"03 11 23 20,\"\n",
    "n5 = \"03.11 23 2038,\"\n",
    "n6 = \"03-23-20-20-38\"\n",
    "s = n1+n2+n3+n4+n5+n6\n",
    "print(findall(motif, s))"
   ]
  },
  {
   "cell_type": "code",
   "execution_count": 113,
   "metadata": {},
   "outputs": [
    {
     "name": "stdout",
     "output_type": "stream",
     "text": [
      "un texte HTML<strong/> avec des balises et meme<script type=\"text/javascript\">var i = 5 ;</script> du javascript dedans.\n"
     ]
    }
   ],
   "source": [
    "from re import sub\n",
    "s = 'un texte <strong>HTML<strong/> avec des balises'\n",
    "s += ' et meme<script type=\"text/javascript\">'\n",
    "s+= 'var i = 5 ;</script> du javascript dedans.'\n",
    "s1 =sub('<[a-z]*>', '', s)\n",
    "print(s1)"
   ]
  },
  {
   "cell_type": "code",
   "execution_count": 118,
   "metadata": {},
   "outputs": [
    {
     "name": "stdout",
     "output_type": "stream",
     "text": [
      "un texte  du javascript dedans.\n",
      "un texte HTML avec des balises et memevar i = 5 ; du javascript dedans.\n",
      "un texte HTML avec des balises et memevar i = 5 ; du javascript dedans.\n"
     ]
    }
   ],
   "source": [
    "from re import sub\n",
    "s = 'un texte <strong>HTML<strong/> avec des balises'\n",
    "s += ' et meme<script type=\"text/javascript\">'\n",
    "s+= 'var i = 5 ;</script> du javascript dedans.'\n",
    "s1 =sub('<.*>','', s)\n",
    "s2 =sub('<[a-z\\\\/\"=\\s]*>','',s)\n",
    "s3 = sub('<[^>]*>','',s)\n",
    "print(s1)\n",
    "print(s2)\n",
    "print(s3)"
   ]
  },
  {
   "cell_type": "code",
   "execution_count": 360,
   "metadata": {},
   "outputs": [
    {
     "name": "stdout",
     "output_type": "stream",
     "text": [
      "['s', 's', 's', 's']\n"
     ]
    },
    {
     "data": {
      "text/plain": [
       "'BAISSE DEPUIS 3 ANS'"
      ]
     },
     "execution_count": 360,
     "metadata": {},
     "output_type": "execute_result"
    }
   ],
   "source": [
    "from re import findall\n",
    "s = \"baisse depuis 3 ans\";\n",
    "motif = '[A-Z]*[sS][A-Z]*'\n",
    "# motif = sub('s[S]*','',s)\n",
    "def hascap(s):\n",
    "    C=\"\"\n",
    "    for k in range(0,len(s)):\n",
    "        if 97<=ord(s[k])<=122:\n",
    "            C=C+chr(ord(s[k])-32)\n",
    "        else:\n",
    "            C=C+s[k]\n",
    "    return(C)\n",
    "print(findall(motif, s))\n",
    "hascap(s)"
   ]
  },
  {
   "cell_type": "code",
   "execution_count": 188,
   "metadata": {},
   "outputs": [
    {
     "name": "stdout",
     "output_type": "stream",
     "text": [
      "0 55 110\n",
      "1 25 50\n",
      "2 66 132\n"
     ]
    },
    {
     "data": {
      "text/plain": [
       "[55, 25, 66]"
      ]
     },
     "execution_count": 188,
     "metadata": {},
     "output_type": "execute_result"
    }
   ],
   "source": [
    "s =[55,25,66]\n",
    "def inflation(s):\n",
    "    for i,e in enumerate(s):\n",
    "        b = e*2\n",
    "        print(i,e,b)\n",
    "    return(s)\n",
    "inflation(s)"
   ]
  },
  {
   "cell_type": "code",
   "execution_count": 353,
   "metadata": {},
   "outputs": [
    {
     "name": "stdout",
     "output_type": "stream",
     "text": [
      "['Onzeans déjà que cela', 'viteVousvous étiez', 'simplementde vos armes', 'mortn‘éblouit pas les', 'despartisans Vous', 'vosportraits sur les', 'denos villes aviez vos', 'surles murs de nos']\n"
     ]
    }
   ],
   "source": [
    "s = \"Onze ans déjà que cela passe vite Vous\"\n",
    "s += \"vous étiez servis simplement de vos armes la \"\n",
    "s += \"mort n‘éblouit pas les yeux des partisans Vous \"\n",
    "s += \"aviez vos portraits sur les murs de nos villes \"\n",
    "s += \"aviez vos portraits sur les murs de nos villes \"\n",
    "\n",
    "def lignes(s):\n",
    "    lignes_out = []\n",
    "    tmp = \"\"\n",
    "    words = s.split()\n",
    "    for d in words:\n",
    "        if tmp:\n",
    "            d = d + \" \"\n",
    "       \n",
    "        if( len(tmp) + len(d))<24:\n",
    "            tmp += d\n",
    "        else:\n",
    "            lignes_out.append(tmp[:-1]) # on enleve l'espace inutile\n",
    "            tmp = \"\"\n",
    "    return lignes_out\n",
    "\n",
    "print( lignes(s) )"
   ]
  },
  {
   "cell_type": "code",
   "execution_count": 304,
   "metadata": {},
   "outputs": [
    {
     "name": "stdout",
     "output_type": "stream",
     "text": [
      "['2', '6.50']\n"
     ]
    }
   ],
   "source": [
    "s = \"Les 2 maquereaux valent 6.50 euros\"\n",
    "\n",
    "def return_numbers(s):\n",
    "    out = []\n",
    "    words = s.split()\n",
    "    for d in words:\n",
    "        # on test le premier charactere\n",
    "        if d[0].isnumeric():\n",
    "            out.append(d)\n",
    "   \n",
    "    return out\n",
    "\n",
    "out = return_numbers(s)\n",
    "print( return_numbers(s) )"
   ]
  },
  {
   "cell_type": "code",
   "execution_count": 310,
   "metadata": {},
   "outputs": [
    {
     "name": "stdout",
     "output_type": "stream",
     "text": [
      "les 3 marines sont -5\n"
     ]
    }
   ],
   "source": [
    "s1='les 3 marines sont -5'\n",
    "def arrondis(s1):\n",
    "    out = []\n",
    "    words = s1.split()\n",
    "    for d in words:\n",
    "        # on test le premier charactere\n",
    "        if d[0].isnumeric():\n",
    "            out.append(str( int(float(d)) ))\n",
    "        else:\n",
    "            out.append(d)\n",
    "    return \" \".join(out)\n",
    "\n",
    "out = arrondis(s1)\n",
    "print( arrondis(s1) )"
   ]
  },
  {
   "cell_type": "code",
   "execution_count": 355,
   "metadata": {},
   "outputs": [
    {
     "name": "stdout",
     "output_type": "stream",
     "text": [
      "['Il', 'Divine', 'Enfant']\n"
     ]
    }
   ],
   "source": [
    "# QUESTION 1\n",
    "\n",
    "def hascap(s):\n",
    "    mots = s.split()\n",
    "    majs = []\n",
    "    for m in mots:\n",
    "        if ord(m[0]) in range(65, 91):\n",
    "            majs.append(m)\n",
    "    return majs\n",
    "print(hascap(\"Il est venu le Divine Enfant\"))"
   ]
  },
  {
   "cell_type": "code",
   "execution_count": 356,
   "metadata": {},
   "outputs": [
    {
     "name": "stdout",
     "output_type": "stream",
     "text": [
      "Le prix est de 54 euros\n"
     ]
    }
   ],
   "source": [
    "# QUESTION 2\n",
    "def inflation(s):\n",
    "    mots = s.split()\n",
    "    for i, m in enumerate(mots):\n",
    "        if m.isnumeric():\n",
    "            mots[i]  = str(2*int(m))\n",
    "    return \" \".join(mots)\n",
    "print(inflation(\"Le prix est de 27 euros\"))"
   ]
  },
  {
   "cell_type": "code",
   "execution_count": 357,
   "metadata": {},
   "outputs": [
    {
     "name": "stdout",
     "output_type": "stream",
     "text": [
      "['Onze ans déjà que cela ', 'passe vite Vous vous ', 'étiez servis ', 'simplement de vos ', 'armes la mort ', \"n'eblouit pas les yeux \", 'des partisants Vous ', 'aviez vos portraits ', 'sur les murs de nos ', 'villes ']\n"
     ]
    }
   ],
   "source": [
    "# QUESTION 3\n",
    "def lignes(s):\n",
    "    mots = s.split()\n",
    "    lignes  = ['']\n",
    "    for m in mots:\n",
    "        m += \" \"\n",
    "        if len(lignes[-1])+len(m)<24:\n",
    "            lignes[-1] += (m)\n",
    "        else:\n",
    "            lignes.append(m)\n",
    "    return lignes\n",
    "s = \"Onze ans déjà que cela passe vite Vous \"\n",
    "s += \"vous étiez servis simplement de vos armes la \"\n",
    "s += \"mort n'eblouit pas les yeux des partisants Vous \"\n",
    "s += \"aviez vos portraits sur les murs de nos villes\"\n",
    "print(lignes(s))\n",
    "\n"
   ]
  },
  {
   "cell_type": "code",
   "execution_count": 358,
   "metadata": {},
   "outputs": [
    {
     "name": "stdout",
     "output_type": "stream",
     "text": [
      "['-27', '36,50']\n"
     ]
    }
   ],
   "source": [
    "# QUESTION 4\n",
    "def renvoienombre(s):\n",
    "    l=findall('-?[0-9]+[.,]?[0-9]*',s)\n",
    "    print(l)\n",
    "renvoienombre(\"Les -27 maquereaux valent 36,50 euros\")"
   ]
  },
  {
   "cell_type": "code",
   "execution_count": 359,
   "metadata": {},
   "outputs": [
    {
     "name": "stdout",
     "output_type": "stream",
     "text": [
      "L'evolution sur 3 jours est de 7 points\n"
     ]
    }
   ],
   "source": [
    "# QUESTION 5\n",
    "from re import *\n",
    "\n",
    "def tronc(s):\n",
    "    motif = r\"(-?)([0-9]+)[,.]?[0-9]*\"\n",
    "    return sub(motif, r\"\\1\\2\", s)\n",
    "s = \"L'evolution sur 3,5 jours est de 7.23 points\"\n",
    "print(tronc(s))"
   ]
  },
  {
   "cell_type": "code",
   "execution_count": 363,
   "metadata": {},
   "outputs": [
    {
     "name": "stdout",
     "output_type": "stream",
     "text": [
      "L'evolution sur 3 jours est de 7 points\n"
     ]
    }
   ],
   "source": [
    "def tronc(s):\n",
    "    motif = r\"(\\D)([0-9]+)[,.]?[0-9]*\"\n",
    "    return sub(motif, r\"\\1\\2\", s)\n",
    "s = \"L'evolution sur 3,5 jours est de 7.23 points\"\n",
    "print(tronc(s))"
   ]
  },
  {
   "cell_type": "code",
   "execution_count": null,
   "metadata": {},
   "outputs": [],
   "source": []
  }
 ],
 "metadata": {
  "kernelspec": {
   "display_name": "Python 3",
   "language": "python",
   "name": "python3"
  },
  "language_info": {
   "codemirror_mode": {
    "name": "ipython",
    "version": 3
   },
   "file_extension": ".py",
   "mimetype": "text/x-python",
   "name": "python",
   "nbconvert_exporter": "python",
   "pygments_lexer": "ipython3",
   "version": "3.8.5"
  }
 },
 "nbformat": 4,
 "nbformat_minor": 4
}
